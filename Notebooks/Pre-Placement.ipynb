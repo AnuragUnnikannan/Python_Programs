{
 "cells": [
  {
   "cell_type": "code",
   "execution_count": 1,
   "metadata": {},
   "outputs": [
    {
     "name": "stdout",
     "output_type": "stream",
     "text": [
      "char:  A\n",
      "char:  E\n",
      "char:  I\n",
      "char:  O\n",
      "char:  U\n"
     ]
    }
   ],
   "source": [
    "vowels = \"AEIOU\"\n",
    "for number in vowels:\n",
    "    print(\"char: \",number)"
   ]
  },
  {
   "cell_type": "code",
   "execution_count": 2,
   "metadata": {},
   "outputs": [
    {
     "name": "stdout",
     "output_type": "stream",
     "text": [
      "0\n",
      "1\n",
      "2\n",
      "3\n",
      "4\n",
      "5\n"
     ]
    }
   ],
   "source": [
    "for x in range(6):\n",
    "    print(x)"
   ]
  },
  {
   "cell_type": "code",
   "execution_count": 3,
   "metadata": {},
   "outputs": [
    {
     "name": "stdout",
     "output_type": "stream",
     "text": [
      "3\n",
      "4\n",
      "5\n"
     ]
    }
   ],
   "source": [
    "for x in range(3, 6):\n",
    "    print(x)"
   ]
  },
  {
   "cell_type": "code",
   "execution_count": 4,
   "metadata": {},
   "outputs": [
    {
     "name": "stdout",
     "output_type": "stream",
     "text": [
      "3\n",
      "5\n"
     ]
    }
   ],
   "source": [
    "for x in range(3, 6, 2):\n",
    "    print(x)"
   ]
  },
  {
   "cell_type": "code",
   "execution_count": 5,
   "metadata": {},
   "outputs": [
    {
     "name": "stdout",
     "output_type": "stream",
     "text": [
      "3\n",
      "7\n",
      "11\n",
      "15\n",
      "19\n"
     ]
    }
   ],
   "source": [
    "for x in range(3, 20, 4):\n",
    "    print(x)"
   ]
  },
  {
   "cell_type": "code",
   "execution_count": 6,
   "metadata": {},
   "outputs": [
    {
     "name": "stdout",
     "output_type": "stream",
     "text": [
      "Sum of first 10 number is:  55\n"
     ]
    }
   ],
   "source": [
    "n = 10\n",
    "sum = 0;\n",
    "for num in range(0, n+1, 1):\n",
    "    sum = sum+num\n",
    "print(\"Sum of first\", n, \"number is: \", sum)"
   ]
  },
  {
   "cell_type": "markdown",
   "metadata": {},
   "source": [
    "AVERAGE USING USER INPUT"
   ]
  },
  {
   "cell_type": "code",
   "execution_count": 7,
   "metadata": {},
   "outputs": [
    {
     "name": "stdout",
     "output_type": "stream",
     "text": [
      "Calculate an average of first n natural numbers\n",
      "Enter a number: 10\n",
      "Average of first  10 natural number is:  5.5\n"
     ]
    }
   ],
   "source": [
    "print(\"Calculate an average of first n natural numbers\")\n",
    "n = int(input(\"Enter a number: \"))\n",
    "average = 0;\n",
    "sum = 0;\n",
    "for num in range(0, n+1, 1):\n",
    "    sum = sum+num\n",
    "average = sum/n\n",
    "print(\"Average of first \",n,\"natural number is: \",average)"
   ]
  },
  {
   "cell_type": "code",
   "execution_count": 8,
   "metadata": {},
   "outputs": [
    {
     "name": "stdout",
     "output_type": "stream",
     "text": [
      "iter: 0.000000\n",
      "iter: 1.000000\n",
      "iter: 2.000000\n"
     ]
    }
   ],
   "source": [
    "for iter in range(0, 3):\n",
    "    print(\"iter: %f\"%(iter))"
   ]
  },
  {
   "cell_type": "code",
   "execution_count": 13,
   "metadata": {},
   "outputs": [
    {
     "name": "stdout",
     "output_type": "stream",
     "text": [
      "Sum using while loop  20\n",
      "Sum using while loop  39\n",
      "Sum using while loop  57\n",
      "Sum using while loop  74\n",
      "Sum using while loop  90\n",
      "Sum using while loop  105\n",
      "Sum using while loop  119\n",
      "Sum using while loop  132\n",
      "Sum using while loop  144\n",
      "Sum using while loop  155\n",
      "Sum using while loop  165\n",
      "Sum using while loop  174\n",
      "Sum using while loop  182\n",
      "Sum using while loop  189\n",
      "Sum using while loop  195\n",
      "Sum using while loop  200\n",
      "Sum using while loop  204\n",
      "Sum using while loop  207\n",
      "Sum using while loop  209\n",
      "Sum using while loop  210\n",
      "Sum using while loop  210\n",
      "Average using while loop: 10.5\n"
     ]
    }
   ],
   "source": [
    "n = 20\n",
    "m = n\n",
    "sum = 0\n",
    "total_number = n\n",
    "while(n>=0):\n",
    "    sum+=n\n",
    "    n-=1\n",
    "    print(\"Sum using while loop \",sum)\n",
    "average = sum/m\n",
    "print(\"Average using while loop:\",average)"
   ]
  },
  {
   "cell_type": "code",
   "execution_count": 15,
   "metadata": {},
   "outputs": [
    {
     "name": "stdout",
     "output_type": "stream",
     "text": [
      "54321\n",
      "4321\n",
      "321\n",
      "21\n",
      "1\n",
      "\n"
     ]
    }
   ],
   "source": [
    "n = 5\n",
    "k = 5\n",
    "for i in range(0, n+1):\n",
    "    for j in range(k-i, 0, -1):\n",
    "        print(j, end='')\n",
    "    print()"
   ]
  },
  {
   "cell_type": "markdown",
   "metadata": {},
   "source": [
    "Display -10 to -1 using for loop"
   ]
  },
  {
   "cell_type": "code",
   "execution_count": 4,
   "metadata": {},
   "outputs": [
    {
     "name": "stdout",
     "output_type": "stream",
     "text": [
      "-10\n",
      "-9\n",
      "-8\n",
      "-7\n",
      "-6\n",
      "-5\n",
      "-4\n",
      "-3\n",
      "-2\n",
      "-1\n"
     ]
    }
   ],
   "source": [
    "for i in range(-10, 0, 1):\n",
    "    print(i)"
   ]
  },
  {
   "cell_type": "markdown",
   "metadata": {},
   "source": [
    "Write a program to find GCD OR HCF"
   ]
  },
  {
   "cell_type": "code",
   "execution_count": 6,
   "metadata": {},
   "outputs": [
    {
     "name": "stdout",
     "output_type": "stream",
     "text": [
      "Enter 1st number: 10\n",
      "Enter 2nd number: 20\n"
     ]
    },
    {
     "data": {
      "text/plain": [
       "10"
      ]
     },
     "execution_count": 6,
     "metadata": {},
     "output_type": "execute_result"
    }
   ],
   "source": [
    "x = int(input(\"Enter 1st number: \"))\n",
    "y = int(input(\"Enter 2nd number: \"))\n",
    "while y!=0:\n",
    "    x, y = y, x%y\n",
    "x"
   ]
  },
  {
   "cell_type": "markdown",
   "metadata": {},
   "source": [
    "PRINT THE MULTIPLICATION TABLE"
   ]
  },
  {
   "cell_type": "code",
   "execution_count": 8,
   "metadata": {},
   "outputs": [
    {
     "name": "stdout",
     "output_type": "stream",
     "text": [
      "54\n",
      "108\n",
      "162\n",
      "216\n",
      "270\n",
      "324\n",
      "378\n",
      "432\n",
      "486\n",
      "540\n"
     ]
    }
   ],
   "source": [
    "i = 1\n",
    "while i<=10:\n",
    "    print(54*i)\n",
    "    i+=1\n"
   ]
  },
  {
   "cell_type": "markdown",
   "metadata": {},
   "source": [
    "BREAK AND CONTINUE"
   ]
  },
  {
   "cell_type": "code",
   "execution_count": 9,
   "metadata": {},
   "outputs": [
    {
     "name": "stdout",
     "output_type": "stream",
     "text": [
      "0\n",
      "1\n"
     ]
    }
   ],
   "source": [
    "for a in range(5):\n",
    "    if a==2:\n",
    "        break;\n",
    "    print(a)"
   ]
  },
  {
   "cell_type": "code",
   "execution_count": 10,
   "metadata": {},
   "outputs": [
    {
     "name": "stdout",
     "output_type": "stream",
     "text": [
      "0\n",
      "1\n",
      "3\n",
      "4\n"
     ]
    }
   ],
   "source": [
    "for a in range(5):\n",
    "    if a==2:\n",
    "        continue;\n",
    "    print(a)"
   ]
  },
  {
   "cell_type": "markdown",
   "metadata": {},
   "source": [
    "Factorial"
   ]
  },
  {
   "cell_type": "code",
   "execution_count": 12,
   "metadata": {},
   "outputs": [
    {
     "name": "stdout",
     "output_type": "stream",
     "text": [
      "Enter a number: 5\n",
      "120\n"
     ]
    }
   ],
   "source": [
    "n = int(input(\"Enter a number: \"))\n",
    "f = 1;\n",
    "for i in range(1, n+1):\n",
    "    f = f*i;\n",
    "print(f)"
   ]
  },
  {
   "cell_type": "markdown",
   "metadata": {},
   "source": [
    "# 05.11.20"
   ]
  },
  {
   "cell_type": "code",
   "execution_count": 1,
   "metadata": {},
   "outputs": [
    {
     "name": "stdout",
     "output_type": "stream",
     "text": [
      "1\n",
      "2\n",
      "3\n",
      "4\n",
      "[[1, 2], [3, 4]]\n"
     ]
    }
   ],
   "source": [
    "matrix = []\n",
    "for i in range(2):\n",
    "    row = []\n",
    "    for j in range(2):\n",
    "        x = int(input())\n",
    "        row.append(x)\n",
    "    matrix.append(row)\n",
    "print(matrix)"
   ]
  },
  {
   "cell_type": "code",
   "execution_count": 3,
   "metadata": {},
   "outputs": [
    {
     "name": "stdout",
     "output_type": "stream",
     "text": [
      "3\n",
      "2\n",
      "1\n",
      "2\n",
      "3\n",
      "4\n",
      "5\n",
      "6\n",
      "[[1, 2], [3, 4], [5, 6]]\n",
      "[[1, 3, 5], [2, 4, 6]]\n"
     ]
    }
   ],
   "source": [
    "matrix = []\n",
    "r = int(input())\n",
    "c = int(input())\n",
    "for i in range(r):\n",
    "    row = []\n",
    "    for j in range(c):\n",
    "        x = int(input())\n",
    "        row.append(x)\n",
    "    matrix.append(row)\n",
    "print(matrix)\n",
    "tran = []\n",
    "for j in range(c):\n",
    "    result = []\n",
    "    for i in range(r):\n",
    "        t = matrix[i][j]\n",
    "        result.append(t)\n",
    "    tran.append(result)\n",
    "print(tran)"
   ]
  },
  {
   "cell_type": "code",
   "execution_count": 4,
   "metadata": {},
   "outputs": [
    {
     "name": "stdout",
     "output_type": "stream",
     "text": [
      "2\n",
      "3\n",
      "1\n",
      "2\n",
      "1\n",
      "2\n",
      "1\n",
      "2\n",
      "1\n",
      "2\n",
      "1\n",
      "2\n",
      "1\n",
      "2\n",
      "[[1, 1, 1], [1, 1, 1]]\n",
      "[[2, 2, 2], [2, 2, 2]]\n",
      "[[3, 3, 3], [3, 3, 3]]\n"
     ]
    }
   ],
   "source": [
    "matrix1 = []\n",
    "matrix2 = []\n",
    "r = int(input())\n",
    "c = int(input())\n",
    "for i in range(r):\n",
    "    row1 = []\n",
    "    row2 = []\n",
    "    for j in range(c):\n",
    "        x = int(input())\n",
    "        row1.append(x)\n",
    "        y = int(input())\n",
    "        row2.append(y)\n",
    "    matrix1.append(row1)\n",
    "    matrix2.append(row2)\n",
    "print(matrix1)\n",
    "print(matrix2)\n",
    "matrix3 = []\n",
    "for i in range(r):\n",
    "    row3 = []\n",
    "    for j in range(c):\n",
    "        t = matrix1[i][j]+matrix2[i][j]\n",
    "        row3.append(t)\n",
    "    matrix3.append(row3)\n",
    "print(matrix3)"
   ]
  },
  {
   "cell_type": "code",
   "execution_count": 7,
   "metadata": {},
   "outputs": [
    {
     "name": "stdout",
     "output_type": "stream",
     "text": [
      "3\n",
      "2\n",
      "1\n",
      "1\n",
      "1\n",
      "1\n",
      "1\n",
      "1\n",
      "2\n",
      "3\n",
      "2\n",
      "2\n",
      "2\n",
      "2\n",
      "2\n",
      "2\n",
      "[[4, 4, 4], [4, 4, 4], [4, 4, 4]]\n"
     ]
    }
   ],
   "source": [
    "r1 = int(input())\n",
    "c1 = int(input())\n",
    "matrix1 = [[int(input()) for j in range(c1)] for i in range(r1)]\n",
    "r2 = int(input())\n",
    "c2 = int(input())\n",
    "matrix2 = [[int(input()) for j in range(c2)] for i in range(r2)]\n",
    "result = [[0 for j in range(c2)] for i in range(r1)]\n",
    "for i in range(r1):\n",
    "    for j in range(c2):\n",
    "        for k in range(r2):\n",
    "            result[i][j]+=matrix1[i][k]*matrix2[k][j]\n",
    "print(result)"
   ]
  },
  {
   "cell_type": "code",
   "execution_count": 7,
   "metadata": {},
   "outputs": [
    {
     "name": "stdout",
     "output_type": "stream",
     "text": [
      "2\n",
      "abbcdef\n",
      "aassrfghjklkhfd\n",
      "0\n",
      "4\n"
     ]
    }
   ],
   "source": [
    "t = int(input())\n",
    "count = []\n",
    "for i in range(t):\n",
    "    s = input()\n",
    "    c = 0\n",
    "    k = 0\n",
    "    for i in range(0, len(s)):\n",
    "        c = s.count(s[i])\n",
    "        if c==1:\n",
    "            count.append(i)\n",
    "            break\n",
    "for i in count:\n",
    "    print(i)"
   ]
  },
  {
   "cell_type": "code",
   "execution_count": 8,
   "metadata": {},
   "outputs": [
    {
     "name": "stdout",
     "output_type": "stream",
     "text": [
      "2\n",
      "1\n",
      "2\n",
      "2\n",
      "8\n"
     ]
    }
   ],
   "source": [
    "def hcf(a, b):\n",
    "    if b==0:\n",
    "        return a\n",
    "    else:\n",
    "        return hcf(b, a%b)\n",
    "\n",
    "t = int(input())\n",
    "for i in range(t):\n",
    "    n = int(input())\n",
    "    x = (4*n)//(hcf(4*n, n+1))\n",
    "    print(x)"
   ]
  },
  {
   "cell_type": "markdown",
   "metadata": {},
   "source": [
    "# 12.11.20"
   ]
  },
  {
   "cell_type": "code",
   "execution_count": 30,
   "metadata": {},
   "outputs": [
    {
     "name": "stdout",
     "output_type": "stream",
     "text": [
      "1\n",
      "4\n",
      "5 4 1 1\n",
      "1 2\n",
      "4 1\n",
      "5 1\n"
     ]
    }
   ],
   "source": [
    "t = int(input())\n",
    "for i in range(t):\n",
    "    n = int(input())\n",
    "    li = [int(x) for x in input().split()]\n",
    "    t = []\n",
    "    c = []\n",
    "    s = {}\n",
    "    for k in range(len(li)):\n",
    "        if li[k] not in t:\n",
    "            t.append(li[k])\n",
    "            c.append(li.count(li[k]))\n",
    "        s = {t[j]: c[j] for j in range(len(t))}\n",
    "    for k, v in sorted(s.items()):\n",
    "        print(k, v)"
   ]
  },
  {
   "cell_type": "code",
   "execution_count": 1,
   "metadata": {},
   "outputs": [
    {
     "name": "stdout",
     "output_type": "stream",
     "text": [
      "2\n",
      "3 2\n",
      "7\n",
      "4 2\n",
      "16\n"
     ]
    }
   ],
   "source": [
    "t = int(input())\n",
    "for i in range(t):\n",
    "    s = [int(x) for x in input().split()]\n",
    "    n = s[0]\n",
    "    k = s[1]\n",
    "    d = n\n",
    "    x = n//k\n",
    "    for i in range(x):\n",
    "        p = i+1\n",
    "        d = d+2*p*k\n",
    "    print(d)"
   ]
  },
  {
   "cell_type": "code",
   "execution_count": 29,
   "metadata": {},
   "outputs": [
    {
     "name": "stdout",
     "output_type": "stream",
     "text": [
      "2\n",
      "6 5\n",
      "10 5 5 3 2 1\n",
      "6\n",
      "1 1\n",
      "100\n",
      "101\n"
     ]
    }
   ],
   "source": [
    "t = int(input())\n",
    "for i in range(t):\n",
    "    s1 = [int(x) for x in input().split()]\n",
    "    n = s1[0]\n",
    "    k = s1[1]\n",
    "    li = [int(x) for x in input().split()]\n",
    "    y = sum(li)\n",
    "    res = (y//k)+1\n",
    "    print(res)"
   ]
  },
  {
   "cell_type": "code",
   "execution_count": 1,
   "metadata": {},
   "outputs": [
    {
     "name": "stdout",
     "output_type": "stream",
     "text": [
      "2\n",
      "6 2 5 3\n",
      "YES\n",
      "12 3 4 2\n",
      "NO\n"
     ]
    }
   ],
   "source": [
    "t = int(input())\n",
    "for i in range(t):\n",
    "    s = [int(x) for x in input().split()]\n",
    "    n = s[0]\n",
    "    k = s[1]\n",
    "    x = s[2]\n",
    "    y = s[3]\n",
    "    i = 0\n",
    "    while(x!=y and i<=100):\n",
    "        x = (x+k)%n\n",
    "        i = i+1\n",
    "    if x==y:\n",
    "        print(\"YES\")\n",
    "    else:\n",
    "        print(\"NO\")"
   ]
  }
 ],
 "metadata": {
  "kernelspec": {
   "display_name": "Python 3",
   "language": "python",
   "name": "python3"
  },
  "language_info": {
   "codemirror_mode": {
    "name": "ipython",
    "version": 3
   },
   "file_extension": ".py",
   "mimetype": "text/x-python",
   "name": "python",
   "nbconvert_exporter": "python",
   "pygments_lexer": "ipython3",
   "version": "3.7.6"
  }
 },
 "nbformat": 4,
 "nbformat_minor": 4
}
