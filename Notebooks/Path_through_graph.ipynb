{
 "cells": [
  {
   "cell_type": "code",
   "execution_count": 37,
   "metadata": {},
   "outputs": [
    {
     "name": "stdout",
     "output_type": "stream",
     "text": [
      "16 4\n",
      "2\n"
     ]
    }
   ],
   "source": [
    "def highfactor(a):\n",
    "    f = 1\n",
    "    for i in range(a-1, 2, -1):\n",
    "        if(a%i==0):\n",
    "            f = i\n",
    "            break\n",
    "    return f\n",
    "            \n",
    "x, y = map(int, input().split())\n",
    "c = 0\n",
    "m = 0\n",
    "n = 0\n",
    "p = []\n",
    "q = []\n",
    "while m!=1:\n",
    "    m = highfactor(x)\n",
    "    p.append(m)\n",
    "    x = m\n",
    "    while n!=1:\n",
    "        n = highfactor(y)\n",
    "        q.append(n)\n",
    "        y = n\n",
    "for i in p:\n",
    "    for j in q:\n",
    "        if i!=j:\n",
    "            c = c+1\n",
    "        else:\n",
    "            continue\n",
    "if p==q:\n",
    "    c = 1\n",
    "print(c)"
   ]
  },
  {
   "cell_type": "code",
   "execution_count": 39,
   "metadata": {},
   "outputs": [
    {
     "name": "stdout",
     "output_type": "stream",
     "text": [
      "4\n",
      "C D C D\n",
      "C C D C\n",
      "D D D D\n",
      "C D D D\n",
      "3\n"
     ]
    }
   ],
   "source": [
    "import math\n",
    "num = int(input())\n",
    "li = []\n",
    "count = 0\n",
    "for i in range(num):\n",
    "    li.append(list(map(str, input().split())))\n",
    "for j in range(num):\n",
    "    for k in range(num):\n",
    "        if li[j][k]=='D':\n",
    "            count = count + 1\n",
    "print(math.floor(math.sqrt(count)))"
   ]
  },
  {
   "cell_type": "code",
   "execution_count": 47,
   "metadata": {},
   "outputs": [
    {
     "name": "stdout",
     "output_type": "stream",
     "text": [
      "4 5\n",
      "3\n",
      "4\n"
     ]
    }
   ],
   "source": [
    "from itertools import product\n",
    "def sumtup(a):\n",
    "    s = 0\n",
    "    for i in range(len(a)):\n",
    "        s = s+int(a[i])\n",
    "    return s\n",
    "\n",
    "l, h = map(int,input().split())\n",
    "x = int(input())\n",
    "li = []\n",
    "for i in range(l, h+1):\n",
    "    li.append(str(i))\n",
    "count = 0\n",
    "p = product(li, repeat=x)\n",
    "for i in p:\n",
    "    if (sumtup(i)%2==0):\n",
    "        count = count + 1\n",
    "print(count%1000000007)"
   ]
  }
 ],
 "metadata": {
  "kernelspec": {
   "display_name": "Python 3",
   "language": "python",
   "name": "python3"
  },
  "language_info": {
   "codemirror_mode": {
    "name": "ipython",
    "version": 3
   },
   "file_extension": ".py",
   "mimetype": "text/x-python",
   "name": "python",
   "nbconvert_exporter": "python",
   "pygments_lexer": "ipython3",
   "version": "3.7.6"
  }
 },
 "nbformat": 4,
 "nbformat_minor": 4
}
