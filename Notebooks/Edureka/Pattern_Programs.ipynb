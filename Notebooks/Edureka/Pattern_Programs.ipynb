{
 "cells": [
  {
   "cell_type": "markdown",
   "metadata": {},
   "source": [
    "# Pyramid"
   ]
  },
  {
   "cell_type": "code",
   "execution_count": 12,
   "metadata": {},
   "outputs": [
    {
     "name": "stdout",
     "output_type": "stream",
     "text": [
      "Enter number of lines: 5\n",
      "     * \n",
      "    * * \n",
      "   * * * \n",
      "  * * * * \n",
      " * * * * * \n"
     ]
    }
   ],
   "source": [
    "def pattern(n):\n",
    "    k = n\n",
    "    for i in range(0, n):\n",
    "        for j in range(0, k):\n",
    "            print(end=' ')\n",
    "        k = k-1\n",
    "        for j in range(0, i+1):\n",
    "            print('*', end=' ')\n",
    "        print('\\r')\n",
    "        \n",
    "n = int(input(\"Enter number of lines: \"))\n",
    "pattern(n)"
   ]
  },
  {
   "cell_type": "code",
   "execution_count": 11,
   "metadata": {},
   "outputs": [
    {
     "name": "stdin",
     "output_type": "stream",
     "text": [
      "Enter number of lines:  5\n"
     ]
    },
    {
     "name": "stdout",
     "output_type": "stream",
     "text": [
      "    *    \n",
      "   ***   \n",
      "  *****  \n",
      " ******* \n",
      "*********\n"
     ]
    }
   ],
   "source": [
    "n = int(input('Enter number of lines: '))\n",
    "for i in range(0, n):\n",
    "    print(' '*(n-i-1), end='')\n",
    "    print('*'*(2*i+1), end='')\n",
    "    print(' '*(n-i-1))"
   ]
  },
  {
   "cell_type": "markdown",
   "metadata": {},
   "source": [
    "# Inverse Pyramid"
   ]
  },
  {
   "cell_type": "code",
   "execution_count": 13,
   "metadata": {},
   "outputs": [
    {
     "name": "stdout",
     "output_type": "stream",
     "text": [
      "Enter number of lines: 5\n",
      "      * * * * * * \n",
      "       * * * * * \n",
      "        * * * * \n",
      "         * * * \n",
      "          * * \n",
      "           * \n"
     ]
    }
   ],
   "source": [
    "def pattern(n):\n",
    "    k = n\n",
    "    for i in range(n, -1, -1):\n",
    "        for j in range(k, -1, -1):\n",
    "            print(end=' ')\n",
    "        k = k+1\n",
    "        for j in range(0, i+1):\n",
    "            print('*', end=' ')\n",
    "        print('\\r')\n",
    "\n",
    "n = int(input(\"Enter number of lines: \"))\n",
    "pattern(n)"
   ]
  },
  {
   "cell_type": "markdown",
   "metadata": {},
   "source": [
    "# Right Start Pattern"
   ]
  },
  {
   "cell_type": "code",
   "execution_count": 15,
   "metadata": {},
   "outputs": [
    {
     "name": "stdout",
     "output_type": "stream",
     "text": [
      "Enter number of lines: 5\n",
      "* \n",
      "* * \n",
      "* * * \n",
      "* * * * \n",
      "* * * * * \n",
      "* * * * * * \n",
      "* * * * * \n",
      "* * * * \n",
      "* * * \n",
      "* * \n",
      "* \n"
     ]
    }
   ],
   "source": [
    "def pattern(n):\n",
    "    for i in range(0, n):\n",
    "        for j in range(0, i+1):\n",
    "            print('*', end=' ')\n",
    "        print('\\r')\n",
    "    for i in range(n, -1, -1):\n",
    "        for j in range(0, i+1):\n",
    "            print('*', end=' ')\n",
    "        print('\\r')\n",
    "        \n",
    "n = int(input(\"Enter number of lines: \"))\n",
    "pattern(n)"
   ]
  },
  {
   "cell_type": "markdown",
   "metadata": {},
   "source": [
    "# Left Start Pattern"
   ]
  },
  {
   "cell_type": "code",
   "execution_count": 24,
   "metadata": {},
   "outputs": [
    {
     "name": "stdout",
     "output_type": "stream",
     "text": [
      "Enter number of lines: 5\n",
      "        * \n",
      "      * * \n",
      "    * * * \n",
      "  * * * * \n",
      "* * * * * \n",
      "  * * * * \n",
      "    * * * \n",
      "      * * \n",
      "        * \n"
     ]
    }
   ],
   "source": [
    "def pattern(n):\n",
    "    k = 2*n-2\n",
    "    for i in range(0, n-1):\n",
    "        for j in range(0, k):\n",
    "            print(end=' ')\n",
    "        k = k-2\n",
    "        for j in range(0, i+1):\n",
    "            print('*', end=' ')\n",
    "        print('\\r')\n",
    "    k = -1\n",
    "    for i in range(n-1, -1, -1):\n",
    "        for j in range(k, -1, -1):\n",
    "            print(end=' ')\n",
    "        k = k+2\n",
    "        for j in range(0, i+1):\n",
    "            print('*', end=' ')\n",
    "        print('\\r')\n",
    "        \n",
    "n = int(input(\"Enter number of lines: \"))\n",
    "pattern(n)"
   ]
  },
  {
   "cell_type": "markdown",
   "metadata": {},
   "source": [
    "# Hourglass Pattern"
   ]
  },
  {
   "cell_type": "code",
   "execution_count": 32,
   "metadata": {},
   "outputs": [
    {
     "name": "stdout",
     "output_type": "stream",
     "text": [
      "Enter number of lines: 5\n",
      "   * * * * * * \n",
      "    * * * * * \n",
      "     * * * * \n",
      "      * * * \n",
      "       * * \n",
      "        * \n",
      "        * \n",
      "       * * \n",
      "      * * * \n",
      "     * * * * \n",
      "    * * * * * \n",
      "   * * * * * * \n"
     ]
    }
   ],
   "source": [
    "def pattern(n):\n",
    "    k = n-2\n",
    "    for i in range(n, -1, -1):\n",
    "        for j in range(k, 0, -1):\n",
    "            print(end=' ')\n",
    "        k = k+1\n",
    "        for j in range(0, i+1):\n",
    "            print('*', end=' ')\n",
    "        print('\\r')\n",
    "    k = 2*n-2\n",
    "    for i in range(0, n+1):\n",
    "        for j in range(0, k):\n",
    "            print(end=' ')\n",
    "        k = k-1\n",
    "        for j in range(0, i+1):\n",
    "            print('*', end=' ')\n",
    "        print('\\r')\n",
    "        \n",
    "n = int(input(\"Enter number of lines: \"))\n",
    "pattern(n)"
   ]
  },
  {
   "cell_type": "markdown",
   "metadata": {},
   "source": [
    "# Half Pyramid Pattern"
   ]
  },
  {
   "cell_type": "code",
   "execution_count": 1,
   "metadata": {},
   "outputs": [
    {
     "name": "stdout",
     "output_type": "stream",
     "text": [
      "Enter number of lines: 5\n",
      "* \n",
      "* * \n",
      "* * * \n",
      "* * * * \n",
      "* * * * * \n"
     ]
    }
   ],
   "source": [
    "def pattern(n):\n",
    "    for i in range(0, n):\n",
    "        for j in range(0, i+1):\n",
    "            print('*', end=' ')\n",
    "        print('\\r')\n",
    "\n",
    "n = int(input(\"Enter number of lines: \"))\n",
    "pattern(n)"
   ]
  },
  {
   "cell_type": "markdown",
   "metadata": {},
   "source": [
    "# Left Pyramid Pattern"
   ]
  },
  {
   "cell_type": "code",
   "execution_count": 3,
   "metadata": {},
   "outputs": [
    {
     "name": "stdout",
     "output_type": "stream",
     "text": [
      "Enter number of lines: 5\n",
      "        * \n",
      "      * * \n",
      "    * * * \n",
      "  * * * * \n",
      "* * * * * \n"
     ]
    }
   ],
   "source": [
    "def pattern(n):\n",
    "    k = 2*n-2\n",
    "    for i in range(0, n):\n",
    "        for j in range(0, k):\n",
    "            print(end=' ')\n",
    "        k = k-2\n",
    "        for j in range(0, i+1):\n",
    "            print('*', end=' ')\n",
    "        print('\\r')\n",
    "\n",
    "n = int(input(\"Enter number of lines: \"))\n",
    "pattern(n)"
   ]
  },
  {
   "cell_type": "markdown",
   "metadata": {},
   "source": [
    "# Downward Half Pyramid"
   ]
  },
  {
   "cell_type": "code",
   "execution_count": 4,
   "metadata": {},
   "outputs": [
    {
     "name": "stdout",
     "output_type": "stream",
     "text": [
      "Enter number of lines: 5\n",
      "* * * * * * \n",
      "* * * * * \n",
      "* * * * \n",
      "* * * \n",
      "* * \n",
      "* \n"
     ]
    }
   ],
   "source": [
    "def pattern(n):\n",
    "    for i in range(n, -1, -1):\n",
    "        for j in range(0, i+1):\n",
    "            print('*', end=' ')\n",
    "        print('\\r')\n",
    "\n",
    "n = int(input(\"Enter number of lines: \"))\n",
    "pattern(n)"
   ]
  },
  {
   "cell_type": "markdown",
   "metadata": {},
   "source": [
    "# Diamond Pattern"
   ]
  },
  {
   "cell_type": "code",
   "execution_count": 10,
   "metadata": {},
   "outputs": [
    {
     "name": "stdout",
     "output_type": "stream",
     "text": [
      "5\n",
      "        * \n",
      "       * * \n",
      "      * * * \n",
      "     * * * * \n",
      "    * * * * * \n",
      "   * * * * * * \n",
      "    * * * * * \n",
      "     * * * * \n",
      "      * * * \n",
      "       * * \n",
      "        * \n"
     ]
    }
   ],
   "source": [
    "def pattern(n):\n",
    "    k = 2*n-2\n",
    "    for i in range(0, n):\n",
    "        for j in range(0, k):\n",
    "            print(end=' ')\n",
    "        k = k-1\n",
    "        for j in range(0, i+1):\n",
    "            print('*', end=' ')\n",
    "        print('\\r')\n",
    "    k = n-2\n",
    "    for i in range(n, -1, -1):\n",
    "        for j in range(k, 0, -1):\n",
    "            print(end=' ')\n",
    "        k = k+1\n",
    "        for j in range(0, i+1):\n",
    "            print('*', end=' ')\n",
    "        print('\\r')\n",
    "        \n",
    "n = int(input())\n",
    "pattern(n)"
   ]
  },
  {
   "cell_type": "markdown",
   "metadata": {},
   "source": [
    "# Diamond Star Pattern"
   ]
  },
  {
   "cell_type": "code",
   "execution_count": 13,
   "metadata": {},
   "outputs": [
    {
     "name": "stdout",
     "output_type": "stream",
     "text": [
      "  *  \n",
      " * * \n",
      "*   *\n",
      " * * \n",
      "  *  \n"
     ]
    }
   ],
   "source": [
    "for i in range(5):\n",
    "    for j in range(5):\n",
    "        if i+j==2 or i-j==2 or i+j==6 or j-i==2:\n",
    "            print('*', end='')\n",
    "        else:\n",
    "            print(end=' ')\n",
    "    print()"
   ]
  },
  {
   "cell_type": "markdown",
   "metadata": {},
   "source": [
    "# Number Pattern"
   ]
  },
  {
   "cell_type": "code",
   "execution_count": 15,
   "metadata": {},
   "outputs": [
    {
     "name": "stdout",
     "output_type": "stream",
     "text": [
      "Enter number of lines: 5\n",
      "1 \n",
      "2 2 \n",
      "3 3 3 \n",
      "4 4 4 4 \n",
      "5 5 5 5 5 \n"
     ]
    }
   ],
   "source": [
    "def pattern(n):\n",
    "    x = 0\n",
    "    for i in range(0, n):\n",
    "        x+=1\n",
    "        for j in range(0, i+1):\n",
    "            print(x, end=' ')\n",
    "        print('\\r')\n",
    "        \n",
    "n = int(input(\"Enter number of lines: \"))\n",
    "pattern(n)"
   ]
  },
  {
   "cell_type": "markdown",
   "metadata": {},
   "source": [
    "# Pascal's Triangle"
   ]
  },
  {
   "cell_type": "code",
   "execution_count": 1,
   "metadata": {},
   "outputs": [
    {
     "name": "stdout",
     "output_type": "stream",
     "text": [
      "Enter number of lines: 5\n",
      "1 \n",
      "1 1 \n",
      "1 2 1 \n",
      "1 3 3 1 \n",
      "1 4 6 4 1 \n"
     ]
    }
   ],
   "source": [
    "n = int(input(\"Enter number of lines: \"))\n",
    "li = []\n",
    "for i in range(0, n):\n",
    "    temp = []\n",
    "    for j in range(0, i+1):\n",
    "        if j==0 or j==i:\n",
    "            temp.append(1)\n",
    "        else:\n",
    "            temp.append(li[i-1][j-1] + li[i-1][j])\n",
    "    li.append(temp)\n",
    "for i in range(0, n):\n",
    "    for j in range(0, i+1):\n",
    "        print(li[i][j], end=\" \")\n",
    "    print()"
   ]
  },
  {
   "cell_type": "markdown",
   "metadata": {},
   "source": [
    "# Half Pyramid Number Pattern"
   ]
  },
  {
   "cell_type": "code",
   "execution_count": 5,
   "metadata": {},
   "outputs": [
    {
     "name": "stdout",
     "output_type": "stream",
     "text": [
      "Enter number of lines: 5\n",
      "1 \n",
      "2 2 \n",
      "3 3 3 \n",
      "4 4 4 4 \n",
      "5 5 5 5 5 \n"
     ]
    }
   ],
   "source": [
    "def pattern(n):\n",
    "    for i in range(1, n+1):\n",
    "        for j in range(1, i+1):\n",
    "            print(i, end=' ')\n",
    "        print('\\r')\n",
    "\n",
    "n = int(input(\"Enter number of lines: \"))\n",
    "pattern(n)"
   ]
  },
  {
   "cell_type": "markdown",
   "metadata": {},
   "source": [
    "# Diamond Number Pattern"
   ]
  },
  {
   "cell_type": "code",
   "execution_count": 31,
   "metadata": {},
   "outputs": [
    {
     "name": "stdout",
     "output_type": "stream",
     "text": [
      "Enter number of lines: 5\n",
      "        1 \n",
      "       2 2 \n",
      "      3 3 3 \n",
      "     4 4 4 4 \n",
      "    5 5 5 5 5 \n",
      "   1 1 1 1 1 1 \n",
      "    2 2 2 2 2 \n",
      "     3 3 3 3 \n",
      "      4 4 4 \n",
      "       5 5 \n",
      "        6 \n"
     ]
    }
   ],
   "source": [
    "def pattern(n):\n",
    "    k = 2*n-2\n",
    "    x = 0\n",
    "    for i in range(0, n):\n",
    "        x = x+1\n",
    "        for j in range(0, k):\n",
    "            print(end=' ')\n",
    "        k = k-1\n",
    "        for j in range(0, i+1):\n",
    "            print(x, end=' ')\n",
    "        print('\\r')\n",
    "    k = n-2\n",
    "    x = 0\n",
    "    for i in range(n, -1, -1):\n",
    "        x = x+1\n",
    "        for j in range(k, 0, -1):\n",
    "            print(end=' ')\n",
    "        k = k+1\n",
    "        for j in range(0, i+1):\n",
    "            print(x, end=' ')\n",
    "        print('\\r')\n",
    "        \n",
    "n = int(input(\"Enter number of lines: \"))\n",
    "pattern(n)"
   ]
  },
  {
   "cell_type": "markdown",
   "metadata": {},
   "source": [
    "# Descending order pattern"
   ]
  },
  {
   "cell_type": "code",
   "execution_count": 33,
   "metadata": {},
   "outputs": [
    {
     "name": "stdout",
     "output_type": "stream",
     "text": [
      "Enter number of lines: 5\n",
      "1 2 3 4 5 \n",
      "1 2 3 4 \n",
      "1 2 3 \n",
      "1 2 \n",
      "1 \n"
     ]
    }
   ],
   "source": [
    "def pattern(n):\n",
    "    for i in range(n, 0, -1):\n",
    "        for j in range(1, i+1):\n",
    "            print(j, end=' ')\n",
    "        print('\\r')\n",
    "        \n",
    "n = int(input(\"Enter number of lines: \"))\n",
    "pattern(n)"
   ]
  },
  {
   "cell_type": "markdown",
   "metadata": {},
   "source": [
    "# Binary Number Pattern"
   ]
  },
  {
   "cell_type": "code",
   "execution_count": 35,
   "metadata": {},
   "outputs": [
    {
     "name": "stdout",
     "output_type": "stream",
     "text": [
      "Enter number of lines: 5\n",
      "        10\n",
      "       1010\n",
      "      101010\n",
      "     10101010\n",
      "    1010101010\n"
     ]
    }
   ],
   "source": [
    "def pattern(n):\n",
    "    k = 2*n-2\n",
    "    for i in range(0, n):\n",
    "        for j in range(0, k):\n",
    "            print(end=' ')\n",
    "        k = k-1\n",
    "        for j in range(0, i+1):\n",
    "            print(\"10\", end='')\n",
    "        print('\\r')\n",
    "        \n",
    "n = int(input(\"Enter number of lines: \"))\n",
    "pattern(n)"
   ]
  },
  {
   "cell_type": "markdown",
   "metadata": {},
   "source": [
    "# Right Alphabetical Triangle"
   ]
  },
  {
   "cell_type": "code",
   "execution_count": 36,
   "metadata": {},
   "outputs": [
    {
     "name": "stdout",
     "output_type": "stream",
     "text": [
      "Enter number of lines: 5\n",
      "A \n",
      "B B \n",
      "C C C \n",
      "D D D D \n",
      "E E E E E \n"
     ]
    }
   ],
   "source": [
    "def pattern(n):\n",
    "    x = 65\n",
    "    for i in range(0, n):\n",
    "        ch = chr(x)\n",
    "        x = x+1\n",
    "        for j in range(0, i+1):\n",
    "            print(ch, end=' ')\n",
    "        print('\\r')\n",
    "        \n",
    "n = int(input(\"Enter number of lines: \"))\n",
    "pattern(n)"
   ]
  },
  {
   "cell_type": "markdown",
   "metadata": {},
   "source": [
    "# Character Pyramid"
   ]
  },
  {
   "cell_type": "code",
   "execution_count": 37,
   "metadata": {},
   "outputs": [
    {
     "name": "stdout",
     "output_type": "stream",
     "text": [
      "Enter number of lines: 5\n",
      "        A \n",
      "       B C \n",
      "      D E F \n",
      "     G H I J \n",
      "    K L M N O \n"
     ]
    }
   ],
   "source": [
    "def pattern(n):\n",
    "    k = 2*n-2\n",
    "    x = 65\n",
    "    for i in range(0, n):\n",
    "        for j in range(0, k):\n",
    "            print(end=' ')\n",
    "        k = k-1\n",
    "        for j in range(0, i+1):\n",
    "            ch = chr(x)\n",
    "            print(ch, end=' ')\n",
    "            x = x+1\n",
    "        print('\\r')\n",
    "        \n",
    "n = int(input('Enter number of lines: '))\n",
    "pattern(n)"
   ]
  },
  {
   "cell_type": "markdown",
   "metadata": {},
   "source": [
    "# K-Shaped Character"
   ]
  },
  {
   "cell_type": "code",
   "execution_count": 42,
   "metadata": {},
   "outputs": [
    {
     "name": "stdout",
     "output_type": "stream",
     "text": [
      "*    *     \n",
      "*   *      \n",
      "*  *       \n",
      "* *        \n",
      "**         \n",
      "*          \n",
      "**         \n",
      "* *        \n",
      "*  *       \n",
      "*   *      \n",
      "*    *     \n"
     ]
    }
   ],
   "source": [
    "for i in range(11):\n",
    "    for j in range(11):\n",
    "        if j==0 or i-j==5 or i+j==5:\n",
    "            print(\"*\", end='')\n",
    "        else:\n",
    "            print(end=\" \")\n",
    "    print()"
   ]
  },
  {
   "cell_type": "markdown",
   "metadata": {},
   "source": [
    "# Triangle Pattern"
   ]
  },
  {
   "cell_type": "code",
   "execution_count": 46,
   "metadata": {},
   "outputs": [
    {
     "name": "stdout",
     "output_type": "stream",
     "text": [
      "Enter number of lines: 5\n",
      "        A \n",
      "        B B \n",
      "        C C C \n",
      "        D D D D \n",
      "        E E E E E \n"
     ]
    }
   ],
   "source": [
    "def pattern(n):\n",
    "    k = 2*n-2\n",
    "    x = 65\n",
    "    for i in range(0, n):\n",
    "        ch = chr(x)\n",
    "        x = x+1\n",
    "        for j in range(0, k):\n",
    "            print(end=\" \")\n",
    "        for j in range(0, i+1):\n",
    "            print(ch, end=' ')\n",
    "        print('\\r')\n",
    "    \n",
    "n = int(input(\"Enter number of lines: \"))\n",
    "pattern(n)"
   ]
  },
  {
   "cell_type": "markdown",
   "metadata": {},
   "source": [
    "# Diamond Character Patttern"
   ]
  },
  {
   "cell_type": "code",
   "execution_count": 48,
   "metadata": {},
   "outputs": [
    {
     "name": "stdout",
     "output_type": "stream",
     "text": [
      "Enter number of lines: 5\n",
      "        A \n",
      "       B B \n",
      "      C C C \n",
      "     D D D D \n",
      "    E E E E E \n",
      "   A A A A A A \n",
      "    B B B B B \n",
      "     C C C C \n",
      "      D D D \n",
      "       E E \n",
      "        F \n"
     ]
    }
   ],
   "source": [
    "def pattern(n):\n",
    "    k = 2*n-2\n",
    "    x = 65\n",
    "    for i in range(0, n):\n",
    "        ch = chr(x)\n",
    "        x = x+1\n",
    "        for j in range(0, k):\n",
    "            print(end=' ')\n",
    "        k = k-1\n",
    "        for j in range(0, i+1):\n",
    "            print(ch, end=' ')\n",
    "        print('\\r')\n",
    "    k = n-2\n",
    "    x = 65\n",
    "    for i in range(n, -1, -1):\n",
    "        ch = chr(x)\n",
    "        x = x+1\n",
    "        for j in range(k, 0, -1):\n",
    "            print(end=' ')\n",
    "        k = k+1\n",
    "        for j in range(0, i+1):\n",
    "            print(ch, end=' ')\n",
    "        print('\\r')\n",
    "        \n",
    "n = int(input(\"Enter number of lines: \"))\n",
    "pattern(n)"
   ]
  }
 ],
 "metadata": {
  "kernelspec": {
   "display_name": "Python 3",
   "language": "python",
   "name": "python3"
  },
  "language_info": {
   "codemirror_mode": {
    "name": "ipython",
    "version": 3
   },
   "file_extension": ".py",
   "mimetype": "text/x-python",
   "name": "python",
   "nbconvert_exporter": "python",
   "pygments_lexer": "ipython3",
   "version": "3.9.2"
  }
 },
 "nbformat": 4,
 "nbformat_minor": 4
}
