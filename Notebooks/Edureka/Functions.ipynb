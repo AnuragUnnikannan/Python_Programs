{
 "cells": [
  {
   "cell_type": "code",
   "execution_count": 6,
   "metadata": {},
   "outputs": [
    {
     "name": "stdout",
     "output_type": "stream",
     "text": [
      "Hello Dear Learner\n",
      "Dear Learner, how are you doing?\n"
     ]
    }
   ],
   "source": [
    "def func1(name):\n",
    "    return f\"Hello {name}\"\n",
    "def func2(name):\n",
    "    return f\"{name}, how are you doing?\"\n",
    "def func3(func4):\n",
    "    return func4('Dear Learner')\n",
    "print(func3(func1))\n",
    "print(func3(func2))"
   ]
  },
  {
   "cell_type": "markdown",
   "metadata": {},
   "source": [
    "## Nested Functions"
   ]
  },
  {
   "cell_type": "code",
   "execution_count": 1,
   "metadata": {},
   "outputs": [
    {
     "name": "stdout",
     "output_type": "stream",
     "text": [
      "First Function: \n",
      "first child function\n",
      "second child function\n"
     ]
    }
   ],
   "source": [
    "def func():\n",
    "    print(\"First Function: \")\n",
    "    def func1():\n",
    "        print(\"first child function\")\n",
    "    def func2():\n",
    "        print(\"second child function\")\n",
    "    func1()\n",
    "    func2()\n",
    "func()"
   ]
  },
  {
   "cell_type": "markdown",
   "metadata": {},
   "source": [
    "## Decorators"
   ]
  },
  {
   "cell_type": "code",
   "execution_count": 2,
   "metadata": {},
   "outputs": [
    {
     "name": "stdout",
     "output_type": "stream",
     "text": [
      "Hello\n",
      "User\n",
      "Welcome to python tutorial\n"
     ]
    }
   ],
   "source": [
    "def function1(function):\n",
    "    def wrapper():\n",
    "        print(\"Hello\")\n",
    "        function()\n",
    "        print(\"Welcome to python tutorial\")\n",
    "    return wrapper\n",
    "def function2():\n",
    "    print('User')\n",
    "    \n",
    "function2 = function1(function2)\n",
    "function2()"
   ]
  },
  {
   "cell_type": "code",
   "execution_count": 3,
   "metadata": {},
   "outputs": [
    {
     "name": "stdout",
     "output_type": "stream",
     "text": [
      "Hello\n",
      "User\n",
      "Welcome to python tutorial\n"
     ]
    }
   ],
   "source": [
    "def function1(function):\n",
    "    def wrapper(*args, **kwargs):\n",
    "        print(\"Hello\")\n",
    "        function(*args, **kwargs)\n",
    "        print(\"Welcome to python tutorial\")\n",
    "    return wrapper\n",
    "@function1\n",
    "def function2(name):\n",
    "    print(f\"{name}\")\n",
    "function2(\"User\")"
   ]
  },
  {
   "cell_type": "code",
   "execution_count": null,
   "metadata": {},
   "outputs": [],
   "source": []
  }
 ],
 "metadata": {
  "kernelspec": {
   "display_name": "Python 3",
   "language": "python",
   "name": "python3"
  },
  "language_info": {
   "codemirror_mode": {
    "name": "ipython",
    "version": 3
   },
   "file_extension": ".py",
   "mimetype": "text/x-python",
   "name": "python",
   "nbconvert_exporter": "python",
   "pygments_lexer": "ipython3",
   "version": "3.8.6"
  }
 },
 "nbformat": 4,
 "nbformat_minor": 4
}
