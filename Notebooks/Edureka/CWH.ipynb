{
 "cells": [
  {
   "cell_type": "markdown",
   "id": "dedicated-digit",
   "metadata": {},
   "source": [
    "# Files I/O"
   ]
  },
  {
   "cell_type": "markdown",
   "id": "considered-hybrid",
   "metadata": {},
   "source": [
    "## Opening and Reading a file"
   ]
  },
  {
   "cell_type": "code",
   "execution_count": 9,
   "id": "extensive-recorder",
   "metadata": {},
   "outputs": [
    {
     "name": "stdout",
     "output_type": "stream",
     "text": [
      "The quick brown fox jumps over the lazy dog.\n",
      "Pack my box with five dozen liquor jugs.\n",
      "Jackdaws love my big sphinx of quartz.\n",
      "Sphinx of black quartz, judge my vow!\n"
     ]
    }
   ],
   "source": [
    "f = open(\"demo.txt\", 'r')  #default mode is 'r'\n",
    "data = f.read()\n",
    "#data = f.read(5)  Reads first 5 characters. If nothing given, the it will read full file\n",
    "print(data)\n",
    "f.close()"
   ]
  },
  {
   "cell_type": "markdown",
   "id": "expressed-politics",
   "metadata": {},
   "source": [
    "## Reading file line by line"
   ]
  },
  {
   "cell_type": "code",
   "execution_count": 10,
   "id": "handy-individual",
   "metadata": {},
   "outputs": [
    {
     "name": "stdout",
     "output_type": "stream",
     "text": [
      "The quick brown fox jumps over the lazy dog.\n",
      "\n"
     ]
    }
   ],
   "source": [
    "f = open(\"demo.txt\", 'r')\n",
    "data = f.readline()  #Reading first line\n",
    "print(data)\n",
    "f.close()"
   ]
  },
  {
   "cell_type": "markdown",
   "id": "dietary-pierre",
   "metadata": {},
   "source": [
    "## Writing a new file"
   ]
  },
  {
   "cell_type": "code",
   "execution_count": 12,
   "id": "russian-onion",
   "metadata": {},
   "outputs": [],
   "source": [
    "f = open(\"demo2.txt\", 'w')\n",
    "f.write('This is Jupyter Lab.')\n",
    "f.close()"
   ]
  },
  {
   "cell_type": "markdown",
   "id": "narrow-plant",
   "metadata": {},
   "source": [
    "## Appending to a file"
   ]
  },
  {
   "cell_type": "code",
   "execution_count": 14,
   "id": "adjustable-surge",
   "metadata": {},
   "outputs": [],
   "source": [
    "f = open('demo2.txt', 'a')\n",
    "f.write(' We write Python Programs here')\n",
    "f.close()"
   ]
  },
  {
   "cell_type": "markdown",
   "id": "adjacent-credit",
   "metadata": {},
   "source": [
    "## Reading or writing a file using 'with' statement"
   ]
  },
  {
   "cell_type": "code",
   "execution_count": 17,
   "id": "assumed-titanium",
   "metadata": {},
   "outputs": [
    {
     "name": "stdout",
     "output_type": "stream",
     "text": [
      "The quick brown fox jumps over the lazy dog.\n",
      "Pack my box with five dozen liquor jugs.\n",
      "Jackdaws love my big sphinx of quartz.\n",
      "Sphinx of black quartz, judge my vow!\n"
     ]
    }
   ],
   "source": [
    "with open('demo.txt', 'r') as f:\n",
    "    a = f.read()\n",
    "print(a)   #file will close automatically. No need of close()"
   ]
  },
  {
   "cell_type": "markdown",
   "id": "radio-bargain",
   "metadata": {},
   "source": [
    "# Practice Set - Files I/O"
   ]
  },
  {
   "cell_type": "markdown",
   "id": "stretch-promotion",
   "metadata": {},
   "source": [
    "## 1. Check whether the word 'sphinx' exists in demo.txt"
   ]
  },
  {
   "cell_type": "code",
   "execution_count": 18,
   "id": "associate-tiger",
   "metadata": {},
   "outputs": [
    {
     "name": "stdout",
     "output_type": "stream",
     "text": [
      "Sphinx is present\n"
     ]
    }
   ],
   "source": [
    "with open('demo.txt', 'r') as f:\n",
    "    if 'sphinx' in f.read():\n",
    "        print('Sphinx is present')\n",
    "    else:\n",
    "        print('Not present')"
   ]
  },
  {
   "cell_type": "markdown",
   "id": "sought-fisher",
   "metadata": {},
   "source": [
    "## 2. Update a file"
   ]
  },
  {
   "cell_type": "code",
   "execution_count": 6,
   "id": "aboriginal-format",
   "metadata": {},
   "outputs": [],
   "source": [
    "def game():\n",
    "    return 64\n",
    "\n",
    "score = game()\n",
    "with open(\"test.txt\", 'r') as f:\n",
    "    hiscore = int(f.read())\n",
    "if hiscore < score:\n",
    "    with open(\"test.txt\", 'w') as f:\n",
    "        f.write(str(score))"
   ]
  },
  {
   "cell_type": "markdown",
   "id": "2daf1c18-a655-40b1-85fe-5da55dad59ab",
   "metadata": {},
   "source": [
    "## 3. Return the line number in which a word is present inside a file"
   ]
  },
  {
   "cell_type": "code",
   "execution_count": 2,
   "id": "80ca1853-d522-4300-a49b-695d73936f2d",
   "metadata": {},
   "outputs": [
    {
     "name": "stdout",
     "output_type": "stream",
     "text": [
      "'my' is present at line  3\n",
      "'my' is present at line  4\n",
      "'my' is present at line  5\n"
     ]
    }
   ],
   "source": [
    "s = True\n",
    "i = 1\n",
    "with open('demo.txt', 'r') as f:\n",
    "    while s:\n",
    "        s = f.readline()\n",
    "        i = i+1\n",
    "        if 'my' in s:\n",
    "            print('\\'my\\' is present at line ',i)"
   ]
  }
 ],
 "metadata": {
  "kernelspec": {
   "display_name": "Python 3",
   "language": "python",
   "name": "python3"
  },
  "language_info": {
   "codemirror_mode": {
    "name": "ipython",
    "version": 3
   },
   "file_extension": ".py",
   "mimetype": "text/x-python",
   "name": "python",
   "nbconvert_exporter": "python",
   "pygments_lexer": "ipython3",
   "version": "3.8.6"
  }
 },
 "nbformat": 4,
 "nbformat_minor": 5
}
