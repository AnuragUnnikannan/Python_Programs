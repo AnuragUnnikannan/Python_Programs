{
 "cells": [
  {
   "cell_type": "markdown",
   "metadata": {},
   "source": [
    "### Tree: Height of a Binary Tree"
   ]
  },
  {
   "cell_type": "code",
   "execution_count": null,
   "metadata": {},
   "outputs": [],
   "source": [
    "def height(root):\n",
    "    leftHeight = 0\n",
    "    rightHeight = 0\n",
    "    if( root.left):            \n",
    "        leftHeight = height(root.left) + 1\n",
    "            \n",
    "    if( root.right):\n",
    "        rightHeight = height(root.right) + 1        \n",
    "       \n",
    "    if( leftHeight > rightHeight ):\n",
    "        return leftHeight\n",
    "    else:\n",
    "        return rightHeight"
   ]
  },
  {
   "cell_type": "markdown",
   "metadata": {},
   "source": [
    "### Binary Search Tree: Lowest Common Ancestor"
   ]
  },
  {
   "cell_type": "code",
   "execution_count": null,
   "metadata": {},
   "outputs": [],
   "source": [
    "def lca(root, v1, v2):\n",
    "    if root is None: \n",
    "        return None\n",
    "    if(root.info > v1 and root.info > v2): \n",
    "        return lca(root.left, v1, v2) \n",
    "    if(root.info < v1 and root.info < v2): \n",
    "        return lca(root.right, v1, v2) \n",
    "    return root "
   ]
  },
  {
   "cell_type": "markdown",
   "metadata": {},
   "source": [
    "### Q1"
   ]
  },
  {
   "cell_type": "code",
   "execution_count": 5,
   "metadata": {},
   "outputs": [
    {
     "name": "stdout",
     "output_type": "stream",
     "text": [
      "4\n",
      "2 1 4 3\n",
      "3\n",
      "3 7 1\n",
      "y\n",
      "n\n",
      "y\n"
     ]
    }
   ],
   "source": [
    "n = int(input())\n",
    "li = [int(x) for x in input().split()]\n",
    "t = int(input())\n",
    "li2 = [int(x) for x in input().split()]\n",
    "f = 0\n",
    "for i in li2:\n",
    "    if i in li:\n",
    "        print(\"y\")\n",
    "    else:\n",
    "        print(\"n\")"
   ]
  },
  {
   "cell_type": "markdown",
   "metadata": {},
   "source": [
    "### Q2"
   ]
  },
  {
   "cell_type": "code",
   "execution_count": 6,
   "metadata": {},
   "outputs": [
    {
     "name": "stdout",
     "output_type": "stream",
     "text": [
      "4\n",
      "2 1 4 3\n",
      "2_1_4_3_\n",
      "1_2_3_4_\n",
      "1_3_4_2_"
     ]
    }
   ],
   "source": [
    "class Node:\n",
    "\n",
    "    def __init__(self, data):\n",
    "\n",
    "        self.left = None\n",
    "        self.right = None\n",
    "        self.data = data\n",
    "# Insert Node\n",
    "    def insert(self, data):\n",
    "\n",
    "        if self.data:\n",
    "            if data < self.data:\n",
    "                if self.left is None:\n",
    "                    self.left = Node(data)\n",
    "                else:\n",
    "                    self.left.insert(data)\n",
    "            elif data > self.data:\n",
    "                if self.right is None:\n",
    "                    self.right = Node(data)\n",
    "                else:\n",
    "                    self.right.insert(data)\n",
    "        else:\n",
    "            self.data = data\n",
    "\n",
    "# Print the Tree\n",
    "    def PrintTree(self):\n",
    "        if self.left:\n",
    "            self.left.PrintTree()\n",
    "        print( self.data),\n",
    "        if self.right:\n",
    "            self.right.PrintTree()\n",
    "\n",
    "# Pre-order Traversal\n",
    "# Root -> Left -> Right\n",
    "    def preorderTraversal(self, root):\n",
    "        res = []\n",
    "        if root:\n",
    "            res.append(root.data)\n",
    "            res = res + self.preorderTraversal(root.left)\n",
    "            res = res + self.preorderTraversal(root.right)\n",
    "        return res\n",
    "\n",
    "# Inorder traversal\n",
    "# Left -> Root -> Right\n",
    "    def inorderTraversal(self, root):\n",
    "        res = []\n",
    "        if root:\n",
    "            res = self.inorderTraversal(root.left)\n",
    "            res.append(root.data)\n",
    "            res = res + self.inorderTraversal(root.right)\n",
    "        return res\n",
    "\n",
    "# Post-order Traversal\n",
    "# Left -> Right -> Root\n",
    "    def postorderTraversal(self, root):\n",
    "        res = []\n",
    "        if root:\n",
    "            res = self.postorderTraversal(root.left)\n",
    "            res = res + self.postorderTraversal(root.right)\n",
    "            res.append(root.data)\n",
    "        return res\n",
    "\n",
    "n = int(input())\n",
    "li = [int(x) for x in input().split()]\n",
    "root = Node(li[0])\n",
    "for i in range(1, len(li)):\n",
    "    root.insert(li[i])\n",
    "pre = root.preorderTraversal(root)\n",
    "ino = root.inorderTraversal(root)\n",
    "pos = root.postorderTraversal(root)\n",
    "for i in pre:\n",
    "    print(i, end='_')\n",
    "print()\n",
    "for i in ino:\n",
    "    print(i, end='_')\n",
    "print()\n",
    "for i in pos:\n",
    "    print(i, end='_')"
   ]
  }
 ],
 "metadata": {
  "kernelspec": {
   "display_name": "Python 3",
   "language": "python",
   "name": "python3"
  },
  "language_info": {
   "codemirror_mode": {
    "name": "ipython",
    "version": 3
   },
   "file_extension": ".py",
   "mimetype": "text/x-python",
   "name": "python",
   "nbconvert_exporter": "python",
   "pygments_lexer": "ipython3",
   "version": "3.7.6"
  }
 },
 "nbformat": 4,
 "nbformat_minor": 4
}
