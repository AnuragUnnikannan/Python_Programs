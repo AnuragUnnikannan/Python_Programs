{
 "cells": [
  {
   "cell_type": "markdown",
   "metadata": {},
   "source": [
    "### Question 1: Queue using two stacks"
   ]
  },
  {
   "cell_type": "code",
   "execution_count": 3,
   "metadata": {},
   "outputs": [
    {
     "name": "stdout",
     "output_type": "stream",
     "text": [
      "10\n",
      "1 42\n",
      "2\n",
      "1 14\n",
      "3\n",
      "14\n",
      "1 28\n",
      "3\n",
      "14\n",
      "1 60\n",
      "1 78\n",
      "2\n",
      "2\n"
     ]
    }
   ],
   "source": [
    "class MyQueue(object):\n",
    "    def __init__(self):\n",
    "        self.my_queue = []\n",
    "        \n",
    "    def peek(self):\n",
    "        return self.my_queue[0]\n",
    "        \n",
    "    def pop(self):\n",
    "        self.my_queue = self.my_queue[1:]\n",
    "    \n",
    "    def put(self, value):\n",
    "        self.my_queue.append(value)\n",
    "        \n",
    "queue = MyQueue()\n",
    "t = int(input())\n",
    "for line in range(t):\n",
    "    values = map(int, input().split())\n",
    "    values = list(values)\n",
    "    if values[0] == 1:\n",
    "        queue.put(values[1])\n",
    "    elif values[0] == 2:\n",
    "        queue.pop()\n",
    "    else: print(queue.peek())"
   ]
  },
  {
   "cell_type": "markdown",
   "metadata": {},
   "source": [
    "### Question 2: Write a program to calculate the number of items in a queue implemented through Linked List. Then process queries, where each query is one of the following 3 types:\n",
    "### 1 x: Enqueue element into the end of the queue.\n",
    "### 2: Dequeue the element at the front of the queue.\n",
    "### 3: Print the element in the queue and count in new line."
   ]
  },
  {
   "cell_type": "code",
   "execution_count": 6,
   "metadata": {},
   "outputs": [
    {
     "name": "stdout",
     "output_type": "stream",
     "text": [
      "5\n",
      "1 3\n",
      "1 4\n",
      "1 5\n",
      "1 2\n",
      "3\n",
      "3 4 5 2 \n",
      "4\n"
     ]
    }
   ],
   "source": [
    "n = int(input())\n",
    "li = []\n",
    "for i in range(n):\n",
    "    s = [int(x) for x in input().split()]\n",
    "    if s[0]==1:\n",
    "        li.append(s[1])\n",
    "    elif s[0]==2:\n",
    "        li.pop(0)\n",
    "    elif s[0]==3:\n",
    "        for i in li:\n",
    "            print(i, end=' ')\n",
    "        break\n",
    "print(\"\\n\",len(li), sep='')"
   ]
  },
  {
   "cell_type": "markdown",
   "metadata": {},
   "source": [
    "### Question 3: Write a program to create a queue using array which permits insertion at both the ends. The options provided are shown below:\n",
    "### 1. Enqueue at right\n",
    "### 2. Enqueue at left\n",
    "### 3. Dequeue from left\n",
    "### 4. Display\n",
    "### 5. Quit"
   ]
  },
  {
   "cell_type": "code",
   "execution_count": 11,
   "metadata": {},
   "outputs": [
    {
     "name": "stdout",
     "output_type": "stream",
     "text": [
      "4\n",
      "1 4\n",
      "1 5\n",
      "2 6\n",
      "4\n",
      "6 4 5 "
     ]
    }
   ],
   "source": [
    "n = int(input())\n",
    "li = []\n",
    "for i in range(n):\n",
    "    s = [int(x) for x in input().split()]\n",
    "    if s[0]==1:\n",
    "        li.append(s[1])\n",
    "    elif s[0]==2:\n",
    "        li.insert(0, s[1])\n",
    "    elif s[0]==3:\n",
    "        li.pop(0)\n",
    "    elif s[0]==4:\n",
    "        for j in li:\n",
    "            print(j, end=' ')\n",
    "    elif s[0]==5:\n",
    "        break"
   ]
  },
  {
   "cell_type": "markdown",
   "metadata": {},
   "source": [
    "### Question 4: Write a program to implement a dequeue with the help of a linked list.\n",
    "### 1. Enqueue at right\n",
    "### 2. Enqueue at left\n",
    "### 3. Dequeue from left\n",
    "### 4. Dequeue from right\n",
    "### 5. Display\n",
    "### 6. Quit"
   ]
  },
  {
   "cell_type": "code",
   "execution_count": 2,
   "metadata": {},
   "outputs": [
    {
     "name": "stdout",
     "output_type": "stream",
     "text": [
      "5\n",
      "1 6\n",
      "1 3\n",
      "2 5\n",
      "2 4\n",
      "5\n",
      "4 -> 5 -> 6 -> 3\n"
     ]
    }
   ],
   "source": [
    "n = int(input())\n",
    "li = []\n",
    "for i in range(n):\n",
    "    s = [int(x) for x in input().split()]\n",
    "    if s[0]==1:\n",
    "        li.append(s[1])\n",
    "    elif s[0]==2:\n",
    "        li.insert(0, s[1])\n",
    "    elif s[0]==3:\n",
    "        li.pop(0)\n",
    "    elif s[0]==4:\n",
    "        li.pop(len(li)-1)\n",
    "    elif s[0]==5:\n",
    "        for j in range(len(li)):\n",
    "            if j!=len(li)-1:\n",
    "                print(li[j], end=' -> ')\n",
    "            else:\n",
    "                print(li[j])\n",
    "    elif s[0]==6:\n",
    "        break"
   ]
  },
  {
   "cell_type": "markdown",
   "metadata": {},
   "source": [
    "### Question 5: Write a program to implement a priority queue using Linked List.\n",
    "### 1. Enqueue\n",
    "### 2. Dequeue\n",
    "### 3. Display\n",
    "### 4. Quit"
   ]
  },
  {
   "cell_type": "code",
   "execution_count": 1,
   "metadata": {},
   "outputs": [
    {
     "name": "stdout",
     "output_type": "stream",
     "text": [
      "3\n",
      "1 3 2\n",
      "1 4 1\n",
      "3\n",
      "4|1 -> 3|2\n"
     ]
    }
   ],
   "source": [
    "n=int(input())\n",
    "queue=[]\n",
    "for i in range(n):\n",
    "    q=[int(x) for x in input().split()]\n",
    "    if q[0]==1:\n",
    "        queue.insert(q[2]-1,q[1])\n",
    "    elif q[0]==3:\n",
    "        for i in range(len(queue)-1):\n",
    "            print(str(queue[i])+\"|\"+str(i+1),end=\" -> \")\n",
    "        print(str(queue[-1])+\"|\"+str(len(queue)))"
   ]
  },
  {
   "cell_type": "markdown",
   "metadata": {},
   "source": [
    "### Question 6: Write a program to input two queues (A and B) and compare their contents.\n",
    "### 1. Enqueue at Queue A\n",
    "### 2. Enqueue at Queue B\n",
    "### 3. Dequeue from Queue A\n",
    "### 4. Dequeue from Queue B\n",
    "### 5. Compare\n",
    "### 6. Display Queue A\n",
    "### 7. Display Queue B\n",
    "### 8. Quit"
   ]
  },
  {
   "cell_type": "code",
   "execution_count": 10,
   "metadata": {},
   "outputs": [
    {
     "name": "stdout",
     "output_type": "stream",
     "text": [
      "1 D\n",
      "1 A\n",
      "1 T\n",
      "1 A\n",
      "2 D\n",
      "2 A\n",
      "2 T\n",
      "2 E\n",
      "6\n",
      "DATA\n",
      "7\n",
      "DATE\n",
      "5\n",
      "Not Identical\n",
      "Mismatch at 4th element\n"
     ]
    }
   ],
   "source": [
    "a = []\n",
    "b = []\n",
    "while True:\n",
    "    s = [str(x) for x in input().split()]\n",
    "    if s[0]=='1':\n",
    "        a.append(s[1])\n",
    "    elif s[0]=='2':\n",
    "        b.append(s[1])\n",
    "    elif s[0]=='3':\n",
    "        a.pop(0)\n",
    "    elif s[0]=='4':\n",
    "        b.pop(0)\n",
    "    elif s[0]=='5':\n",
    "        f = 0\n",
    "        for i in range(0, 4):\n",
    "            if a[i]==b[i]:\n",
    "                f = 1\n",
    "            else:\n",
    "                f = i+1\n",
    "        if f==1:\n",
    "            print(\"Identical\")\n",
    "            break\n",
    "        else:\n",
    "            print(\"Not Identical\")\n",
    "            print(\"Mismatch at \",f,\"th element\", sep='')\n",
    "            break\n",
    "    elif s[0]=='6':\n",
    "        for i in a:\n",
    "            print(i, end='')\n",
    "        print()\n",
    "    elif s[0]=='7':\n",
    "        for i in b:\n",
    "            print(i, end='')\n",
    "        print()"
   ]
  },
  {
   "cell_type": "markdown",
   "metadata": {},
   "source": [
    "### Question 7: Write a program to implement Multiple queue where an array Queue[n] is used to represent two queues, Queue A and Queue B.\n",
    "### 1. Enqueue at Queue A\n",
    "### 2. Enqueue at Queue B\n",
    "### 3. Dequeue from Queue A\n",
    "### 4. Dequeue from Queue B\n",
    "### 5. Display Queue A\n",
    "### 6. Display Queue B\n",
    "### 7. Quit"
   ]
  },
  {
   "cell_type": "code",
   "execution_count": 4,
   "metadata": {},
   "outputs": [
    {
     "name": "stdout",
     "output_type": "stream",
     "text": [
      "4\n",
      "1 3\n",
      "2 5\n",
      "5\n",
      "3\n",
      "6\n",
      "5\n"
     ]
    }
   ],
   "source": [
    "li = []\n",
    "n = int(input())\n",
    "for i in range(n):\n",
    "    s = [int(x) for x in input().split()]\n",
    "    if s[0]==1:\n",
    "        li.insert((len(li)//2)+1, s[1])\n",
    "    elif s[0]==2:\n",
    "        li.append(s[1])\n",
    "    elif s[0]==3:\n",
    "        li.pop(0)\n",
    "    elif s[0]==4:\n",
    "        li.pop((len(li)//2)+1)\n",
    "    elif s[0]==5:\n",
    "        for i in range((len(li)//2)):\n",
    "            print(li[i])\n",
    "    elif s[0]==6:\n",
    "        for i in range((len(li)//2), len(li)):\n",
    "            print(li[i])"
   ]
  },
  {
   "cell_type": "markdown",
   "metadata": {},
   "source": [
    "### Question 8: A palindrome is a word, phrase, number, or other sequence of characters which reads the same backwards and forwards. Can you determine if a given string s, is a palindrome?\n",
    "### To solve this challenge, we must first take each character in s, enqueue it in a queue, and also push that same character onto a stack. Once that's done, we must dequeue the first character from the queue and pop the top character off the stack, then compare the two characters to see if they are the same; as long as the characters match, we continue dequeueing, popping, and comparing each character until our containers are empty (a non-match means s isn't a palindrome)."
   ]
  },
  {
   "cell_type": "code",
   "execution_count": 28,
   "metadata": {},
   "outputs": [
    {
     "name": "stdout",
     "output_type": "stream",
     "text": [
      "racecar\n",
      "The word racecar is a palindrome.\n"
     ]
    }
   ],
   "source": [
    "s = input()\n",
    "l = len(s)\n",
    "r = s[::-1]\n",
    "if r==s:\n",
    "    print(\"The word\",s,\"is a palindrome.\")"
   ]
  }
 ],
 "metadata": {
  "kernelspec": {
   "display_name": "Python 3",
   "language": "python",
   "name": "python3"
  },
  "language_info": {
   "codemirror_mode": {
    "name": "ipython",
    "version": 3
   },
   "file_extension": ".py",
   "mimetype": "text/x-python",
   "name": "python",
   "nbconvert_exporter": "python",
   "pygments_lexer": "ipython3",
   "version": "3.7.6"
  }
 },
 "nbformat": 4,
 "nbformat_minor": 4
}
