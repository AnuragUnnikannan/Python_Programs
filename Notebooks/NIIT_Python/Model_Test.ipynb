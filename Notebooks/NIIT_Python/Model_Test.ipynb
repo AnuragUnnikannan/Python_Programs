{
 "cells": [
  {
   "cell_type": "markdown",
   "id": "9898133d-c0a6-4da8-94e4-efe48e89092a",
   "metadata": {},
   "source": [
    "## Testing the model"
   ]
  },
  {
   "cell_type": "code",
   "execution_count": 7,
   "id": "5a1c1147-5932-4591-bfdb-8f4f9b578c96",
   "metadata": {},
   "outputs": [
    {
     "name": "stdin",
     "output_type": "stream",
     "text": [
      "Enter alcohol quantity: 9.8\n",
      "Enter sulphates quantity: 0.56\n",
      "Enter volatile acidity: 0.66\n",
      "Enter citric acid quantity: 0.0\n"
     ]
    },
    {
     "name": "stdout",
     "output_type": "stream",
     "text": [
      "\n",
      "Quality:  medium\n"
     ]
    }
   ],
   "source": [
    "import pickle\n",
    "import numpy as np\n",
    "import pandas as pd\n",
    "\n",
    "# loading the saved model\n",
    "model = pickle.load(open('wine_quality_pred_model1.pkl', 'rb'))\n",
    "\n",
    "# calculating mean and standard deviation for scaling input data\n",
    "df = pd.read_csv('winequality-red.csv')\n",
    "df_mean = df[[\"alcohol\", \"sulphates\", \"volatile acidity\", \"citric acid\"]].mean()\n",
    "df_std = df[[\"alcohol\", \"sulphates\", \"volatile acidity\", \"citric acid\"]].std()\n",
    "\n",
    "#taking input from user\n",
    "features = []\n",
    "alcohol = float(input(\"Enter alcohol quantity:\"))\n",
    "features.append(alcohol)\n",
    "sulphates = float(input(\"Enter sulphates quantity:\"))\n",
    "features.append(sulphates)\n",
    "acidity = float(input(\"Enter volatile acidity:\"))\n",
    "features.append(acidity)\n",
    "citric = float(input(\"Enter citric acid quantity:\"))\n",
    "features.append(citric)\n",
    "\n",
    "#scaling input data\n",
    "c = 0\n",
    "for i in df_mean.keys():\n",
    "    features[c] = (features[c] - df_mean[i])/df_std[i]\n",
    "    c = c+1\n",
    "\n",
    "features = np.array(features).reshape(1, 4)\n",
    "prediction = model.predict(features)\n",
    "\n",
    "#classifying data into low, medium and high\n",
    "result = prediction[0]\n",
    "quality = ''\n",
    "if result == 0:\n",
    "    quality = 'low'\n",
    "elif result == 1:\n",
    "    quality = 'medium'\n",
    "elif result == 2:\n",
    "    quality = 'high'\n",
    "    \n",
    "print(\"\\nQuality: \", quality)"
   ]
  }
 ],
 "metadata": {
  "kernelspec": {
   "display_name": "Python 3",
   "language": "python",
   "name": "python3"
  },
  "language_info": {
   "codemirror_mode": {
    "name": "ipython",
    "version": 3
   },
   "file_extension": ".py",
   "mimetype": "text/x-python",
   "name": "python",
   "nbconvert_exporter": "python",
   "pygments_lexer": "ipython3",
   "version": "3.8.6"
  }
 },
 "nbformat": 4,
 "nbformat_minor": 5
}
