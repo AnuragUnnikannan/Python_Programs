{
 "cells": [
  {
   "cell_type": "markdown",
   "id": "7f45592c-acc9-4924-8ee3-87f199ee3e98",
   "metadata": {},
   "source": [
    "# Object Oriented Programming"
   ]
  },
  {
   "cell_type": "code",
   "execution_count": 1,
   "id": "785cbbbb-f8ba-49be-bb5e-b15441627deb",
   "metadata": {},
   "outputs": [],
   "source": [
    "n = 10"
   ]
  },
  {
   "cell_type": "code",
   "execution_count": 2,
   "id": "9e30d76b-80f4-4971-bb09-7fa99b7e2fd4",
   "metadata": {},
   "outputs": [],
   "source": [
    "s = \"Hello\""
   ]
  },
  {
   "cell_type": "code",
   "execution_count": 3,
   "id": "c4704cf0-b1ec-403f-a0bb-9963d7733a31",
   "metadata": {},
   "outputs": [
    {
     "data": {
      "text/plain": [
       "'HELLO'"
      ]
     },
     "execution_count": 3,
     "metadata": {},
     "output_type": "execute_result"
    }
   ],
   "source": [
    "s.upper()"
   ]
  },
  {
   "cell_type": "code",
   "execution_count": 4,
   "id": "91a56d6f-13b1-4220-a96e-28aa5e26e73c",
   "metadata": {},
   "outputs": [],
   "source": [
    "comp = complex(10, -5)"
   ]
  },
  {
   "cell_type": "code",
   "execution_count": 5,
   "id": "8b2547a8-953b-47bb-9ae4-619d59b736ac",
   "metadata": {},
   "outputs": [
    {
     "data": {
      "text/plain": [
       "(10-5j)"
      ]
     },
     "execution_count": 5,
     "metadata": {},
     "output_type": "execute_result"
    }
   ],
   "source": [
    "comp"
   ]
  },
  {
   "cell_type": "code",
   "execution_count": 12,
   "id": "c1fdac71-44f2-4335-9d35-573f18e2ab52",
   "metadata": {},
   "outputs": [],
   "source": [
    "class Student: # class name is in CamelCase\n",
    "    # Constructor is used to initialize properties of class\n",
    "    # Name of the constructor function is __init__ (double underscore on both side)\n",
    "    # Here name, age, marks are properties passed while creating object\n",
    "    def __init__(self, name, age, marks):\n",
    "        # Initialize the properties using values passed as argument\n",
    "        self.name = name\n",
    "        self.age = age\n",
    "        self.marks = marks\n",
    "        print(\"Student Created\") # Usually print statements are not given in init\n",
    "    \n",
    "    def average(self):\n",
    "        return sum(self.marks) / len(self.marks)"
   ]
  },
  {
   "cell_type": "code",
   "execution_count": 13,
   "id": "34d3dcb6-027a-4995-b9b7-0a743d352abe",
   "metadata": {},
   "outputs": [
    {
     "name": "stdout",
     "output_type": "stream",
     "text": [
      "Student Created\n"
     ]
    }
   ],
   "source": [
    "stu1 = Student(\"Michael\", 20, [95, 88, 85])"
   ]
  },
  {
   "cell_type": "code",
   "execution_count": 14,
   "id": "c719fba5-3477-49ec-b05f-8fc94c217ba9",
   "metadata": {},
   "outputs": [
    {
     "data": {
      "text/plain": [
       "'Michael'"
      ]
     },
     "execution_count": 14,
     "metadata": {},
     "output_type": "execute_result"
    }
   ],
   "source": [
    "stu1.name"
   ]
  },
  {
   "cell_type": "code",
   "execution_count": 15,
   "id": "5eeb49d5-760e-4123-9e46-3b99b8914d42",
   "metadata": {},
   "outputs": [
    {
     "data": {
      "text/plain": [
       "20"
      ]
     },
     "execution_count": 15,
     "metadata": {},
     "output_type": "execute_result"
    }
   ],
   "source": [
    "stu1.age"
   ]
  },
  {
   "cell_type": "code",
   "execution_count": 16,
   "id": "7bf37357-9453-44c0-af1e-f4c37d361317",
   "metadata": {},
   "outputs": [
    {
     "data": {
      "text/plain": [
       "[95, 88, 85]"
      ]
     },
     "execution_count": 16,
     "metadata": {},
     "output_type": "execute_result"
    }
   ],
   "source": [
    "stu1.marks"
   ]
  },
  {
   "cell_type": "code",
   "execution_count": 17,
   "id": "a1d436f1-a1e0-4232-adbf-2cd6ffd3296b",
   "metadata": {},
   "outputs": [
    {
     "data": {
      "text/plain": [
       "89.33333333333333"
      ]
     },
     "execution_count": 17,
     "metadata": {},
     "output_type": "execute_result"
    }
   ],
   "source": [
    "stu1.average()"
   ]
  },
  {
   "cell_type": "code",
   "execution_count": 18,
   "id": "a85e01fb-4ebf-45a0-b23e-753023fd8dc3",
   "metadata": {},
   "outputs": [],
   "source": [
    "class Garage:\n",
    "    def __init__(self, cars):\n",
    "        self.cars = cars\n",
    "    def __len__(self):\n",
    "        return len(self.cars)"
   ]
  },
  {
   "cell_type": "code",
   "execution_count": 19,
   "id": "f67ddf68-269d-4529-8c57-5bd5aaeadaa2",
   "metadata": {},
   "outputs": [],
   "source": [
    "garage = Garage(['A', 'B', 'C'])"
   ]
  },
  {
   "cell_type": "code",
   "execution_count": 20,
   "id": "087e32f4-bb79-4d68-b0ca-08ff44f122f5",
   "metadata": {},
   "outputs": [
    {
     "data": {
      "text/plain": [
       "3"
      ]
     },
     "execution_count": 20,
     "metadata": {},
     "output_type": "execute_result"
    }
   ],
   "source": [
    "len(garage.cars)"
   ]
  },
  {
   "cell_type": "code",
   "execution_count": 21,
   "id": "47db0e50-e72d-4fa1-a4b0-20f7b52f32b2",
   "metadata": {},
   "outputs": [
    {
     "data": {
      "text/plain": [
       "3"
      ]
     },
     "execution_count": 21,
     "metadata": {},
     "output_type": "execute_result"
    }
   ],
   "source": [
    "len(garage)"
   ]
  },
  {
   "cell_type": "code",
   "execution_count": 26,
   "id": "873fa7ff-76e4-4d1a-98e4-c287c3418846",
   "metadata": {},
   "outputs": [],
   "source": [
    "class Garage:\n",
    "    def __init__(self, cars):\n",
    "        self.cars = cars\n",
    "    def __len__(self):\n",
    "        return len(self.cars)\n",
    "    def __getitem__(self, i):\n",
    "        return self.cars[i]\n",
    "    def __repr__(self):  #What to print when repr() function is used\n",
    "        return f\"<Garage {self.cars}>\"\n",
    "    def __str__(self):\n",
    "        return f\"Garage with {len(self)} cars\""
   ]
  },
  {
   "cell_type": "code",
   "execution_count": 27,
   "id": "4b73cdbd-bd90-4e4c-87c5-78c12392b092",
   "metadata": {},
   "outputs": [],
   "source": [
    "garage = Garage(['A', 'B', 'C'])"
   ]
  },
  {
   "cell_type": "code",
   "execution_count": 28,
   "id": "9cffb252-81d1-48d0-a889-caa66cf7c207",
   "metadata": {},
   "outputs": [
    {
     "data": {
      "text/plain": [
       "\"<Garage ['A', 'B', 'C']>\""
      ]
     },
     "execution_count": 28,
     "metadata": {},
     "output_type": "execute_result"
    }
   ],
   "source": [
    "repr(garage)"
   ]
  },
  {
   "cell_type": "code",
   "execution_count": 29,
   "id": "227c9975-1027-4890-b864-ba94a39c4044",
   "metadata": {},
   "outputs": [
    {
     "data": {
      "text/plain": [
       "'Garage with 3 cars'"
      ]
     },
     "execution_count": 29,
     "metadata": {},
     "output_type": "execute_result"
    }
   ],
   "source": [
    "str(garage)"
   ]
  },
  {
   "cell_type": "markdown",
   "id": "f049a1a7-0b3d-479e-a0e2-6486e86b3eb6",
   "metadata": {},
   "source": [
    "## Inheritance"
   ]
  },
  {
   "cell_type": "code",
   "execution_count": 1,
   "id": "71739670-df36-48c1-b762-ee75e62fffbe",
   "metadata": {},
   "outputs": [],
   "source": [
    "class Employee: # Parent class\n",
    "    def __init__(self, name, salary, yoj):\n",
    "        self.name = name\n",
    "        self.salary = salary\n",
    "        self.yoj = yoj\n",
    "    \n",
    "    def display_details(self):\n",
    "        print(f\"Name: {self.name}\")\n",
    "        print(f\"Salary: {self.salary}\")\n",
    "        print(f\"Year of Joining: {self.yoj}\")"
   ]
  },
  {
   "cell_type": "code",
   "execution_count": 31,
   "id": "97aa6236-d407-40b8-b59d-c356f86a1efb",
   "metadata": {},
   "outputs": [
    {
     "name": "stdout",
     "output_type": "stream",
     "text": [
      "Name: John\n",
      "Salary: 100000\n",
      "Year of Joining: 2017\n"
     ]
    }
   ],
   "source": [
    "emp = Employee(\"John\", 100000, 2017)\n",
    "emp.display_details()"
   ]
  },
  {
   "cell_type": "code",
   "execution_count": 2,
   "id": "ab9b15a6-08a4-4450-81aa-d5dabc07420a",
   "metadata": {},
   "outputs": [],
   "source": [
    "#Child class\n",
    "class Teacher(Employee):\n",
    "    def __init__(self, name, salary, yoj, department):\n",
    "        super().__init__(name, salary, yoj)\n",
    "        #super() is used to call methods of parent class\n",
    "        self.department = department\n",
    "    \n",
    "    def display_details(self):\n",
    "        super().display_details()\n",
    "        print(f\"Department: {self.department}\")"
   ]
  },
  {
   "cell_type": "code",
   "execution_count": 3,
   "id": "e9e4e929-c872-4f7c-9126-e5c12faeff51",
   "metadata": {},
   "outputs": [],
   "source": [
    "t = Teacher(\"John\", 100000, 2017, \"CSE\")"
   ]
  },
  {
   "cell_type": "code",
   "execution_count": 4,
   "id": "548a24a5-d1ca-4c35-ac13-242c8fc6d309",
   "metadata": {},
   "outputs": [
    {
     "name": "stdout",
     "output_type": "stream",
     "text": [
      "Name: John\n",
      "Salary: 100000\n",
      "Year of Joining: 2017\n",
      "Department: CSE\n"
     ]
    }
   ],
   "source": [
    "t.display_details()"
   ]
  },
  {
   "cell_type": "markdown",
   "id": "e9e53529-e88f-438a-956a-3b11136ecb83",
   "metadata": {},
   "source": [
    "## Three types of methods"
   ]
  },
  {
   "cell_type": "markdown",
   "id": "019dcaf8-5298-48f8-9508-38b8568ab6fa",
   "metadata": {},
   "source": [
    "* Instance Methods (methods with self parameter)\n",
    "* Static Methods (no self parameter)\n",
    "* class methods (has a parameter cls, doesn't have self, can be called without object)"
   ]
  },
  {
   "cell_type": "code",
   "execution_count": 36,
   "id": "9aacac5a-5c46-494c-a3ca-49f83d92f4c9",
   "metadata": {},
   "outputs": [],
   "source": [
    "class NewClass:\n",
    "    def __init__(self, n):\n",
    "        self.n = n\n",
    "    def display(self):  #instance method\n",
    "        print(f\"Number: {self.n}\")\n",
    "    \n",
    "    @staticmethod  #this line indicates that the below method is static\n",
    "    def hello():\n",
    "        print(\"Hello world\")"
   ]
  },
  {
   "cell_type": "code",
   "execution_count": 39,
   "id": "e222a06e-6b52-4a9a-a0e9-696b8eb34084",
   "metadata": {},
   "outputs": [
    {
     "name": "stdout",
     "output_type": "stream",
     "text": [
      "Hello world\n"
     ]
    }
   ],
   "source": [
    "NewClass.hello()  #we can call static method without creating object "
   ]
  },
  {
   "cell_type": "code",
   "execution_count": 40,
   "id": "8cd44cfd-d92a-4daa-839d-fb1fc18f8249",
   "metadata": {},
   "outputs": [
    {
     "name": "stdout",
     "output_type": "stream",
     "text": [
      "Hello world\n"
     ]
    }
   ],
   "source": [
    "obj = NewClass(100)\n",
    "obj.hello()"
   ]
  },
  {
   "cell_type": "markdown",
   "id": "7dc080b2-fd96-4c38-b830-cc396fab90ec",
   "metadata": {},
   "source": [
    "### Class Method"
   ]
  },
  {
   "cell_type": "markdown",
   "id": "405da0da-dae9-45c0-842b-a9a6f03b8ea7",
   "metadata": {},
   "source": [
    "Has class as it's first parameter"
   ]
  },
  {
   "cell_type": "code",
   "execution_count": 41,
   "id": "226d4ba2-dc83-4d7c-8ec5-b1ca6273419a",
   "metadata": {},
   "outputs": [],
   "source": [
    "class NewClass:\n",
    "    def __init__(self, binary):  #Here the number is stored as binary in string format\n",
    "        self.binary = binary\n",
    "        \n",
    "    @classmethod  #it indicates the below method is a class method\n",
    "    def create(cls, integer):\n",
    "        print(cls.__name__)"
   ]
  },
  {
   "cell_type": "markdown",
   "id": "7a0adaee-a5fe-42b0-8805-0c8663c7a6ed",
   "metadata": {},
   "source": [
    "### Single Inheritance"
   ]
  },
  {
   "cell_type": "code",
   "execution_count": 42,
   "id": "4a166c5f-694e-42b2-a0d0-84e42d6d269b",
   "metadata": {},
   "outputs": [],
   "source": [
    "class A:\n",
    "    pass\n",
    "\n",
    "class B(A):\n",
    "    pass"
   ]
  },
  {
   "cell_type": "markdown",
   "id": "ad316801-ad54-40ad-9bce-12b704fd158b",
   "metadata": {},
   "source": [
    "### Multiple Inheritance"
   ]
  },
  {
   "cell_type": "code",
   "execution_count": 43,
   "id": "5084ea69-07b0-4b4c-99a0-e4de39513d15",
   "metadata": {},
   "outputs": [],
   "source": [
    "class A1:\n",
    "    pass\n",
    "\n",
    "class A2:\n",
    "    pass\n",
    "\n",
    "class A3:\n",
    "    pass\n",
    "\n",
    "class B(A1, A2, A3): # Multiple parents\n",
    "    pass"
   ]
  },
  {
   "cell_type": "markdown",
   "id": "942523a0-a435-43f7-8703-05c02773ee0d",
   "metadata": {},
   "source": [
    "### Multilevel Inheritance"
   ]
  },
  {
   "cell_type": "code",
   "execution_count": 44,
   "id": "444e3389-8e03-4ad1-9c37-7459a7f4d475",
   "metadata": {},
   "outputs": [],
   "source": [
    "class A:\n",
    "    pass\n",
    "\n",
    "class B(A):\n",
    "    pass\n",
    "\n",
    "class C(B):\n",
    "    pass"
   ]
  },
  {
   "cell_type": "markdown",
   "id": "8df57f9c-1ef2-40e5-81e1-8a3a5469a4da",
   "metadata": {},
   "source": [
    "### Hirearchical Inheritance"
   ]
  },
  {
   "cell_type": "code",
   "execution_count": 45,
   "id": "5a4c7913-e7f6-4b1c-8d10-cac5bebd2e1b",
   "metadata": {},
   "outputs": [],
   "source": [
    "class A:\n",
    "    pass\n",
    "\n",
    "class B1(A):\n",
    "    pass\n",
    "\n",
    "class B2(A):\n",
    "    pass"
   ]
  },
  {
   "cell_type": "markdown",
   "id": "a0985286-e295-4357-832a-200137cd988f",
   "metadata": {},
   "source": [
    "### Hybrid Inheritance"
   ]
  },
  {
   "cell_type": "code",
   "execution_count": 46,
   "id": "c03da050-2ba0-42c1-825a-8eda3b8f74a7",
   "metadata": {},
   "outputs": [],
   "source": [
    "class A:\n",
    "    pass\n",
    "\n",
    "class B:\n",
    "    pass\n",
    "\n",
    "class C(A):\n",
    "    pass\n",
    "\n",
    "class D(A, B):\n",
    "    pass"
   ]
  },
  {
   "cell_type": "code",
   "execution_count": null,
   "id": "93e2407a-da57-4694-a366-eab94e43e31d",
   "metadata": {},
   "outputs": [],
   "source": []
  }
 ],
 "metadata": {
  "kernelspec": {
   "display_name": "Python 3",
   "language": "python",
   "name": "python3"
  },
  "language_info": {
   "codemirror_mode": {
    "name": "ipython",
    "version": 3
   },
   "file_extension": ".py",
   "mimetype": "text/x-python",
   "name": "python",
   "nbconvert_exporter": "python",
   "pygments_lexer": "ipython3",
   "version": "3.8.6"
  }
 },
 "nbformat": 4,
 "nbformat_minor": 5
}
