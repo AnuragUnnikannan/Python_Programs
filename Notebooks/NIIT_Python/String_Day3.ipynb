{
 "cells": [
  {
   "cell_type": "markdown",
   "id": "ffe33df8",
   "metadata": {},
   "source": [
    "# String\n",
    "A string is a data type used in programming, such as an integer and floating point unit, but is used to represent text rather than numbers. It is comprised of a set of characters that can also contain spaces and numbers."
   ]
  },
  {
   "cell_type": "markdown",
   "id": "bea037cf-4e64-4b00-9a14-1de411e76432",
   "metadata": {},
   "source": [
    "## Topics\n",
    "* String Data Type\n",
    "* String Indexing & Slicing\n",
    "* Escape Characters\n",
    "* String Formatting\n",
    "* Find Substring\n",
    "* String Constants\n",
    "* String Functions"
   ]
  },
  {
   "cell_type": "markdown",
   "id": "4fe8456b",
   "metadata": {},
   "source": [
    "### String Data Type\n",
    "Strings in python are surrounded by either single quotation marks, or double quotation marks. In Python single and double quote both can be used for strings. `'hello'` is the same as `\"hello\"`. You can display a string with the print() function just like any other data type."
   ]
  },
  {
   "cell_type": "code",
   "execution_count": 1,
   "id": "6f512348",
   "metadata": {},
   "outputs": [],
   "source": [
    "var = \"Hello World\""
   ]
  },
  {
   "cell_type": "code",
   "execution_count": 2,
   "id": "85dedb16",
   "metadata": {},
   "outputs": [],
   "source": [
    "var = 'Hello World'"
   ]
  },
  {
   "cell_type": "markdown",
   "id": "d7ced06e",
   "metadata": {},
   "source": [
    "Python doesn't have a character data type"
   ]
  },
  {
   "cell_type": "code",
   "execution_count": 3,
   "id": "1179b350",
   "metadata": {},
   "outputs": [
    {
     "data": {
      "text/plain": [
       "str"
      ]
     },
     "execution_count": 3,
     "metadata": {},
     "output_type": "execute_result"
    }
   ],
   "source": [
    "type(\"hello\")"
   ]
  },
  {
   "cell_type": "code",
   "execution_count": 4,
   "id": "6e74b432",
   "metadata": {},
   "outputs": [
    {
     "data": {
      "text/plain": [
       "str"
      ]
     },
     "execution_count": 4,
     "metadata": {},
     "output_type": "execute_result"
    }
   ],
   "source": [
    "type('a')"
   ]
  },
  {
   "cell_type": "markdown",
   "id": "6eb4d9b7",
   "metadata": {},
   "source": [
    "#### Quotes\n",
    "We cannot use single quote inside single quote."
   ]
  },
  {
   "cell_type": "code",
   "execution_count": 5,
   "id": "06bc14fc",
   "metadata": {},
   "outputs": [
    {
     "ename": "SyntaxError",
     "evalue": "invalid syntax (<ipython-input-5-acb8bb6a4af4>, line 1)",
     "output_type": "error",
     "traceback": [
      "\u001b[1;36m  File \u001b[1;32m\"<ipython-input-5-acb8bb6a4af4>\"\u001b[1;36m, line \u001b[1;32m1\u001b[0m\n\u001b[1;33m    print('Hey it's me)\u001b[0m\n\u001b[1;37m                  ^\u001b[0m\n\u001b[1;31mSyntaxError\u001b[0m\u001b[1;31m:\u001b[0m invalid syntax\n"
     ]
    }
   ],
   "source": [
    "print('Hey it's me)"
   ]
  },
  {
   "cell_type": "markdown",
   "id": "058ed06e",
   "metadata": {},
   "source": [
    "But we can use single inside double or vice versa."
   ]
  },
  {
   "cell_type": "code",
   "execution_count": 6,
   "id": "9b0f52ac",
   "metadata": {},
   "outputs": [
    {
     "name": "stdout",
     "output_type": "stream",
     "text": [
      "Hey, it's me.\n"
     ]
    }
   ],
   "source": [
    "print(\"Hey, it's me.\")"
   ]
  },
  {
   "cell_type": "markdown",
   "id": "01c92dcd",
   "metadata": {},
   "source": [
    "**To insert characters that are illegal in a string, use an escape character.**  \n",
    "An escape character is a backslash `\\` followed by the character you want to insert."
   ]
  },
  {
   "cell_type": "code",
   "execution_count": 7,
   "id": "529c2790",
   "metadata": {},
   "outputs": [
    {
     "name": "stdout",
     "output_type": "stream",
     "text": [
      "He said, \"I am busy today.\"\n"
     ]
    }
   ],
   "source": [
    "print(\"He said, \\\"I am busy today.\\\"\")"
   ]
  },
  {
   "cell_type": "markdown",
   "id": "f03fac4f",
   "metadata": {},
   "source": [
    "#### Multiline String"
   ]
  },
  {
   "cell_type": "markdown",
   "id": "9e12216d",
   "metadata": {},
   "source": [
    "We can use `''' '''` or `\"\"\" \"\"\"` to write multiline string."
   ]
  },
  {
   "cell_type": "code",
   "execution_count": 8,
   "id": "a1e930c9",
   "metadata": {},
   "outputs": [
    {
     "name": "stdout",
     "output_type": "stream",
     "text": [
      "Hello\n",
      "World\n"
     ]
    }
   ],
   "source": [
    "multiline = \"\"\"Hello\n",
    "World\"\"\"\n",
    "print(multiline)"
   ]
  },
  {
   "cell_type": "markdown",
   "id": "1e8d0440",
   "metadata": {},
   "source": [
    "#### Concatenation\n",
    "Python allows us to easily concatenate strings using `+`."
   ]
  },
  {
   "cell_type": "code",
   "execution_count": 9,
   "id": "b3cf38b4",
   "metadata": {},
   "outputs": [
    {
     "name": "stdout",
     "output_type": "stream",
     "text": [
      "Hello, Michael\n"
     ]
    }
   ],
   "source": [
    "name = \"Michael\"\n",
    "print(\"Hello, \" + name)"
   ]
  },
  {
   "cell_type": "code",
   "execution_count": 10,
   "id": "eaddd8f5",
   "metadata": {},
   "outputs": [
    {
     "name": "stdout",
     "output_type": "stream",
     "text": [
      "Hello, Michael\n"
     ]
    }
   ],
   "source": [
    "print(\"Hello, \" + \"Michael\")"
   ]
  },
  {
   "cell_type": "markdown",
   "id": "d558503e",
   "metadata": {},
   "source": [
    "You can only concatenate a string to another string."
   ]
  },
  {
   "cell_type": "code",
   "execution_count": 11,
   "id": "10a3676e",
   "metadata": {},
   "outputs": [
    {
     "ename": "TypeError",
     "evalue": "can only concatenate str (not \"int\") to str",
     "output_type": "error",
     "traceback": [
      "\u001b[1;31m---------------------------------------------------------------------------\u001b[0m",
      "\u001b[1;31mTypeError\u001b[0m                                 Traceback (most recent call last)",
      "\u001b[1;32m<ipython-input-11-49fa56855013>\u001b[0m in \u001b[0;36m<module>\u001b[1;34m\u001b[0m\n\u001b[1;32m----> 1\u001b[1;33m \u001b[1;34m\"Michael's age is \"\u001b[0m \u001b[1;33m+\u001b[0m \u001b[1;36m30\u001b[0m \u001b[1;31m# TypeError\u001b[0m\u001b[1;33m\u001b[0m\u001b[1;33m\u001b[0m\u001b[0m\n\u001b[0m",
      "\u001b[1;31mTypeError\u001b[0m: can only concatenate str (not \"int\") to str"
     ]
    }
   ],
   "source": [
    "\"Michael's age is \" + 30 # TypeError "
   ]
  },
  {
   "cell_type": "markdown",
   "id": "9c6c07f2",
   "metadata": {},
   "source": [
    "**Concatenating Integers to Strings:** In Python, only a string can be concatenated with another string. If you need to concatenate a string with another data type, you need to convert it to string using `str()` function or some other method. Note that if your goal is to only print, then you can just print them with a comma without any conversion."
   ]
  },
  {
   "cell_type": "code",
   "execution_count": null,
   "id": "e8a6a7bb-61a9-45f2-8c9c-aa3a167a63da",
   "metadata": {},
   "outputs": [],
   "source": [
    "print(\"Michael's age is\", 30)"
   ]
  },
  {
   "cell_type": "code",
   "execution_count": null,
   "id": "1dade6ae",
   "metadata": {},
   "outputs": [],
   "source": [
    "age = 30\n",
    "print(\"Michael's age is \" + str(age))"
   ]
  },
  {
   "cell_type": "code",
   "execution_count": 12,
   "id": "4eaed5ff",
   "metadata": {},
   "outputs": [
    {
     "name": "stdout",
     "output_type": "stream",
     "text": [
      "Michael's age is 30\n"
     ]
    }
   ],
   "source": [
    "print(\"Michael's age is \" + str(30))"
   ]
  },
  {
   "cell_type": "markdown",
   "id": "9e87496f",
   "metadata": {},
   "source": [
    "`str(value)` is a function that converts any type of compatible data to string."
   ]
  },
  {
   "cell_type": "code",
   "execution_count": 13,
   "id": "147c75df",
   "metadata": {},
   "outputs": [
    {
     "name": "stdout",
     "output_type": "stream",
     "text": [
      "Hello 12731.1273618\n"
     ]
    }
   ],
   "source": [
    "print(\"Hello \" + str(12731.1273618))"
   ]
  },
  {
   "cell_type": "markdown",
   "id": "c4ee453a",
   "metadata": {},
   "source": [
    "#### String Multiplication\n",
    "If we want replicate our String , then we can use multiplication operator `*` on that string with  desired no of repeats. "
   ]
  },
  {
   "cell_type": "code",
   "execution_count": 14,
   "id": "4e8d0fee",
   "metadata": {},
   "outputs": [
    {
     "name": "stdout",
     "output_type": "stream",
     "text": [
      "ABCABCABC\n"
     ]
    }
   ],
   "source": [
    "print(\"ABC\" * 3)"
   ]
  },
  {
   "cell_type": "markdown",
   "id": "03f96d49-a903-4a44-87e7-a8ea13dfaa9c",
   "metadata": {},
   "source": [
    "Since the result is a string, it can be concatenated to other strings as well."
   ]
  },
  {
   "cell_type": "code",
   "execution_count": 15,
   "id": "91fe1485",
   "metadata": {},
   "outputs": [
    {
     "name": "stdout",
     "output_type": "stream",
     "text": [
      "pppqqqqrr\n"
     ]
    }
   ],
   "source": [
    "print(\"p\" * 3 + \"q\" * 4 + \"r\" * 2)"
   ]
  },
  {
   "cell_type": "markdown",
   "id": "31cf36ab",
   "metadata": {},
   "source": [
    "#### String Length\n",
    "It gives us that how many characters we have in a string."
   ]
  },
  {
   "cell_type": "code",
   "execution_count": 16,
   "id": "56871672",
   "metadata": {},
   "outputs": [
    {
     "data": {
      "text/plain": [
       "5"
      ]
     },
     "execution_count": 16,
     "metadata": {},
     "output_type": "execute_result"
    }
   ],
   "source": [
    "len(\"hello\")"
   ]
  },
  {
   "cell_type": "code",
   "execution_count": 17,
   "id": "44a8f0c8",
   "metadata": {},
   "outputs": [
    {
     "data": {
      "text/plain": [
       "11"
      ]
     },
     "execution_count": 17,
     "metadata": {},
     "output_type": "execute_result"
    }
   ],
   "source": [
    "s = \"Hello World\"\n",
    "len(s)"
   ]
  },
  {
   "cell_type": "markdown",
   "id": "cdb66a84-8700-4b49-8036-e090f6ef7f5a",
   "metadata": {},
   "source": [
    " Keep in mind that escape sequences like `\\n` counts as a single character."
   ]
  },
  {
   "cell_type": "code",
   "execution_count": 18,
   "id": "50601364-b0a8-41bf-8139-26fb13d70515",
   "metadata": {},
   "outputs": [
    {
     "data": {
      "text/plain": [
       "5"
      ]
     },
     "execution_count": 18,
     "metadata": {},
     "output_type": "execute_result"
    }
   ],
   "source": [
    "len(\"AB\\nCD\")"
   ]
  },
  {
   "cell_type": "markdown",
   "id": "e56ab08a",
   "metadata": {},
   "source": [
    "`len()` is a function that returns the length of an object"
   ]
  },
  {
   "cell_type": "markdown",
   "id": "f3d305f2",
   "metadata": {},
   "source": [
    "### String Indexing & Slicing:\n",
    "Strings can be indexed (subscripted), with the first character having index 0. There is no separate character\n",
    "type. A character is simply a string of size one. Python also allows for negative indexing, with the last (righmost) character having index -1, second last element having index -2, and so on. Given below is an example for the string \"Hello\".\n",
    "\n",
    "| String | H | e | l | l | o |\n",
    "| --- | --- | --- | --- | --- | --- |\n",
    "| Index | 0 | 1 | 2 | 3 | 4 |\n",
    "| Index (-ve) | -5 | -4 | -3 | -2 | -1 |"
   ]
  },
  {
   "cell_type": "markdown",
   "id": "19f76ecd",
   "metadata": {},
   "source": [
    "**Indexing**"
   ]
  },
  {
   "cell_type": "code",
   "execution_count": 19,
   "id": "2c1dfcde",
   "metadata": {},
   "outputs": [
    {
     "data": {
      "text/plain": [
       "'H'"
      ]
     },
     "execution_count": 19,
     "metadata": {},
     "output_type": "execute_result"
    }
   ],
   "source": [
    "\"Hello\"[0]"
   ]
  },
  {
   "cell_type": "code",
   "execution_count": 20,
   "id": "5fe78143",
   "metadata": {},
   "outputs": [
    {
     "data": {
      "text/plain": [
       "'o'"
      ]
     },
     "execution_count": 20,
     "metadata": {},
     "output_type": "execute_result"
    }
   ],
   "source": [
    "\"Hello\"[-1] # Negative Indexing"
   ]
  },
  {
   "cell_type": "code",
   "execution_count": 21,
   "id": "5269cc68",
   "metadata": {},
   "outputs": [
    {
     "data": {
      "text/plain": [
       "'o'"
      ]
     },
     "execution_count": 21,
     "metadata": {},
     "output_type": "execute_result"
    }
   ],
   "source": [
    "\"Hello\"[4]"
   ]
  },
  {
   "cell_type": "code",
   "execution_count": 22,
   "id": "4a10fa19",
   "metadata": {},
   "outputs": [
    {
     "data": {
      "text/plain": [
       "'o'"
      ]
     },
     "execution_count": 22,
     "metadata": {},
     "output_type": "execute_result"
    }
   ],
   "source": [
    "s = \"hello\"\n",
    "s[len(s) - 1]"
   ]
  },
  {
   "cell_type": "code",
   "execution_count": 23,
   "id": "8b9e4ca9",
   "metadata": {},
   "outputs": [],
   "source": [
    "s = \"Hello World\""
   ]
  },
  {
   "cell_type": "code",
   "execution_count": 24,
   "id": "abf848f0",
   "metadata": {},
   "outputs": [
    {
     "data": {
      "text/plain": [
       "'H'"
      ]
     },
     "execution_count": 24,
     "metadata": {},
     "output_type": "execute_result"
    }
   ],
   "source": [
    "s[0]"
   ]
  },
  {
   "cell_type": "code",
   "execution_count": 25,
   "id": "35d7b342",
   "metadata": {},
   "outputs": [
    {
     "data": {
      "text/plain": [
       "'o'"
      ]
     },
     "execution_count": 25,
     "metadata": {},
     "output_type": "execute_result"
    }
   ],
   "source": [
    "s[7]"
   ]
  },
  {
   "cell_type": "code",
   "execution_count": 26,
   "id": "302e2a55",
   "metadata": {},
   "outputs": [
    {
     "data": {
      "text/plain": [
       "'o'"
      ]
     },
     "execution_count": 26,
     "metadata": {},
     "output_type": "execute_result"
    }
   ],
   "source": [
    "s[-4]"
   ]
  },
  {
   "cell_type": "code",
   "execution_count": 27,
   "id": "93057c37-04a6-4f5d-9c74-df2b00da17e2",
   "metadata": {},
   "outputs": [
    {
     "data": {
      "text/plain": [
       "11"
      ]
     },
     "execution_count": 27,
     "metadata": {},
     "output_type": "execute_result"
    }
   ],
   "source": [
    "len(s)"
   ]
  },
  {
   "cell_type": "markdown",
   "id": "5fde2d72",
   "metadata": {},
   "source": [
    "In the following line of code we have exceeded our index with respect to that string. Basically, the range of positive index is from `0` to `len(str) - 1` and range of negative index is from `-1` (righmost) to `-len(str)` (leftmost)."
   ]
  },
  {
   "cell_type": "code",
   "execution_count": 28,
   "id": "8f052604",
   "metadata": {},
   "outputs": [
    {
     "ename": "IndexError",
     "evalue": "string index out of range",
     "output_type": "error",
     "traceback": [
      "\u001b[1;31m---------------------------------------------------------------------------\u001b[0m",
      "\u001b[1;31mIndexError\u001b[0m                                Traceback (most recent call last)",
      "\u001b[1;32m<ipython-input-28-665bb6993e1f>\u001b[0m in \u001b[0;36m<module>\u001b[1;34m\u001b[0m\n\u001b[1;32m----> 1\u001b[1;33m \u001b[0ms\u001b[0m\u001b[1;33m[\u001b[0m\u001b[1;36m11\u001b[0m\u001b[1;33m]\u001b[0m\u001b[1;33m\u001b[0m\u001b[1;33m\u001b[0m\u001b[0m\n\u001b[0m",
      "\u001b[1;31mIndexError\u001b[0m: string index out of range"
     ]
    }
   ],
   "source": [
    "s[11]"
   ]
  },
  {
   "cell_type": "code",
   "execution_count": null,
   "id": "b7583e1c",
   "metadata": {},
   "outputs": [],
   "source": [
    "s[-11]"
   ]
  },
  {
   "cell_type": "code",
   "execution_count": null,
   "id": "76cd811a",
   "metadata": {},
   "outputs": [],
   "source": [
    "s[-12]"
   ]
  },
  {
   "cell_type": "markdown",
   "id": "cf6fe9f4",
   "metadata": {},
   "source": [
    "**Slicing:** `string_name[start_index:end_index:step]`  \n",
    "The is sliced from index `start_index` to `end_index - 1`. In order to make it easy to understand we will be using the string `\"0123456789\"` where the value at each index is equivalent to it's positive index."
   ]
  },
  {
   "cell_type": "code",
   "execution_count": null,
   "id": "498480ca",
   "metadata": {},
   "outputs": [],
   "source": [
    "s = \"0123456789\""
   ]
  },
  {
   "cell_type": "code",
   "execution_count": null,
   "id": "556fe7c8",
   "metadata": {},
   "outputs": [],
   "source": [
    "# Using only end index\n",
    "# Here we get from index 0 to index 7 (end_index - 1)\n",
    "s[:8]"
   ]
  },
  {
   "cell_type": "code",
   "execution_count": null,
   "id": "9518114d",
   "metadata": {},
   "outputs": [],
   "source": [
    "# Using only start index\n",
    "# Here we get from index 4 (start_index) to the end of the string\n",
    "s[4:]"
   ]
  },
  {
   "cell_type": "code",
   "execution_count": null,
   "id": "e5aaa05c-30d6-4f49-9bc4-7d2356a6ded2",
   "metadata": {},
   "outputs": [],
   "source": [
    "# Using both start index and end index\n",
    "# Here we get from index 4 (start_index) to index 7 (end_index - 1)\n",
    "s[4:8]"
   ]
  },
  {
   "cell_type": "code",
   "execution_count": null,
   "id": "705dcb5c-3051-4cf8-af17-c01d88a3ce4a",
   "metadata": {},
   "outputs": [],
   "source": [
    "# If a single : is used without start or end, then we get a copy of the entire string\n",
    "s[:]"
   ]
  },
  {
   "cell_type": "code",
   "execution_count": null,
   "id": "21cf9e68-2f82-4ea8-9ac3-88ec3b8a8232",
   "metadata": {},
   "outputs": [],
   "source": [
    "# Using step\n",
    "# Step can be used with any of the above configurations by adding another colon and a value\n",
    "# Here we get from index 1 to index 7 with a step of 2\n",
    "s[1:8:2]"
   ]
  },
  {
   "cell_type": "code",
   "execution_count": null,
   "id": "d2b07c6f-57cb-4e33-9315-abec18c6aca5",
   "metadata": {},
   "outputs": [],
   "source": [
    "# It may be easier to understand if you can try to think of step as follows\n",
    "s[1] + s[1 + 2] + s[1 + 2 + 2] + s[1 + 2 + 2 + 2] # Any more values will exceed the start_index to (end_index - 1) range"
   ]
  },
  {
   "cell_type": "markdown",
   "id": "01e6f4b1",
   "metadata": {},
   "source": [
    "### Escape Characters \n",
    "We use escape characters to add certain characters that cannot be added using a keyboard or may be illegal to add. It consists of a `\\` followed by a character. The whole escape character including the backslash is counted as a single character.\n",
    "\n",
    "| Escape Sequence |\tMeaning |\n",
    "| :-- | :-- |\n",
    "| \\\\\\\\ | Backslash (\\) |\n",
    "| \\\\' | Single quote (') |\n",
    "| \\\\\" | Double quote (\") |\n",
    "| \\a | Bell |\n",
    "| \\b | Backspace |\n",
    "| \\f | Formfeed |\n",
    "| \\n | Linefeed (New Line) |\n",
    "| \\r | Carriage Return |\n",
    "| \\t | Horizontal Tab |\n",
    "| \\v | Vertical Tab |\n",
    "\n",
    "*A few examples:-*"
   ]
  },
  {
   "cell_type": "code",
   "execution_count": 29,
   "id": "5cf56ad8",
   "metadata": {},
   "outputs": [
    {
     "name": "stdout",
     "output_type": "stream",
     "text": [
      "Hello\n",
      "World\n"
     ]
    }
   ],
   "source": [
    "print(\"Hello\\nWorld\") "
   ]
  },
  {
   "cell_type": "code",
   "execution_count": 30,
   "id": "4d3ca754",
   "metadata": {},
   "outputs": [
    {
     "name": "stdout",
     "output_type": "stream",
     "text": [
      "Hello\tWorld\n"
     ]
    }
   ],
   "source": [
    "print(\"Hello\\tWorld\")"
   ]
  },
  {
   "cell_type": "code",
   "execution_count": 31,
   "id": "76a513c0",
   "metadata": {},
   "outputs": [
    {
     "name": "stdout",
     "output_type": "stream",
     "text": [
      "Single: ', Double: \"\n"
     ]
    }
   ],
   "source": [
    "print(\"Single: \\', Double: \\\"\")"
   ]
  },
  {
   "cell_type": "code",
   "execution_count": 32,
   "id": "c9e9be0c",
   "metadata": {},
   "outputs": [
    {
     "name": "stdout",
     "output_type": "stream",
     "text": [
      "Escape Character for new line: \\n\n"
     ]
    }
   ],
   "source": [
    "print(\"Escape Character for new line: \\\\n\")"
   ]
  },
  {
   "cell_type": "code",
   "execution_count": 33,
   "id": "cf844bcc-9e30-4578-94cb-7cb9ab68f4b7",
   "metadata": {},
   "outputs": [
    {
     "name": "stdout",
     "output_type": "stream",
     "text": [
      "Backslash: \\\n"
     ]
    }
   ],
   "source": [
    "print(\"Backslash: \\\\\")"
   ]
  },
  {
   "cell_type": "code",
   "execution_count": 34,
   "id": "384df048-7dab-4c76-a081-4e68414b2112",
   "metadata": {},
   "outputs": [
    {
     "data": {
      "text/plain": [
       "1"
      ]
     },
     "execution_count": 34,
     "metadata": {},
     "output_type": "execute_result"
    }
   ],
   "source": [
    "len(\"\\\\\")"
   ]
  },
  {
   "cell_type": "code",
   "execution_count": 35,
   "id": "68e265d2",
   "metadata": {},
   "outputs": [
    {
     "data": {
      "text/plain": [
       "2"
      ]
     },
     "execution_count": 35,
     "metadata": {},
     "output_type": "execute_result"
    }
   ],
   "source": [
    "len(\"\\\\n\") # Here '\\\\' is one character and 'n' is the other character"
   ]
  },
  {
   "cell_type": "markdown",
   "id": "2d8a29e0",
   "metadata": {},
   "source": [
    "### String Formatting\n",
    "Python allows you to do % formatting as in other languages like C, C++, Java, etc. However, once you start using several parameters and longer strings, your code will quickly become much less readable. Moreover, this kind of formatting isn’t great because it is verbose and leads to errors, like not displaying tuples or dictionaries correctly. We will discuss two methods for formatted string: `format()` and f-String `f\"\"`."
   ]
  },
  {
   "cell_type": "markdown",
   "id": "c13ee9ed",
   "metadata": {},
   "source": [
    "**format():** The `format()` method formats the specified values and inserts them inside the string's placeholder. The placeholder is defined using curly brackets: `{}`. The `format()` method returns the formatted string."
   ]
  },
  {
   "cell_type": "code",
   "execution_count": 36,
   "id": "83c2e58b",
   "metadata": {},
   "outputs": [
    {
     "name": "stdout",
     "output_type": "stream",
     "text": [
      "My name is Michael.\n"
     ]
    }
   ],
   "source": [
    "name = \"Michael\"\n",
    "sentence = \"My name is {}.\"\n",
    "print(sentence.format(name))"
   ]
  },
  {
   "cell_type": "markdown",
   "id": "345c3c89",
   "metadata": {},
   "source": [
    "You can use multiple placeholders. Data type doesn't matter. They will be automatically converted to string."
   ]
  },
  {
   "cell_type": "code",
   "execution_count": 37,
   "id": "d0b21ef4",
   "metadata": {},
   "outputs": [
    {
     "name": "stdout",
     "output_type": "stream",
     "text": [
      "My name is Michael and my age is 30.\n"
     ]
    }
   ],
   "source": [
    "name = \"Michael\"\n",
    "age = 30\n",
    "sentence = \"My name is {} and my age is {}.\"\n",
    "print(sentence.format(name, age))"
   ]
  },
  {
   "cell_type": "markdown",
   "id": "ae7a456f",
   "metadata": {},
   "source": [
    "The placeholders can be identified using named index (Eg. `{price}`) or numbered index (Eg. `{0}`)"
   ]
  },
  {
   "cell_type": "code",
   "execution_count": 38,
   "id": "f35a6192",
   "metadata": {},
   "outputs": [
    {
     "name": "stdout",
     "output_type": "stream",
     "text": [
      "My name is Michael and I am 30 years old.\n"
     ]
    }
   ],
   "source": [
    "name = \"Michael\"\n",
    "age = 30\n",
    "print(\"My name is {person_name} and I am {person_age} years old.\"\n",
    "      .format(person_age=age, person_name=name))"
   ]
  },
  {
   "cell_type": "code",
   "execution_count": 39,
   "id": "9fa87d32",
   "metadata": {},
   "outputs": [
    {
     "name": "stdout",
     "output_type": "stream",
     "text": [
      "My name is Michael and I am 30 years old.\n"
     ]
    }
   ],
   "source": [
    "name = \"Michael\"\n",
    "age = 30\n",
    "print(\"My name is {1} and I am {0} years old.\".format(age, name))"
   ]
  },
  {
   "cell_type": "markdown",
   "id": "d5eff861",
   "metadata": {},
   "source": [
    "**f-Strings:**  They are string literals that have a `f` at the beginning and the curly braces `{}` containing expressions that will be replaced with their values. The expressions are evaluated at runtime and then formatted. Thus f-strings are faster than both `%` formatting and `str.format()`. *A drawback of f-Strings is that they cannot contain escape sequences in the `{}` part.*"
   ]
  },
  {
   "cell_type": "code",
   "execution_count": 40,
   "id": "55e3c392",
   "metadata": {},
   "outputs": [
    {
     "name": "stdout",
     "output_type": "stream",
     "text": [
      "I am 30 years old.\n"
     ]
    }
   ],
   "source": [
    "age = 30\n",
    "print(f\"I am {age} years old.\")"
   ]
  },
  {
   "cell_type": "code",
   "execution_count": 41,
   "id": "40b5e7a7",
   "metadata": {},
   "outputs": [
    {
     "name": "stdout",
     "output_type": "stream",
     "text": [
      "Michael is 30 years old.\n"
     ]
    }
   ],
   "source": [
    "name = \"Michael\"\n",
    "age = 30\n",
    "print(f\"{name} is {age} years old.\")"
   ]
  },
  {
   "cell_type": "code",
   "execution_count": 42,
   "id": "0dac6907",
   "metadata": {},
   "outputs": [
    {
     "name": "stdout",
     "output_type": "stream",
     "text": [
      "Michael is 946080000 seconds old.\n"
     ]
    }
   ],
   "source": [
    "name = \"Michael\"\n",
    "age = 30\n",
    "print(f\"{name} is {age * 365 * 24 * 3600} seconds old.\")"
   ]
  },
  {
   "cell_type": "markdown",
   "id": "ad73d515",
   "metadata": {},
   "source": [
    "Without f-String"
   ]
  },
  {
   "cell_type": "code",
   "execution_count": 43,
   "id": "5acd2adb",
   "metadata": {},
   "outputs": [
    {
     "name": "stdout",
     "output_type": "stream",
     "text": [
      "Michael is 946080000 old.\n"
     ]
    }
   ],
   "source": [
    "name = \"Michael\"\n",
    "age = 30\n",
    "print(name + \" is \" + str(age * 365 * 24 * 3600) + \" old.\")"
   ]
  },
  {
   "cell_type": "markdown",
   "id": "f55bd601",
   "metadata": {},
   "source": [
    "**Important:** Keep in mind that the string doesn't get updated if any of the values get changed."
   ]
  },
  {
   "cell_type": "code",
   "execution_count": 44,
   "id": "afc54c39",
   "metadata": {},
   "outputs": [
    {
     "name": "stdout",
     "output_type": "stream",
     "text": [
      "I am 30 years old.\n"
     ]
    }
   ],
   "source": [
    "age = 30\n",
    "text = f\"I am {age} years old.\"\n",
    "age = 40\n",
    "print(text)"
   ]
  },
  {
   "cell_type": "code",
   "execution_count": 45,
   "id": "04f24dae",
   "metadata": {},
   "outputs": [
    {
     "name": "stdout",
     "output_type": "stream",
     "text": [
      "I am 30 years old.\n"
     ]
    }
   ],
   "source": [
    "age = 30\n",
    "text = \"I am {} years old.\".format(age)\n",
    "age = 40\n",
    "print(text)"
   ]
  },
  {
   "cell_type": "markdown",
   "id": "41021b8d",
   "metadata": {},
   "source": [
    "#### Formatting Options\n",
    "| Format | Action |\n",
    "| :-- | :-- |\n",
    "| :< | Left align |\n",
    "| :> | Right align |\n",
    "| :^ | Center align |\n",
    "| := | Places sign at left most position |\n",
    "| :+ | Show if number is +ve or -ve |\n",
    "| :- | Show if number is -ve |\n",
    "| :(space) | Extra spacebefore +ve and '-' before -ve number |\n",
    "| :, | Use comma as thousand separator |\n",
    "| :_ | Use underscore as thousand separator |\n",
    "|:b | Binary format |\n",
    "| :c | Unicode format |\n",
    "| :d | Decimal format |\n",
    "| :e | Scientific Format |\n",
    "| :E | Scientific Format (uppercase) |\n",
    "| :f | Fixed point number format |\n",
    "| :F | Fixed point number format (uppercase) |\n",
    "| :g | General format |\n",
    "| :G | General format (uppercase) |\n",
    "| :o | Octal format |\n",
    "| :x | Hexadecimal format |\n",
    "| :X | Hexadecimal format (uppercase) |\n",
    "| :n | Number format |\n",
    "| :% | Percentage format |"
   ]
  },
  {
   "cell_type": "markdown",
   "id": "16818ca0-7b5a-4d6e-aef1-bda403e66a71",
   "metadata": {},
   "source": [
    "*Examples*"
   ]
  },
  {
   "cell_type": "code",
   "execution_count": 46,
   "id": "73808a13",
   "metadata": {},
   "outputs": [
    {
     "name": "stdout",
     "output_type": "stream",
     "text": [
      "This item costs Rs. 99.00\n"
     ]
    }
   ],
   "source": [
    "print(f\"This item costs Rs. {99:.2f}\")\n",
    "# The value will be printed as a float with 2 places after decimal"
   ]
  },
  {
   "cell_type": "code",
   "execution_count": 47,
   "id": "bb10de0d-fd21-4f65-bab4-f24610db0801",
   "metadata": {},
   "outputs": [
    {
     "name": "stdout",
     "output_type": "stream",
     "text": [
      "    1\n"
     ]
    }
   ],
   "source": [
    "print(f\"{'1':>5}\")\n",
    "# :>5 -> The output will be right aligned with a length of 5 (thus 4 spaces)"
   ]
  },
  {
   "cell_type": "code",
   "execution_count": 48,
   "id": "2be83743-c222-4a4f-9fda-9407d65222db",
   "metadata": {},
   "outputs": [
    {
     "name": "stdout",
     "output_type": "stream",
     "text": [
      "Name      Marks     Grade     \n",
      "John      10        A         \n",
      "Dave      20        A         \n",
      "Dan       30        A+        \n"
     ]
    }
   ],
   "source": [
    "print(f\"{'Name':<10}{'Marks':<10}{'Grade':<10}\")\n",
    "\n",
    "print(f\"{'John':<10}{'10':<10}{'A':<10}\")\n",
    "print(f\"{'Dave':<10}{'20':<10}{'A':<10}\")\n",
    "print(f\"{'Dan':<10}{'30':<10}{'A+':<10}\")"
   ]
  },
  {
   "cell_type": "code",
   "execution_count": 49,
   "id": "89d55809",
   "metadata": {},
   "outputs": [
    {
     "name": "stdout",
     "output_type": "stream",
     "text": [
      "A  B  C\n"
     ]
    }
   ],
   "source": [
    "print(f\"A{'B':^5}C\")\n",
    "# 'B' will have a length of 5 and will be center aligned"
   ]
  },
  {
   "cell_type": "code",
   "execution_count": 50,
   "id": "35bcc5d3-1d89-4772-9ed0-fc371a1e2f59",
   "metadata": {},
   "outputs": [
    {
     "name": "stdout",
     "output_type": "stream",
     "text": [
      "1001\n"
     ]
    }
   ],
   "source": [
    "print(f\"{9:b}\") # 1001 is binary representation of 9"
   ]
  },
  {
   "cell_type": "code",
   "execution_count": 51,
   "id": "a914d3e8",
   "metadata": {},
   "outputs": [
    {
     "name": "stdout",
     "output_type": "stream",
     "text": [
      "2,113,123,412\n"
     ]
    }
   ],
   "source": [
    "print(f\"{2113123412:,}\")"
   ]
  },
  {
   "cell_type": "code",
   "execution_count": 52,
   "id": "f8252f9d",
   "metadata": {},
   "outputs": [
    {
     "name": "stdout",
     "output_type": "stream",
     "text": [
      "2_113_123_412\n"
     ]
    }
   ],
   "source": [
    "print(f\"{2113123412:_}\")"
   ]
  },
  {
   "cell_type": "code",
   "execution_count": 53,
   "id": "50a4df7f",
   "metadata": {},
   "outputs": [
    {
     "name": "stdout",
     "output_type": "stream",
     "text": [
      "    *    \n",
      "   ***   \n",
      "  *****  \n",
      " ******* \n",
      "*********\n"
     ]
    }
   ],
   "source": [
    "print(f\"{'*' * 1:^9}\")\n",
    "print(f\"{'*' * 3:^9}\")\n",
    "print(f\"{'*' * 5:^9}\")\n",
    "print(f\"{'*' * 7:^9}\")\n",
    "print(f\"{'*' * 9:^9}\")"
   ]
  },
  {
   "cell_type": "code",
   "execution_count": 54,
   "id": "05b41e4f-a6b9-4c98-a90e-2df731f9e2e5",
   "metadata": {},
   "outputs": [
    {
     "data": {
      "text/plain": [
       "'*********'"
      ]
     },
     "execution_count": 54,
     "metadata": {},
     "output_type": "execute_result"
    }
   ],
   "source": [
    "s = \"*\" * 9\n",
    "f\"{s:^9}\""
   ]
  },
  {
   "cell_type": "markdown",
   "id": "5a89f026",
   "metadata": {},
   "source": [
    "After learning loop, you can use the following syntax."
   ]
  },
  {
   "cell_type": "code",
   "execution_count": 55,
   "id": "f3f01aa4",
   "metadata": {},
   "outputs": [
    {
     "name": "stdout",
     "output_type": "stream",
     "text": [
      "    *    \n",
      "   ***   \n",
      "  *****  \n",
      " ******* \n",
      "*********\n"
     ]
    }
   ],
   "source": [
    "for i in range(1, 10, 2): \n",
    "    print(f\"{'*' * i:^9}\")"
   ]
  },
  {
   "cell_type": "markdown",
   "id": "fece1bec-5bd0-43e7-85c7-7044c11ae848",
   "metadata": {},
   "source": [
    "A bit more advanced syntax."
   ]
  },
  {
   "cell_type": "code",
   "execution_count": 56,
   "id": "687f243f-9bb7-47bf-91f4-ac8375bdfafb",
   "metadata": {},
   "outputs": [
    {
     "name": "stdout",
     "output_type": "stream",
     "text": [
      "    *    \n",
      "   ***   \n",
      "  *****  \n",
      " ******* \n",
      "*********\n"
     ]
    }
   ],
   "source": [
    "print(\"\\n\".join([f\"{'*' * i:^9}\" for i in range(1, 10, 2)]))"
   ]
  },
  {
   "cell_type": "markdown",
   "id": "c5fc0cca",
   "metadata": {},
   "source": [
    "### Find in String\n",
    "You can search if a substring of any length is present in a string using the keyword `in`. The result is a boolean, which you will learn in the next file."
   ]
  },
  {
   "cell_type": "code",
   "execution_count": 57,
   "id": "8d48eaa1",
   "metadata": {},
   "outputs": [
    {
     "data": {
      "text/plain": [
       "True"
      ]
     },
     "execution_count": 57,
     "metadata": {},
     "output_type": "execute_result"
    }
   ],
   "source": [
    "\"name\" in \"My name is John\""
   ]
  },
  {
   "cell_type": "code",
   "execution_count": 58,
   "id": "9c615803",
   "metadata": {},
   "outputs": [
    {
     "data": {
      "text/plain": [
       "False"
      ]
     },
     "execution_count": 58,
     "metadata": {},
     "output_type": "execute_result"
    }
   ],
   "source": [
    "\"age\" in \"My name is John\""
   ]
  },
  {
   "cell_type": "code",
   "execution_count": 59,
   "id": "c2e9705c",
   "metadata": {},
   "outputs": [
    {
     "data": {
      "text/plain": [
       "False"
      ]
     },
     "execution_count": 59,
     "metadata": {},
     "output_type": "execute_result"
    }
   ],
   "source": [
    "\"name\" in \"My Name is John\" # case sensitive"
   ]
  },
  {
   "cell_type": "markdown",
   "id": "19299097",
   "metadata": {},
   "source": [
    "### String Constant\n",
    "The constants provided by the `string` library. We can import libraries as: `import library_name`."
   ]
  },
  {
   "cell_type": "code",
   "execution_count": 60,
   "id": "ca925473",
   "metadata": {},
   "outputs": [],
   "source": [
    "import string"
   ]
  },
  {
   "cell_type": "code",
   "execution_count": 61,
   "id": "048d21bd",
   "metadata": {},
   "outputs": [
    {
     "data": {
      "text/plain": [
       "'abcdefghijklmnopqrstuvwxyzABCDEFGHIJKLMNOPQRSTUVWXYZ'"
      ]
     },
     "execution_count": 61,
     "metadata": {},
     "output_type": "execute_result"
    }
   ],
   "source": [
    "string.ascii_letters # A constant variable in the string library"
   ]
  },
  {
   "cell_type": "code",
   "execution_count": 62,
   "id": "a36fa52c",
   "metadata": {},
   "outputs": [
    {
     "data": {
      "text/plain": [
       "'abcdefghijklmnopqrstuvwxyz'"
      ]
     },
     "execution_count": 62,
     "metadata": {},
     "output_type": "execute_result"
    }
   ],
   "source": [
    "string.ascii_lowercase"
   ]
  },
  {
   "cell_type": "code",
   "execution_count": 63,
   "id": "b54273eb",
   "metadata": {},
   "outputs": [
    {
     "data": {
      "text/plain": [
       "'ABCDEFGHIJKLMNOPQRSTUVWXYZ'"
      ]
     },
     "execution_count": 63,
     "metadata": {},
     "output_type": "execute_result"
    }
   ],
   "source": [
    "string.ascii_uppercase"
   ]
  },
  {
   "cell_type": "code",
   "execution_count": 64,
   "id": "5589ce4c",
   "metadata": {},
   "outputs": [
    {
     "data": {
      "text/plain": [
       "'0123456789'"
      ]
     },
     "execution_count": 64,
     "metadata": {},
     "output_type": "execute_result"
    }
   ],
   "source": [
    "string.digits"
   ]
  },
  {
   "cell_type": "code",
   "execution_count": 65,
   "id": "d2ca6579",
   "metadata": {},
   "outputs": [
    {
     "data": {
      "text/plain": [
       "'0123456789abcdefABCDEF'"
      ]
     },
     "execution_count": 65,
     "metadata": {},
     "output_type": "execute_result"
    }
   ],
   "source": [
    "string.hexdigits"
   ]
  },
  {
   "cell_type": "code",
   "execution_count": 66,
   "id": "a0b28db7",
   "metadata": {},
   "outputs": [
    {
     "data": {
      "text/plain": [
       "'01234567'"
      ]
     },
     "execution_count": 66,
     "metadata": {},
     "output_type": "execute_result"
    }
   ],
   "source": [
    "string.octdigits"
   ]
  },
  {
   "cell_type": "code",
   "execution_count": 67,
   "id": "031b3f58",
   "metadata": {},
   "outputs": [
    {
     "data": {
      "text/plain": [
       "'!\"#$%&\\'()*+,-./:;<=>?@[\\\\]^_`{|}~'"
      ]
     },
     "execution_count": 67,
     "metadata": {},
     "output_type": "execute_result"
    }
   ],
   "source": [
    "string.punctuation"
   ]
  },
  {
   "cell_type": "code",
   "execution_count": 68,
   "id": "1941a566",
   "metadata": {},
   "outputs": [
    {
     "data": {
      "text/plain": [
       "'0123456789abcdefghijklmnopqrstuvwxyzABCDEFGHIJKLMNOPQRSTUVWXYZ!\"#$%&\\'()*+,-./:;<=>?@[\\\\]^_`{|}~ \\t\\n\\r\\x0b\\x0c'"
      ]
     },
     "execution_count": 68,
     "metadata": {},
     "output_type": "execute_result"
    }
   ],
   "source": [
    "string.printable"
   ]
  },
  {
   "cell_type": "code",
   "execution_count": 69,
   "id": "53976a13",
   "metadata": {},
   "outputs": [
    {
     "data": {
      "text/plain": [
       "' \\t\\n\\r\\x0b\\x0c'"
      ]
     },
     "execution_count": 69,
     "metadata": {},
     "output_type": "execute_result"
    }
   ],
   "source": [
    "string.whitespace"
   ]
  },
  {
   "cell_type": "markdown",
   "id": "f23e3756",
   "metadata": {},
   "source": [
    "### String Functions\n",
    "In Python, String has many useful in-built functions that can be called from a string object. In this section, some of the most useful functions will be discussed. You can check all the available functions and their usage in [this page](https://www.python-ds.com/python-3-string-methods).\n",
    "\n",
    "The string methods can be used as follows: *string_object.function()*  \n",
    "Examples:  \n",
    "`s = 'Hello'`  \n",
    "`hello.upper()`  \n",
    "or, `\"Hello\".upper()`  \n",
    "*Output will be `\"HELLO\"`*\n",
    "\n",
    "\n",
    "**Note: All string methods returns new values. They do not change the original string.**"
   ]
  },
  {
   "cell_type": "markdown",
   "id": "b3fb422e",
   "metadata": {},
   "source": [
    "**captialize():** Capitalize first letter of the string"
   ]
  },
  {
   "cell_type": "code",
   "execution_count": 70,
   "id": "4d1185c0",
   "metadata": {},
   "outputs": [
    {
     "data": {
      "text/plain": [
       "'My name is john. i am 30 years old'"
      ]
     },
     "execution_count": 70,
     "metadata": {},
     "output_type": "execute_result"
    }
   ],
   "source": [
    "\"my name is John. i am 30 years old\".capitalize()"
   ]
  },
  {
   "cell_type": "markdown",
   "id": "80e141b6",
   "metadata": {},
   "source": [
    "**lower():** Convert string to lower case "
   ]
  },
  {
   "cell_type": "code",
   "execution_count": 71,
   "id": "9c644ecb",
   "metadata": {},
   "outputs": [
    {
     "data": {
      "text/plain": [
       "'hello world'"
      ]
     },
     "execution_count": 71,
     "metadata": {},
     "output_type": "execute_result"
    }
   ],
   "source": [
    "\"Hello WORLD\".lower()"
   ]
  },
  {
   "cell_type": "markdown",
   "id": "5253b3fe-5aea-4f08-abef-e5d73b68dd47",
   "metadata": {},
   "source": [
    "**upper():** Convert string to upper case"
   ]
  },
  {
   "cell_type": "code",
   "execution_count": 72,
   "id": "720851cb",
   "metadata": {},
   "outputs": [
    {
     "data": {
      "text/plain": [
       "'HELLO WORLD'"
      ]
     },
     "execution_count": 72,
     "metadata": {},
     "output_type": "execute_result"
    }
   ],
   "source": [
    "\"Hello WORLD\".upper()"
   ]
  },
  {
   "cell_type": "markdown",
   "id": "e2bf218c",
   "metadata": {},
   "source": [
    "*These function don't change the original string. They return the modified string.*"
   ]
  },
  {
   "cell_type": "code",
   "execution_count": 73,
   "id": "82a17a67",
   "metadata": {},
   "outputs": [
    {
     "name": "stdout",
     "output_type": "stream",
     "text": [
      "HELLO WORLD\n",
      "Hello World\n"
     ]
    }
   ],
   "source": [
    "s = \"Hello World\"\n",
    "print(s.upper())\n",
    "print(s)"
   ]
  },
  {
   "cell_type": "markdown",
   "id": "abdf9659-8bb5-4cf4-aa80-ef305dd26d95",
   "metadata": {},
   "source": [
    "**title():** Capitalize first letter of each word"
   ]
  },
  {
   "cell_type": "code",
   "execution_count": 74,
   "id": "06d5bb7b-1ac3-47ab-bd0e-78e6dbfb4948",
   "metadata": {},
   "outputs": [
    {
     "data": {
      "text/plain": [
       "'My Name Is John'"
      ]
     },
     "execution_count": 74,
     "metadata": {},
     "output_type": "execute_result"
    }
   ],
   "source": [
    "\"my name is John\".title()"
   ]
  },
  {
   "cell_type": "markdown",
   "id": "55ca9825-44f5-45cd-ba3c-6abcbb30c0a2",
   "metadata": {},
   "source": [
    "**swapcase():** Toggle the case for each character (All these string methods can be chained. Eg. `str.upper().swapcase()`. Keep in mind that using `swapcase()` twice may not return the original string)"
   ]
  },
  {
   "cell_type": "code",
   "execution_count": 75,
   "id": "6419a1e6-5485-4560-a095-13d2e865fb05",
   "metadata": {},
   "outputs": [
    {
     "data": {
      "text/plain": [
       "'hELLO world'"
      ]
     },
     "execution_count": 75,
     "metadata": {},
     "output_type": "execute_result"
    }
   ],
   "source": [
    "\"Hello WORLD\".swapcase()"
   ]
  },
  {
   "cell_type": "markdown",
   "id": "1985a529",
   "metadata": {},
   "source": [
    "*Chaining functions*"
   ]
  },
  {
   "cell_type": "code",
   "execution_count": 76,
   "id": "d2694499",
   "metadata": {},
   "outputs": [
    {
     "data": {
      "text/plain": [
       "'mY nAME iS jOHN. i aM 30 yEARS oLD'"
      ]
     },
     "execution_count": 76,
     "metadata": {},
     "output_type": "execute_result"
    }
   ],
   "source": [
    "\"my name is John. i am 30 years old\".title().swapcase()"
   ]
  },
  {
   "cell_type": "markdown",
   "id": "38ef2ae8-f5b8-44c7-8ea2-84423c8aac1b",
   "metadata": {},
   "source": [
    "**isalnum(), isalpha(), isdigit(), islower(), isupper(), etc.**"
   ]
  },
  {
   "cell_type": "code",
   "execution_count": 77,
   "id": "528aa033-4204-4e7d-ba78-334c20359710",
   "metadata": {},
   "outputs": [
    {
     "data": {
      "text/plain": [
       "True"
      ]
     },
     "execution_count": 77,
     "metadata": {},
     "output_type": "execute_result"
    }
   ],
   "source": [
    "\"2367189\".isdigit()"
   ]
  },
  {
   "cell_type": "code",
   "execution_count": 78,
   "id": "37ed0204-0c2e-487e-a77e-1eb246b5bc06",
   "metadata": {},
   "outputs": [
    {
     "data": {
      "text/plain": [
       "True"
      ]
     },
     "execution_count": 78,
     "metadata": {},
     "output_type": "execute_result"
    }
   ],
   "source": [
    "\"hello\".islower()"
   ]
  },
  {
   "cell_type": "code",
   "execution_count": 79,
   "id": "bd1c0574-d812-419d-ab90-b1428098a44e",
   "metadata": {},
   "outputs": [
    {
     "data": {
      "text/plain": [
       "True"
      ]
     },
     "execution_count": 79,
     "metadata": {},
     "output_type": "execute_result"
    }
   ],
   "source": [
    "\"HELLO\".isupper()"
   ]
  },
  {
   "cell_type": "code",
   "execution_count": 80,
   "id": "e7d8bc57-7c8b-4136-8a0b-7ad755a75051",
   "metadata": {},
   "outputs": [
    {
     "data": {
      "text/plain": [
       "False"
      ]
     },
     "execution_count": 80,
     "metadata": {},
     "output_type": "execute_result"
    }
   ],
   "source": [
    "\"Hello world\".istitle()"
   ]
  },
  {
   "cell_type": "markdown",
   "id": "23ebd191-5712-4d1a-a224-c5862e5477e6",
   "metadata": {},
   "source": [
    "You can check out all the 'is' functions in the link given at the beginning of this section."
   ]
  },
  {
   "cell_type": "markdown",
   "id": "4ade688d",
   "metadata": {},
   "source": [
    "Check if valid identifier (name of variable)"
   ]
  },
  {
   "cell_type": "code",
   "execution_count": 81,
   "id": "69e33059",
   "metadata": {},
   "outputs": [
    {
     "data": {
      "text/plain": [
       "True"
      ]
     },
     "execution_count": 81,
     "metadata": {},
     "output_type": "execute_result"
    }
   ],
   "source": [
    "\"temp100\".isidentifier() "
   ]
  },
  {
   "cell_type": "code",
   "execution_count": 82,
   "id": "1d757e6f",
   "metadata": {},
   "outputs": [
    {
     "data": {
      "text/plain": [
       "False"
      ]
     },
     "execution_count": 82,
     "metadata": {},
     "output_type": "execute_result"
    }
   ],
   "source": [
    "\"123abcd\".isidentifier()"
   ]
  },
  {
   "cell_type": "markdown",
   "id": "03a45fa6-4219-4fa9-b1d3-abb552f1c6b7",
   "metadata": {},
   "source": [
    "**replace():** It returns a string where every occurrence of a given substring is replaced with another substring. The substrings can be of any length."
   ]
  },
  {
   "cell_type": "code",
   "execution_count": 83,
   "id": "81e86312-b3a0-477f-ac15-0bdd5a576122",
   "metadata": {},
   "outputs": [
    {
     "data": {
      "text/plain": [
       "'Goodbye World'"
      ]
     },
     "execution_count": 83,
     "metadata": {},
     "output_type": "execute_result"
    }
   ],
   "source": [
    "\"Hello World\".replace(\"Hello\", \"Goodbye\")"
   ]
  },
  {
   "cell_type": "code",
   "execution_count": 84,
   "id": "977e679e-94cc-45c5-9d57-497214841d47",
   "metadata": {},
   "outputs": [
    {
     "data": {
      "text/plain": [
       "'He**o'"
      ]
     },
     "execution_count": 84,
     "metadata": {},
     "output_type": "execute_result"
    }
   ],
   "source": [
    "\"Hello\".replace(\"l\", \"*\")"
   ]
  },
  {
   "cell_type": "code",
   "execution_count": 85,
   "id": "14983a2d-10d7-4c66-8e1b-321da254e7ae",
   "metadata": {},
   "outputs": [
    {
     "name": "stdout",
     "output_type": "stream",
     "text": [
      "Heaao World\n",
      "Hello World\n"
     ]
    }
   ],
   "source": [
    "s = \"Hello World\"\n",
    "print(s.replace('l', 'a', 2)) # Maximum times to replace\n",
    "print(s) # You can see only 2 'l' were replaced with 'a'"
   ]
  },
  {
   "cell_type": "markdown",
   "id": "2b7bd470-8868-4eb5-a6fb-bc06b799f313",
   "metadata": {},
   "source": [
    "**find(), index():** Used to get index of a particular substring."
   ]
  },
  {
   "cell_type": "code",
   "execution_count": 86,
   "id": "d9b680e5-b7f3-4eae-8882-14b1b685489d",
   "metadata": {},
   "outputs": [
    {
     "data": {
      "text/plain": [
       "6"
      ]
     },
     "execution_count": 86,
     "metadata": {},
     "output_type": "execute_result"
    }
   ],
   "source": [
    "\"Hello World\".index(\"W\")"
   ]
  },
  {
   "cell_type": "code",
   "execution_count": 87,
   "id": "3682b719-8dc9-4ae6-9a32-e292f697e8f5",
   "metadata": {},
   "outputs": [
    {
     "ename": "ValueError",
     "evalue": "substring not found",
     "output_type": "error",
     "traceback": [
      "\u001b[1;31m---------------------------------------------------------------------------\u001b[0m",
      "\u001b[1;31mValueError\u001b[0m                                Traceback (most recent call last)",
      "\u001b[1;32m<ipython-input-87-fd93d068fdcb>\u001b[0m in \u001b[0;36m<module>\u001b[1;34m\u001b[0m\n\u001b[1;32m----> 1\u001b[1;33m \u001b[1;34m\"Hello World\"\u001b[0m\u001b[1;33m.\u001b[0m\u001b[0mindex\u001b[0m\u001b[1;33m(\u001b[0m\u001b[1;34m'w'\u001b[0m\u001b[1;33m)\u001b[0m \u001b[1;31m# index() raises ValueError if not found\u001b[0m\u001b[1;33m\u001b[0m\u001b[1;33m\u001b[0m\u001b[0m\n\u001b[0m",
      "\u001b[1;31mValueError\u001b[0m: substring not found"
     ]
    }
   ],
   "source": [
    "\"Hello World\".index('w') # index() raises ValueError if not found"
   ]
  },
  {
   "cell_type": "code",
   "execution_count": 88,
   "id": "049089df-fcae-4ad5-94be-789d23b5b4b9",
   "metadata": {},
   "outputs": [
    {
     "data": {
      "text/plain": [
       "6"
      ]
     },
     "execution_count": 88,
     "metadata": {},
     "output_type": "execute_result"
    }
   ],
   "source": [
    "\"Hello World\".find(\"World\") # Substring can be of any length"
   ]
  },
  {
   "cell_type": "code",
   "execution_count": 89,
   "id": "f3611010-5705-4e26-a7da-57df96721cfc",
   "metadata": {},
   "outputs": [
    {
     "data": {
      "text/plain": [
       "-1"
      ]
     },
     "execution_count": 89,
     "metadata": {},
     "output_type": "execute_result"
    }
   ],
   "source": [
    "\"Hello World\".find(\"w\") # find() returns -1 if not found"
   ]
  },
  {
   "cell_type": "markdown",
   "id": "b6148148-0626-433d-9b3d-01ddaceb9787",
   "metadata": {},
   "source": [
    "**count():** Counts the no. of occurence of a substring in the string"
   ]
  },
  {
   "cell_type": "code",
   "execution_count": 90,
   "id": "a16f0d34-738b-44f2-bf95-ddd7f1b5a21c",
   "metadata": {},
   "outputs": [
    {
     "data": {
      "text/plain": [
       "3"
      ]
     },
     "execution_count": 90,
     "metadata": {},
     "output_type": "execute_result"
    }
   ],
   "source": [
    "\"Hello World\".count(\"l\")"
   ]
  },
  {
   "cell_type": "code",
   "execution_count": 91,
   "id": "8c0ac177-6119-44d3-aea4-c6b856f734ac",
   "metadata": {},
   "outputs": [
    {
     "data": {
      "text/plain": [
       "2"
      ]
     },
     "execution_count": 91,
     "metadata": {},
     "output_type": "execute_result"
    }
   ],
   "source": [
    "\"My name is John. My age is 30.\".count(\"is\")"
   ]
  },
  {
   "cell_type": "markdown",
   "id": "f9569533-208b-4c6c-8cb5-59c5f7110574",
   "metadata": {},
   "source": [
    "**split():** The `split()` method breaks up a string at the specified separator and returns a list of strings. (You will learn about list in a later section) \n",
    "\n",
    "It has 2 optional parameters:\n",
    "* `separator`: It is a delimiter. The string splits at the specified separator. If the separator is not specified, any whitespace (space, newline etc.) string is a separator.\n",
    "* `maxsplit`: The maxsplit defines the maximum number of splits. The default value of maxsplit is -1, meaning, no limit on the number of splits.\n",
    "\n",
    "*It will be very useful later when taking multiple inputs from user*"
   ]
  },
  {
   "cell_type": "markdown",
   "id": "7c8e15e6",
   "metadata": {},
   "source": [
    "##### Splitting string at whitespaces (Check string.whitespace)"
   ]
  },
  {
   "cell_type": "code",
   "execution_count": 92,
   "id": "4727b25c",
   "metadata": {},
   "outputs": [
    {
     "data": {
      "text/plain": [
       "['My', 'name', 'is', 'John.', 'My', 'age', 'is', '30.']"
      ]
     },
     "execution_count": 92,
     "metadata": {},
     "output_type": "execute_result"
    }
   ],
   "source": [
    "\"My name is John.\\nMy age is 30.\".split()"
   ]
  },
  {
   "cell_type": "markdown",
   "id": "8d771ecd",
   "metadata": {},
   "source": [
    "##### Splitting string at newline"
   ]
  },
  {
   "cell_type": "code",
   "execution_count": 93,
   "id": "10d4fbe5",
   "metadata": {},
   "outputs": [
    {
     "data": {
      "text/plain": [
       "['My name is John.', 'My age is 30.']"
      ]
     },
     "execution_count": 93,
     "metadata": {},
     "output_type": "execute_result"
    }
   ],
   "source": [
    "\"My name is John.\\nMy age is 30.\".split('\\n')"
   ]
  },
  {
   "cell_type": "markdown",
   "id": "ae4dcefd",
   "metadata": {},
   "source": [
    "##### In the following code we are splitting the string at 'is'. Whatever is used for splitting is not included in result"
   ]
  },
  {
   "cell_type": "code",
   "execution_count": 94,
   "id": "6f133663",
   "metadata": {},
   "outputs": [
    {
     "data": {
      "text/plain": [
       "['My name ', ' John.\\nMy age ', ' 30.']"
      ]
     },
     "execution_count": 94,
     "metadata": {},
     "output_type": "execute_result"
    }
   ],
   "source": [
    "\"My name is John.\\nMy age is 30.\".split('is')"
   ]
  },
  {
   "cell_type": "markdown",
   "id": "7ab250ef",
   "metadata": {},
   "source": [
    "##### In the following code we split 2 elements and then rest of the string is the third element."
   ]
  },
  {
   "cell_type": "code",
   "execution_count": 95,
   "id": "07731adb",
   "metadata": {},
   "outputs": [
    {
     "data": {
      "text/plain": [
       "['1', '2', '3', '4 5 6']"
      ]
     },
     "execution_count": 95,
     "metadata": {},
     "output_type": "execute_result"
    }
   ],
   "source": [
    "\"1 2 3 4 5 6\".split(maxsplit=3)"
   ]
  },
  {
   "cell_type": "markdown",
   "id": "24abb396-0e41-4867-adb6-6b880e2fb4a6",
   "metadata": {},
   "source": [
    "**join():** The `join()` methods is the opposite of the `split()` method. It is used to join a list or tuple of strings into a single string using a given separator."
   ]
  },
  {
   "cell_type": "code",
   "execution_count": 96,
   "id": "91ac45be-981b-47ff-a020-72b492099855",
   "metadata": {},
   "outputs": [
    {
     "data": {
      "text/plain": [
       "'My name is John'"
      ]
     },
     "execution_count": 96,
     "metadata": {},
     "output_type": "execute_result"
    }
   ],
   "source": [
    "\" \".join(['My', 'name', 'is', 'John']) # Using space as separator"
   ]
  },
  {
   "cell_type": "code",
   "execution_count": 97,
   "id": "ff28ce1d-ba43-4476-93eb-df8838acb609",
   "metadata": {},
   "outputs": [
    {
     "data": {
      "text/plain": [
       "'A#B#C#D'"
      ]
     },
     "execution_count": 97,
     "metadata": {},
     "output_type": "execute_result"
    }
   ],
   "source": [
    "\"#\".join(['A', 'B', 'C', 'D']) # Using"
   ]
  },
  {
   "cell_type": "code",
   "execution_count": 98,
   "id": "794fc5fb-e712-45cc-8139-869dd28d824b",
   "metadata": {},
   "outputs": [
    {
     "data": {
      "text/plain": [
       "'My name is John.\\nMy age is 30.'"
      ]
     },
     "execution_count": 98,
     "metadata": {},
     "output_type": "execute_result"
    }
   ],
   "source": [
    "\"is\".join(['My name ', ' John.\\nMy age ', ' 30.'])"
   ]
  },
  {
   "cell_type": "markdown",
   "id": "9c516aef-c0b3-4dce-8ab8-15fbb1c2a0dc",
   "metadata": {},
   "source": [
    "**There are many more string functions. Even the functions shown above can make use of optional parameters. You can check them out from the external link given or from the Python documentation link.**"
   ]
  }
 ],
 "metadata": {
  "kernelspec": {
   "display_name": "Python 3",
   "language": "python",
   "name": "python3"
  },
  "language_info": {
   "codemirror_mode": {
    "name": "ipython",
    "version": 3
   },
   "file_extension": ".py",
   "mimetype": "text/x-python",
   "name": "python",
   "nbconvert_exporter": "python",
   "pygments_lexer": "ipython3",
   "version": "3.8.6"
  }
 },
 "nbformat": 4,
 "nbformat_minor": 5
}
