{
 "cells": [
  {
   "cell_type": "markdown",
   "id": "c9f4c21e-4d8d-4047-8998-55ac450b6cd5",
   "metadata": {},
   "source": [
    "<center><h1>Input Boolean & Math Functions</h1></center>"
   ]
  },
  {
   "cell_type": "markdown",
   "id": "e521f454-d7d3-4a72-be74-79e00e0c5403",
   "metadata": {},
   "source": [
    "## Input"
   ]
  },
  {
   "cell_type": "code",
   "execution_count": 3,
   "id": "826c3c18-ef8e-4019-a991-cd4233c789dd",
   "metadata": {},
   "outputs": [
    {
     "name": "stdin",
     "output_type": "stream",
     "text": [
      "Enter your name:  Michael\n"
     ]
    },
    {
     "name": "stdout",
     "output_type": "stream",
     "text": [
      "Hello Michael.\n"
     ]
    }
   ],
   "source": [
    "name = input(\"Enter your name: \")\n",
    "print(f\"Hello {name}.\")"
   ]
  },
  {
   "cell_type": "code",
   "execution_count": 4,
   "id": "3c46c0b6-4e18-46aa-a38c-517576e325ca",
   "metadata": {},
   "outputs": [
    {
     "name": "stdin",
     "output_type": "stream",
     "text": [
      " a\n"
     ]
    },
    {
     "data": {
      "text/plain": [
       "str"
      ]
     },
     "execution_count": 4,
     "metadata": {},
     "output_type": "execute_result"
    }
   ],
   "source": [
    "n = input()\n",
    "type(n)"
   ]
  },
  {
   "cell_type": "code",
   "execution_count": 8,
   "id": "34d64aea-b09c-445c-bc26-97b9c78a5c63",
   "metadata": {},
   "outputs": [
    {
     "name": "stdin",
     "output_type": "stream",
     "text": [
      "Enter your age:  19\n"
     ]
    },
    {
     "name": "stdout",
     "output_type": "stream",
     "text": [
      "Your age is 228 months.\n"
     ]
    }
   ],
   "source": [
    "age = int(input(\"Enter your age: \"))\n",
    "print(f\"Your age is {age * 12} months.\")"
   ]
  },
  {
   "cell_type": "markdown",
   "id": "1e57842c-415e-457f-8dea-d85ce191ae88",
   "metadata": {},
   "source": [
    "## Boolean Data Type"
   ]
  },
  {
   "cell_type": "code",
   "execution_count": 10,
   "id": "b6140313-4436-4cda-99ea-4830a807dc07",
   "metadata": {},
   "outputs": [
    {
     "name": "stdin",
     "output_type": "stream",
     "text": [
      "Enter age:  19\n"
     ]
    },
    {
     "name": "stdout",
     "output_type": "stream",
     "text": [
      "True\n",
      "False\n",
      "False\n"
     ]
    }
   ],
   "source": [
    "age = int(input(\"Enter age: \"))\n",
    "adult = age >= 18\n",
    "underage = age < 18\n",
    "eighteen = age == 18\n",
    "print(adult)\n",
    "print(underage)\n",
    "print(eighteen)"
   ]
  },
  {
   "cell_type": "code",
   "execution_count": 11,
   "id": "97ea7dc8-b36c-4bd4-84d4-4f6f1e47b5b7",
   "metadata": {},
   "outputs": [
    {
     "data": {
      "text/plain": [
       "True"
      ]
     },
     "execution_count": 11,
     "metadata": {},
     "output_type": "execute_result"
    }
   ],
   "source": [
    "bool(100)"
   ]
  },
  {
   "cell_type": "code",
   "execution_count": 12,
   "id": "d5345746-4861-47e6-9205-492f57d26aeb",
   "metadata": {},
   "outputs": [
    {
     "data": {
      "text/plain": [
       "False"
      ]
     },
     "execution_count": 12,
     "metadata": {},
     "output_type": "execute_result"
    }
   ],
   "source": [
    "bool(None)"
   ]
  },
  {
   "cell_type": "code",
   "execution_count": 13,
   "id": "9a732b73-af52-4fd6-af5e-0d612618ecdc",
   "metadata": {},
   "outputs": [
    {
     "data": {
      "text/plain": [
       "False"
      ]
     },
     "execution_count": 13,
     "metadata": {},
     "output_type": "execute_result"
    }
   ],
   "source": [
    "bool([])"
   ]
  },
  {
   "cell_type": "code",
   "execution_count": 14,
   "id": "21ed8e2f-1717-4bf0-84a3-e87981ee6549",
   "metadata": {},
   "outputs": [
    {
     "data": {
      "text/plain": [
       "False"
      ]
     },
     "execution_count": 14,
     "metadata": {},
     "output_type": "execute_result"
    }
   ],
   "source": [
    "bool(\"\")"
   ]
  },
  {
   "cell_type": "code",
   "execution_count": 17,
   "id": "6962a153-984a-40b4-8fea-565c7de3c0a0",
   "metadata": {},
   "outputs": [
    {
     "data": {
      "text/plain": [
       "True"
      ]
     },
     "execution_count": 17,
     "metadata": {},
     "output_type": "execute_result"
    }
   ],
   "source": [
    "bool(\"0\")"
   ]
  },
  {
   "cell_type": "markdown",
   "id": "ac8f66f5-f148-47fd-82a5-6160a5c4f4e5",
   "metadata": {},
   "source": [
    "## Logical Operator"
   ]
  },
  {
   "cell_type": "code",
   "execution_count": 19,
   "id": "3ea722d0-8954-4177-b6d1-58399884114e",
   "metadata": {},
   "outputs": [
    {
     "data": {
      "text/plain": [
       "'hello'"
      ]
     },
     "execution_count": 19,
     "metadata": {},
     "output_type": "execute_result"
    }
   ],
   "source": [
    "100 and \"hello\""
   ]
  },
  {
   "cell_type": "code",
   "execution_count": 20,
   "id": "98030b5f-2b7c-47f1-89df-a0596c58dd5e",
   "metadata": {},
   "outputs": [
    {
     "data": {
      "text/plain": [
       "True"
      ]
     },
     "execution_count": 20,
     "metadata": {},
     "output_type": "execute_result"
    }
   ],
   "source": [
    "\"hello\" and True"
   ]
  },
  {
   "cell_type": "code",
   "execution_count": 21,
   "id": "7bfa604f-3cc8-4e9e-aaab-3b7f2a75deac",
   "metadata": {},
   "outputs": [
    {
     "data": {
      "text/plain": [
       "'Hello'"
      ]
     },
     "execution_count": 21,
     "metadata": {},
     "output_type": "execute_result"
    }
   ],
   "source": [
    "True and \"Hello\""
   ]
  },
  {
   "cell_type": "code",
   "execution_count": 22,
   "id": "fed10467-1895-4b9d-8a2d-5b519ae22dbb",
   "metadata": {},
   "outputs": [
    {
     "data": {
      "text/plain": [
       "True"
      ]
     },
     "execution_count": 22,
     "metadata": {},
     "output_type": "execute_result"
    }
   ],
   "source": [
    "True or \"Hello\""
   ]
  },
  {
   "cell_type": "code",
   "execution_count": 23,
   "id": "b1163b5d-9514-461b-b582-3eb4eca0341a",
   "metadata": {},
   "outputs": [
    {
     "data": {
      "text/plain": [
       "233.37"
      ]
     },
     "execution_count": 23,
     "metadata": {},
     "output_type": "execute_result"
    }
   ],
   "source": [
    "abs(-233.37)"
   ]
  },
  {
   "cell_type": "code",
   "execution_count": 24,
   "id": "f18db3f3-3f7d-4e2a-8454-d1841122ed71",
   "metadata": {},
   "outputs": [
    {
     "data": {
      "text/plain": [
       "19"
      ]
     },
     "execution_count": 24,
     "metadata": {},
     "output_type": "execute_result"
    }
   ],
   "source": [
    "max(10, 2, 19, 5)"
   ]
  },
  {
   "cell_type": "code",
   "execution_count": 25,
   "id": "25ffced5-474a-46e4-8677-ffa845dc56b4",
   "metadata": {},
   "outputs": [
    {
     "data": {
      "text/plain": [
       "64"
      ]
     },
     "execution_count": 25,
     "metadata": {},
     "output_type": "execute_result"
    }
   ],
   "source": [
    "pow(4, 3)"
   ]
  },
  {
   "cell_type": "code",
   "execution_count": 26,
   "id": "5c204ddb-0e73-48e8-a3d8-bcadacfd7726",
   "metadata": {},
   "outputs": [
    {
     "data": {
      "text/plain": [
       "10"
      ]
     },
     "execution_count": 26,
     "metadata": {},
     "output_type": "execute_result"
    }
   ],
   "source": [
    "round(10.2578312)"
   ]
  },
  {
   "cell_type": "code",
   "execution_count": 29,
   "id": "4d05085d-bece-410a-bc2d-fed3e0409c55",
   "metadata": {},
   "outputs": [
    {
     "data": {
      "text/plain": [
       "10.258"
      ]
     },
     "execution_count": 29,
     "metadata": {},
     "output_type": "execute_result"
    }
   ],
   "source": [
    "round(10.2578312, 3)"
   ]
  },
  {
   "cell_type": "code",
   "execution_count": 31,
   "id": "82a2445b-a386-45f4-809e-9cdcaa34eea8",
   "metadata": {},
   "outputs": [
    {
     "data": {
      "text/plain": [
       "4"
      ]
     },
     "execution_count": 31,
     "metadata": {},
     "output_type": "execute_result"
    }
   ],
   "source": [
    "round(3.5)"
   ]
  },
  {
   "cell_type": "code",
   "execution_count": 41,
   "id": "d2a78f1f-2885-47a9-ae1e-a86b5646aff8",
   "metadata": {},
   "outputs": [
    {
     "data": {
      "text/plain": [
       "4"
      ]
     },
     "execution_count": 41,
     "metadata": {},
     "output_type": "execute_result"
    }
   ],
   "source": [
    "round(3.9)"
   ]
  },
  {
   "cell_type": "markdown",
   "id": "26c40156-2268-41e6-bd3b-0fad61a97cd7",
   "metadata": {},
   "source": [
    "## Math Functions"
   ]
  },
  {
   "cell_type": "code",
   "execution_count": 42,
   "id": "d4b6a520-264a-4895-937c-c04754b00a9d",
   "metadata": {},
   "outputs": [],
   "source": [
    "import math"
   ]
  },
  {
   "cell_type": "code",
   "execution_count": 43,
   "id": "99070545-2a0d-44d6-9186-f72fa826e1af",
   "metadata": {},
   "outputs": [
    {
     "data": {
      "text/plain": [
       "4"
      ]
     },
     "execution_count": 43,
     "metadata": {},
     "output_type": "execute_result"
    }
   ],
   "source": [
    "math.ceil(3.23)"
   ]
  },
  {
   "cell_type": "code",
   "execution_count": 44,
   "id": "e4bcb014-806a-419d-ba3e-601fbea103a5",
   "metadata": {},
   "outputs": [
    {
     "data": {
      "text/plain": [
       "3"
      ]
     },
     "execution_count": 44,
     "metadata": {},
     "output_type": "execute_result"
    }
   ],
   "source": [
    "math.floor(3.9)"
   ]
  },
  {
   "cell_type": "code",
   "execution_count": 48,
   "id": "81e15e1c-afdc-4908-b7bf-5e468cb2cd45",
   "metadata": {},
   "outputs": [
    {
     "data": {
      "text/plain": [
       "30414093201713378043612608166064768844377641568960512000000000000"
      ]
     },
     "execution_count": 48,
     "metadata": {},
     "output_type": "execute_result"
    }
   ],
   "source": [
    "math.factorial(50)"
   ]
  },
  {
   "cell_type": "code",
   "execution_count": 46,
   "id": "a527f0a6-dfa7-4abd-bc44-f0cbec958bdf",
   "metadata": {},
   "outputs": [
    {
     "data": {
      "text/plain": [
       "2"
      ]
     },
     "execution_count": 46,
     "metadata": {},
     "output_type": "execute_result"
    }
   ],
   "source": [
    "math.gcd(10, 24)"
   ]
  },
  {
   "cell_type": "code",
   "execution_count": 47,
   "id": "c39c7897-72a2-4320-88be-feb2062d3228",
   "metadata": {},
   "outputs": [
    {
     "data": {
      "text/plain": [
       "2.302585092994046"
      ]
     },
     "execution_count": 47,
     "metadata": {},
     "output_type": "execute_result"
    }
   ],
   "source": [
    "math.log(10)  #base e"
   ]
  },
  {
   "cell_type": "code",
   "execution_count": 49,
   "id": "85b3fef0-fc85-467c-bf4a-51edbcd9cf4c",
   "metadata": {},
   "outputs": [
    {
     "data": {
      "text/plain": [
       "3.321928094887362"
      ]
     },
     "execution_count": 49,
     "metadata": {},
     "output_type": "execute_result"
    }
   ],
   "source": [
    "math.log2(10)  #base 2"
   ]
  },
  {
   "cell_type": "code",
   "execution_count": 51,
   "id": "7ab62f28-0fd5-4558-9e3e-9c4dec2d5472",
   "metadata": {},
   "outputs": [
    {
     "data": {
      "text/plain": [
       "1.0"
      ]
     },
     "execution_count": 51,
     "metadata": {},
     "output_type": "execute_result"
    }
   ],
   "source": [
    "math.log10(10)  #base 10"
   ]
  },
  {
   "cell_type": "code",
   "execution_count": 53,
   "id": "d0776431-9eeb-405f-a172-cad32eca687c",
   "metadata": {},
   "outputs": [
    {
     "data": {
      "text/plain": [
       "2.3978952727983707"
      ]
     },
     "execution_count": 53,
     "metadata": {},
     "output_type": "execute_result"
    }
   ],
   "source": [
    "math.log1p(10)  #log1px = log(1 + x)"
   ]
  },
  {
   "cell_type": "code",
   "execution_count": 54,
   "id": "7234ad72-d52c-4a58-80eb-871a9d25cddb",
   "metadata": {},
   "outputs": [
    {
     "data": {
      "text/plain": [
       "2.3978952727983707"
      ]
     },
     "execution_count": 54,
     "metadata": {},
     "output_type": "execute_result"
    }
   ],
   "source": [
    "math.log(11)"
   ]
  },
  {
   "cell_type": "markdown",
   "id": "08f3b882-4991-4c60-b5d1-9f88fb882084",
   "metadata": {},
   "source": [
    "## Trigonometric Functions"
   ]
  },
  {
   "cell_type": "code",
   "execution_count": 60,
   "id": "ad512ffc-6efd-4577-aa4f-1134c4b7f7f8",
   "metadata": {},
   "outputs": [
    {
     "data": {
      "text/plain": [
       "0.8939966636005579"
      ]
     },
     "execution_count": 60,
     "metadata": {},
     "output_type": "execute_result"
    }
   ],
   "source": [
    "math.sin(90)  #90 is in radians"
   ]
  },
  {
   "cell_type": "code",
   "execution_count": 61,
   "id": "9eceafdd-1901-4c44-9c9a-21755b444016",
   "metadata": {},
   "outputs": [
    {
     "data": {
      "text/plain": [
       "1.0"
      ]
     },
     "execution_count": 61,
     "metadata": {},
     "output_type": "execute_result"
    }
   ],
   "source": [
    "math.sin(math.pi/2)"
   ]
  },
  {
   "cell_type": "code",
   "execution_count": 65,
   "id": "edee82f0-c915-45e7-805b-306624ecb312",
   "metadata": {},
   "outputs": [
    {
     "data": {
      "text/plain": [
       "0.8660254037844386"
      ]
     },
     "execution_count": 65,
     "metadata": {},
     "output_type": "execute_result"
    }
   ],
   "source": [
    "math.sin(math.radians(60))  #Converting 60 degrees to radians"
   ]
  },
  {
   "cell_type": "code",
   "execution_count": 66,
   "id": "c2723c8e-7869-46c7-b2d2-30e579ae8df2",
   "metadata": {},
   "outputs": [
    {
     "data": {
      "text/plain": [
       "180.0"
      ]
     },
     "execution_count": 66,
     "metadata": {},
     "output_type": "execute_result"
    }
   ],
   "source": [
    "math.degrees(math.pi)"
   ]
  },
  {
   "cell_type": "code",
   "execution_count": 68,
   "id": "4d0e2954-c79e-4fad-a267-a1843f02c947",
   "metadata": {},
   "outputs": [
    {
     "data": {
      "text/plain": [
       "2.718281828459045"
      ]
     },
     "execution_count": 68,
     "metadata": {},
     "output_type": "execute_result"
    }
   ],
   "source": [
    "math.e"
   ]
  },
  {
   "cell_type": "markdown",
   "id": "d8f7901e-7a87-46d2-b76e-235f53f3606b",
   "metadata": {},
   "source": [
    "<center><h1>List & Tuples</h1></center>"
   ]
  },
  {
   "cell_type": "markdown",
   "id": "eeae32d4-86f8-4745-ba33-9d8cd960d5b0",
   "metadata": {},
   "source": [
    "## List"
   ]
  },
  {
   "cell_type": "markdown",
   "id": "1b01b21e-7747-4c68-b583-11f39a8c23c5",
   "metadata": {},
   "source": [
    "### Create a List"
   ]
  },
  {
   "cell_type": "code",
   "execution_count": 21,
   "id": "f4b3f810-70d8-47fd-a380-d4b647222cdc",
   "metadata": {},
   "outputs": [],
   "source": [
    "names = [\"James\", \"Michael\", \"James\", \"John\", \"Kevin\"]"
   ]
  },
  {
   "cell_type": "code",
   "execution_count": 22,
   "id": "4ec4c310-3027-4ce2-8bc1-8447902e8786",
   "metadata": {},
   "outputs": [
    {
     "name": "stdout",
     "output_type": "stream",
     "text": [
      "['James', 'Michael', 'James', 'John', 'Kevin']\n"
     ]
    }
   ],
   "source": [
    "print(names)"
   ]
  },
  {
   "cell_type": "code",
   "execution_count": 23,
   "id": "fbd2425a-ce0c-4f82-bca7-605f46954889",
   "metadata": {},
   "outputs": [
    {
     "data": {
      "text/plain": [
       "list"
      ]
     },
     "execution_count": 23,
     "metadata": {},
     "output_type": "execute_result"
    }
   ],
   "source": [
    "type(names)"
   ]
  },
  {
   "cell_type": "markdown",
   "id": "d074f12b-783b-449b-be20-59de95e612cb",
   "metadata": {},
   "source": [
    "### Length of a List"
   ]
  },
  {
   "cell_type": "markdown",
   "id": "514f60b1-7235-48f0-808b-b6ef74ab6e2c",
   "metadata": {},
   "source": [
    "Using <code>len()</code>"
   ]
  },
  {
   "cell_type": "code",
   "execution_count": 24,
   "id": "ce3757a1-0e6d-4fc8-99b7-696f8a6aedaa",
   "metadata": {},
   "outputs": [
    {
     "data": {
      "text/plain": [
       "5"
      ]
     },
     "execution_count": 24,
     "metadata": {},
     "output_type": "execute_result"
    }
   ],
   "source": [
    "len(names)"
   ]
  },
  {
   "cell_type": "markdown",
   "id": "04037ec0-003c-4d21-9e41-ffea64fb18e2",
   "metadata": {},
   "source": [
    "## Bool"
   ]
  },
  {
   "cell_type": "code",
   "execution_count": 25,
   "id": "f53c2fc1-09a9-436c-beca-1f790baeec1c",
   "metadata": {},
   "outputs": [
    {
     "data": {
      "text/plain": [
       "False"
      ]
     },
     "execution_count": 25,
     "metadata": {},
     "output_type": "execute_result"
    }
   ],
   "source": [
    "bool([])"
   ]
  },
  {
   "cell_type": "code",
   "execution_count": 26,
   "id": "5170842c-5028-4225-995e-bb5803769e77",
   "metadata": {},
   "outputs": [
    {
     "data": {
      "text/plain": [
       "True"
      ]
     },
     "execution_count": 26,
     "metadata": {},
     "output_type": "execute_result"
    }
   ],
   "source": [
    "bool(names)"
   ]
  },
  {
   "cell_type": "markdown",
   "id": "cbe1f829-a31c-4b3e-9f6e-2b5e6279e69b",
   "metadata": {},
   "source": [
    "## List can contain any data type"
   ]
  },
  {
   "cell_type": "code",
   "execution_count": 27,
   "id": "37abfdb7-dfd2-4dfe-8f33-594b065412d2",
   "metadata": {},
   "outputs": [],
   "source": [
    "ar = [\"Hello\", 127, 127315.5154, True, [\"ABCD\", 3 + 5J], print]"
   ]
  },
  {
   "cell_type": "code",
   "execution_count": 28,
   "id": "45d7a992-64ff-40f4-abc9-e854c89aa5ed",
   "metadata": {},
   "outputs": [
    {
     "data": {
      "text/plain": [
       "'Hello'"
      ]
     },
     "execution_count": 28,
     "metadata": {},
     "output_type": "execute_result"
    }
   ],
   "source": [
    "ar[0]"
   ]
  },
  {
   "cell_type": "code",
   "execution_count": 29,
   "id": "f7a46c00-6a15-4a7b-a6d5-6dd823d4b834",
   "metadata": {},
   "outputs": [
    {
     "data": {
      "text/plain": [
       "<function print>"
      ]
     },
     "execution_count": 29,
     "metadata": {},
     "output_type": "execute_result"
    }
   ],
   "source": [
    "ar[-1]"
   ]
  },
  {
   "cell_type": "code",
   "execution_count": 30,
   "id": "35e56588-b6fd-4ec3-ac31-6d65cf09f72a",
   "metadata": {},
   "outputs": [
    {
     "name": "stdout",
     "output_type": "stream",
     "text": [
      "hello world\n"
     ]
    }
   ],
   "source": [
    "ar[-1](\"hello world\")"
   ]
  },
  {
   "cell_type": "code",
   "execution_count": 31,
   "id": "341e5429-6a5b-4c97-9a35-48e850f57778",
   "metadata": {},
   "outputs": [
    {
     "name": "stdout",
     "output_type": "stream",
     "text": [
      "Hello world\n"
     ]
    }
   ],
   "source": [
    "ar[5](\"Hello world\")"
   ]
  },
  {
   "cell_type": "code",
   "execution_count": 32,
   "id": "9a7f637c-0f38-44d2-b829-a831f6483663",
   "metadata": {},
   "outputs": [
    {
     "data": {
      "text/plain": [
       "['ABCD', (3+5j)]"
      ]
     },
     "execution_count": 32,
     "metadata": {},
     "output_type": "execute_result"
    }
   ],
   "source": [
    "ar[4]"
   ]
  },
  {
   "cell_type": "code",
   "execution_count": 33,
   "id": "de7fdd06-4713-44a4-a709-71e29af82edb",
   "metadata": {},
   "outputs": [
    {
     "data": {
      "text/plain": [
       "'ABCD'"
      ]
     },
     "execution_count": 33,
     "metadata": {},
     "output_type": "execute_result"
    }
   ],
   "source": [
    "ar[4][0]"
   ]
  },
  {
   "cell_type": "code",
   "execution_count": 34,
   "id": "5b380c1d-ebb3-44fb-996b-34016c08313d",
   "metadata": {},
   "outputs": [
    {
     "data": {
      "text/plain": [
       "'C'"
      ]
     },
     "execution_count": 34,
     "metadata": {},
     "output_type": "execute_result"
    }
   ],
   "source": [
    "ar[4][0][2]"
   ]
  },
  {
   "cell_type": "markdown",
   "id": "19e4a7bf-45a3-4016-a923-ac00dd26de3a",
   "metadata": {},
   "source": [
    "### Initialize List"
   ]
  },
  {
   "cell_type": "code",
   "execution_count": 35,
   "id": "c6cfa946-a1a5-45b1-8f5a-3595656a5009",
   "metadata": {},
   "outputs": [],
   "source": [
    "ar = [0]*10"
   ]
  },
  {
   "cell_type": "code",
   "execution_count": 36,
   "id": "a5d12e79-36ff-4df5-9503-1a526632e29a",
   "metadata": {},
   "outputs": [
    {
     "name": "stdout",
     "output_type": "stream",
     "text": [
      "[0, 0, 0, 0, 0, 0, 0, 0, 0, 0]\n"
     ]
    }
   ],
   "source": [
    "print(ar)"
   ]
  },
  {
   "cell_type": "code",
   "execution_count": 37,
   "id": "a054b2a4-7f82-40f7-ada2-d422c565625c",
   "metadata": {},
   "outputs": [],
   "source": [
    "ar = [True]*10"
   ]
  },
  {
   "cell_type": "code",
   "execution_count": 38,
   "id": "68889006-e7ca-4ff0-9298-917999fba8d7",
   "metadata": {},
   "outputs": [
    {
     "name": "stdout",
     "output_type": "stream",
     "text": [
      "[True, True, True, True, True, True, True, True, True, True]\n"
     ]
    }
   ],
   "source": [
    "print(ar)"
   ]
  },
  {
   "cell_type": "markdown",
   "id": "4ebcdf74-5dcb-4f66-89eb-ba3b1b38d8c8",
   "metadata": {},
   "source": [
    "## List Indexing and Slicing"
   ]
  },
  {
   "cell_type": "code",
   "execution_count": 39,
   "id": "4875609a-51e6-4419-8b47-2abbe22241cd",
   "metadata": {},
   "outputs": [
    {
     "data": {
      "text/plain": [
       "['James', 'Michael', 'James', 'John', 'Kevin']"
      ]
     },
     "execution_count": 39,
     "metadata": {},
     "output_type": "execute_result"
    }
   ],
   "source": [
    "names"
   ]
  },
  {
   "cell_type": "code",
   "execution_count": 40,
   "id": "06c03e49-2653-4c61-a995-9efc1c44eda1",
   "metadata": {},
   "outputs": [
    {
     "data": {
      "text/plain": [
       "'James'"
      ]
     },
     "execution_count": 40,
     "metadata": {},
     "output_type": "execute_result"
    }
   ],
   "source": [
    "names[0]"
   ]
  },
  {
   "cell_type": "code",
   "execution_count": 41,
   "id": "c74ead0f-a102-404f-9bee-7450504ddf3a",
   "metadata": {},
   "outputs": [
    {
     "data": {
      "text/plain": [
       "'John'"
      ]
     },
     "execution_count": 41,
     "metadata": {},
     "output_type": "execute_result"
    }
   ],
   "source": [
    "names[-2]"
   ]
  },
  {
   "cell_type": "code",
   "execution_count": 84,
   "id": "998c8a82-842f-428c-9633-ccd8f051325e",
   "metadata": {},
   "outputs": [],
   "source": [
    "ar = [23, 47, 10, 75, 66, 93, 37, 8]"
   ]
  },
  {
   "cell_type": "code",
   "execution_count": 85,
   "id": "da858503-2348-49ad-8980-da43eecf613a",
   "metadata": {},
   "outputs": [
    {
     "data": {
      "text/plain": [
       "[23, 47, 10, 75, 66, 93, 37]"
      ]
     },
     "execution_count": 85,
     "metadata": {},
     "output_type": "execute_result"
    }
   ],
   "source": [
    "ar[:7]"
   ]
  },
  {
   "cell_type": "code",
   "execution_count": 86,
   "id": "e36a34be-175d-49b8-bbdf-a2e0e8929528",
   "metadata": {},
   "outputs": [
    {
     "data": {
      "text/plain": [
       "[75, 66, 93, 37]"
      ]
     },
     "execution_count": 86,
     "metadata": {},
     "output_type": "execute_result"
    }
   ],
   "source": [
    "ar[3:7]"
   ]
  },
  {
   "cell_type": "code",
   "execution_count": 87,
   "id": "6e46489f-fdfc-4fb7-a2fa-ceea74d8a42a",
   "metadata": {},
   "outputs": [
    {
     "data": {
      "text/plain": [
       "[47, 66]"
      ]
     },
     "execution_count": 87,
     "metadata": {},
     "output_type": "execute_result"
    }
   ],
   "source": [
    "ar[1:7:3]"
   ]
  },
  {
   "cell_type": "code",
   "execution_count": 88,
   "id": "720f9e2c-4b20-4644-b815-1cbc61cae4fa",
   "metadata": {},
   "outputs": [
    {
     "data": {
      "text/plain": [
       "[23, 10, 66, 37]"
      ]
     },
     "execution_count": 88,
     "metadata": {},
     "output_type": "execute_result"
    }
   ],
   "source": [
    "ar[::2]"
   ]
  },
  {
   "cell_type": "markdown",
   "id": "16b6ba10-0aa0-4d0e-9344-15cbf47efcad",
   "metadata": {},
   "source": [
    "## Multidimensional List"
   ]
  },
  {
   "cell_type": "code",
   "execution_count": 89,
   "id": "75f9e498-9278-4702-94cf-1cec4c8f3346",
   "metadata": {},
   "outputs": [],
   "source": [
    "ages = [[\"James\", 20], [\"Michael\", 30], [\"John\", 40], [\"Kevin\", 50]]"
   ]
  },
  {
   "cell_type": "code",
   "execution_count": 90,
   "id": "2aed9205-66c4-41d9-8e6a-fd74807137a1",
   "metadata": {},
   "outputs": [
    {
     "data": {
      "text/plain": [
       "['James', 20]"
      ]
     },
     "execution_count": 90,
     "metadata": {},
     "output_type": "execute_result"
    }
   ],
   "source": [
    "ages[0]"
   ]
  },
  {
   "cell_type": "code",
   "execution_count": 91,
   "id": "50629edb-e594-4adf-b6cd-3084ac7b91b3",
   "metadata": {},
   "outputs": [
    {
     "data": {
      "text/plain": [
       "40"
      ]
     },
     "execution_count": 91,
     "metadata": {},
     "output_type": "execute_result"
    }
   ],
   "source": [
    "ages[2][1]"
   ]
  },
  {
   "cell_type": "code",
   "execution_count": 92,
   "id": "908858c8-fd52-42ea-98c8-9926a1324c60",
   "metadata": {},
   "outputs": [
    {
     "data": {
      "text/plain": [
       "'hael'"
      ]
     },
     "execution_count": 92,
     "metadata": {},
     "output_type": "execute_result"
    }
   ],
   "source": [
    "ages[1][0][3:]"
   ]
  },
  {
   "cell_type": "code",
   "execution_count": 93,
   "id": "ca3300d1-74bd-4173-a44e-745b65593aa8",
   "metadata": {},
   "outputs": [],
   "source": [
    "ar_3d = [[[1, 2, 3], [4, 5]], [1, [2, 3], [4]]]"
   ]
  },
  {
   "cell_type": "code",
   "execution_count": 94,
   "id": "d4a0b962-d3a5-47c0-a2ec-8f47a072534b",
   "metadata": {},
   "outputs": [
    {
     "data": {
      "text/plain": [
       "3"
      ]
     },
     "execution_count": 94,
     "metadata": {},
     "output_type": "execute_result"
    }
   ],
   "source": [
    "ar_3d[1][1][1]"
   ]
  },
  {
   "cell_type": "markdown",
   "id": "797e01e1-ac4d-418f-9f25-772d1371c0d6",
   "metadata": {},
   "source": [
    "## Change list values"
   ]
  },
  {
   "cell_type": "code",
   "execution_count": 95,
   "id": "f9f409db-c443-455e-9865-4483be51abd7",
   "metadata": {},
   "outputs": [
    {
     "data": {
      "text/plain": [
       "[23, 47, 10, 75, 66, 93, 37, 8]"
      ]
     },
     "execution_count": 95,
     "metadata": {},
     "output_type": "execute_result"
    }
   ],
   "source": [
    "ar"
   ]
  },
  {
   "cell_type": "code",
   "execution_count": 96,
   "id": "ce914016-dfb6-4180-b866-0903c053f120",
   "metadata": {},
   "outputs": [
    {
     "data": {
      "text/plain": [
       "23"
      ]
     },
     "execution_count": 96,
     "metadata": {},
     "output_type": "execute_result"
    }
   ],
   "source": [
    "ar[0]"
   ]
  },
  {
   "cell_type": "code",
   "execution_count": 97,
   "id": "3a115cc8-382a-4b6d-b217-7cbf43259bf8",
   "metadata": {},
   "outputs": [],
   "source": [
    "ar[0] = 100"
   ]
  },
  {
   "cell_type": "code",
   "execution_count": 98,
   "id": "96f084e2-4298-4ddf-b65d-acea3d3aba5e",
   "metadata": {},
   "outputs": [
    {
     "data": {
      "text/plain": [
       "[100, 47, 10, 75, 66, 93, 37, 8]"
      ]
     },
     "execution_count": 98,
     "metadata": {},
     "output_type": "execute_result"
    }
   ],
   "source": [
    "ar"
   ]
  },
  {
   "cell_type": "code",
   "execution_count": 99,
   "id": "cfd2adfd-9059-449a-9c39-aee602e6152f",
   "metadata": {},
   "outputs": [],
   "source": [
    "ar[1:3] = [10, 20]"
   ]
  },
  {
   "cell_type": "code",
   "execution_count": 100,
   "id": "4564a5c6-beef-4d55-8184-3b64214ce28b",
   "metadata": {},
   "outputs": [
    {
     "data": {
      "text/plain": [
       "[100, 10, 20, 75, 66, 93, 37, 8]"
      ]
     },
     "execution_count": 100,
     "metadata": {},
     "output_type": "execute_result"
    }
   ],
   "source": [
    "ar"
   ]
  },
  {
   "cell_type": "markdown",
   "id": "e7aba028-d8b6-4582-9274-25df07262bf1",
   "metadata": {},
   "source": [
    "## Merge List"
   ]
  },
  {
   "cell_type": "code",
   "execution_count": 101,
   "id": "fa6632f2-956e-4609-99a8-d6f1cbb95207",
   "metadata": {},
   "outputs": [],
   "source": [
    "ar1 = [10, 20, 70, 80]\n",
    "ar2 = [30, 40, 50, 60]"
   ]
  },
  {
   "cell_type": "code",
   "execution_count": 102,
   "id": "dcb1fdeb-1641-4835-8a7f-8ba98bec74d7",
   "metadata": {},
   "outputs": [
    {
     "data": {
      "text/plain": [
       "[10, 20, 70, 80, 30, 40, 50, 60]"
      ]
     },
     "execution_count": 102,
     "metadata": {},
     "output_type": "execute_result"
    }
   ],
   "source": [
    "ar1 + ar2"
   ]
  },
  {
   "cell_type": "code",
   "execution_count": 103,
   "id": "c48e6d4b-e6e1-46f4-ace9-1779c84c0dcc",
   "metadata": {},
   "outputs": [
    {
     "data": {
      "text/plain": [
       "[10, 20, 30, 40, 50, 60, 70, 80]"
      ]
     },
     "execution_count": 103,
     "metadata": {},
     "output_type": "execute_result"
    }
   ],
   "source": [
    "ar1[:2] + ar2 + ar1[2:]"
   ]
  },
  {
   "cell_type": "markdown",
   "id": "da12c6b6-840c-4025-8a4b-88b6addff5ec",
   "metadata": {},
   "source": [
    "### Zip"
   ]
  },
  {
   "cell_type": "markdown",
   "id": "d872ecaf-1351-4c4b-997f-8575b5b0aea6",
   "metadata": {},
   "source": [
    "Merge lists into list of tuples"
   ]
  },
  {
   "cell_type": "code",
   "execution_count": 104,
   "id": "431f491e-2771-4473-8e56-6651bb433886",
   "metadata": {},
   "outputs": [
    {
     "name": "stdout",
     "output_type": "stream",
     "text": [
      "[10, 20, 70, 80] [30, 40, 50, 60]\n"
     ]
    }
   ],
   "source": [
    "print(ar1, ar2)"
   ]
  },
  {
   "cell_type": "code",
   "execution_count": 105,
   "id": "8be9b72f-34d6-435b-a0fa-8465b1a7550d",
   "metadata": {},
   "outputs": [],
   "source": [
    "ar = list(zip(ar1, ar2))"
   ]
  },
  {
   "cell_type": "code",
   "execution_count": 106,
   "id": "4c29ee0b-b909-4f1f-85ab-67960b8181dd",
   "metadata": {},
   "outputs": [
    {
     "data": {
      "text/plain": [
       "[(10, 30), (20, 40), (70, 50), (80, 60)]"
      ]
     },
     "execution_count": 106,
     "metadata": {},
     "output_type": "execute_result"
    }
   ],
   "source": [
    "ar"
   ]
  },
  {
   "cell_type": "code",
   "execution_count": 107,
   "id": "5474c4a6-2592-479d-8ac6-c990a329ca5f",
   "metadata": {},
   "outputs": [
    {
     "data": {
      "text/plain": [
       "[('A', 80), ('B', 90), ('C', 85)]"
      ]
     },
     "execution_count": 107,
     "metadata": {},
     "output_type": "execute_result"
    }
   ],
   "source": [
    "names = [\"A\", \"B\", \"C\"]\n",
    "marks = [80, 90, 85]\n",
    "list(zip(names, marks))"
   ]
  },
  {
   "cell_type": "code",
   "execution_count": 108,
   "id": "d174b96b-b41b-4c50-b33e-c433528fc2d7",
   "metadata": {},
   "outputs": [
    {
     "data": {
      "text/plain": [
       "[(1, 10), (2, 20), (3, 30)]"
      ]
     },
     "execution_count": 108,
     "metadata": {},
     "output_type": "execute_result"
    }
   ],
   "source": [
    "list(zip([1, 2, 3], [10, 20, 30, 40, 50]))"
   ]
  },
  {
   "cell_type": "markdown",
   "id": "ffeb1f11-c97c-4578-9549-f8fe65e0b49a",
   "metadata": {},
   "source": [
    "## List Functions"
   ]
  },
  {
   "cell_type": "markdown",
   "id": "9c39cd4e-da32-4a71-bd3a-d77628db3fe9",
   "metadata": {},
   "source": [
    "### Insert Values"
   ]
  },
  {
   "cell_type": "code",
   "execution_count": 109,
   "id": "6e7c8070-8259-4f1f-a504-2df29a1b5589",
   "metadata": {},
   "outputs": [],
   "source": [
    "ar.append(7)"
   ]
  },
  {
   "cell_type": "code",
   "execution_count": 110,
   "id": "32dc7c09-e490-444f-83d5-39640dc2d5b3",
   "metadata": {},
   "outputs": [
    {
     "data": {
      "text/plain": [
       "[(10, 30), (20, 40), (70, 50), (80, 60), 7]"
      ]
     },
     "execution_count": 110,
     "metadata": {},
     "output_type": "execute_result"
    }
   ],
   "source": [
    "ar"
   ]
  },
  {
   "cell_type": "markdown",
   "id": "72149fe3-d90b-42bd-84b2-0b6430e596b5",
   "metadata": {},
   "source": [
    "The <code>extend()</code> method adds all the elements of an iterable to the end of the list"
   ]
  },
  {
   "cell_type": "code",
   "execution_count": 111,
   "id": "f670a866-1d18-45ab-b1ed-4b9d8f2eac90",
   "metadata": {},
   "outputs": [],
   "source": [
    "ar.extend([9, 10])"
   ]
  },
  {
   "cell_type": "code",
   "execution_count": 112,
   "id": "fd3fc560-eb53-44c3-a763-b0cf24100764",
   "metadata": {},
   "outputs": [
    {
     "data": {
      "text/plain": [
       "[(10, 30), (20, 40), (70, 50), (80, 60), 7, 9, 10]"
      ]
     },
     "execution_count": 112,
     "metadata": {},
     "output_type": "execute_result"
    }
   ],
   "source": [
    "ar"
   ]
  },
  {
   "cell_type": "markdown",
   "id": "70ece330-6099-48e6-8474-f149b402588c",
   "metadata": {},
   "source": [
    "Inserting values at a particular index"
   ]
  },
  {
   "cell_type": "code",
   "execution_count": 113,
   "id": "7cc9de35-bc5f-454a-a77f-e5497efa1a04",
   "metadata": {},
   "outputs": [],
   "source": [
    "ar.insert(4, 4.5)"
   ]
  },
  {
   "cell_type": "code",
   "execution_count": 114,
   "id": "6bfd01fc-9818-43cd-8b62-69dea8ce84bf",
   "metadata": {},
   "outputs": [
    {
     "data": {
      "text/plain": [
       "[(10, 30), (20, 40), (70, 50), (80, 60), 4.5, 7, 9, 10]"
      ]
     },
     "execution_count": 114,
     "metadata": {},
     "output_type": "execute_result"
    }
   ],
   "source": [
    "ar"
   ]
  },
  {
   "cell_type": "markdown",
   "id": "1de72bb8-f9b8-4c92-a679-297568ad4f1a",
   "metadata": {},
   "source": [
    "### Removing elements"
   ]
  },
  {
   "cell_type": "code",
   "execution_count": 115,
   "id": "c2a314f2-c7d9-4079-b3d2-5d0f1c105e92",
   "metadata": {},
   "outputs": [],
   "source": [
    "ar.remove(4.5)"
   ]
  },
  {
   "cell_type": "code",
   "execution_count": 116,
   "id": "8ecea048-1e04-49d8-98b3-d03e38c6783c",
   "metadata": {},
   "outputs": [
    {
     "data": {
      "text/plain": [
       "[(10, 30), (20, 40), (70, 50), (80, 60), 7, 9, 10]"
      ]
     },
     "execution_count": 116,
     "metadata": {},
     "output_type": "execute_result"
    }
   ],
   "source": [
    "ar"
   ]
  },
  {
   "cell_type": "code",
   "execution_count": 117,
   "id": "b226f744-1c63-4b84-ae96-abaa04184d35",
   "metadata": {},
   "outputs": [
    {
     "ename": "ValueError",
     "evalue": "list.remove(x): x not in list",
     "output_type": "error",
     "traceback": [
      "\u001b[1;31m---------------------------------------------------------------------------\u001b[0m",
      "\u001b[1;31mValueError\u001b[0m                                Traceback (most recent call last)",
      "\u001b[1;32m<ipython-input-117-019f8e51d98f>\u001b[0m in \u001b[0;36m<module>\u001b[1;34m\u001b[0m\n\u001b[1;32m----> 1\u001b[1;33m \u001b[0mar\u001b[0m\u001b[1;33m.\u001b[0m\u001b[0mremove\u001b[0m\u001b[1;33m(\u001b[0m\u001b[1;36m74\u001b[0m\u001b[1;33m)\u001b[0m\u001b[1;33m\u001b[0m\u001b[1;33m\u001b[0m\u001b[0m\n\u001b[0m",
      "\u001b[1;31mValueError\u001b[0m: list.remove(x): x not in list"
     ]
    }
   ],
   "source": [
    "ar.remove(74)"
   ]
  },
  {
   "cell_type": "markdown",
   "id": "a5f566f8-52ec-4c41-b00b-8c0b95f11c20",
   "metadata": {},
   "source": [
    "<code>pop()</code> Remove and return the last element of the list"
   ]
  },
  {
   "cell_type": "code",
   "execution_count": 118,
   "id": "e8116340-4e23-4620-8d98-edfec5d1d386",
   "metadata": {},
   "outputs": [
    {
     "data": {
      "text/plain": [
       "10"
      ]
     },
     "execution_count": 118,
     "metadata": {},
     "output_type": "execute_result"
    }
   ],
   "source": [
    "ar.pop()"
   ]
  },
  {
   "cell_type": "code",
   "execution_count": 119,
   "id": "de85dc54-07ee-444f-86ad-50311bdab973",
   "metadata": {},
   "outputs": [
    {
     "data": {
      "text/plain": [
       "[(10, 30), (20, 40), (70, 50), (80, 60), 7, 9]"
      ]
     },
     "execution_count": 119,
     "metadata": {},
     "output_type": "execute_result"
    }
   ],
   "source": [
    "ar"
   ]
  },
  {
   "cell_type": "markdown",
   "id": "9fc40ca9-29a2-4a10-8b52-ff9c91d36ffe",
   "metadata": {},
   "source": [
    "<code>pop(index)</code> -> Remove and return the element at given index"
   ]
  },
  {
   "cell_type": "code",
   "execution_count": 120,
   "id": "c48f7139-bfa2-44fc-bff8-a1a4f3aa0626",
   "metadata": {},
   "outputs": [
    {
     "data": {
      "text/plain": [
       "7"
      ]
     },
     "execution_count": 120,
     "metadata": {},
     "output_type": "execute_result"
    }
   ],
   "source": [
    "ar.pop(-2)"
   ]
  },
  {
   "cell_type": "code",
   "execution_count": 121,
   "id": "b7ada1d6-a7d0-422b-abf5-f023b514c04a",
   "metadata": {},
   "outputs": [
    {
     "data": {
      "text/plain": [
       "[(10, 30), (20, 40), (70, 50), (80, 60), 9]"
      ]
     },
     "execution_count": 121,
     "metadata": {},
     "output_type": "execute_result"
    }
   ],
   "source": [
    "ar"
   ]
  },
  {
   "cell_type": "markdown",
   "id": "eafceaca-d135-4db5-af60-d22c24be445b",
   "metadata": {},
   "source": [
    "<code>clear()</code> -> Remove all elements"
   ]
  },
  {
   "cell_type": "code",
   "execution_count": 122,
   "id": "e8f6da29-94cf-460d-8d4d-9fc0738a4373",
   "metadata": {},
   "outputs": [],
   "source": [
    "ar.clear()"
   ]
  },
  {
   "cell_type": "markdown",
   "id": "6115b562-8fd0-4217-b9dc-550e05d97cf9",
   "metadata": {},
   "source": [
    "### Find Element"
   ]
  },
  {
   "cell_type": "code",
   "execution_count": 123,
   "id": "2a703afd-4be2-4a2b-acf2-13dc2185b638",
   "metadata": {},
   "outputs": [],
   "source": [
    "ar = [10, 20, 30, 40, 50, 60]"
   ]
  },
  {
   "cell_type": "code",
   "execution_count": 125,
   "id": "b0a0baab-db40-4d95-9ae0-110d391f131e",
   "metadata": {},
   "outputs": [
    {
     "data": {
      "text/plain": [
       "2"
      ]
     },
     "execution_count": 125,
     "metadata": {},
     "output_type": "execute_result"
    }
   ],
   "source": [
    "ar.index(30)  #returns first occurrence"
   ]
  },
  {
   "cell_type": "markdown",
   "id": "20836cb1-a073-40db-99f5-0e6574f3387a",
   "metadata": {},
   "source": [
    "**ValueError if element does not exist**"
   ]
  },
  {
   "cell_type": "code",
   "execution_count": 126,
   "id": "70c0b23a-ebb4-4e7f-b629-3c6a09e590e7",
   "metadata": {},
   "outputs": [
    {
     "ename": "ValueError",
     "evalue": "300 is not in list",
     "output_type": "error",
     "traceback": [
      "\u001b[1;31m---------------------------------------------------------------------------\u001b[0m",
      "\u001b[1;31mValueError\u001b[0m                                Traceback (most recent call last)",
      "\u001b[1;32m<ipython-input-126-ac0ab47a4ccc>\u001b[0m in \u001b[0;36m<module>\u001b[1;34m\u001b[0m\n\u001b[1;32m----> 1\u001b[1;33m \u001b[0mar\u001b[0m\u001b[1;33m.\u001b[0m\u001b[0mindex\u001b[0m\u001b[1;33m(\u001b[0m\u001b[1;36m300\u001b[0m\u001b[1;33m)\u001b[0m\u001b[1;33m\u001b[0m\u001b[1;33m\u001b[0m\u001b[0m\n\u001b[0m",
      "\u001b[1;31mValueError\u001b[0m: 300 is not in list"
     ]
    }
   ],
   "source": [
    "ar.index(300)"
   ]
  },
  {
   "cell_type": "markdown",
   "id": "d94e2beb-b499-4069-b333-3329c0176618",
   "metadata": {},
   "source": [
    "### Check if element exists in array"
   ]
  },
  {
   "cell_type": "code",
   "execution_count": 127,
   "id": "e6ec5f56-2f06-414b-b62e-f514604ca524",
   "metadata": {},
   "outputs": [
    {
     "data": {
      "text/plain": [
       "True"
      ]
     },
     "execution_count": 127,
     "metadata": {},
     "output_type": "execute_result"
    }
   ],
   "source": [
    "30 in ar"
   ]
  },
  {
   "cell_type": "code",
   "execution_count": 128,
   "id": "1dec6abc-bf6d-47e0-8f15-6a3ad7916fe0",
   "metadata": {},
   "outputs": [
    {
     "data": {
      "text/plain": [
       "False"
      ]
     },
     "execution_count": 128,
     "metadata": {},
     "output_type": "execute_result"
    }
   ],
   "source": [
    "30 not in ar"
   ]
  },
  {
   "cell_type": "markdown",
   "id": "94271827-5361-4efe-801c-8e351a22507d",
   "metadata": {},
   "source": [
    "### Count"
   ]
  },
  {
   "cell_type": "markdown",
   "id": "01660955-8e2b-4275-9154-431b38de0efb",
   "metadata": {},
   "source": [
    "Counts the number of occurrences of an element in a list using <code>count(variable)</code>"
   ]
  },
  {
   "cell_type": "code",
   "execution_count": 130,
   "id": "8aa9b238-cd57-446c-afab-4487e3234f53",
   "metadata": {},
   "outputs": [],
   "source": [
    "ar = [10, 20, 30, 20, 10, 30, 10, 40, 50, 10]"
   ]
  },
  {
   "cell_type": "code",
   "execution_count": 131,
   "id": "81d299ac-4aa4-4687-86e3-b7c046558287",
   "metadata": {},
   "outputs": [
    {
     "data": {
      "text/plain": [
       "4"
      ]
     },
     "execution_count": 131,
     "metadata": {},
     "output_type": "execute_result"
    }
   ],
   "source": [
    "ar.count(10)"
   ]
  },
  {
   "cell_type": "code",
   "execution_count": 132,
   "id": "9229b437-3de0-4786-8ee0-d40e2c7652d5",
   "metadata": {},
   "outputs": [
    {
     "data": {
      "text/plain": [
       "0"
      ]
     },
     "execution_count": 132,
     "metadata": {},
     "output_type": "execute_result"
    }
   ],
   "source": [
    "ar.count(100)"
   ]
  },
  {
   "cell_type": "markdown",
   "id": "b1658cc0-ccc1-4175-a92e-1b6c629f867a",
   "metadata": {},
   "source": [
    "### Sort List values"
   ]
  },
  {
   "cell_type": "markdown",
   "id": "fa84aaf2-cc08-49f2-bbef-e545da5f3800",
   "metadata": {},
   "source": [
    "<code>sort()</code> & <code>sorted()</code>"
   ]
  },
  {
   "cell_type": "markdown",
   "id": "a9f3abcd-8af0-41e9-86bb-da71a09f150d",
   "metadata": {},
   "source": [
    "Sorted will not sort the original list. Instead returns a sorted copy of the array"
   ]
  },
  {
   "cell_type": "code",
   "execution_count": 133,
   "id": "c05aa340-542f-4b7a-ad0c-83d28a0bd6ba",
   "metadata": {},
   "outputs": [
    {
     "name": "stdout",
     "output_type": "stream",
     "text": [
      "Original: [10, 20, 30, 20, 10, 30, 10, 40, 50, 10]\n",
      "Sorted: [10, 10, 10, 10, 20, 20, 30, 30, 40, 50]\n"
     ]
    }
   ],
   "source": [
    "print(f\"Original: {ar}\\nSorted: {sorted(ar)}\")"
   ]
  },
  {
   "cell_type": "code",
   "execution_count": 134,
   "id": "f6a07935-bd48-4326-ba2c-a21b091f9c4f",
   "metadata": {},
   "outputs": [
    {
     "data": {
      "text/plain": [
       "[10, 20, 30, 20, 10, 30, 10, 40, 50, 10]"
      ]
     },
     "execution_count": 134,
     "metadata": {},
     "output_type": "execute_result"
    }
   ],
   "source": [
    "ar"
   ]
  },
  {
   "cell_type": "markdown",
   "id": "5b4afee3-e207-4a7e-a6f7-eeb5e1387f41",
   "metadata": {},
   "source": [
    "<code>ar.sort()</code> -> Will sort the array (returns None)"
   ]
  },
  {
   "cell_type": "code",
   "execution_count": 138,
   "id": "4dc71689-f899-4c50-99e8-8f79ae1a98f5",
   "metadata": {},
   "outputs": [
    {
     "name": "stdout",
     "output_type": "stream",
     "text": [
      "[10, 10, 10, 10, 20, 20, 30, 30, 40, 50]\n"
     ]
    }
   ],
   "source": [
    "ar.sort()\n",
    "print(ar)"
   ]
  },
  {
   "cell_type": "markdown",
   "id": "086c33a6-b8bd-4116-890f-1d909abf350c",
   "metadata": {},
   "source": [
    "## Reversing a list"
   ]
  },
  {
   "cell_type": "markdown",
   "id": "43b97b82-563e-450c-a446-e744161c8cb9",
   "metadata": {},
   "source": [
    "<code>reversed()</code> & <code>ar.reverse()</code>"
   ]
  },
  {
   "cell_type": "code",
   "execution_count": 141,
   "id": "fa866fab-9f13-4368-a65b-511dcb7aab24",
   "metadata": {},
   "outputs": [
    {
     "data": {
      "text/plain": [
       "[50, 40, 30, 30, 20, 20, 10, 10, 10, 10]"
      ]
     },
     "execution_count": 141,
     "metadata": {},
     "output_type": "execute_result"
    }
   ],
   "source": [
    "list(reversed(ar))"
   ]
  },
  {
   "cell_type": "code",
   "execution_count": 142,
   "id": "d275d6ab-d924-4388-b2ac-ffdfc82f5cd0",
   "metadata": {},
   "outputs": [
    {
     "data": {
      "text/plain": [
       "[50, 40, 30, 30, 20, 20, 10, 10, 10, 10]"
      ]
     },
     "execution_count": 142,
     "metadata": {},
     "output_type": "execute_result"
    }
   ],
   "source": [
    "ar.reverse()\n",
    "ar"
   ]
  },
  {
   "cell_type": "markdown",
   "id": "54b189f2-a9e9-4962-8406-8a200e0fd41c",
   "metadata": {},
   "source": [
    "### Reverse using slicing"
   ]
  },
  {
   "cell_type": "code",
   "execution_count": 146,
   "id": "c2b3ad76-3d68-4af7-84c3-cba9d343a995",
   "metadata": {},
   "outputs": [
    {
     "data": {
      "text/plain": [
       "[10, 10, 10, 10, 20, 20, 30, 30, 40, 50]"
      ]
     },
     "execution_count": 146,
     "metadata": {},
     "output_type": "execute_result"
    }
   ],
   "source": [
    "ar[::-1]"
   ]
  },
  {
   "cell_type": "markdown",
   "id": "70dd06c9-4a6e-4632-a239-444fbc99cc6c",
   "metadata": {},
   "source": [
    "### Copy"
   ]
  },
  {
   "cell_type": "code",
   "execution_count": 148,
   "id": "b11644d1-df4c-4a01-bb50-de845bf9528d",
   "metadata": {},
   "outputs": [
    {
     "name": "stdout",
     "output_type": "stream",
     "text": [
      "[10, 20]\n",
      "[10, 20]\n"
     ]
    }
   ],
   "source": [
    "ar1 = [10, 20, 30]\n",
    "ar2 = ar1\n",
    "ar1.pop()\n",
    "print(ar1)\n",
    "print(ar2)"
   ]
  },
  {
   "cell_type": "code",
   "execution_count": 150,
   "id": "7fc904ea-4570-4d50-8416-6166a0c4d603",
   "metadata": {},
   "outputs": [
    {
     "name": "stdout",
     "output_type": "stream",
     "text": [
      "[10, 20]\n",
      "[10, 20, 30]\n"
     ]
    }
   ],
   "source": [
    "ar1 = [10, 20, 30]\n",
    "ar2 = ar1.copy()\n",
    "ar1.pop()\n",
    "print(ar1)\n",
    "print(ar2)"
   ]
  },
  {
   "cell_type": "markdown",
   "id": "d60e92b6-d07c-4a68-bb64-170e2802d757",
   "metadata": {},
   "source": [
    "<code>copy()</code> will only work for 1D list. For 2D, use <code>deepcopy()</code>"
   ]
  },
  {
   "cell_type": "markdown",
   "id": "d00763f1-dc06-4797-ba38-9d5d929c8209",
   "metadata": {},
   "source": [
    "## List Input"
   ]
  },
  {
   "cell_type": "code",
   "execution_count": 152,
   "id": "605ed7fc-d084-4b45-9476-4d599fc6dfce",
   "metadata": {},
   "outputs": [
    {
     "name": "stdin",
     "output_type": "stream",
     "text": [
      "Enter the list:  10 20 30\n"
     ]
    }
   ],
   "source": [
    "ar = list(map(int, input(\"Enter the list: \").split()))"
   ]
  },
  {
   "cell_type": "code",
   "execution_count": 153,
   "id": "1d83097a-81fe-4db2-9820-a518a7592331",
   "metadata": {},
   "outputs": [
    {
     "data": {
      "text/plain": [
       "[10, 20, 30]"
      ]
     },
     "execution_count": 153,
     "metadata": {},
     "output_type": "execute_result"
    }
   ],
   "source": [
    "ar"
   ]
  },
  {
   "cell_type": "markdown",
   "id": "e5baec76-f160-4a69-afc9-fdbe4d2a844c",
   "metadata": {},
   "source": [
    "#### You can use any function in map"
   ]
  },
  {
   "cell_type": "code",
   "execution_count": 154,
   "id": "74a48457-be22-4c68-990a-820c7a5a7dfa",
   "metadata": {},
   "outputs": [],
   "source": [
    "import math\n",
    "ar2 = list(map(math.sqrt, ar))"
   ]
  },
  {
   "cell_type": "code",
   "execution_count": 155,
   "id": "2ec41fa3-8682-4b6b-99f5-dc82b7ede5d8",
   "metadata": {},
   "outputs": [
    {
     "data": {
      "text/plain": [
       "[3.1622776601683795, 4.47213595499958, 5.477225575051661]"
      ]
     },
     "execution_count": 155,
     "metadata": {},
     "output_type": "execute_result"
    }
   ],
   "source": [
    "ar2"
   ]
  },
  {
   "cell_type": "markdown",
   "id": "a4ee51c2-5622-4b70-8290-9ecebe41dbbe",
   "metadata": {},
   "source": [
    "# Tuples"
   ]
  },
  {
   "cell_type": "markdown",
   "id": "37caa2e7-4dbe-4f93-9e09-ec80dfbd7fd3",
   "metadata": {},
   "source": [
    "## Create"
   ]
  },
  {
   "cell_type": "code",
   "execution_count": 156,
   "id": "a892a8b2-8e7d-4d51-9f96-f1aa6d64a55d",
   "metadata": {},
   "outputs": [],
   "source": [
    "t = (10, 20, 30)"
   ]
  },
  {
   "cell_type": "code",
   "execution_count": 157,
   "id": "ea2f62f4-c18c-4d02-8136-2d21d2481f07",
   "metadata": {},
   "outputs": [
    {
     "data": {
      "text/plain": [
       "tuple"
      ]
     },
     "execution_count": 157,
     "metadata": {},
     "output_type": "execute_result"
    }
   ],
   "source": [
    "type(t)"
   ]
  },
  {
   "cell_type": "code",
   "execution_count": 158,
   "id": "c803d24e-bbf3-4c3e-b5eb-4920d12ac0de",
   "metadata": {},
   "outputs": [
    {
     "name": "stdout",
     "output_type": "stream",
     "text": [
      "(10, 20, 30)\n"
     ]
    }
   ],
   "source": [
    "print(t)"
   ]
  },
  {
   "cell_type": "markdown",
   "id": "5c7df8b9-0072-4eb2-8b07-5d130b789c1a",
   "metadata": {},
   "source": [
    "You can create tuples without paranthesis"
   ]
  },
  {
   "cell_type": "code",
   "execution_count": 160,
   "id": "bacd1bd8-5625-4960-96a9-40e4238947dc",
   "metadata": {},
   "outputs": [
    {
     "data": {
      "text/plain": [
       "tuple"
      ]
     },
     "execution_count": 160,
     "metadata": {},
     "output_type": "execute_result"
    }
   ],
   "source": [
    "t = 10, 20, 30\n",
    "type(t)"
   ]
  },
  {
   "cell_type": "markdown",
   "id": "c9ce05fc-5225-41e8-9c59-de5bb431e08e",
   "metadata": {},
   "source": [
    "To create a tuple with single element, include a final comma"
   ]
  },
  {
   "cell_type": "code",
   "execution_count": 163,
   "id": "4a62b3a1-1831-4f6e-a230-38724e6a2223",
   "metadata": {},
   "outputs": [
    {
     "name": "stdout",
     "output_type": "stream",
     "text": [
      "(10,)\n"
     ]
    }
   ],
   "source": [
    "t = (10,)\n",
    "print(t)\n",
    "#if final comma not given, python assumes it to be a mathematical expression"
   ]
  },
  {
   "cell_type": "markdown",
   "id": "f6b9a797-3f20-4130-adce-14174a6f2561",
   "metadata": {},
   "source": [
    "#### We can convert other data types into tuple"
   ]
  },
  {
   "cell_type": "code",
   "execution_count": 164,
   "id": "dc14ce7e-4b15-43da-9fc0-daddea8adbe6",
   "metadata": {},
   "outputs": [
    {
     "data": {
      "text/plain": [
       "('H', 'e', 'l', 'l', 'o', ' ', 'W', 'o', 'r', 'l', 'd')"
      ]
     },
     "execution_count": 164,
     "metadata": {},
     "output_type": "execute_result"
    }
   ],
   "source": [
    "tuple(\"Hello World\")"
   ]
  },
  {
   "cell_type": "code",
   "execution_count": 165,
   "id": "aeb83403-5ae1-4d20-8a58-11418c706389",
   "metadata": {},
   "outputs": [
    {
     "data": {
      "text/plain": [
       "(10, 20, 30)"
      ]
     },
     "execution_count": 165,
     "metadata": {},
     "output_type": "execute_result"
    }
   ],
   "source": [
    "tuple([10, 20, 30])"
   ]
  },
  {
   "cell_type": "code",
   "execution_count": 166,
   "id": "6b52cca0-712a-498c-b893-57041c170b6e",
   "metadata": {},
   "outputs": [
    {
     "data": {
      "text/plain": [
       "(10, 20, 30)"
      ]
     },
     "execution_count": 166,
     "metadata": {},
     "output_type": "execute_result"
    }
   ],
   "source": [
    "tuple({10, 20, 30})"
   ]
  },
  {
   "cell_type": "markdown",
   "id": "5e5a9866-3492-468c-979e-016fc899f8bd",
   "metadata": {},
   "source": [
    "### Length"
   ]
  },
  {
   "cell_type": "code",
   "execution_count": 167,
   "id": "6cd11fb3-c431-4996-8da7-4d20bc8202b2",
   "metadata": {},
   "outputs": [
    {
     "data": {
      "text/plain": [
       "3"
      ]
     },
     "execution_count": 167,
     "metadata": {},
     "output_type": "execute_result"
    }
   ],
   "source": [
    "t = (10, 20, 30)\n",
    "len(t)"
   ]
  },
  {
   "cell_type": "markdown",
   "id": "504eac2f-6d8f-4788-a8a0-1c9fa4297f7f",
   "metadata": {},
   "source": [
    "### Immutable"
   ]
  },
  {
   "cell_type": "code",
   "execution_count": 168,
   "id": "e153bc7b-51bc-4e91-bb1e-9b990f93a931",
   "metadata": {},
   "outputs": [],
   "source": [
    "t = (10, 20, 30, 40, 50)"
   ]
  },
  {
   "cell_type": "code",
   "execution_count": 169,
   "id": "07ffd061-cc27-454c-af11-cb0235df1369",
   "metadata": {},
   "outputs": [
    {
     "ename": "TypeError",
     "evalue": "'tuple' object does not support item assignment",
     "output_type": "error",
     "traceback": [
      "\u001b[1;31m---------------------------------------------------------------------------\u001b[0m",
      "\u001b[1;31mTypeError\u001b[0m                                 Traceback (most recent call last)",
      "\u001b[1;32m<ipython-input-169-e6cf7836e708>\u001b[0m in \u001b[0;36m<module>\u001b[1;34m\u001b[0m\n\u001b[1;32m----> 1\u001b[1;33m \u001b[0mt\u001b[0m\u001b[1;33m[\u001b[0m\u001b[1;36m0\u001b[0m\u001b[1;33m]\u001b[0m \u001b[1;33m=\u001b[0m \u001b[1;36m100\u001b[0m\u001b[1;33m\u001b[0m\u001b[1;33m\u001b[0m\u001b[0m\n\u001b[0m",
      "\u001b[1;31mTypeError\u001b[0m: 'tuple' object does not support item assignment"
     ]
    }
   ],
   "source": [
    "t[0] = 100"
   ]
  },
  {
   "cell_type": "code",
   "execution_count": 170,
   "id": "967c1c1f-4fae-4f4f-9048-08eb53649cfc",
   "metadata": {},
   "outputs": [
    {
     "data": {
      "text/plain": [
       "(100, 20, 30, 40, 50)"
      ]
     },
     "execution_count": 170,
     "metadata": {},
     "output_type": "execute_result"
    }
   ],
   "source": [
    "#Overwriting is possible\n",
    "t = (100,) + t[1:]\n",
    "t"
   ]
  },
  {
   "cell_type": "markdown",
   "id": "9cd1bb6c-d1ab-4a5f-acad-92e26ef96773",
   "metadata": {},
   "source": [
    "### Unpacking Tuple"
   ]
  },
  {
   "cell_type": "code",
   "execution_count": 171,
   "id": "ba5041f6-471e-4b37-b736-d70ed99445dd",
   "metadata": {},
   "outputs": [
    {
     "name": "stdout",
     "output_type": "stream",
     "text": [
      "10\n",
      "20\n"
     ]
    }
   ],
   "source": [
    "a, b = (10, 20)\n",
    "print(a)\n",
    "print(b)"
   ]
  },
  {
   "cell_type": "markdown",
   "id": "c520a212-5d25-4fe1-a28c-d52024480a0a",
   "metadata": {},
   "source": [
    "We can use another variable with <code>*</code> if we want rest of the elements to be stored in one variable"
   ]
  },
  {
   "cell_type": "code",
   "execution_count": 172,
   "id": "df9fc1f1-8747-4f08-8eff-678b38c79e04",
   "metadata": {},
   "outputs": [
    {
     "name": "stdout",
     "output_type": "stream",
     "text": [
      "10\n",
      "20\n",
      "[30, 40, 50, 60, 70]\n"
     ]
    }
   ],
   "source": [
    "a, b, *c= (10, 20, 30, 40, 50, 60, 70)\n",
    "print(a)\n",
    "print(b)\n",
    "print(c)"
   ]
  },
  {
   "cell_type": "code",
   "execution_count": null,
   "id": "105a62f8-54b0-48f4-bf23-61651e2912a8",
   "metadata": {},
   "outputs": [],
   "source": []
  }
 ],
 "metadata": {
  "kernelspec": {
   "display_name": "Python 3",
   "language": "python",
   "name": "python3"
  },
  "language_info": {
   "codemirror_mode": {
    "name": "ipython",
    "version": 3
   },
   "file_extension": ".py",
   "mimetype": "text/x-python",
   "name": "python",
   "nbconvert_exporter": "python",
   "pygments_lexer": "ipython3",
   "version": "3.8.6"
  }
 },
 "nbformat": 4,
 "nbformat_minor": 5
}
