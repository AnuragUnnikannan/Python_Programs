{
 "cells": [
  {
   "cell_type": "markdown",
   "id": "19e28308-c81e-4252-bb1a-14a1e8d829f9",
   "metadata": {},
   "source": [
    "# Numpy\n",
    "\n",
    "Numpy is a Linear algebra for python. Other data science libraries rely on numpy. Numpy arrays can be divided into vectors and matrices. Numpy has the ability to quickly broadcast functions. It has built in linear algebra, statistical distribution, trigonometric and random number capabilities."
   ]
  },
  {
   "cell_type": "code",
   "execution_count": 1,
   "id": "dbf51e5b-fb65-465e-98eb-5bacf73fbd82",
   "metadata": {},
   "outputs": [],
   "source": [
    "import numpy as np"
   ]
  },
  {
   "cell_type": "markdown",
   "id": "c69eeeed-fea7-415e-9b66-655e2c78448c",
   "metadata": {},
   "source": [
    "## Creating numpy array"
   ]
  },
  {
   "cell_type": "code",
   "execution_count": 2,
   "id": "b58b4e92-1c8d-4531-99b1-10e63fa140f6",
   "metadata": {},
   "outputs": [
    {
     "name": "stdout",
     "output_type": "stream",
     "text": [
      "[0 1 2 3]\n"
     ]
    }
   ],
   "source": [
    "my_list = [0, 1, 2, 3]  #list\n",
    "ar = np.array(my_list)\n",
    "print(ar)"
   ]
  },
  {
   "cell_type": "code",
   "execution_count": 4,
   "id": "d43d5bdd-a59d-413b-b1e0-0952c8063e77",
   "metadata": {},
   "outputs": [
    {
     "data": {
      "text/plain": [
       "dtype('int32')"
      ]
     },
     "execution_count": 4,
     "metadata": {},
     "output_type": "execute_result"
    }
   ],
   "source": [
    "ar.dtype  #data type of array"
   ]
  },
  {
   "cell_type": "code",
   "execution_count": 6,
   "id": "781675a2-6d41-4e2c-ad0c-1f20b476b2da",
   "metadata": {},
   "outputs": [
    {
     "data": {
      "text/plain": [
       "(4,)"
      ]
     },
     "execution_count": 6,
     "metadata": {},
     "output_type": "execute_result"
    }
   ],
   "source": [
    "ar.shape  #shape/dimension of array. returns a tuple"
   ]
  },
  {
   "cell_type": "code",
   "execution_count": 7,
   "id": "004d66c1-a190-4fd6-9314-638e4187099f",
   "metadata": {},
   "outputs": [
    {
     "name": "stdout",
     "output_type": "stream",
     "text": [
      "[[1 2 3]\n",
      " [4 5 6]\n",
      " [7 8 9]]\n"
     ]
    }
   ],
   "source": [
    "# matrix\n",
    "my_list = [\n",
    "    [1, 2, 3],\n",
    "    [4, 5, 6],\n",
    "    [7, 8, 9]\n",
    "]\n",
    "ar = np.array(my_list)\n",
    "print(ar)"
   ]
  },
  {
   "cell_type": "code",
   "execution_count": 8,
   "id": "7f40e19f-704e-466b-8d13-b3e89cac9830",
   "metadata": {},
   "outputs": [
    {
     "data": {
      "text/plain": [
       "(3, 3)"
      ]
     },
     "execution_count": 8,
     "metadata": {},
     "output_type": "execute_result"
    }
   ],
   "source": [
    "ar.shape"
   ]
  },
  {
   "cell_type": "markdown",
   "id": "aee46905-412e-412e-af0f-198d34d270e4",
   "metadata": {},
   "source": [
    "## arange()"
   ]
  },
  {
   "cell_type": "code",
   "execution_count": 9,
   "id": "bf20dfc7-db74-40c4-b97d-de9cf6a14b37",
   "metadata": {},
   "outputs": [
    {
     "data": {
      "text/plain": [
       "array([0, 1, 2, 3, 4])"
      ]
     },
     "execution_count": 9,
     "metadata": {},
     "output_type": "execute_result"
    }
   ],
   "source": [
    "np.arange(5)"
   ]
  },
  {
   "cell_type": "code",
   "execution_count": 10,
   "id": "dd10a83c-f8c8-4876-a5ca-1b237a9b70cb",
   "metadata": {},
   "outputs": [
    {
     "data": {
      "text/plain": [
       "array([ 5,  6,  7,  8,  9, 10, 11, 12, 13, 14])"
      ]
     },
     "execution_count": 10,
     "metadata": {},
     "output_type": "execute_result"
    }
   ],
   "source": [
    "np.arange(5, 15)"
   ]
  },
  {
   "cell_type": "code",
   "execution_count": 11,
   "id": "f57d51ad-a2fc-4c5a-b8c0-3f15c9f2121e",
   "metadata": {},
   "outputs": [
    {
     "data": {
      "text/plain": [
       "array([ 5,  7,  9, 11, 13, 15, 17, 19])"
      ]
     },
     "execution_count": 11,
     "metadata": {},
     "output_type": "execute_result"
    }
   ],
   "source": [
    "np.arange(5, 20, 2)"
   ]
  },
  {
   "cell_type": "markdown",
   "id": "9ee46d0e-dfd9-4e98-ba8a-edb6fa2e9b65",
   "metadata": {},
   "source": [
    "## zeros()"
   ]
  },
  {
   "cell_type": "markdown",
   "id": "186ccd23-0485-43a1-a584-a4c2bfc8a89f",
   "metadata": {},
   "source": [
    "1. np.zeros(n) -> vector with n zeros\n",
    "2. np.zeros((m, n)) -> Matrix with m rows and n columns"
   ]
  },
  {
   "cell_type": "code",
   "execution_count": 19,
   "id": "02616a89-c2c8-47c9-9859-54769b534f77",
   "metadata": {},
   "outputs": [
    {
     "data": {
      "text/plain": [
       "array([0., 0., 0., 0., 0., 0., 0., 0., 0., 0.])"
      ]
     },
     "execution_count": 19,
     "metadata": {},
     "output_type": "execute_result"
    }
   ],
   "source": [
    "np.zeros(10)"
   ]
  },
  {
   "cell_type": "code",
   "execution_count": 26,
   "id": "8a5a57cf-d534-49cb-bc89-52ad8ea644c6",
   "metadata": {},
   "outputs": [
    {
     "data": {
      "text/plain": [
       "array([0, 0, 0, 0, 0, 0, 0, 0, 0, 0], dtype=uint8)"
      ]
     },
     "execution_count": 26,
     "metadata": {},
     "output_type": "execute_result"
    }
   ],
   "source": [
    "np.zeros(10, dtype=np.uint8)"
   ]
  },
  {
   "cell_type": "code",
   "execution_count": 20,
   "id": "c57adaee-569b-4022-9c4d-9b8afe66666c",
   "metadata": {},
   "outputs": [
    {
     "data": {
      "text/plain": [
       "array([[0., 0., 0., 0., 0., 0., 0.],\n",
       "       [0., 0., 0., 0., 0., 0., 0.],\n",
       "       [0., 0., 0., 0., 0., 0., 0.],\n",
       "       [0., 0., 0., 0., 0., 0., 0.],\n",
       "       [0., 0., 0., 0., 0., 0., 0.]])"
      ]
     },
     "execution_count": 20,
     "metadata": {},
     "output_type": "execute_result"
    }
   ],
   "source": [
    "np.zeros((5, 7))  #The dimension will be in a tuple"
   ]
  },
  {
   "cell_type": "code",
   "execution_count": 21,
   "id": "91f44781-412c-4d94-a469-61114cdeb7c4",
   "metadata": {},
   "outputs": [
    {
     "data": {
      "text/plain": [
       "array([0, 0, 0, 0, 0, 0, 0, 0, 0, 0], dtype=uint8)"
      ]
     },
     "execution_count": 21,
     "metadata": {},
     "output_type": "execute_result"
    }
   ],
   "source": [
    "# specify the data type (optional)\n",
    "np.zeros(10, dtype=np.uint8)\n",
    "\n",
    "#Here we are specifying the data as unsigned 8 bit integer (range of 0 to 255)\n",
    "# let's compare the size with float64\n",
    "#using a same amount space, if the float64 can store 1 image then  uint8 can store 72057594037927936 images"
   ]
  },
  {
   "cell_type": "markdown",
   "id": "00e87850-a850-42a3-9ce7-02ff0308654a",
   "metadata": {},
   "source": [
    "## ones()"
   ]
  },
  {
   "cell_type": "code",
   "execution_count": 22,
   "id": "4df9e84f-7b73-4a67-aa83-08402e8709fe",
   "metadata": {},
   "outputs": [
    {
     "data": {
      "text/plain": [
       "array([1., 1., 1., 1., 1., 1., 1., 1., 1., 1.])"
      ]
     },
     "execution_count": 22,
     "metadata": {},
     "output_type": "execute_result"
    }
   ],
   "source": [
    "np.ones(10)"
   ]
  },
  {
   "cell_type": "markdown",
   "id": "66f6a2cd-77f0-46f6-b089-1ce331c8b2c4",
   "metadata": {},
   "source": [
    "## linspace(start, end, n)\n",
    "creates n no. of equally spaced values from start to end both included."
   ]
  },
  {
   "cell_type": "code",
   "execution_count": 28,
   "id": "aae96914-e05b-4910-b1c5-6d6a689db8b1",
   "metadata": {},
   "outputs": [
    {
     "data": {
      "text/plain": [
       "array([0.  , 1.25, 2.5 , 3.75, 5.  ])"
      ]
     },
     "execution_count": 28,
     "metadata": {},
     "output_type": "execute_result"
    }
   ],
   "source": [
    "np.linspace(0, 5, 5)"
   ]
  },
  {
   "cell_type": "code",
   "execution_count": 29,
   "id": "e17b8c9f-a58d-4728-89cf-d6f251884b3e",
   "metadata": {},
   "outputs": [
    {
     "data": {
      "text/plain": [
       "array([ 0.,  1.,  2.,  3.,  4.,  5.,  6.,  7.,  8.,  9., 10.])"
      ]
     },
     "execution_count": 29,
     "metadata": {},
     "output_type": "execute_result"
    }
   ],
   "source": [
    "np.linspace(0, 10, 11)"
   ]
  },
  {
   "cell_type": "code",
   "execution_count": 31,
   "id": "7c316a4b-c8d3-4350-b8bf-cc8d38a1d7e8",
   "metadata": {},
   "outputs": [
    {
     "data": {
      "text/plain": [
       "array([1.        , 1.04545455, 1.09090909, 1.13636364, 1.18181818,\n",
       "       1.22727273, 1.27272727, 1.31818182, 1.36363636, 1.40909091,\n",
       "       1.45454545, 1.5       , 1.54545455, 1.59090909, 1.63636364,\n",
       "       1.68181818, 1.72727273, 1.77272727, 1.81818182, 1.86363636,\n",
       "       1.90909091, 1.95454545, 2.        ])"
      ]
     },
     "execution_count": 31,
     "metadata": {},
     "output_type": "execute_result"
    }
   ],
   "source": [
    "np.linspace(1, 2, 23)"
   ]
  },
  {
   "cell_type": "markdown",
   "id": "a27e84c1-a3fa-4127-ad21-2b1b503c389c",
   "metadata": {},
   "source": [
    "## Identity Matrix: eye(n)"
   ]
  },
  {
   "cell_type": "code",
   "execution_count": 32,
   "id": "ae11ac24-a2ac-4dff-b7e5-ee72c6cfed59",
   "metadata": {},
   "outputs": [
    {
     "data": {
      "text/plain": [
       "array([[1., 0., 0., 0., 0.],\n",
       "       [0., 1., 0., 0., 0.],\n",
       "       [0., 0., 1., 0., 0.],\n",
       "       [0., 0., 0., 1., 0.],\n",
       "       [0., 0., 0., 0., 1.]])"
      ]
     },
     "execution_count": 32,
     "metadata": {},
     "output_type": "execute_result"
    }
   ],
   "source": [
    "np.eye(5)"
   ]
  },
  {
   "cell_type": "markdown",
   "id": "dcdc5436-d614-44ad-85de-2ecacb3f890f",
   "metadata": {},
   "source": [
    "## Random Functions"
   ]
  },
  {
   "cell_type": "markdown",
   "id": "9e6ba952-52c7-48a2-860c-196fb664b0f2",
   "metadata": {},
   "source": [
    "### randn"
   ]
  },
  {
   "cell_type": "code",
   "execution_count": 34,
   "id": "d580489e-17f5-4206-b224-42e94ed1d243",
   "metadata": {},
   "outputs": [
    {
     "data": {
      "text/plain": [
       "array([-1.70215702, -0.72859909,  0.93534885, -0.77472187,  1.04100224,\n",
       "        0.08377871,  0.19471071, -1.00589156, -2.43812312, -0.8261593 ])"
      ]
     },
     "execution_count": 34,
     "metadata": {},
     "output_type": "execute_result"
    }
   ],
   "source": [
    "np.random.randn(10)  #10 values taken from a normal distribution\n",
    "# normal distribution has a mean of 0 and std of 1"
   ]
  },
  {
   "cell_type": "code",
   "execution_count": 38,
   "id": "d16c59cf-2e80-4cf9-9684-7acea0143141",
   "metadata": {},
   "outputs": [
    {
     "data": {
      "text/plain": [
       "array([[-0.24175003,  0.62640425, -1.54487503, -0.97910455, -0.26291312],\n",
       "       [-2.1904026 ,  0.3456324 , -2.4195524 ,  0.17566475,  1.23407768],\n",
       "       [ 0.39815301, -0.48417199,  0.02572452, -0.2744416 , -0.00797852]])"
      ]
     },
     "execution_count": 38,
     "metadata": {},
     "output_type": "execute_result"
    }
   ],
   "source": [
    "np.random.randn(3, 5)  #tuple not used"
   ]
  },
  {
   "cell_type": "code",
   "execution_count": 40,
   "id": "dcf98a13-6256-4003-a65e-80666c7af6d9",
   "metadata": {},
   "outputs": [
    {
     "name": "stdout",
     "output_type": "stream",
     "text": [
      "-0.32376092237662696 0.41663353040401013\n"
     ]
    }
   ],
   "source": [
    "ar = np.random.randn(10)\n",
    "print(ar.mean(), ar.std())"
   ]
  },
  {
   "cell_type": "markdown",
   "id": "66b8a5d9-0e2c-4fb2-b56d-53dae01832f6",
   "metadata": {},
   "source": [
    "### rand"
   ]
  },
  {
   "cell_type": "code",
   "execution_count": 37,
   "id": "90e7f3e9-01df-4618-9040-f1854aedadd2",
   "metadata": {},
   "outputs": [
    {
     "data": {
      "text/plain": [
       "array([0.63759675, 0.35350264, 0.54145932, 0.85011101, 0.37077308,\n",
       "       0.40859466, 0.03659617, 0.07639579, 0.44569437, 0.79334619])"
      ]
     },
     "execution_count": 37,
     "metadata": {},
     "output_type": "execute_result"
    }
   ],
   "source": [
    "np.random.rand(10)  #10 values taken from a uniform distribution\n",
    "# Uniform distribution -> all values in range [0, 1) is equally likely"
   ]
  },
  {
   "cell_type": "code",
   "execution_count": 41,
   "id": "a24689f7-fa50-457b-b79c-fe4963c10c94",
   "metadata": {},
   "outputs": [
    {
     "data": {
      "text/plain": [
       "array([[0.34094247, 0.1024553 , 0.84701048, 0.48721148, 0.82449298],\n",
       "       [0.40258745, 0.49133687, 0.63354498, 0.16318485, 0.41683809],\n",
       "       [0.82608052, 0.65059034, 0.54190593, 0.42703977, 0.01052327]])"
      ]
     },
     "execution_count": 41,
     "metadata": {},
     "output_type": "execute_result"
    }
   ],
   "source": [
    "np.random.rand(3, 5)"
   ]
  },
  {
   "cell_type": "markdown",
   "id": "22d809bd-ae78-4bad-9c4b-3327254eb1cc",
   "metadata": {},
   "source": [
    "### randint(start, end, size)"
   ]
  },
  {
   "cell_type": "code",
   "execution_count": 42,
   "id": "cc6c333b-e6cb-4944-b6b7-d4f541395f8a",
   "metadata": {},
   "outputs": [
    {
     "data": {
      "text/plain": [
       "array([18, 95, 27, 11, 76, 54, 77,  0, 28, 23, 86, 59, 80, 18, 13, 53, 37,\n",
       "       41, 80, 84, 67, 95, 46, 22, 55, 17,  1, 21, 56, 19, 22,  2, 67, 55,\n",
       "       92, 40, 61, 10, 27,  1, 27, 86,  7, 60,  8, 49, 24, 97, 60, 40])"
      ]
     },
     "execution_count": 42,
     "metadata": {},
     "output_type": "execute_result"
    }
   ],
   "source": [
    "#random integers in the range [start, end]\n",
    "np.random.randint(0, 100, 50)  #50 values in the range of 0 to 99"
   ]
  },
  {
   "cell_type": "code",
   "execution_count": 43,
   "id": "f328fe45-7407-4247-addf-3a569c652100",
   "metadata": {},
   "outputs": [
    {
     "data": {
      "text/plain": [
       "array([[70, 97, 26, 12, 80],\n",
       "       [27, 62, 56, 36, 36],\n",
       "       [84, 36, 57, 52, 23],\n",
       "       [30, 60,  8, 61, 37],\n",
       "       [82, 11,  4, 63, 97]])"
      ]
     },
     "execution_count": 43,
     "metadata": {},
     "output_type": "execute_result"
    }
   ],
   "source": [
    "np.random.randint(0, 100, (5, 5))"
   ]
  },
  {
   "cell_type": "code",
   "execution_count": 44,
   "id": "c293d116-b192-4855-8f0c-7bb1377388cb",
   "metadata": {},
   "outputs": [
    {
     "data": {
      "text/plain": [
       "array([[[33, 82, 89, 96, 10],\n",
       "        [94, 14, 53, 52,  0],\n",
       "        [78, 71, 48,  9, 26],\n",
       "        [88,  3, 86,  6, 21],\n",
       "        [84, 23,  6, 54, 50]],\n",
       "\n",
       "       [[27, 94, 42, 29, 74],\n",
       "        [60, 22,  8,  2, 58],\n",
       "        [ 8, 93, 96, 88, 26],\n",
       "        [35, 51, 53, 89, 11],\n",
       "        [48, 58, 13,  4, 45]]])"
      ]
     },
     "execution_count": 44,
     "metadata": {},
     "output_type": "execute_result"
    }
   ],
   "source": [
    "np.random.randint(0, 100, (2, 5, 5))"
   ]
  },
  {
   "cell_type": "markdown",
   "id": "5ef50ad0-6e12-45de-8009-9b9de6dde2de",
   "metadata": {},
   "source": [
    "### random()"
   ]
  },
  {
   "cell_type": "code",
   "execution_count": 45,
   "id": "863cce32-a281-484b-a557-13333b68ffda",
   "metadata": {},
   "outputs": [
    {
     "data": {
      "text/plain": [
       "0.2449520239942461"
      ]
     },
     "execution_count": 45,
     "metadata": {},
     "output_type": "execute_result"
    }
   ],
   "source": [
    "np.random.random()  # A single real number in the range [0, 1)"
   ]
  },
  {
   "cell_type": "code",
   "execution_count": 46,
   "id": "146edecd-3c81-4b2d-95b5-256c793e381a",
   "metadata": {},
   "outputs": [
    {
     "data": {
      "text/plain": [
       "array([1.90290538e-01, 5.57336662e-01, 2.56325673e-01, 4.87296763e-01,\n",
       "       4.12370091e-04, 9.31214076e-01, 7.59246651e-01, 7.79453581e-02,\n",
       "       9.02186336e-01, 6.42805310e-01])"
      ]
     },
     "execution_count": 46,
     "metadata": {},
     "output_type": "execute_result"
    }
   ],
   "source": [
    "np.random.random(10)"
   ]
  },
  {
   "cell_type": "code",
   "execution_count": 47,
   "id": "601310cc-c591-443e-b6b8-238b66ac3710",
   "metadata": {},
   "outputs": [
    {
     "data": {
      "text/plain": [
       "array([[0.052852  , 0.1380643 , 0.86273756, 0.20136468, 0.64351441],\n",
       "       [0.09850097, 0.85273373, 0.91334605, 0.69268064, 0.43010545],\n",
       "       [0.70374912, 0.45152427, 0.47701135, 0.66170132, 0.7735795 ]])"
      ]
     },
     "execution_count": 47,
     "metadata": {},
     "output_type": "execute_result"
    }
   ],
   "source": [
    "np.random.random((3, 5))"
   ]
  },
  {
   "cell_type": "markdown",
   "id": "14d4083e-5861-4a99-b965-825795449c4f",
   "metadata": {},
   "source": [
    "## Numpy Array Properties and Methods"
   ]
  },
  {
   "cell_type": "code",
   "execution_count": 48,
   "id": "be77c5ce-03c3-4045-a576-43d29febbf4b",
   "metadata": {},
   "outputs": [
    {
     "data": {
      "text/plain": [
       "array([10, 20,  5,  7, 19, 26, 17])"
      ]
     },
     "execution_count": 48,
     "metadata": {},
     "output_type": "execute_result"
    }
   ],
   "source": [
    "ar = np.array([10, 20, 5, 7, 19, 26, 17])\n",
    "ar"
   ]
  },
  {
   "cell_type": "code",
   "execution_count": 49,
   "id": "381a3cfa-eb18-4311-8619-70ce37eee92a",
   "metadata": {},
   "outputs": [
    {
     "data": {
      "text/plain": [
       "26"
      ]
     },
     "execution_count": 49,
     "metadata": {},
     "output_type": "execute_result"
    }
   ],
   "source": [
    "ar.max()"
   ]
  },
  {
   "cell_type": "code",
   "execution_count": 50,
   "id": "893537f8-82c1-43b8-8448-1906c4a785d9",
   "metadata": {},
   "outputs": [
    {
     "data": {
      "text/plain": [
       "5"
      ]
     },
     "execution_count": 50,
     "metadata": {},
     "output_type": "execute_result"
    }
   ],
   "source": [
    "ar.min()"
   ]
  },
  {
   "cell_type": "code",
   "execution_count": 51,
   "id": "a322b982-113b-4fee-b4d4-70bfe379aec0",
   "metadata": {},
   "outputs": [
    {
     "data": {
      "text/plain": [
       "5"
      ]
     },
     "execution_count": 51,
     "metadata": {},
     "output_type": "execute_result"
    }
   ],
   "source": [
    "ar.argmax()  #index of largest value"
   ]
  },
  {
   "cell_type": "code",
   "execution_count": 52,
   "id": "98762667-e1ed-43c6-9765-b544e4f32ebd",
   "metadata": {},
   "outputs": [
    {
     "data": {
      "text/plain": [
       "2"
      ]
     },
     "execution_count": 52,
     "metadata": {},
     "output_type": "execute_result"
    }
   ],
   "source": [
    "ar.argmin()  #index of smallest value"
   ]
  },
  {
   "cell_type": "code",
   "execution_count": 53,
   "id": "b7cc7076-ffad-4d73-a865-28603a4ca916",
   "metadata": {},
   "outputs": [
    {
     "data": {
      "text/plain": [
       "104"
      ]
     },
     "execution_count": 53,
     "metadata": {},
     "output_type": "execute_result"
    }
   ],
   "source": [
    "ar.sum()  #sum of all values"
   ]
  },
  {
   "cell_type": "code",
   "execution_count": 54,
   "id": "06f7c22b-5816-47c2-9f46-10e63ff847c3",
   "metadata": {},
   "outputs": [
    {
     "data": {
      "text/plain": [
       "(7,)"
      ]
     },
     "execution_count": 54,
     "metadata": {},
     "output_type": "execute_result"
    }
   ],
   "source": [
    "ar.shape  #property for dimension"
   ]
  },
  {
   "cell_type": "markdown",
   "id": "778900cb-2aff-4aca-8907-91d557af0b11",
   "metadata": {},
   "source": [
    "### Reshape & Resize"
   ]
  },
  {
   "cell_type": "code",
   "execution_count": 55,
   "id": "c8950e65-d1da-478f-9d74-2f1e0dfd473a",
   "metadata": {},
   "outputs": [],
   "source": [
    "ar = np.random.rand(24)"
   ]
  },
  {
   "cell_type": "code",
   "execution_count": 56,
   "id": "6c32fad5-cb0c-4cae-a9c4-fec974f5d18d",
   "metadata": {},
   "outputs": [
    {
     "data": {
      "text/plain": [
       "(24,)"
      ]
     },
     "execution_count": 56,
     "metadata": {},
     "output_type": "execute_result"
    }
   ],
   "source": [
    "ar.shape"
   ]
  },
  {
   "cell_type": "code",
   "execution_count": 59,
   "id": "0764b4e2-a34b-4ac2-8b5e-640e65193297",
   "metadata": {},
   "outputs": [],
   "source": [
    "ar = ar.reshape(8, 3)\n",
    "# 8*3 = 24. The new shape should have the same number of elements as old shape\n",
    "# ar.reshape() does not odify the original array, but returns the modified array"
   ]
  },
  {
   "cell_type": "code",
   "execution_count": 60,
   "id": "93fd35ff-f431-4a1f-8535-020d34c94e87",
   "metadata": {},
   "outputs": [
    {
     "data": {
      "text/plain": [
       "array([[0.88487462, 0.69380641, 0.63134197],\n",
       "       [0.6781184 , 0.92974015, 0.45254061],\n",
       "       [0.23620726, 0.46090278, 0.16307584],\n",
       "       [0.01565957, 0.31519582, 0.752768  ],\n",
       "       [0.1882306 , 0.68318982, 0.16799281],\n",
       "       [0.01908443, 0.55173259, 0.19214897],\n",
       "       [0.42581525, 0.84217985, 0.48779722],\n",
       "       [0.27471096, 0.31582097, 0.60706187]])"
      ]
     },
     "execution_count": 60,
     "metadata": {},
     "output_type": "execute_result"
    }
   ],
   "source": [
    "ar"
   ]
  },
  {
   "cell_type": "code",
   "execution_count": 65,
   "id": "70ba31d4-5977-4937-a788-f041d113ffe4",
   "metadata": {},
   "outputs": [],
   "source": [
    "#alternative\n",
    "ar.resize(8, 3)\n",
    "# 8*3 = 24. The new shape should have the same number of elements as old shape\n",
    "# ar.resize() modifies the original array\n",
    "# it returns none"
   ]
  },
  {
   "cell_type": "code",
   "execution_count": 66,
   "id": "84d749df-a1d2-4778-aefc-65fd3bea87d1",
   "metadata": {},
   "outputs": [
    {
     "data": {
      "text/plain": [
       "(8, 3)"
      ]
     },
     "execution_count": 66,
     "metadata": {},
     "output_type": "execute_result"
    }
   ],
   "source": [
    "ar.shape"
   ]
  },
  {
   "cell_type": "code",
   "execution_count": 67,
   "id": "f59b6b9b-63c8-44a5-b22a-1c26af9eea0f",
   "metadata": {},
   "outputs": [
    {
     "data": {
      "text/plain": [
       "array([[0.88487462, 0.69380641, 0.63134197],\n",
       "       [0.6781184 , 0.92974015, 0.45254061],\n",
       "       [0.23620726, 0.46090278, 0.16307584],\n",
       "       [0.01565957, 0.31519582, 0.752768  ],\n",
       "       [0.1882306 , 0.68318982, 0.16799281],\n",
       "       [0.01908443, 0.55173259, 0.19214897],\n",
       "       [0.42581525, 0.84217985, 0.48779722],\n",
       "       [0.27471096, 0.31582097, 0.60706187]])"
      ]
     },
     "execution_count": 67,
     "metadata": {},
     "output_type": "execute_result"
    }
   ],
   "source": [
    "ar"
   ]
  },
  {
   "cell_type": "code",
   "execution_count": 68,
   "id": "1d7b9348-fe90-4fbb-a723-4cad26f641dc",
   "metadata": {},
   "outputs": [
    {
     "data": {
      "text/plain": [
       "0.4570831990171544"
      ]
     },
     "execution_count": 68,
     "metadata": {},
     "output_type": "execute_result"
    }
   ],
   "source": [
    "ar.mean()  #average"
   ]
  },
  {
   "cell_type": "code",
   "execution_count": 69,
   "id": "bd5ac04a-4971-487f-aa95-30d258485899",
   "metadata": {},
   "outputs": [
    {
     "data": {
      "text/plain": [
       "0.2648307799254992"
      ]
     },
     "execution_count": 69,
     "metadata": {},
     "output_type": "execute_result"
    }
   ],
   "source": [
    "ar.std()  #standard deviation"
   ]
  },
  {
   "cell_type": "code",
   "execution_count": 70,
   "id": "c5cb0f13-340c-4872-8613-fd59c57be3d1",
   "metadata": {},
   "outputs": [],
   "source": [
    "ar.sort()  #will sort the original array"
   ]
  },
  {
   "cell_type": "code",
   "execution_count": 71,
   "id": "60c0fe7b-dafe-4d18-a3a6-56af3f97fe72",
   "metadata": {},
   "outputs": [
    {
     "data": {
      "text/plain": [
       "array([[0.63134197, 0.69380641, 0.88487462],\n",
       "       [0.45254061, 0.6781184 , 0.92974015],\n",
       "       [0.16307584, 0.23620726, 0.46090278],\n",
       "       [0.01565957, 0.31519582, 0.752768  ],\n",
       "       [0.16799281, 0.1882306 , 0.68318982],\n",
       "       [0.01908443, 0.19214897, 0.55173259],\n",
       "       [0.42581525, 0.48779722, 0.84217985],\n",
       "       [0.27471096, 0.31582097, 0.60706187]])"
      ]
     },
     "execution_count": 71,
     "metadata": {},
     "output_type": "execute_result"
    }
   ],
   "source": [
    "ar"
   ]
  },
  {
   "cell_type": "code",
   "execution_count": 75,
   "id": "435b9cfa-0d72-4177-a6d4-eeb7a087e293",
   "metadata": {},
   "outputs": [
    {
     "name": "stdout",
     "output_type": "stream",
     "text": [
      "[0.01565957 0.01908443 0.16307584 0.16799281 0.1882306  0.19214897\n",
      " 0.23620726 0.27471096 0.31519582 0.31582097 0.42581525 0.45254061\n",
      " 0.46090278 0.48779722 0.55173259 0.60706187 0.63134197 0.6781184\n",
      " 0.68318982 0.69380641 0.752768   0.84217985 0.88487462 0.92974015]\n"
     ]
    }
   ],
   "source": [
    "ar.resize(24)\n",
    "ar.sort()\n",
    "print(ar)"
   ]
  },
  {
   "cell_type": "markdown",
   "id": "51bd5008-f49b-427d-9b0e-9e1b30a6f7cd",
   "metadata": {},
   "source": [
    "## Indexing & Slicing"
   ]
  },
  {
   "cell_type": "code",
   "execution_count": 76,
   "id": "c7b5b5d0-6d7f-4254-8518-ed8c5c48bd39",
   "metadata": {},
   "outputs": [],
   "source": [
    "ar = np.arange(0, 11)"
   ]
  },
  {
   "cell_type": "code",
   "execution_count": 77,
   "id": "d4a55fe7-e3a7-4038-a1b7-0f3883e85c93",
   "metadata": {},
   "outputs": [
    {
     "data": {
      "text/plain": [
       "array([ 0,  1,  2,  3,  4,  5,  6,  7,  8,  9, 10])"
      ]
     },
     "execution_count": 77,
     "metadata": {},
     "output_type": "execute_result"
    }
   ],
   "source": [
    "ar"
   ]
  },
  {
   "cell_type": "code",
   "execution_count": 78,
   "id": "b4cf4f66-e4e9-441a-8807-82069ac1a539",
   "metadata": {},
   "outputs": [
    {
     "data": {
      "text/plain": [
       "10"
      ]
     },
     "execution_count": 78,
     "metadata": {},
     "output_type": "execute_result"
    }
   ],
   "source": [
    "ar[-1]"
   ]
  },
  {
   "cell_type": "code",
   "execution_count": 79,
   "id": "6c3e1e61-77ba-4f1d-99aa-c7481b315408",
   "metadata": {},
   "outputs": [
    {
     "data": {
      "text/plain": [
       "array([2, 3, 4, 5, 6])"
      ]
     },
     "execution_count": 79,
     "metadata": {},
     "output_type": "execute_result"
    }
   ],
   "source": [
    "ar[2:7]"
   ]
  },
  {
   "cell_type": "code",
   "execution_count": 80,
   "id": "086f8c5b-9b7d-438d-ae70-fe0f7dc815cc",
   "metadata": {},
   "outputs": [
    {
     "data": {
      "text/plain": [
       "array([ 2,  3,  4,  5,  6,  7,  8,  9, 10])"
      ]
     },
     "execution_count": 80,
     "metadata": {},
     "output_type": "execute_result"
    }
   ],
   "source": [
    "ar[2:]"
   ]
  },
  {
   "cell_type": "code",
   "execution_count": 81,
   "id": "55ef5781-c742-4787-8393-9ee0dcd7eed5",
   "metadata": {},
   "outputs": [
    {
     "data": {
      "text/plain": [
       "array([0, 1, 2, 3, 4, 5, 6])"
      ]
     },
     "execution_count": 81,
     "metadata": {},
     "output_type": "execute_result"
    }
   ],
   "source": [
    "ar[:7]"
   ]
  },
  {
   "cell_type": "code",
   "execution_count": 82,
   "id": "f1408c94-fbf0-47e8-b60f-1387bc98b0f3",
   "metadata": {},
   "outputs": [
    {
     "data": {
      "text/plain": [
       "array([2, 4, 6])"
      ]
     },
     "execution_count": 82,
     "metadata": {},
     "output_type": "execute_result"
    }
   ],
   "source": [
    "ar[2:8:2]"
   ]
  },
  {
   "cell_type": "markdown",
   "id": "1544267a-a28b-4479-a5d0-41164444a17b",
   "metadata": {},
   "source": [
    "* For 1D numpy array, indexing and slicing is same as Python lists\n",
    "\n",
    "* Only difference is that it allows broadcasting"
   ]
  },
  {
   "cell_type": "code",
   "execution_count": 83,
   "id": "53dac9eb-316f-4561-abfb-5b0ff4131a29",
   "metadata": {},
   "outputs": [
    {
     "data": {
      "text/plain": [
       "array([ 0,  1,  2,  3,  4,  5,  6,  7,  8,  9, 10])"
      ]
     },
     "execution_count": 83,
     "metadata": {},
     "output_type": "execute_result"
    }
   ],
   "source": [
    "ar"
   ]
  },
  {
   "cell_type": "code",
   "execution_count": 86,
   "id": "d6132a50-3cdd-46e8-8044-d5c3cab47c80",
   "metadata": {},
   "outputs": [],
   "source": [
    "ar[1:5] = 100  #broadcasting"
   ]
  },
  {
   "cell_type": "code",
   "execution_count": 87,
   "id": "3b3d31cb-eae0-48c7-8d1a-7853673bd377",
   "metadata": {},
   "outputs": [
    {
     "data": {
      "text/plain": [
       "array([  0, 100, 100, 100, 100,   5,   6,   7,   8,   9,  10])"
      ]
     },
     "execution_count": 87,
     "metadata": {},
     "output_type": "execute_result"
    }
   ],
   "source": [
    "ar"
   ]
  },
  {
   "cell_type": "markdown",
   "id": "b5887106-7126-45a0-b168-7e9d28220bd8",
   "metadata": {},
   "source": [
    "## Multidimensional Indexing & Slicing"
   ]
  },
  {
   "cell_type": "code",
   "execution_count": 88,
   "id": "ac046888-d62f-4409-885f-ee6551b2a00e",
   "metadata": {},
   "outputs": [],
   "source": [
    "ar = np.random.rand(4, 5)"
   ]
  },
  {
   "cell_type": "code",
   "execution_count": 89,
   "id": "0b3954ff-608b-43a8-8607-6690aac63423",
   "metadata": {},
   "outputs": [
    {
     "data": {
      "text/plain": [
       "array([[0.77588183, 0.85916592, 0.22282597, 0.31010692, 0.3853697 ],\n",
       "       [0.9122455 , 0.41285003, 0.64774048, 0.23529587, 0.49481909],\n",
       "       [0.06099989, 0.03388533, 0.36832107, 0.19545161, 0.99601406],\n",
       "       [0.1140568 , 0.17584934, 0.67846486, 0.31368302, 0.5200351 ]])"
      ]
     },
     "execution_count": 89,
     "metadata": {},
     "output_type": "execute_result"
    }
   ],
   "source": [
    "ar"
   ]
  },
  {
   "cell_type": "code",
   "execution_count": 91,
   "id": "1a0bba1c-5e92-44bb-a506-7447e45b9ad0",
   "metadata": {},
   "outputs": [
    {
     "data": {
      "text/plain": [
       "0.23529586879296427"
      ]
     },
     "execution_count": 91,
     "metadata": {},
     "output_type": "execute_result"
    }
   ],
   "source": [
    "ar[1][3]  #not recommended"
   ]
  },
  {
   "cell_type": "code",
   "execution_count": 92,
   "id": "604598d3-83b4-4a6d-870b-7e4f4fee013b",
   "metadata": {},
   "outputs": [
    {
     "data": {
      "text/plain": [
       "0.23529586879296427"
      ]
     },
     "execution_count": 92,
     "metadata": {},
     "output_type": "execute_result"
    }
   ],
   "source": [
    "ar[1, 3]  #preferred"
   ]
  },
  {
   "cell_type": "code",
   "execution_count": 93,
   "id": "20c10133-5e79-4a5a-8973-0898b81ec293",
   "metadata": {},
   "outputs": [
    {
     "data": {
      "text/plain": [
       "(4, 5)"
      ]
     },
     "execution_count": 93,
     "metadata": {},
     "output_type": "execute_result"
    }
   ],
   "source": [
    "ar.shape"
   ]
  },
  {
   "cell_type": "code",
   "execution_count": 94,
   "id": "975d55e5-62d8-43e3-9492-22236b8e3cf7",
   "metadata": {},
   "outputs": [
    {
     "data": {
      "text/plain": [
       "array([[0.85916592, 0.22282597, 0.31010692],\n",
       "       [0.41285003, 0.64774048, 0.23529587],\n",
       "       [0.03388533, 0.36832107, 0.19545161]])"
      ]
     },
     "execution_count": 94,
     "metadata": {},
     "output_type": "execute_result"
    }
   ],
   "source": [
    "ar[:3, 1:4]\n",
    "# rows 0, 1, 2 and column 1, 2, 3"
   ]
  },
  {
   "cell_type": "code",
   "execution_count": 95,
   "id": "2b2f341b-7b7c-4895-a0e0-70cfd696173b",
   "metadata": {},
   "outputs": [
    {
     "data": {
      "text/plain": [
       "array([[0.9122455 , 0.41285003, 0.64774048],\n",
       "       [0.06099989, 0.03388533, 0.36832107]])"
      ]
     },
     "execution_count": 95,
     "metadata": {},
     "output_type": "execute_result"
    }
   ],
   "source": [
    "ar[1:3, 0:3]"
   ]
  },
  {
   "cell_type": "markdown",
   "id": "e270a6b0-2dee-46c0-bc6c-d2c8ab65505c",
   "metadata": {},
   "source": [
    "## Copy"
   ]
  },
  {
   "cell_type": "code",
   "execution_count": 96,
   "id": "18a92251-1505-420b-a560-178249a80501",
   "metadata": {},
   "outputs": [
    {
     "data": {
      "text/plain": [
       "array([[0.77588183, 0.85916592, 0.22282597, 0.31010692, 0.3853697 ],\n",
       "       [0.9122455 , 0.41285003, 0.64774048, 0.23529587, 0.49481909],\n",
       "       [0.06099989, 0.03388533, 0.36832107, 0.19545161, 0.99601406],\n",
       "       [0.1140568 , 0.17584934, 0.67846486, 0.31368302, 0.5200351 ]])"
      ]
     },
     "execution_count": 96,
     "metadata": {},
     "output_type": "execute_result"
    }
   ],
   "source": [
    "ar"
   ]
  },
  {
   "cell_type": "code",
   "execution_count": 97,
   "id": "e897c4ce-922c-46de-8f07-4353b2a5e6df",
   "metadata": {},
   "outputs": [
    {
     "data": {
      "text/plain": [
       "1654012996384"
      ]
     },
     "execution_count": 97,
     "metadata": {},
     "output_type": "execute_result"
    }
   ],
   "source": [
    "id(ar)"
   ]
  },
  {
   "cell_type": "code",
   "execution_count": 98,
   "id": "81276acf-2e20-439b-bad3-254adfd1d760",
   "metadata": {},
   "outputs": [],
   "source": [
    "ar2 = ar"
   ]
  },
  {
   "cell_type": "code",
   "execution_count": 99,
   "id": "51c49839-7a3b-4033-bae5-f4f7eaf03405",
   "metadata": {},
   "outputs": [
    {
     "data": {
      "text/plain": [
       "1654012996384"
      ]
     },
     "execution_count": 99,
     "metadata": {},
     "output_type": "execute_result"
    }
   ],
   "source": [
    "id(ar2)"
   ]
  },
  {
   "cell_type": "code",
   "execution_count": 101,
   "id": "29e1c3c6-6dd4-42d1-8d43-75b11077f2b7",
   "metadata": {},
   "outputs": [
    {
     "data": {
      "text/plain": [
       "True"
      ]
     },
     "execution_count": 101,
     "metadata": {},
     "output_type": "execute_result"
    }
   ],
   "source": [
    "ar2 is ar  #they are same object"
   ]
  },
  {
   "cell_type": "code",
   "execution_count": 104,
   "id": "e74fa03f-aafb-4219-b15a-c8ab952c1be6",
   "metadata": {},
   "outputs": [],
   "source": [
    "ar3 = ar[:, :]  #copying numpy array\n",
    "# copy() is usually used for 1 dimensional lists"
   ]
  },
  {
   "cell_type": "code",
   "execution_count": 105,
   "id": "49d9ffcb-3fbe-4789-81bd-c0d24f333b4d",
   "metadata": {},
   "outputs": [
    {
     "data": {
      "text/plain": [
       "1654012995904"
      ]
     },
     "execution_count": 105,
     "metadata": {},
     "output_type": "execute_result"
    }
   ],
   "source": [
    "id(ar3)"
   ]
  },
  {
   "cell_type": "markdown",
   "id": "9b960d64-00b9-48c3-a963-911ebeb6a456",
   "metadata": {},
   "source": [
    "## Conditional Selection"
   ]
  },
  {
   "cell_type": "code",
   "execution_count": 106,
   "id": "fab0676d-6c55-4543-93c6-d2d2ce2d3ddb",
   "metadata": {},
   "outputs": [],
   "source": [
    "ar = np.random.randn(40)"
   ]
  },
  {
   "cell_type": "code",
   "execution_count": 107,
   "id": "8134c692-dd6f-411b-8a72-d52701c3cccf",
   "metadata": {},
   "outputs": [
    {
     "data": {
      "text/plain": [
       "array([-0.04311421,  0.52482498,  3.23545039,  0.82964812, -0.1319813 ,\n",
       "       -0.29057912, -0.61840203, -1.95717716, -1.91624214,  0.92291727,\n",
       "       -0.36210892, -1.89292892,  0.99691666,  0.76072715,  1.06296862,\n",
       "       -0.16380388, -0.03878744,  0.10022597,  1.99592293,  0.29337864,\n",
       "        1.82057215,  0.58233076, -1.45237591,  1.5893436 ,  2.07886514,\n",
       "       -0.00811185,  0.88157121, -1.53045536,  0.51895222,  0.10381383,\n",
       "        1.20762611,  2.33571671, -0.85258477,  0.22798709,  0.25615068,\n",
       "       -2.31523965,  0.77739987, -0.09309876, -1.27804759, -1.08973046])"
      ]
     },
     "execution_count": 107,
     "metadata": {},
     "output_type": "execute_result"
    }
   ],
   "source": [
    "ar"
   ]
  },
  {
   "cell_type": "code",
   "execution_count": 111,
   "id": "48d0c5eb-9c51-430d-ad7e-7a958d48df2c",
   "metadata": {},
   "outputs": [],
   "source": [
    "condition = ar >= 0\n",
    "# not possible on lists\n",
    "# Numpy applies the condition to each and every element and creates a boolean array"
   ]
  },
  {
   "cell_type": "code",
   "execution_count": 114,
   "id": "20e2aa34-97f7-40a9-b9ae-f31ae8e2b6e3",
   "metadata": {},
   "outputs": [
    {
     "data": {
      "text/plain": [
       "array([False,  True,  True,  True, False, False, False, False, False,\n",
       "        True, False, False,  True,  True,  True, False, False,  True,\n",
       "        True,  True,  True,  True, False,  True,  True, False,  True,\n",
       "       False,  True,  True,  True,  True, False,  True,  True, False,\n",
       "        True, False, False, False])"
      ]
     },
     "execution_count": 114,
     "metadata": {},
     "output_type": "execute_result"
    }
   ],
   "source": [
    "condition  #true means +ve and false means -ve"
   ]
  },
  {
   "cell_type": "code",
   "execution_count": 115,
   "id": "2e4e0281-a4c7-46fa-bd56-7758a56f4c43",
   "metadata": {},
   "outputs": [
    {
     "data": {
      "text/plain": [
       "array([0.52482498, 3.23545039, 0.82964812, 0.92291727, 0.99691666,\n",
       "       0.76072715, 1.06296862, 0.10022597, 1.99592293, 0.29337864,\n",
       "       1.82057215, 0.58233076, 1.5893436 , 2.07886514, 0.88157121,\n",
       "       0.51895222, 0.10381383, 1.20762611, 2.33571671, 0.22798709,\n",
       "       0.25615068, 0.77739987])"
      ]
     },
     "execution_count": 115,
     "metadata": {},
     "output_type": "execute_result"
    }
   ],
   "source": [
    "ar[condition]  #returns the values for which condition is true"
   ]
  },
  {
   "cell_type": "code",
   "execution_count": 117,
   "id": "bab1a029-0d4c-4f57-b573-78ca85fc387c",
   "metadata": {},
   "outputs": [
    {
     "data": {
      "text/plain": [
       "array([0.52482498, 3.23545039, 0.82964812, 0.92291727, 0.99691666,\n",
       "       0.76072715, 1.06296862, 0.10022597, 1.99592293, 0.29337864,\n",
       "       1.82057215, 0.58233076, 1.5893436 , 2.07886514, 0.88157121,\n",
       "       0.51895222, 0.10381383, 1.20762611, 2.33571671, 0.22798709,\n",
       "       0.25615068, 0.77739987])"
      ]
     },
     "execution_count": 117,
     "metadata": {},
     "output_type": "execute_result"
    }
   ],
   "source": [
    "ar[ar >= 0]  # same thing but in one line"
   ]
  },
  {
   "cell_type": "code",
   "execution_count": 119,
   "id": "8f015465-84ef-49e4-803c-d4e81597b992",
   "metadata": {},
   "outputs": [
    {
     "data": {
      "text/plain": [
       "array([ 0.52482498,  3.23545039,  0.82964812, -0.61840203, -1.95717716,\n",
       "       -1.91624214,  0.92291727, -1.89292892,  0.99691666,  0.76072715,\n",
       "        1.06296862,  1.99592293,  0.29337864,  1.82057215,  0.58233076,\n",
       "       -1.45237591,  1.5893436 ,  2.07886514,  0.88157121, -1.53045536,\n",
       "        0.51895222,  1.20762611,  2.33571671, -0.85258477,  0.22798709,\n",
       "        0.25615068, -2.31523965,  0.77739987, -1.27804759, -1.08973046])"
      ]
     },
     "execution_count": 119,
     "metadata": {},
     "output_type": "execute_result"
    }
   ],
   "source": [
    "ar[(ar > 0.2) | (ar < -0.5)]\n",
    "# and/or cannot be used\n",
    "# we need to use &, |, ~ (bitwise operator)"
   ]
  },
  {
   "cell_type": "markdown",
   "id": "02f75acd-7962-4688-a144-5ee028cde11f",
   "metadata": {},
   "source": [
    "## Numpy array operations"
   ]
  },
  {
   "cell_type": "code",
   "execution_count": 120,
   "id": "14445fee-f880-49f3-9957-1d4c1ac6a037",
   "metadata": {},
   "outputs": [],
   "source": [
    "ar = np.arange(0, 11)"
   ]
  },
  {
   "cell_type": "code",
   "execution_count": 121,
   "id": "f75f57df-f187-48ae-9973-c0dce4233b7d",
   "metadata": {},
   "outputs": [
    {
     "data": {
      "text/plain": [
       "array([ 0,  1,  2,  3,  4,  5,  6,  7,  8,  9, 10])"
      ]
     },
     "execution_count": 121,
     "metadata": {},
     "output_type": "execute_result"
    }
   ],
   "source": [
    "ar"
   ]
  },
  {
   "cell_type": "code",
   "execution_count": 122,
   "id": "d55febdc-be7c-489f-9009-1649ce956068",
   "metadata": {},
   "outputs": [
    {
     "data": {
      "text/plain": [
       "[0, 1, 0, 1]"
      ]
     },
     "execution_count": 122,
     "metadata": {},
     "output_type": "execute_result"
    }
   ],
   "source": [
    "[0, 1] + [0, 1]"
   ]
  },
  {
   "cell_type": "code",
   "execution_count": 123,
   "id": "e131ce37-3f84-4875-b632-1d9acaffa663",
   "metadata": {},
   "outputs": [
    {
     "data": {
      "text/plain": [
       "array([ 0,  2,  4,  6,  8, 10, 12, 14, 16, 18, 20])"
      ]
     },
     "execution_count": 123,
     "metadata": {},
     "output_type": "execute_result"
    }
   ],
   "source": [
    "ar + ar"
   ]
  },
  {
   "cell_type": "code",
   "execution_count": 124,
   "id": "8dfff9f5-31a0-4825-b063-7481cb42bf98",
   "metadata": {},
   "outputs": [
    {
     "data": {
      "text/plain": [
       "array([ 1,  2,  3,  4,  5,  6,  7,  8,  9, 10, 11])"
      ]
     },
     "execution_count": 124,
     "metadata": {},
     "output_type": "execute_result"
    }
   ],
   "source": [
    "ar + 1"
   ]
  },
  {
   "cell_type": "code",
   "execution_count": 125,
   "id": "505b8d50-6838-458b-ad1e-ca4c2df02361",
   "metadata": {},
   "outputs": [
    {
     "data": {
      "text/plain": [
       "array([ 0,  2,  4,  6,  8, 10, 12, 14, 16, 18, 20])"
      ]
     },
     "execution_count": 125,
     "metadata": {},
     "output_type": "execute_result"
    }
   ],
   "source": [
    "ar * 2"
   ]
  },
  {
   "cell_type": "code",
   "execution_count": 126,
   "id": "2710804d-48d9-4d71-ada8-5c4c95e1f999",
   "metadata": {},
   "outputs": [
    {
     "data": {
      "text/plain": [
       "array([   0,    1,    8,   27,   64,  125,  216,  343,  512,  729, 1000],\n",
       "      dtype=int32)"
      ]
     },
     "execution_count": 126,
     "metadata": {},
     "output_type": "execute_result"
    }
   ],
   "source": [
    "ar ** 3"
   ]
  },
  {
   "cell_type": "code",
   "execution_count": 127,
   "id": "7647a0ee-cbb4-4881-a9c5-9775af66a591",
   "metadata": {},
   "outputs": [
    {
     "data": {
      "text/plain": [
       "array([50, 51, 52, 53, 54, 55, 56, 57, 58, 59, 60])"
      ]
     },
     "execution_count": 127,
     "metadata": {},
     "output_type": "execute_result"
    }
   ],
   "source": [
    "ar + 50"
   ]
  },
  {
   "cell_type": "code",
   "execution_count": 128,
   "id": "4ba9ac32-99d2-4b08-85c3-e2ea1386fe1a",
   "metadata": {},
   "outputs": [
    {
     "data": {
      "text/plain": [
       "array([-50, -49, -48, -47, -46, -45, -44, -43, -42, -41, -40])"
      ]
     },
     "execution_count": 128,
     "metadata": {},
     "output_type": "execute_result"
    }
   ],
   "source": [
    "ar - 50"
   ]
  },
  {
   "cell_type": "code",
   "execution_count": 129,
   "id": "618ed074-4218-42af-94a6-0380cad643b6",
   "metadata": {},
   "outputs": [
    {
     "data": {
      "text/plain": [
       "array([ 0,  1,  2,  3,  4,  5,  6,  7,  8,  9, 10])"
      ]
     },
     "execution_count": 129,
     "metadata": {},
     "output_type": "execute_result"
    }
   ],
   "source": [
    "# original array does not change\n",
    "ar"
   ]
  },
  {
   "cell_type": "code",
   "execution_count": 130,
   "id": "88ad3aea-5a88-45b4-95c3-c730a77cb547",
   "metadata": {},
   "outputs": [],
   "source": [
    "ar-=100"
   ]
  },
  {
   "cell_type": "code",
   "execution_count": 131,
   "id": "e581030b-2cf3-4c78-a279-f7855e9808e9",
   "metadata": {},
   "outputs": [
    {
     "data": {
      "text/plain": [
       "array([-100,  -99,  -98,  -97,  -96,  -95,  -94,  -93,  -92,  -91,  -90])"
      ]
     },
     "execution_count": 131,
     "metadata": {},
     "output_type": "execute_result"
    }
   ],
   "source": [
    "ar"
   ]
  },
  {
   "cell_type": "markdown",
   "id": "5b0fa426-0210-473a-bea9-a1e4c23d3b7e",
   "metadata": {},
   "source": [
    "## Division by zero"
   ]
  },
  {
   "cell_type": "code",
   "execution_count": 132,
   "id": "cabc8dc8-5c56-4ce2-9b54-4b39af92b8dd",
   "metadata": {},
   "outputs": [
    {
     "ename": "ZeroDivisionError",
     "evalue": "division by zero",
     "output_type": "error",
     "traceback": [
      "\u001b[1;31m---------------------------------------------------------------------------\u001b[0m",
      "\u001b[1;31mZeroDivisionError\u001b[0m                         Traceback (most recent call last)",
      "\u001b[1;32m<ipython-input-132-e574edb36883>\u001b[0m in \u001b[0;36m<module>\u001b[1;34m\u001b[0m\n\u001b[1;32m----> 1\u001b[1;33m \u001b[1;36m10\u001b[0m\u001b[1;33m/\u001b[0m\u001b[1;36m0\u001b[0m\u001b[1;33m\u001b[0m\u001b[1;33m\u001b[0m\u001b[0m\n\u001b[0m",
      "\u001b[1;31mZeroDivisionError\u001b[0m: division by zero"
     ]
    }
   ],
   "source": [
    "10/0"
   ]
  },
  {
   "cell_type": "code",
   "execution_count": 133,
   "id": "f85aea78-2cd1-4443-9fd3-05865a8ad6f8",
   "metadata": {},
   "outputs": [],
   "source": [
    "ar = np.array([0, -10, 10])"
   ]
  },
  {
   "cell_type": "code",
   "execution_count": 136,
   "id": "e7f46da6-e7f4-476e-97be-8f6ebd4ecc74",
   "metadata": {},
   "outputs": [
    {
     "name": "stderr",
     "output_type": "stream",
     "text": [
      "<ipython-input-136-05262bbed824>:1: RuntimeWarning: divide by zero encountered in true_divide\n",
      "  ar/0\n",
      "<ipython-input-136-05262bbed824>:1: RuntimeWarning: invalid value encountered in true_divide\n",
      "  ar/0\n"
     ]
    },
    {
     "data": {
      "text/plain": [
       "array([ nan, -inf,  inf])"
      ]
     },
     "execution_count": 136,
     "metadata": {},
     "output_type": "execute_result"
    }
   ],
   "source": [
    "ar/0\n",
    "# nan -> not a number"
   ]
  },
  {
   "cell_type": "markdown",
   "id": "5481d4d4-fc1f-472b-94ef-ab56726df846",
   "metadata": {},
   "source": [
    "## Other functions"
   ]
  },
  {
   "cell_type": "code",
   "execution_count": 137,
   "id": "7ab6337a-bb87-41ac-a165-5923dd28eb8d",
   "metadata": {},
   "outputs": [
    {
     "data": {
      "text/plain": [
       "array([0, 1, 2, 3, 4, 5, 6, 7, 8, 9])"
      ]
     },
     "execution_count": 137,
     "metadata": {},
     "output_type": "execute_result"
    }
   ],
   "source": [
    "ar = np.arange(10)\n",
    "ar"
   ]
  },
  {
   "cell_type": "code",
   "execution_count": 138,
   "id": "18a0aa7c-9fd3-4361-b49b-6179a8fcdacd",
   "metadata": {},
   "outputs": [
    {
     "data": {
      "text/plain": [
       "array([ 0,  1,  4,  9, 16, 25, 36, 49, 64, 81], dtype=int32)"
      ]
     },
     "execution_count": 138,
     "metadata": {},
     "output_type": "execute_result"
    }
   ],
   "source": [
    "np.power(ar, 2)"
   ]
  },
  {
   "cell_type": "code",
   "execution_count": 140,
   "id": "3952cadf-a1d1-4ced-98d2-893311538866",
   "metadata": {},
   "outputs": [
    {
     "data": {
      "text/plain": [
       "array([   0,    1,   16,   81,  256,  625, 1296, 2401, 4096, 6561],\n",
       "      dtype=int32)"
      ]
     },
     "execution_count": 140,
     "metadata": {},
     "output_type": "execute_result"
    }
   ],
   "source": [
    "ar = ar ** 2\n",
    "ar"
   ]
  },
  {
   "cell_type": "code",
   "execution_count": 141,
   "id": "c04eef9b-3092-4c27-ae10-76dc7ba6b0f7",
   "metadata": {},
   "outputs": [
    {
     "data": {
      "text/plain": [
       "array([ 0.,  1.,  4.,  9., 16., 25., 36., 49., 64., 81.])"
      ]
     },
     "execution_count": 141,
     "metadata": {},
     "output_type": "execute_result"
    }
   ],
   "source": [
    "np.sqrt(ar)"
   ]
  },
  {
   "cell_type": "code",
   "execution_count": 142,
   "id": "5ef4e6f8-a98d-45b2-a55e-8cd8fb8f77ee",
   "metadata": {},
   "outputs": [
    {
     "data": {
      "text/plain": [
       "array([ 0.        ,  0.84147098, -0.28790332, -0.62988799, -0.99920803,\n",
       "        0.17601627,  0.99567579,  0.7333338 , -0.59464199,  0.97670744])"
      ]
     },
     "execution_count": 142,
     "metadata": {},
     "output_type": "execute_result"
    }
   ],
   "source": [
    "np.sin(ar)"
   ]
  },
  {
   "cell_type": "code",
   "execution_count": 143,
   "id": "724fdc2d-af9e-4226-8c0b-003968765aa2",
   "metadata": {},
   "outputs": [],
   "source": [
    "ar = np.arange(1, 25)"
   ]
  },
  {
   "cell_type": "code",
   "execution_count": 144,
   "id": "a516c874-8122-4186-b461-e578d20c037e",
   "metadata": {},
   "outputs": [
    {
     "data": {
      "text/plain": [
       "array([0.        , 0.69314718, 1.09861229, 1.38629436, 1.60943791,\n",
       "       1.79175947, 1.94591015, 2.07944154, 2.19722458, 2.30258509,\n",
       "       2.39789527, 2.48490665, 2.56494936, 2.63905733, 2.7080502 ,\n",
       "       2.77258872, 2.83321334, 2.89037176, 2.94443898, 2.99573227,\n",
       "       3.04452244, 3.09104245, 3.13549422, 3.17805383])"
      ]
     },
     "execution_count": 144,
     "metadata": {},
     "output_type": "execute_result"
    }
   ],
   "source": [
    "np.log(ar)"
   ]
  },
  {
   "cell_type": "code",
   "execution_count": 146,
   "id": "7aa081e8-350a-4112-b394-57e425baa28e",
   "metadata": {},
   "outputs": [
    {
     "data": {
      "text/plain": [
       "300"
      ]
     },
     "execution_count": 146,
     "metadata": {},
     "output_type": "execute_result"
    }
   ],
   "source": [
    "ar.sum()  # all elements"
   ]
  }
 ],
 "metadata": {
  "kernelspec": {
   "display_name": "Python 3",
   "language": "python",
   "name": "python3"
  },
  "language_info": {
   "codemirror_mode": {
    "name": "ipython",
    "version": 3
   },
   "file_extension": ".py",
   "mimetype": "text/x-python",
   "name": "python",
   "nbconvert_exporter": "python",
   "pygments_lexer": "ipython3",
   "version": "3.8.6"
  }
 },
 "nbformat": 4,
 "nbformat_minor": 5
}
