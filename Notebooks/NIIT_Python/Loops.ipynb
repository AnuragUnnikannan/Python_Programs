{
 "cells": [
  {
   "cell_type": "markdown",
   "id": "c8283039-e7e8-4ffc-99c7-57716f9dc273",
   "metadata": {},
   "source": [
    "<center><h1>Loops</h1><center>"
   ]
  },
  {
   "cell_type": "markdown",
   "id": "7b401abb-312f-4396-b9e9-a93def6968dc",
   "metadata": {},
   "source": [
    "## While Loop"
   ]
  },
  {
   "cell_type": "code",
   "execution_count": 3,
   "id": "65b7cd70-03c3-4ffa-b643-94b8853bbec4",
   "metadata": {},
   "outputs": [
    {
     "name": "stdout",
     "output_type": "stream",
     "text": [
      "Inside while loop 0\n",
      "Inside while loop 1\n",
      "Inside while loop 2\n",
      "Inside while loop 3\n",
      "Inside while loop 4\n",
      "After while loop\n"
     ]
    }
   ],
   "source": [
    "i = 0\n",
    "while i < 5:\n",
    "    print(f\"Inside while loop {i}\")\n",
    "    i += 1\n",
    "print(\"After while loop\")"
   ]
  },
  {
   "cell_type": "markdown",
   "id": "23807101-a6e0-44c6-9846-e2380825365e",
   "metadata": {},
   "source": [
    "### Nested while loop"
   ]
  },
  {
   "cell_type": "code",
   "execution_count": 5,
   "id": "0bf3f409-2064-47dd-9f6e-d1e8b921489d",
   "metadata": {},
   "outputs": [
    {
     "name": "stdout",
     "output_type": "stream",
     "text": [
      "0 0\n",
      "0 1\n",
      "0 2\n",
      "End of inner loop\n",
      "1 0\n",
      "1 1\n",
      "1 2\n",
      "End of inner loop\n",
      "2 0\n",
      "2 1\n",
      "2 2\n",
      "End of inner loop\n",
      "End of outer loop\n"
     ]
    }
   ],
   "source": [
    "i = 0\n",
    "while i < 3:\n",
    "    j = 0\n",
    "    while j < 3:\n",
    "        print(f\"{i} {j}\")\n",
    "        j += 1\n",
    "    print(\"End of inner loop\")\n",
    "    i += 1\n",
    "print(\"End of outer loop\")"
   ]
  },
  {
   "cell_type": "markdown",
   "id": "c47e854f-dab7-489e-9f43-c4a4194724f4",
   "metadata": {},
   "source": [
    "### Break and Continue"
   ]
  },
  {
   "cell_type": "code",
   "execution_count": 6,
   "id": "e9351e26-d4d6-4bff-af2b-ccb5cfc482e8",
   "metadata": {},
   "outputs": [
    {
     "name": "stdout",
     "output_type": "stream",
     "text": [
      "1\n",
      "3\n",
      "4\n",
      "5\n",
      "Outside while loop\n"
     ]
    }
   ],
   "source": [
    "i = 0\n",
    "while True:\n",
    "    i += 1\n",
    "    if i == 2:\n",
    "        continue\n",
    "    elif i == 6:\n",
    "        break\n",
    "    print(i)\n",
    "print(\"Outside while loop\")"
   ]
  },
  {
   "cell_type": "markdown",
   "id": "02ab98d7-9c4c-4ddc-955c-cd046831f35c",
   "metadata": {},
   "source": [
    "## For Loop"
   ]
  },
  {
   "cell_type": "markdown",
   "id": "4712bf54-c0fa-4bc4-9df2-756447b36e49",
   "metadata": {},
   "source": [
    "### Iterating over list"
   ]
  },
  {
   "cell_type": "code",
   "execution_count": 8,
   "id": "1b002922-06db-434a-a6a6-15e3b1cadd9b",
   "metadata": {},
   "outputs": [
    {
     "name": "stdout",
     "output_type": "stream",
     "text": [
      "My name is Michael.\n",
      "My name is James.\n",
      "My name is John.\n"
     ]
    }
   ],
   "source": [
    "names = [\"Michael\", \"James\", \"John\"]\n",
    "for name in names:\n",
    "    print(f\"My name is {name}.\")"
   ]
  },
  {
   "cell_type": "markdown",
   "id": "34ee6d2e-b1cd-4f65-a618-9cb9cafe1bc7",
   "metadata": {},
   "source": [
    "### Iterating over tuple"
   ]
  },
  {
   "cell_type": "code",
   "execution_count": 9,
   "id": "71363e1c-9aa7-492e-b7d3-96d4cc1a2a83",
   "metadata": {},
   "outputs": [
    {
     "name": "stdout",
     "output_type": "stream",
     "text": [
      "10\n",
      "20\n",
      "30\n"
     ]
    }
   ],
   "source": [
    "t = (10, 20, 30)\n",
    "for i in t:\n",
    "    print(i)"
   ]
  },
  {
   "cell_type": "markdown",
   "id": "c045aa1e-c188-44da-9644-5f88a6a1e2c7",
   "metadata": {},
   "source": [
    "### Iterating over set"
   ]
  },
  {
   "cell_type": "code",
   "execution_count": 10,
   "id": "7ffc4aa9-581f-4127-9119-cb9356fafac7",
   "metadata": {},
   "outputs": [
    {
     "name": "stdout",
     "output_type": "stream",
     "text": [
      "10\n",
      "3.14\n",
      "Hello\n"
     ]
    }
   ],
   "source": [
    "set_a = {10, \"Hello\", 3.14}\n",
    "for i in set_a:\n",
    "    print(i)"
   ]
  },
  {
   "cell_type": "markdown",
   "id": "4570465c-a163-481c-b3b8-b3e750b92eba",
   "metadata": {},
   "source": [
    "### Iterating over Dictionary"
   ]
  },
  {
   "cell_type": "code",
   "execution_count": 14,
   "id": "01993c02-4645-469b-82fe-4701105b3ea6",
   "metadata": {},
   "outputs": [],
   "source": [
    "marks = {\n",
    "    \"John\": 80,\n",
    "    \"Arthur\": 85,\n",
    "    \"Jake\": 75\n",
    "}"
   ]
  },
  {
   "cell_type": "code",
   "execution_count": 15,
   "id": "368e0b49-feee-4c8f-9725-2ecab70fcc43",
   "metadata": {},
   "outputs": [
    {
     "name": "stdout",
     "output_type": "stream",
     "text": [
      "80\n",
      "85\n",
      "75\n"
     ]
    }
   ],
   "source": [
    "for value in marks.values():\n",
    "    print(value)"
   ]
  },
  {
   "cell_type": "code",
   "execution_count": 16,
   "id": "b99980ec-90c4-472a-945c-f2bf284d3219",
   "metadata": {},
   "outputs": [
    {
     "name": "stdout",
     "output_type": "stream",
     "text": [
      "John 80\n",
      "Arthur 85\n",
      "Jake 75\n"
     ]
    }
   ],
   "source": [
    "for key, value in marks.items():\n",
    "    print(key, value)"
   ]
  },
  {
   "cell_type": "markdown",
   "id": "78416925-7cf4-4577-b2cb-f2d6d2b35f93",
   "metadata": {},
   "source": [
    "## Range"
   ]
  },
  {
   "cell_type": "code",
   "execution_count": 17,
   "id": "32d62cdb-33ed-4dbb-8507-d8ea317d1b34",
   "metadata": {},
   "outputs": [
    {
     "data": {
      "text/plain": [
       "[0, 1, 2, 3, 4]"
      ]
     },
     "execution_count": 17,
     "metadata": {},
     "output_type": "execute_result"
    }
   ],
   "source": [
    "list(range(5))"
   ]
  },
  {
   "cell_type": "code",
   "execution_count": 18,
   "id": "d7596793-8da1-44e3-9390-9a5f8b7ab5d9",
   "metadata": {},
   "outputs": [
    {
     "data": {
      "text/plain": [
       "[5, 6, 7, 8, 9, 10, 11, 12, 13, 14]"
      ]
     },
     "execution_count": 18,
     "metadata": {},
     "output_type": "execute_result"
    }
   ],
   "source": [
    "list(range(5, 15))"
   ]
  },
  {
   "cell_type": "code",
   "execution_count": 21,
   "id": "01eae1b9-cb4b-4be9-b752-7dc3ef43123f",
   "metadata": {},
   "outputs": [
    {
     "name": "stdout",
     "output_type": "stream",
     "text": [
      "Index: 0, Value: 10\n",
      "Index: 1, Value: 30\n",
      "Index: 2, Value: 20\n",
      "Index: 3, Value: 50\n",
      "Index: 4, Value: 60\n",
      "Index: 5, Value: 40\n"
     ]
    }
   ],
   "source": [
    "ar = [10, 30, 20, 50, 60, 40]\n",
    "for i in range(len(ar)):\n",
    "    print(f\"Index: {i}, Value: {ar[i]}\")"
   ]
  },
  {
   "cell_type": "code",
   "execution_count": 23,
   "id": "bbbd1a16-6935-41d6-95e0-4ae0a6aaab94",
   "metadata": {},
   "outputs": [
    {
     "name": "stdout",
     "output_type": "stream",
     "text": [
      "Index: 0, Value: 10\n",
      "Index: 1, Value: 30\n",
      "Index: 2, Value: 20\n",
      "Index: 3, Value: 50\n",
      "Index: 4, Value: 60\n",
      "Index: 5, Value: 40\n"
     ]
    }
   ],
   "source": [
    "for index, value in enumerate(ar):\n",
    "    print(f\"Index: {index}, Value: {value}\")"
   ]
  },
  {
   "cell_type": "code",
   "execution_count": 25,
   "id": "b6adcf50-ab5e-498d-91ea-c34f4aee7411",
   "metadata": {},
   "outputs": [
    {
     "data": {
      "text/plain": [
       "[(0, 10), (1, 30), (2, 20), (3, 50), (4, 60), (5, 40)]"
      ]
     },
     "execution_count": 25,
     "metadata": {},
     "output_type": "execute_result"
    }
   ],
   "source": [
    "list(enumerate(ar))  #converts a list to list of tuples (index, val)"
   ]
  },
  {
   "cell_type": "code",
   "execution_count": 1,
   "id": "a3df9bdb-63bf-4eff-9490-6f4d23816917",
   "metadata": {},
   "outputs": [
    {
     "name": "stdout",
     "output_type": "stream",
     "text": [
      "*\n",
      "**\n",
      "***\n",
      "****\n",
      "*****\n",
      "******\n"
     ]
    }
   ],
   "source": [
    "for i in range(1, 7):\n",
    "    print(\"*\" * i)"
   ]
  },
  {
   "cell_type": "markdown",
   "id": "2f7e6cd9-5458-4dd6-9ffb-f109ff3c17ac",
   "metadata": {},
   "source": [
    "### Nested for Loop"
   ]
  },
  {
   "cell_type": "code",
   "execution_count": 4,
   "id": "c6a155bb-0b75-4460-ad74-3d3103eba855",
   "metadata": {},
   "outputs": [
    {
     "ename": "TypeError",
     "evalue": "'ennd' is an invalid keyword argument for print()",
     "output_type": "error",
     "traceback": [
      "\u001b[1;31m---------------------------------------------------------------------------\u001b[0m",
      "\u001b[1;31mTypeError\u001b[0m                                 Traceback (most recent call last)",
      "\u001b[1;32m<ipython-input-4-080678c19e4a>\u001b[0m in \u001b[0;36m<module>\u001b[1;34m\u001b[0m\n\u001b[0;32m      1\u001b[0m \u001b[1;32mfor\u001b[0m \u001b[0mi\u001b[0m \u001b[1;32min\u001b[0m \u001b[0mrange\u001b[0m\u001b[1;33m(\u001b[0m\u001b[1;36m5\u001b[0m\u001b[1;33m)\u001b[0m\u001b[1;33m:\u001b[0m\u001b[1;33m\u001b[0m\u001b[1;33m\u001b[0m\u001b[0m\n\u001b[0;32m      2\u001b[0m     \u001b[1;32mfor\u001b[0m \u001b[0mj\u001b[0m \u001b[1;32min\u001b[0m \u001b[0mrange\u001b[0m\u001b[1;33m(\u001b[0m\u001b[1;36m3\u001b[0m\u001b[1;33m)\u001b[0m\u001b[1;33m:\u001b[0m\u001b[1;33m\u001b[0m\u001b[1;33m\u001b[0m\u001b[0m\n\u001b[1;32m----> 3\u001b[1;33m         \u001b[0mprint\u001b[0m\u001b[1;33m(\u001b[0m\u001b[0mj\u001b[0m\u001b[1;33m,\u001b[0m \u001b[0mennd\u001b[0m\u001b[1;33m=\u001b[0m\u001b[1;34m\" \"\u001b[0m\u001b[1;33m)\u001b[0m\u001b[1;33m\u001b[0m\u001b[1;33m\u001b[0m\u001b[0m\n\u001b[0m",
      "\u001b[1;31mTypeError\u001b[0m: 'ennd' is an invalid keyword argument for print()"
     ]
    }
   ],
   "source": [
    "for i in range(5):\n",
    "    for j in range(3):\n",
    "        print(j, ennd=\" \")"
   ]
  },
  {
   "cell_type": "code",
   "execution_count": 8,
   "id": "597e45b3-53e0-4550-88a0-586bdd41b76b",
   "metadata": {},
   "outputs": [
    {
     "name": "stdout",
     "output_type": "stream",
     "text": [
      "0  1  2  3  4  \n",
      "0  1  2  3  \n",
      "0  1  2  \n",
      "0  1  \n",
      "0  \n",
      "\n"
     ]
    }
   ],
   "source": [
    "for i in range(5, -1, -1):\n",
    "    for j in range(i):\n",
    "        print(str(j)+\" \", end=\" \")\n",
    "    print()"
   ]
  },
  {
   "cell_type": "code",
   "execution_count": 10,
   "id": "a22ea375-f078-4937-9f9f-3e8af5e6f65b",
   "metadata": {},
   "outputs": [
    {
     "name": "stdout",
     "output_type": "stream",
     "text": [
      "0 1 2 3 4\n",
      "0 1 2 3\n",
      "0 1 2\n",
      "0 1\n",
      "0\n"
     ]
    }
   ],
   "source": [
    "for i in range(5):\n",
    "    print(\" \".join([str(j) for j in range(5 - i)]))"
   ]
  },
  {
   "cell_type": "code",
   "execution_count": 12,
   "id": "e76dbca0-bf39-44a7-944d-c97342d3285d",
   "metadata": {},
   "outputs": [
    {
     "name": "stdout",
     "output_type": "stream",
     "text": [
      "0 1 2 3 4\n",
      "0 1 2 3\n",
      "0 1 2\n",
      "0 1\n",
      "0\n"
     ]
    }
   ],
   "source": [
    "print(\"\\n\".join([\" \".join([str(j) for j in range(5 - i)]) for i in range(5)]))"
   ]
  },
  {
   "cell_type": "code",
   "execution_count": 13,
   "id": "b6556b10-11bb-490e-8cb7-59ba859ff1f7",
   "metadata": {},
   "outputs": [
    {
     "name": "stdout",
     "output_type": "stream",
     "text": [
      "['0', '1', '2', '3', '4']\n"
     ]
    }
   ],
   "source": [
    "#Step 1: Create an empty list and append the values \"0\", \"1\", \"2\", \"3\", \"4\"\n",
    "t = []\n",
    "for j in range(5):\n",
    "    t.append(str(j))\n",
    "print(t)"
   ]
  },
  {
   "cell_type": "code",
   "execution_count": 17,
   "id": "39cc3957-f72a-4188-969d-620e26416cd1",
   "metadata": {},
   "outputs": [
    {
     "name": "stdout",
     "output_type": "stream",
     "text": [
      "['0', '1', '2', '3', '4']\n"
     ]
    }
   ],
   "source": [
    "#Step 2: Convert the above syntax into list comprehension\n",
    "t = [str(j) for j in range(5)]\n",
    "print(t)"
   ]
  },
  {
   "cell_type": "code",
   "execution_count": 18,
   "id": "479c3433-6a86-40e4-9ca7-7c9a933d769d",
   "metadata": {},
   "outputs": [
    {
     "name": "stdout",
     "output_type": "stream",
     "text": [
      "['0', '1', '2', '3', '4']\n"
     ]
    }
   ],
   "source": [
    "#Alternate step2\n",
    "t = list(map(str, range(5)))\n",
    "print(t)"
   ]
  },
  {
   "cell_type": "code",
   "execution_count": 16,
   "id": "b798eda3-c144-4745-b13c-de3a2427d695",
   "metadata": {},
   "outputs": [
    {
     "name": "stdout",
     "output_type": "stream",
     "text": [
      "0 1 2 3 4\n"
     ]
    }
   ],
   "source": [
    "#Step 3: Convert the array created in step 2 to a single string\n",
    "s = \" \".join(t)\n",
    "print(s)"
   ]
  },
  {
   "cell_type": "code",
   "execution_count": 24,
   "id": "738e602a-2aeb-42b0-919d-ed2db2e08aca",
   "metadata": {},
   "outputs": [
    {
     "name": "stdout",
     "output_type": "stream",
     "text": [
      "0 1 2 3 4\n",
      "0 1 2 3\n",
      "0 1 2\n",
      "0 1\n",
      "0\n",
      "\n",
      "0 1 2 3 4\n",
      "0 1 2 3\n",
      "0 1 2\n",
      "0 1\n",
      "0\n"
     ]
    }
   ],
   "source": [
    "#Step 4: Use the above method in a for loop to get the pattern\n",
    "for i in range(5):\n",
    "    t = [str(j) for j in range(5-i)]\n",
    "    s = \" \".join(t)\n",
    "    print(s)\n",
    "    \n",
    "print()\n",
    "#Compressing the code\n",
    "for i in range(5):\n",
    "    print(\" \".join([str(j) for j in range(5 - i)]))"
   ]
  },
  {
   "cell_type": "code",
   "execution_count": 28,
   "id": "5846bc1f-77b5-4e7f-ba49-b73f722c1a6f",
   "metadata": {},
   "outputs": [],
   "source": [
    "#Step 5: Using another list comprehension\n",
    "print(\"\\n\".join([\" \".join(([str(j) for j in range(5-i)]) for i in range(5))"
   ]
  },
  {
   "cell_type": "markdown",
   "id": "91e908ea-428e-4c67-9baa-b3d19306d154",
   "metadata": {},
   "source": [
    "### Break and continue"
   ]
  },
  {
   "cell_type": "code",
   "execution_count": 30,
   "id": "263a0935-9f26-4924-9a0d-996bb340da07",
   "metadata": {},
   "outputs": [
    {
     "name": "stdout",
     "output_type": "stream",
     "text": [
      "0\n",
      "1\n",
      "3\n",
      "4\n",
      "5\n"
     ]
    }
   ],
   "source": [
    "for i in range(10):\n",
    "    if i == 2:\n",
    "        continue\n",
    "    elif i == 6:\n",
    "        break\n",
    "    print(i)"
   ]
  },
  {
   "cell_type": "code",
   "execution_count": 32,
   "id": "50872858-a566-42a9-ae8a-ff98aaeeebd3",
   "metadata": {},
   "outputs": [
    {
     "name": "stdout",
     "output_type": "stream",
     "text": [
      "\n",
      "I loop 0\n",
      "J loop 0\n",
      "J loop 1\n",
      "Breaking inner loop\n",
      "\n",
      "I loop 1\n",
      "J loop 0\n",
      "J loop 1\n",
      "Breaking inner loop\n",
      "\n",
      "I loop 2\n",
      "J loop 0\n",
      "J loop 1\n",
      "Breaking inner loop\n",
      "\n",
      "I loop 3\n",
      "J loop 0\n",
      "J loop 1\n",
      "Breaking inner loop\n",
      "Breaking outer loop\n",
      "\n",
      "Outside loop\n"
     ]
    }
   ],
   "source": [
    "for i in range(10):\n",
    "    print(\"\\nI loop\", i)\n",
    "    for j in range(5):\n",
    "        if j==2:\n",
    "            print(\"Breaking inner loop\")\n",
    "            break\n",
    "        print(\"J loop\", j)\n",
    "    if i == 3:\n",
    "        print(\"Breaking outer loop\")\n",
    "        break\n",
    "print(\"\\nOutside loop\")"
   ]
  },
  {
   "cell_type": "markdown",
   "id": "d58916a4-39d7-466b-a031-f7388d5c9688",
   "metadata": {},
   "source": [
    "### Else in for loop"
   ]
  },
  {
   "cell_type": "code",
   "execution_count": 33,
   "id": "18e9a9fb-5e69-4acd-a071-37a6be59d302",
   "metadata": {},
   "outputs": [
    {
     "name": "stdout",
     "output_type": "stream",
     "text": [
      "0\n",
      "1\n",
      "No break was executed\n"
     ]
    }
   ],
   "source": [
    "flag = True\n",
    "for i in range(2):\n",
    "    print(i)\n",
    "    if i == 3:\n",
    "        flag = False\n",
    "        break\n",
    "if flag:\n",
    "    print(\"No break was executed\")\n",
    "else:\n",
    "    print(\"Break was executed\")"
   ]
  },
  {
   "cell_type": "code",
   "execution_count": 34,
   "id": "a3097a57-9c32-4b61-bd23-2d559b8edfcd",
   "metadata": {},
   "outputs": [
    {
     "name": "stdout",
     "output_type": "stream",
     "text": [
      "Number not found\n"
     ]
    }
   ],
   "source": [
    "ar = [1, 2, 3, 4, 5]\n",
    "n = 8\n",
    "\n",
    "for i in ar:\n",
    "    if n == i:\n",
    "        print(\"Number Found\")\n",
    "        break\n",
    "else:\n",
    "    print(\"Number not found\")"
   ]
  }
 ],
 "metadata": {
  "kernelspec": {
   "display_name": "Python 3",
   "language": "python",
   "name": "python3"
  },
  "language_info": {
   "codemirror_mode": {
    "name": "ipython",
    "version": 3
   },
   "file_extension": ".py",
   "mimetype": "text/x-python",
   "name": "python",
   "nbconvert_exporter": "python",
   "pygments_lexer": "ipython3",
   "version": "3.8.6"
  }
 },
 "nbformat": 4,
 "nbformat_minor": 5
}
