{
 "cells": [
  {
   "cell_type": "markdown",
   "id": "67007899-45da-410a-88f8-01e56b8dacd4",
   "metadata": {},
   "source": [
    "<center><h1>Decision Making</h1></center>"
   ]
  },
  {
   "cell_type": "code",
   "execution_count": 4,
   "id": "b8e198e2-1082-4d65-ab05-a681824bce31",
   "metadata": {},
   "outputs": [
    {
     "name": "stdout",
     "output_type": "stream",
     "text": [
      "You are an adult\n",
      "Outside the if statement\n"
     ]
    }
   ],
   "source": [
    "age = 20\n",
    "if age >= 18:\n",
    "    print(\"You are an adult\")\n",
    "print(\"Outside the if statement\")"
   ]
  },
  {
   "cell_type": "code",
   "execution_count": 3,
   "id": "43817d52-5c08-4438-8589-fff3953dccd7",
   "metadata": {},
   "outputs": [
    {
     "name": "stdout",
     "output_type": "stream",
     "text": [
      "Outside the if statement\n"
     ]
    }
   ],
   "source": [
    "age = 17\n",
    "if age >= 18:\n",
    "    print(\"You are an adult\")\n",
    "print(\"Outside the if statement\")"
   ]
  },
  {
   "cell_type": "code",
   "execution_count": 5,
   "id": "e73bef21-b931-4863-a16d-f3f880b9044e",
   "metadata": {},
   "outputs": [
    {
     "name": "stdout",
     "output_type": "stream",
     "text": [
      "You are not an adult\n"
     ]
    }
   ],
   "source": [
    "age = 17\n",
    "if age >= 18:\n",
    "    print(\"You are an adult\")\n",
    "else:\n",
    "    print(\"You are not an adult\")"
   ]
  },
  {
   "cell_type": "code",
   "execution_count": 6,
   "id": "53878f8d-a794-485a-862b-04304359923f",
   "metadata": {},
   "outputs": [
    {
     "name": "stdout",
     "output_type": "stream",
     "text": [
      "You are older than eighteen\n"
     ]
    }
   ],
   "source": [
    "age = 20\n",
    "if age == 18:\n",
    "    print(\"You are eighteen years old\")\n",
    "elif age > 18:\n",
    "    print(\"You are older than eighteen\")\n",
    "else:\n",
    "    print(\"You are younger than eighteen\")"
   ]
  },
  {
   "cell_type": "code",
   "execution_count": 7,
   "id": "9dd5e5eb-4008-4cb0-a396-c3e62e1b6d6e",
   "metadata": {},
   "outputs": [],
   "source": [
    "age = 16\n",
    "if age == 18:\n",
    "    print(\"You are eighteen years old\")\n",
    "elif age > 18:\n",
    "    print(\"You are older than eighteen\")"
   ]
  },
  {
   "cell_type": "code",
   "execution_count": 8,
   "id": "cf584e1a-3a4e-4a8b-9360-e48733485434",
   "metadata": {},
   "outputs": [
    {
     "name": "stdout",
     "output_type": "stream",
     "text": [
      "Both conditions are True\n"
     ]
    }
   ],
   "source": [
    "a = 10\n",
    "b = 20\n",
    "if a > 5 and b > 15:\n",
    "    print(\"Both conditions are True\")"
   ]
  },
  {
   "cell_type": "code",
   "execution_count": 9,
   "id": "bf814d68-5d8b-4622-82c5-f81c6aa2ac86",
   "metadata": {},
   "outputs": [
    {
     "name": "stdout",
     "output_type": "stream",
     "text": [
      "At least one of the condition is true\n"
     ]
    }
   ],
   "source": [
    "a = 0\n",
    "b = 20\n",
    "if a > 15 or b > 15:\n",
    "    print(\"At least one of the condition is true\")"
   ]
  },
  {
   "cell_type": "code",
   "execution_count": 11,
   "id": "5af6d0db-d81b-40c6-9db6-e375ca5ae009",
   "metadata": {},
   "outputs": [
    {
     "name": "stdout",
     "output_type": "stream",
     "text": [
      "The value of a is not 20\n"
     ]
    }
   ],
   "source": [
    "if not a == 20:\n",
    "    print(\"The value of a is not 20\")"
   ]
  },
  {
   "cell_type": "code",
   "execution_count": 12,
   "id": "8f1449e9-799b-441e-91da-99905523c7a5",
   "metadata": {},
   "outputs": [
    {
     "name": "stdout",
     "output_type": "stream",
     "text": [
      "a & b have same value\n"
     ]
    }
   ],
   "source": [
    "a = [10, 20]\n",
    "b = [10, 20]\n",
    "if a == b:\n",
    "    print(\"a & b have same value\")\n",
    "if a is b:\n",
    "    print(\"a & b have same identity\")"
   ]
  },
  {
   "cell_type": "code",
   "execution_count": 13,
   "id": "6f22b756-24c3-4b39-8d8e-540bde8a6e20",
   "metadata": {},
   "outputs": [
    {
     "name": "stdout",
     "output_type": "stream",
     "text": [
      "a & b have same value\n",
      "a & b have same identity\n"
     ]
    }
   ],
   "source": [
    "a = [10, 20]\n",
    "b = a\n",
    "if a == b:\n",
    "    print(\"a & b have same value\")\n",
    "if a is b:\n",
    "    print(\"a & b have same identity\")"
   ]
  },
  {
   "cell_type": "code",
   "execution_count": 15,
   "id": "88174468-27d5-42a8-b977-46f2b94f286a",
   "metadata": {},
   "outputs": [
    {
     "data": {
      "text/plain": [
       "(2492145746240, 2492145746240)"
      ]
     },
     "execution_count": 15,
     "metadata": {},
     "output_type": "execute_result"
    }
   ],
   "source": [
    "id(a), id(b)  #checkimg the identity/address if a and b"
   ]
  },
  {
   "cell_type": "code",
   "execution_count": 16,
   "id": "07ca8fe0-c450-4698-a97c-30868a109fe7",
   "metadata": {},
   "outputs": [
    {
     "name": "stdout",
     "output_type": "stream",
     "text": [
      "Value found\n"
     ]
    }
   ],
   "source": [
    "if 10 in [10, 20, 30]:\n",
    "    print(\"Value found\")"
   ]
  },
  {
   "cell_type": "code",
   "execution_count": 18,
   "id": "8166f7d8-defb-4bb0-abd4-4d2633662ea4",
   "metadata": {},
   "outputs": [
    {
     "name": "stdout",
     "output_type": "stream",
     "text": [
      "Value not found\n"
     ]
    }
   ],
   "source": [
    "if 10 not in [40, 20, 30]:\n",
    "    print(\"Value not found\")"
   ]
  },
  {
   "cell_type": "markdown",
   "id": "6e0db18c-9078-41e4-8b4b-e5ef98f5e5e4",
   "metadata": {},
   "source": [
    "### Nested if"
   ]
  },
  {
   "cell_type": "code",
   "execution_count": 19,
   "id": "be3ba49f-fdc9-454d-90ad-4a4e9f2e4039",
   "metadata": {},
   "outputs": [
    {
     "name": "stdout",
     "output_type": "stream",
     "text": [
      "Age is greater than 18\n"
     ]
    }
   ],
   "source": [
    "age = 20\n",
    "if age >= 18:\n",
    "    if age == 18:\n",
    "        print(\"Age is 18\")\n",
    "    else:\n",
    "        print(\"Age is greater than 18\")\n",
    "else:\n",
    "    print(\"Age is less than 18\")"
   ]
  },
  {
   "cell_type": "code",
   "execution_count": 20,
   "id": "f22b612f-7cb8-4244-bb3e-ae85ea4e4b7d",
   "metadata": {},
   "outputs": [],
   "source": [
    "age = 20\n",
    "if age >= 18:\n",
    "    if age == 18:\n",
    "        print('Age is 18')\n",
    "else:\n",
    "    print(\"Age is less than 18\")"
   ]
  },
  {
   "cell_type": "markdown",
   "id": "5965b8f9-2ced-40da-be0d-068ea8482299",
   "metadata": {},
   "source": [
    "### Ternary (Short Hand if)"
   ]
  },
  {
   "cell_type": "code",
   "execution_count": 21,
   "id": "3d4fbb1f-b2b5-4c79-b64d-f4ca6ab94424",
   "metadata": {},
   "outputs": [],
   "source": [
    "a, b = 10, 20"
   ]
  },
  {
   "cell_type": "code",
   "execution_count": 22,
   "id": "90c4f81c-2c70-48de-a87e-8b1664594416",
   "metadata": {},
   "outputs": [
    {
     "name": "stdout",
     "output_type": "stream",
     "text": [
      "20\n"
     ]
    }
   ],
   "source": [
    "c = a if a > b else b\n",
    "print(c)"
   ]
  },
  {
   "cell_type": "code",
   "execution_count": 24,
   "id": "04f50cf5-bc88-4d8f-97f0-c6d212f3eeeb",
   "metadata": {},
   "outputs": [],
   "source": [
    "#Alternative\n",
    "c = max(10, 20)\n",
    "\n",
    "#Another alternative\n",
    "if a > b:\n",
    "    c = a\n",
    "else:\n",
    "    c = b"
   ]
  },
  {
   "cell_type": "code",
   "execution_count": 25,
   "id": "440775d9-3e78-4585-a842-d3ba7b1243cb",
   "metadata": {},
   "outputs": [
    {
     "name": "stdout",
     "output_type": "stream",
     "text": [
      "20\n"
     ]
    }
   ],
   "source": [
    "print(a) if a > b else print(b)"
   ]
  }
 ],
 "metadata": {
  "kernelspec": {
   "display_name": "Python 3",
   "language": "python",
   "name": "python3"
  },
  "language_info": {
   "codemirror_mode": {
    "name": "ipython",
    "version": 3
   },
   "file_extension": ".py",
   "mimetype": "text/x-python",
   "name": "python",
   "nbconvert_exporter": "python",
   "pygments_lexer": "ipython3",
   "version": "3.8.6"
  }
 },
 "nbformat": 4,
 "nbformat_minor": 5
}
