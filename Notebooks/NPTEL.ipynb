{
 "cells": [
  {
   "cell_type": "markdown",
   "metadata": {},
   "source": [
    "# NPTEL Week 2 Quiz"
   ]
  },
  {
   "cell_type": "code",
   "execution_count": 1,
   "metadata": {},
   "outputs": [
    {
     "ename": "TypeError",
     "evalue": "'str' object does not support item assignment",
     "output_type": "error",
     "traceback": [
      "\u001b[1;31m---------------------------------------------------------------------------\u001b[0m",
      "\u001b[1;31mTypeError\u001b[0m                                 Traceback (most recent call last)",
      "\u001b[1;32m<ipython-input-1-2c0cfc83c36f>\u001b[0m in \u001b[0;36m<module>\u001b[1;34m\u001b[0m\n\u001b[0;32m      6\u001b[0m \u001b[0my\u001b[0m\u001b[1;33m[\u001b[0m\u001b[1;36m2\u001b[0m\u001b[1;33m]\u001b[0m \u001b[1;33m=\u001b[0m \u001b[1;36m4\u001b[0m                             \u001b[1;31m# Statement 6\u001b[0m\u001b[1;33m\u001b[0m\u001b[1;33m\u001b[0m\u001b[0m\n\u001b[0;32m      7\u001b[0m \u001b[0mz\u001b[0m\u001b[1;33m[\u001b[0m\u001b[1;36m4\u001b[0m\u001b[1;33m]\u001b[0m \u001b[1;33m=\u001b[0m \u001b[1;36m42\u001b[0m                            \u001b[1;31m# Statement 7\u001b[0m\u001b[1;33m\u001b[0m\u001b[1;33m\u001b[0m\u001b[0m\n\u001b[1;32m----> 8\u001b[1;33m \u001b[0mw\u001b[0m\u001b[1;33m[\u001b[0m\u001b[1;36m0\u001b[0m\u001b[1;33m]\u001b[0m\u001b[1;33m[\u001b[0m\u001b[1;33m:\u001b[0m\u001b[1;36m3\u001b[0m\u001b[1;33m]\u001b[0m \u001b[1;33m=\u001b[0m \u001b[1;34m'fea'\u001b[0m                     \u001b[1;31m# Statement 8\u001b[0m\u001b[1;33m\u001b[0m\u001b[1;33m\u001b[0m\u001b[0m\n\u001b[0m\u001b[0;32m      9\u001b[0m \u001b[0mx\u001b[0m\u001b[1;33m[\u001b[0m\u001b[1;36m1\u001b[0m\u001b[1;33m]\u001b[0m\u001b[1;33m[\u001b[0m\u001b[1;36m0\u001b[0m\u001b[1;33m]\u001b[0m \u001b[1;33m=\u001b[0m \u001b[1;36m5555\u001b[0m                       \u001b[1;31m# Statement 9\u001b[0m\u001b[1;33m\u001b[0m\u001b[1;33m\u001b[0m\u001b[0m\n\u001b[0;32m     10\u001b[0m \u001b[0ma\u001b[0m \u001b[1;33m=\u001b[0m \u001b[1;33m(\u001b[0m\u001b[0mx\u001b[0m\u001b[1;33m[\u001b[0m\u001b[1;36m4\u001b[0m\u001b[1;33m]\u001b[0m\u001b[1;33m[\u001b[0m\u001b[1;36m1\u001b[0m\u001b[1;33m]\u001b[0m \u001b[1;33m==\u001b[0m \u001b[1;36m1\u001b[0m\u001b[1;33m)\u001b[0m                   \u001b[1;31m# Statement 10\u001b[0m\u001b[1;33m\u001b[0m\u001b[1;33m\u001b[0m\u001b[0m\n",
      "\u001b[1;31mTypeError\u001b[0m: 'str' object does not support item assignment"
     ]
    }
   ],
   "source": [
    "x = [\"slithy\",[7,10,12],2,\"tove\",1]  # Statement 1\n",
    "y = x[0:50]                          # Statement 2\n",
    "z = y                                # Statement 3\n",
    "w = x                                # Statement 4\n",
    "x[0] = x[0][:5] + 'ery'              # Statement 5\n",
    "y[2] = 4                             # Statement 6\n",
    "z[4] = 42                            # Statement 7\n",
    "w[0][:3] = 'fea'                     # Statement 8\n",
    "x[1][0] = 5555                       # Statement 9\n",
    "a = (x[4][1] == 1)                   # Statement 10"
   ]
  },
  {
   "cell_type": "code",
   "execution_count": 2,
   "metadata": {},
   "outputs": [
    {
     "name": "stdout",
     "output_type": "stream",
     "text": [
      "[44, 87, 100]\n",
      "[23, 44, 77, 100]\n",
      "[23, 44, 77, 100]\n",
      "[97, 100]\n"
     ]
    }
   ],
   "source": [
    "b = [23,44,87,100]\n",
    "a = b[1:]\n",
    "d = b[2:]\n",
    "c = b\n",
    "d[0] = 97\n",
    "c[2] = 77\n",
    "print(a)\n",
    "print(b)\n",
    "print(c)\n",
    "print(d)"
   ]
  },
  {
   "cell_type": "code",
   "execution_count": 3,
   "metadata": {},
   "outputs": [
    {
     "name": "stdout",
     "output_type": "stream",
     "text": [
      "python\n"
     ]
    }
   ],
   "source": [
    "startmsg = \"python\"\n",
    "endmsg = \"\"\n",
    "for i in range(1,1+len(startmsg)):\n",
    "    endmsg = startmsg[-i] + endmsg\n",
    "print(endmsg)"
   ]
  },
  {
   "cell_type": "code",
   "execution_count": 4,
   "metadata": {},
   "outputs": [
    {
     "name": "stdout",
     "output_type": "stream",
     "text": [
      "[7, 11, 13]\n"
     ]
    }
   ],
   "source": [
    "def mystery(l):\n",
    "  l = l[1:]\n",
    "  return()\n",
    "\n",
    "mylist = [7,11,13]\n",
    "mystery(mylist)\n",
    "print(mylist)"
   ]
  },
  {
   "cell_type": "markdown",
   "metadata": {},
   "source": [
    "# NPTEL Programming Assignment Week 2"
   ]
  },
  {
   "cell_type": "code",
   "execution_count": 5,
   "metadata": {},
   "outputs": [],
   "source": [
    "def isprime(n):\n",
    "    count = 0\n",
    "    for num in range(1, n+1):\n",
    "        if n%num==0:\n",
    "            count = count+1\n",
    "    if count==2:\n",
    "        return True\n",
    "    else:\n",
    "        return False\n",
    "\n",
    "def primeproduct(m):\n",
    "    if m<0:\n",
    "        return False\n",
    "    product = 1\n",
    "    li = []\n",
    "    for num in range(1, m+1):\n",
    "        if m%num==0:\n",
    "            if isprime(num)==True:\n",
    "                li.append(num)\n",
    "    for num in li:\n",
    "        product = product*num\n",
    "    if product==m:\n",
    "        return True\n",
    "    else:\n",
    "        return False\n",
    "\n",
    "\n",
    "def delchar(s, c):\n",
    "    t = \"\"\n",
    "    if len(c)>1:\n",
    "        return s\n",
    "    for i in s:\n",
    "        if i==c:\n",
    "            continue\n",
    "        else:\n",
    "            t = t+i\n",
    "    return t\n",
    "\n",
    "\n",
    "def shuffle(l1, l2):\n",
    "    l3 = []\n",
    "    c = 0\n",
    "    for i in l1:\n",
    "        l3.insert(c, i)\n",
    "        c = c+2\n",
    "    d = 1\n",
    "    for i in l2:\n",
    "        if d<c:\n",
    "            l3.insert(d, i)\n",
    "            d = d+2\n",
    "        else:\n",
    "            l3.append(i)\n",
    "    return l3\n"
   ]
  },
  {
   "cell_type": "markdown",
   "metadata": {},
   "source": [
    "# NPTEL Programming Assignment Week 3"
   ]
  },
  {
   "cell_type": "code",
   "execution_count": 7,
   "metadata": {},
   "outputs": [],
   "source": [
    "def contracting(li):\n",
    "    d = []\n",
    "    for i in range(0, len(li)-1):\n",
    "        d.append(abs(li[i] - li[i+1]))\n",
    "    f = 0\n",
    "    for i in range(0, len(d)-1):\n",
    "        if d[i+1] < d[i]:\n",
    "            f = 1\n",
    "        else:\n",
    "            f = 0\n",
    "            break\n",
    "    if f==1:\n",
    "        return True\n",
    "    else:\n",
    "        return False\n",
    "\n",
    "def counthv(li):\n",
    "    r = []\n",
    "    hc = 0\n",
    "    vc = 0\n",
    "    for i in range(1, len(li)-1):\n",
    "        if li[i-1] < li[i] and li[i] > li[i+1]:\n",
    "            hc = hc + 1\n",
    "        elif li[i-1] > li[i] and li[i] < li[i+1]:\n",
    "            vc = vc + 1\n",
    "    r.append(hc)\n",
    "    r.append(vc)\n",
    "    return r\n",
    "\n",
    "\n",
    "def leftrotate(ar):\n",
    "    x = []\n",
    "    l = len(ar)\n",
    "    for i in range(0, l):\n",
    "        y = []\n",
    "        for j in range(l-1, -1, -1):\n",
    "            y.append(ar[i][j])\n",
    "        x.append(y)\n",
    "    x1 = []\n",
    "    for i in range(0, l):\n",
    "        y1 = []\n",
    "        for j in range(0, l):\n",
    "            y1.append(x[j][i])\n",
    "        x1.append(y1)\n",
    "    return x1"
   ]
  },
  {
   "cell_type": "markdown",
   "metadata": {},
   "source": [
    "# NPTEL Week 4 Quiz"
   ]
  },
  {
   "cell_type": "code",
   "execution_count": 1,
   "metadata": {},
   "outputs": [
    {
     "data": {
      "text/plain": [
       "[55, 82, 65, 19, 14, 22]"
      ]
     },
     "execution_count": 1,
     "metadata": {},
     "output_type": "execute_result"
    }
   ],
   "source": [
    "def mystery(l):\n",
    "    if l == []:\n",
    "        return(l)\n",
    "    else:\n",
    "        return(mystery(l[1:])+l[:1])\n",
    "mystery([22,14,19,65,82,55])"
   ]
  },
  {
   "cell_type": "code",
   "execution_count": 2,
   "metadata": {},
   "outputs": [
    {
     "name": "stdout",
     "output_type": "stream",
     "text": [
      "[(4, 5), (4, 2), (3, 3), (2, 4)]\n"
     ]
    }
   ],
   "source": [
    "pairs = [ (x,y) for x in range(4,1,-1) for y in range(5,1,-1) if (x+y)%3 == 0 ]\n",
    "print(pairs)"
   ]
  },
  {
   "cell_type": "code",
   "execution_count": 9,
   "metadata": {},
   "outputs": [],
   "source": [
    "wickets = {\"Tests\":{\"Kumble\":[3,5,2,3],\"Srinath\":[4,4,1,0],\"Prasad\":[2,1,7,4]},\"ODI\":{\"Kumble\":[2,0],\"Srinath\":[1,2]}}\n",
    "wickets[\"ODI\"][\"Prasad\"] = [4,4]"
   ]
  },
  {
   "cell_type": "code",
   "execution_count": 13,
   "metadata": {},
   "outputs": [
    {
     "ename": "TypeError",
     "evalue": "unhashable type: 'list'",
     "output_type": "error",
     "traceback": [
      "\u001b[1;31m---------------------------------------------------------------------------\u001b[0m",
      "\u001b[1;31mTypeError\u001b[0m                                 Traceback (most recent call last)",
      "\u001b[1;32m<ipython-input-13-7a1b346c49f2>\u001b[0m in \u001b[0;36m<module>\u001b[1;34m\u001b[0m\n\u001b[0;32m      1\u001b[0m \u001b[0mhundreds\u001b[0m \u001b[1;33m=\u001b[0m \u001b[1;33m{\u001b[0m\u001b[1;33m}\u001b[0m\u001b[1;33m\u001b[0m\u001b[1;33m\u001b[0m\u001b[0m\n\u001b[1;32m----> 2\u001b[1;33m \u001b[0mhundreds\u001b[0m\u001b[1;33m[\u001b[0m\u001b[1;33m[\u001b[0m\u001b[1;34m\"Tendulkar\"\u001b[0m\u001b[1;33m,\u001b[0m\u001b[1;34m\"international\"\u001b[0m\u001b[1;33m]\u001b[0m\u001b[1;33m]\u001b[0m \u001b[1;33m=\u001b[0m \u001b[1;36m100\u001b[0m\u001b[1;33m\u001b[0m\u001b[1;33m\u001b[0m\u001b[0m\n\u001b[0m",
      "\u001b[1;31mTypeError\u001b[0m: unhashable type: 'list'"
     ]
    }
   ],
   "source": [
    "hundreds = {}\n",
    "hundreds[[\"Tendulkar\",\"international\"]] = 100"
   ]
  },
  {
   "cell_type": "markdown",
   "metadata": {},
   "source": [
    "# NPTEL Programming Assignment Week 4"
   ]
  },
  {
   "cell_type": "code",
   "execution_count": 1,
   "metadata": {},
   "outputs": [],
   "source": [
    "def frequency(l):\n",
    "    unique_l = list(set(l))\n",
    "    freq_list = [l.count(x) for x in unique_l]\n",
    "    min_freq_list = [unique_l[x] for x in range(len(freq_list)) if freq_list[x] == min(freq_list)]\n",
    "    max_freq_list = [unique_l[x] for x in range(len(freq_list)) if freq_list[x] == max(freq_list)]\n",
    "    min_freq_list.sort()\n",
    "    max_freq_list.sort()\n",
    "    return (min_freq_list, max_freq_list)\n",
    "\n",
    "def onehop(l):\n",
    "    hopli=[]\n",
    "    for f in l:\n",
    "        i=f[0]\n",
    "        j=f[1]\n",
    "        for d in l:\n",
    "            if d[0]==j and d[1]!=i:\n",
    "                hopli.append((i,d[1]))\n",
    "        hop=set(hopli)\n",
    "        hoplis=list(hop)\n",
    "        hoplis.sort()\n",
    "    return hoplis"
   ]
  },
  {
   "cell_type": "code",
   "execution_count": 1,
   "metadata": {},
   "outputs": [],
   "source": [
    "def frequency(l):\n",
    "    if len(l)==0:\n",
    "        return ()\n",
    "    max=0\n",
    "    maxli=[]\n",
    "    min=len(l)+1\n",
    "    minli=[]\n",
    "    li=set(l)\n",
    "    for i in li:\n",
    "        freq=l.count(i)\n",
    "        if freq>max:\n",
    "            max=freq\n",
    "        if freq<min:\n",
    "            min=freq\n",
    "     \n",
    "    for i in li:\n",
    "        freq=l.count(i)\n",
    "        if freq==max:\n",
    "            maxli.append(i)\n",
    "        if freq==min:\n",
    "            minli.append(i)\n",
    "            minli.sort()\n",
    "            maxli.sort()\n",
    "    return (minli,maxli)"
   ]
  },
  {
   "cell_type": "markdown",
   "metadata": {},
   "source": [
    "# NPTEL Programming Assignment Week 5"
   ]
  },
  {
   "cell_type": "code",
   "execution_count": 8,
   "metadata": {},
   "outputs": [
    {
     "name": "stdout",
     "output_type": "stream",
     "text": [
      "Courses\n",
      "TRAN~Transfiguration~1~2011-2012~Minerva McGonagall\n",
      "CHAR~Charms~1~2011-2012~Filius Flitwick\n",
      "Students\n",
      "SLY2301~Hannah Abbott\n",
      "SLY2302~Euan Abercrombie\n",
      "SLY2303~Stewart Ackerley\n",
      "SLY2304~Bertram Aubrey\n",
      "SLY2305~Avery\n",
      "SLY2306~Malcolm Baddock\n",
      "SLY2307~Marcus Belby\n",
      "SLY2308~Katie Bell\n",
      "SLY2309~Sirius Orion Black\n",
      "Grades\n",
      "TRAN~1~2011-2012~SLY2301~AB\n",
      "TRAN~1~2011-2012~SLY2302~B\n",
      "TRAN~1~2011-2012~SLY2303~B\n",
      "TRAN~1~2011-2012~SLY2305~A\n",
      "TRAN~1~2011-2012~SLY2306~BC\n",
      "TRAN~1~2011-2012~SLY2308~A\n",
      "TRAN~1~2011-2012~SLY2309~AB\n",
      "CHAR~1~2011-2012~SLY2301~A\n",
      "CHAR~1~2011-2012~SLY2302~BC\n",
      "CHAR~1~2011-2012~SLY2303~B\n",
      "CHAR~1~2011-2012~SLY2305~BC\n",
      "CHAR~1~2011-2012~SLY2306~C\n",
      "CHAR~1~2011-2012~SLY2307~B\n",
      "CHAR~1~2011-2012~SLY2308~AB\n",
      "EndOfInput\n",
      "SLY2301~Hannah Abbott~9.5\n",
      "SLY2302~Euan Abercrombie~7.5\n",
      "SLY2303~Stewart Ackerley~8.0\n",
      "SLY2304~Bertram Aubrey~0\n",
      "SLY2305~Avery~8.5\n",
      "SLY2306~Malcolm Baddock~6.5\n",
      "SLY2307~Marcus Belby~8.0\n",
      "SLY2308~Katie Bell~9.5\n",
      "SLY2309~Sirius Orion Black~9.0\n"
     ]
    }
   ],
   "source": [
    "section = input()\n",
    "roll = []\n",
    "name = []\n",
    "grade = []\n",
    "count = []\n",
    "gpa = []\n",
    "g = 0\n",
    "while(True):\n",
    "    if section==\"Courses\":\n",
    "        str = input()\n",
    "        if '~' not in str:\n",
    "            section = str\n",
    "            continue\n",
    "        tmp = str.split('~')\n",
    "    elif section==\"Students\":\n",
    "        str = input()\n",
    "        if '~' not in str:\n",
    "            section = str\n",
    "            continue\n",
    "        tmp = str.split('~')\n",
    "        roll.append(tmp[0])\n",
    "        name.append(tmp[1])\n",
    "        grade.append(0)\n",
    "        count.append(0)\n",
    "        gpa.append(0)\n",
    "    elif section==\"Grades\":\n",
    "        str = input()\n",
    "        if '~' not in str:\n",
    "            section = str\n",
    "            continue\n",
    "        tmp = str.split('~')\n",
    "        for i in range(len(roll)):\n",
    "            if tmp[3]==roll[i]:\n",
    "                if tmp[4]==\"A\":\n",
    "                    g = 10\n",
    "                elif tmp[4]==\"AB\":\n",
    "                    g = 9\n",
    "                elif tmp[4]==\"B\":\n",
    "                    g = 8\n",
    "                elif tmp[4]==\"BC\":\n",
    "                    g = 7\n",
    "                elif tmp[4]==\"C\":\n",
    "                    g = 6\n",
    "                elif tmp[4]==\"CD\":\n",
    "                    g = 5\n",
    "                elif tmp[4]==\"D\":\n",
    "                    g = 4\n",
    "                grade[i] = grade[i] + g\n",
    "                count[i] = count[i] + 1\n",
    "    elif section==\"EndOfInput\":\n",
    "        break\n",
    "for i in range(len(grade)):\n",
    "    if count[i]!=0:\n",
    "        gpa[i] = round(float(grade[i]/count[i]), 2)\n",
    "    else:\n",
    "        gpa[i] = 0\n",
    "fd = {roll[i]: [name[i], gpa[i]] for i in range(len(roll))}\n",
    "for k, v in sorted(fd.items()):\n",
    "    print(k+'~', end='')\n",
    "    for i in range(len(v)):\n",
    "        if i!=len(v)-1:\n",
    "            print(v[i], '~', sep='', end='')\n",
    "        else:\n",
    "            print(v[i], end='')\n",
    "    print()"
   ]
  },
  {
   "cell_type": "code",
   "execution_count": 4,
   "metadata": {},
   "outputs": [
    {
     "name": "stdin",
     "output_type": "stream",
     "text": [
      "How many queens?  4\n"
     ]
    },
    {
     "name": "stdout",
     "output_type": "stream",
     "text": [
      "(0, 1)\n",
      "(1, 3)\n",
      "(2, 0)\n",
      "(3, 2)\n"
     ]
    }
   ],
   "source": [
    "def initialize(n):\n",
    "  for key in ['queen','row','col','nwtose','swtone']:\n",
    "    board[key] = {}\n",
    "  for i in range(n):\n",
    "    board['queen'][i] = -1\n",
    "    board['row'][i] = 0\n",
    "    board['col'][i] = 0\n",
    "  for i in range(-(n-1),n):\n",
    "    board['nwtose'][i] = 0\n",
    "  for i in range(2*n-1):\n",
    "    board['swtone'][i] = 0\n",
    "\n",
    "def printboard():\n",
    "  for row in sorted(board['queen'].keys()):\n",
    "    print((row,board['queen'][row]))\n",
    "\n",
    "def free(i,j):\n",
    "  return(board['row'][i] == 0 and board['col'][j] == 0 and\n",
    "          board['nwtose'][j-i] == 0 and board['swtone'][j+i] == 0)\n",
    "\n",
    "def addqueen(i,j):\n",
    "  board['queen'][i] = j\n",
    "  board['row'][i] = 1\n",
    "  board['col'][j] = 1\n",
    "  board['nwtose'][j-i] = 1\n",
    "  board['swtone'][j+i] = 1\n",
    "\n",
    "def undoqueen(i,j):\n",
    "  board['queen'][i] = -1\n",
    "  board['row'][i] = 0\n",
    "  board['col'][j] = 0\n",
    "  board['nwtose'][j-i] = 0\n",
    "  board['swtone'][j+i] = 0\n",
    "\n",
    "def placequeen(i):\n",
    "  n = len(board['queen'].keys())\n",
    "  for j in range(n):\n",
    "    if free(i,j):\n",
    "      addqueen(i,j)\n",
    "      if i == n-1:\n",
    "        return(True)\n",
    "      else:\n",
    "        extendsoln = placequeen(i+1)\n",
    "      if extendsoln:\n",
    "        return(True)\n",
    "      else:\n",
    "        undoqueen(i,j)\n",
    "  else:\n",
    "    return(False)\n",
    "\n",
    "board = {}\n",
    "n = int(input(\"How many queens? \"))\n",
    "initialize(n)\n",
    "if placequeen(0):\n",
    "  printboard()"
   ]
  },
  {
   "cell_type": "markdown",
   "metadata": {},
   "source": [
    "### User defined lists"
   ]
  },
  {
   "cell_type": "code",
   "execution_count": 2,
   "metadata": {},
   "outputs": [],
   "source": [
    "class Node:\n",
    "    def __init__(self, v = None):\n",
    "        self.value = v\n",
    "        self.next = None\n",
    "        return\n",
    "\n",
    "    def isempty(self):\n",
    "        if self.value == None:\n",
    "            return(True)\n",
    "        else:\n",
    "            return(False)\n",
    "\n",
    "    def append(self,v):   # append, recursive\n",
    "        if self.isempty():\n",
    "            self.value = v\n",
    "        elif self.next == None:\n",
    "            newnode = Node(v)\n",
    "            self.next = newnode\n",
    "        else:\n",
    "            self.next.append(v)\n",
    "        return\n",
    "\n",
    "    def insert(self,v):\n",
    "        if self.isempty():\n",
    "            self.value = v\n",
    "            return\n",
    "\n",
    "        newnode = Node(v)\n",
    "\n",
    "        # Exchange values in self and newnode\n",
    "        (self.value, newnode.value) = (newnode.value, self.value)\n",
    "        (self.next, newnode.next) = (newnode, self.next)\n",
    "\n",
    "        return\n",
    "\n",
    "    def delete(self,v):   # delete, recursive\n",
    "        if self.isempty():\n",
    "            return\n",
    "\n",
    "        if self.value == v:\n",
    "            self.value = None\n",
    "            if self.next != None:\n",
    "                self.value = self.next.value\n",
    "                self.next = self.next.next\n",
    "            return\n",
    "        else:\n",
    "            if self.next != None:\n",
    "                self.next.delete(v)\n",
    "                if self.next.value == None:\n",
    "                    self.next = None\n",
    "        return\n",
    "                \n",
    "    def __str__(self):\n",
    "        selflist = []\n",
    "        if self.value == None:\n",
    "            return(str(selflist))\n",
    "\n",
    "        temp = self\n",
    "        selflist.append(temp.value)\n",
    "        \n",
    "        while temp.next != None:\n",
    "            temp = temp.next\n",
    "            selflist.append(temp.value)\n",
    "\n",
    "        return(str(selflist))"
   ]
  },
  {
   "cell_type": "markdown",
   "metadata": {},
   "source": [
    "### Binary Search Tree"
   ]
  },
  {
   "cell_type": "code",
   "execution_count": 3,
   "metadata": {},
   "outputs": [],
   "source": [
    "class Tree:\n",
    "\n",
    "    # Empty node has self.value, self.left, self.right = None\n",
    "    # Leaf has self.value != None, and self.left, self.right point to empty node\n",
    "\n",
    "    # Constructor: create an empty node or a leaf node, depending on initval\n",
    "    def __init__(self,initval=None):\n",
    "        self.value = initval\n",
    "        if self.value:\n",
    "            self.left = Tree()\n",
    "            self.right = Tree()\n",
    "        else:\n",
    "            self.left = None\n",
    "            self.right = None\n",
    "        return\n",
    "\n",
    "    # Only empty node has value None\n",
    "    def isempty(self):\n",
    "        return (self.value == None)\n",
    "\n",
    "    # Leaf nodes have both children empty\n",
    "    def isleaf(self):\n",
    "        return (self.left.isempty() and self.right.isempty())\n",
    "\n",
    "    # Convert a leaf node to an empty node\n",
    "    def makeempty(self):\n",
    "        self.value = None\n",
    "        self.left = None\n",
    "        self.right = None\n",
    "        return\n",
    "\n",
    "    # Copy right child values to current node\n",
    "    def copyright(self):\n",
    "        self.value = self.right.value\n",
    "        self.left = self.right.left\n",
    "        self.right = self.right.right\n",
    "        return\n",
    "    \n",
    "    # Check if value v occurs in tree\n",
    "    def find(self,v):\n",
    "        if self.isempty():\n",
    "            return(False)\n",
    "\n",
    "        if self.value == v:\n",
    "            return(True)\n",
    "\n",
    "        if v < self.value:\n",
    "            return(self.left.find(v))\n",
    "\n",
    "        if v > self.value:\n",
    "            return(self.right.find(v))\n",
    "\n",
    "    # Insert value v in tree\n",
    "    def insert(self,v):\n",
    "        if self.isempty():\n",
    "            self.value = v\n",
    "            self.left = Tree()\n",
    "            self.right = Tree()\n",
    "\n",
    "        if self.value == v:\n",
    "            return\n",
    "\n",
    "        if v < self.value:\n",
    "            self.left.insert(v)\n",
    "            return\n",
    "\n",
    "        if v > self.value:\n",
    "            self.right.insert(v)\n",
    "            return\n",
    "\n",
    "    # Find maximum value in a nonempty tree\n",
    "    def maxval(self):\n",
    "        if self.right.isempty():\n",
    "            return(self.value)\n",
    "        else:\n",
    "            return(self.right.maxval())\n",
    "\n",
    "    # Delete value v from tree\n",
    "    def delete(self,v):\n",
    "        if self.isempty():\n",
    "            return\n",
    "\n",
    "        if v < self.value:\n",
    "            self.left.delete(v)\n",
    "            return\n",
    "\n",
    "        if v > self.value:\n",
    "            self.right.delete(v)\n",
    "            return\n",
    "\n",
    "        if v == self.value:\n",
    "            if self.isleaf():\n",
    "                self.makeempty()\n",
    "            elif self.left.isempty():\n",
    "                self.copyright()\n",
    "            else:\n",
    "                self.value = self.left.maxval()\n",
    "                self.left.delete(self.left.maxval())\n",
    "            return\n",
    "\n",
    "    # Inorder traversal\n",
    "    def inorder(self):\n",
    "        if self.isempty():\n",
    "            return([])\n",
    "        else:\n",
    "            return(self.left.inorder()+[self.value]+self.right.inorder())\n",
    "\n",
    "    # Display Tree as a string\n",
    "    def __str__(self):\n",
    "        return(str(self.inorder()))"
   ]
  },
  {
   "cell_type": "markdown",
   "metadata": {},
   "source": [
    "# NPTEL Week 8 Programming Assignment"
   ]
  },
  {
   "cell_type": "code",
   "execution_count": null,
   "metadata": {},
   "outputs": [],
   "source": [
    "s = [int(x) for x in input().split()]\n",
    "r = s[0]\n",
    "c = s[1]\n",
    "k = s[2]\n",
    "d = s[3]\n",
    "li = []\n",
    "for i in range(3):\n",
    "    a = tuple(int(x) for x in input().split())\n",
    "    li.append(a)"
   ]
  },
  {
   "cell_type": "code",
   "execution_count": 3,
   "metadata": {},
   "outputs": [
    {
     "name": "stdout",
     "output_type": "stream",
     "text": [
      "44 85\n",
      "65 93\n",
      "20 41\n",
      "[(44, 85), (65, 93), (20, 41)]\n"
     ]
    }
   ],
   "source": [
    "li = []\n",
    "for i in range(3):\n",
    "    a = tuple(int(x) for x in input().split())\n",
    "    li.append(a)\n",
    "print(li)"
   ]
  },
  {
   "cell_type": "code",
   "execution_count": 3,
   "metadata": {},
   "outputs": [
    {
     "name": "stdout",
     "output_type": "stream",
     "text": [
      "45 37 85 92\n",
      "[37, 45, 85, 92]\n"
     ]
    }
   ],
   "source": [
    "def merge(A, B):\n",
    "    C = []\n",
    "    m = len(A)\n",
    "    n = len(B)\n",
    "    i = 0\n",
    "    j = 0\n",
    "    while i+j < m+n:\n",
    "        if i==m:\n",
    "            C.append(B[j])\n",
    "            j = j+1\n",
    "        elif j==n:\n",
    "            C.append(A[i])\n",
    "            i = i+1\n",
    "        elif A[i]<=B[j]:\n",
    "            C.append(A[i])\n",
    "            i = i+1\n",
    "        elif A[i] > B[j]:\n",
    "            C.append(B[j])\n",
    "            j = j+1\n",
    "    return C\n",
    "\n",
    "def mergesort(A, left, right):\n",
    "    if right-left <=1:\n",
    "        return A[left:right]\n",
    "    if right-left > 1:\n",
    "        mid = (left+right)//2\n",
    "        L = mergesort(A, left, mid)\n",
    "        R = mergesort(A, mid, right)\n",
    "        return merge(L, R)\n",
    "\n",
    "li = [int(x) for x in input().split()]\n",
    "print(mergesort(li, 0, len(li)))"
   ]
  },
  {
   "cell_type": "code",
   "execution_count": 2,
   "metadata": {},
   "outputs": [
    {
     "name": "stdout",
     "output_type": "stream",
     "text": [
      "45 37 85 92\n",
      "[37, 45, 85, 92]\n"
     ]
    }
   ],
   "source": [
    "def mergebad(l1,l2):\n",
    "    (lmerged,i,j) = ([],0,0)\n",
    "    while i+j < len(l1) + len(l2):\n",
    "        if i == len(l1):\n",
    "            lmerged.append(l2[j])\n",
    "            j = j+1\n",
    "        elif j == len(l2):\n",
    "            lmerged.append(l1[i])\n",
    "            i = i+1\n",
    "        elif l1[i] < l2[j]:\n",
    "            lmerged.append(l1[i])\n",
    "            i = i+1\n",
    "        elif l2[j] < l1[i]:\n",
    "            lmerged.append(l2[j])\n",
    "            j = j+1\n",
    "        else:\n",
    "            lmerged.append(l1[i])\n",
    "            i = i+1\n",
    "            j = j+1\n",
    "    \n",
    "    return(lmerged)    \n",
    "\n",
    "def mergesortbad(l):\n",
    "    if len(l) < 2:\n",
    "        return(l)\n",
    "    else:\n",
    "        n = len(l)\n",
    "        leftsorted = mergesortbad(l[:n//2])\n",
    "        rightsorted = mergesortbad(l[n//2:])\n",
    "        return(mergebad(leftsorted,rightsorted))\n",
    "\n",
    "li = [int(x) for x in input().split()]\n",
    "print(mergesortbad(li))"
   ]
  },
  {
   "cell_type": "code",
   "execution_count": 19,
   "metadata": {},
   "outputs": [
    {
     "name": "stdout",
     "output_type": "stream",
     "text": [
      "True\n"
     ]
    }
   ],
   "source": [
    "def sublist(l1, l2):\n",
    "    f = 0\n",
    "    i = 0\n",
    "    x = len(l1)\n",
    "    while(i<len(l2)):\n",
    "        if(l1 == l2[i:x]):\n",
    "            f = 1\n",
    "            break\n",
    "        else:\n",
    "            i = i+1\n",
    "            x = x+1\n",
    "    if f==1:\n",
    "        return True\n",
    "    else:\n",
    "        return False\n",
    "l1 = [1, 2, 3]\n",
    "l2 = [4, 5, 1, 2, 3, 6]\n",
    "print(sublist(l1, l2))"
   ]
  },
  {
   "cell_type": "code",
   "execution_count": 2,
   "metadata": {},
   "outputs": [
    {
     "name": "stdout",
     "output_type": "stream",
     "text": [
      "s\n",
      "\n"
     ]
    }
   ],
   "source": [
    "s = \"empty\"\n",
    "i = 0\n",
    "while(s!=\"\"):\n",
    "    s = input()\n",
    "    i = i+1\n",
    "    if i%3==0:\n",
    "        print(s)"
   ]
  },
  {
   "cell_type": "code",
   "execution_count": 59,
   "metadata": {},
   "outputs": [
    {
     "name": "stdout",
     "output_type": "stream",
     "text": [
      "7\n",
      "['is', 'is', 'is', 'not', 'not']\n"
     ]
    }
   ],
   "source": [
    "c = []\n",
    "def repeated(l):\n",
    "    r = 1\n",
    "    f = 0\n",
    "    for i in range(0, len(l)):\n",
    "        if l[i] not in c:\n",
    "            x = l.count(l[i])\n",
    "            if x>1:\n",
    "                f = 1\n",
    "                for j in range(x):\n",
    "                    c.append(l[i])\n",
    " #       for j in range(i+1, len(l)):\n",
    "  #          if l[i]==l[j]:\n",
    "   #             c.append(l[i])\n",
    "    #            c.append(l[j])\n",
    "    for i in range(0, len(c)):\n",
    "        for j in range(i+1, len(c)):\n",
    "            if(c[i]!=c[j]):\n",
    "                r = r+1\n",
    "    if f==0:\n",
    "        return 0\n",
    "    else:\n",
    "        return r\n",
    "print(repeated([\"this\", \"is\", \"is\", \"is\", \"not\", \"not\", \"python\"]))\n",
    "print(c)"
   ]
  },
  {
   "cell_type": "code",
   "execution_count": 11,
   "metadata": {},
   "outputs": [
    {
     "name": "stdout",
     "output_type": "stream",
     "text": [
      "6\n",
      "True\n"
     ]
    }
   ],
   "source": [
    "import math\n",
    "\n",
    "def isprimebad(n):\n",
    "    if n < 2:\n",
    "        return(False)\n",
    "    else:\n",
    "        for i in range(2, int(math.sqrt(n))):\n",
    "            if n%i == 0:\n",
    "                return(False)\n",
    "    return(True)\n",
    "n = int(input())\n",
    "print(isprimebad(n))"
   ]
  },
  {
   "cell_type": "code",
   "execution_count": 1,
   "metadata": {},
   "outputs": [
    {
     "name": "stdout",
     "output_type": "stream",
     "text": [
      "1\n",
      "1\n",
      "[(1,)]\n"
     ]
    }
   ],
   "source": [
    "def lexsortbad(l):\n",
    "    for k in range(2):\n",
    "        for j in range(len(l)-1):\n",
    "            for i in range(len(l)-1):\n",
    "                if l[i][k] > l[i+1][k]:\n",
    "                    (l[i],l[i+1]) = (l[i+1],l[i])\n",
    "    return(l)\n",
    "s = input()\n",
    "\n",
    "l = []\n",
    "for i in range(n):\n",
    "    a = tuple(int(x) for x in input().split(','))\n",
    "    l.append(a)\n",
    "s = lexsortbad(l)\n",
    "print(s)"
   ]
  },
  {
   "cell_type": "code",
   "execution_count": 9,
   "metadata": {},
   "outputs": [
    {
     "name": "stdout",
     "output_type": "stream",
     "text": [
      "1\n"
     ]
    }
   ],
   "source": [
    "def min3(x,y,z):\n",
    "    if x <= y:\n",
    "        if x <= z:\n",
    "            minimum = x\n",
    "    elif y<=x:\n",
    "        if y<=z:\n",
    "            minimum = y\n",
    "    elif z<=x:\n",
    "        if z<=y:\n",
    "            minimum = z\n",
    "    return(minimum)\n",
    "print(min(2, 3, 1))"
   ]
  },
  {
   "cell_type": "code",
   "execution_count": 71,
   "metadata": {},
   "outputs": [
    {
     "name": "stdout",
     "output_type": "stream",
     "text": [
      "['Pujara']\n"
     ]
    }
   ],
   "source": [
    "def maxaverage(l):\n",
    "    p = {}\n",
    "    c = 1\n",
    "    for i in l:\n",
    "        if i[0] not in p:\n",
    "            p[i[0]] = i[1]\n",
    "        else:\n",
    "            c = c+1\n",
    "            p[i[0]] = (p[i[0]] + i[1])//c\n",
    "            c = 1\n",
    "    res = []\n",
    "    m = max(p, key=p.get)\n",
    "    u = p[m]\n",
    "    for k, v in sorted(p.items()):\n",
    "        if v==u:\n",
    "            res.append(k)\n",
    "    print(res)\n",
    "maxaverage([('Kohli',73),('Ashwin',33),('Kohli',7),('Pujara',122),('Ashwin',90)])"
   ]
  },
  {
   "cell_type": "code",
   "execution_count": 19,
   "metadata": {},
   "outputs": [
    {
     "name": "stdout",
     "output_type": "stream",
     "text": [
      "-1 -8\n",
      "0\n"
     ]
    }
   ],
   "source": [
    "def maxbad(l):\n",
    "    mymax = 0\n",
    "    for i in range(len(l)):\n",
    "        if l[i] > mymax:\n",
    "            mymax = l[i]\n",
    "    return(mymax)\n",
    "li = [int(x) for x in input().split()]\n",
    "print(maxbad(li))"
   ]
  },
  {
   "cell_type": "code",
   "execution_count": 32,
   "metadata": {},
   "outputs": [
    {
     "ename": "NameError",
     "evalue": "name 'key' is not defined",
     "output_type": "error",
     "traceback": [
      "\u001b[1;31m---------------------------------------------------------------------------\u001b[0m",
      "\u001b[1;31mNameError\u001b[0m                                 Traceback (most recent call last)",
      "\u001b[1;32m<ipython-input-32-c454243e8e0f>\u001b[0m in \u001b[0;36m<module>\u001b[1;34m\u001b[0m\n\u001b[0;32m     12\u001b[0m     \u001b[0mres\u001b[0m\u001b[1;33m.\u001b[0m\u001b[0mappend\u001b[0m\u001b[1;33m(\u001b[0m\u001b[0mkey\u001b[0m\u001b[1;33m(\u001b[0m\u001b[0mp\u001b[0m\u001b[1;33m,\u001b[0m \u001b[0mkey\u001b[0m\u001b[1;33m=\u001b[0m\u001b[0mp\u001b[0m\u001b[1;33m.\u001b[0m\u001b[0mget\u001b[0m\u001b[1;33m)\u001b[0m\u001b[1;33m)\u001b[0m\u001b[1;33m\u001b[0m\u001b[1;33m\u001b[0m\u001b[0m\n\u001b[0;32m     13\u001b[0m     \u001b[0mprint\u001b[0m\u001b[1;33m(\u001b[0m\u001b[0mres\u001b[0m\u001b[1;33m)\u001b[0m\u001b[1;33m\u001b[0m\u001b[1;33m\u001b[0m\u001b[0m\n\u001b[1;32m---> 14\u001b[1;33m \u001b[0mmaxaverage\u001b[0m\u001b[1;33m(\u001b[0m\u001b[1;33m[\u001b[0m\u001b[1;33m(\u001b[0m\u001b[1;34m'Kohli'\u001b[0m\u001b[1;33m,\u001b[0m\u001b[1;36m73\u001b[0m\u001b[1;33m)\u001b[0m\u001b[1;33m,\u001b[0m\u001b[1;33m(\u001b[0m\u001b[1;34m'Ashwin'\u001b[0m\u001b[1;33m,\u001b[0m\u001b[1;36m33\u001b[0m\u001b[1;33m)\u001b[0m\u001b[1;33m,\u001b[0m\u001b[1;33m(\u001b[0m\u001b[1;34m'Kohli'\u001b[0m\u001b[1;33m,\u001b[0m\u001b[1;36m7\u001b[0m\u001b[1;33m)\u001b[0m\u001b[1;33m,\u001b[0m\u001b[1;33m(\u001b[0m\u001b[1;34m'Pujara'\u001b[0m\u001b[1;33m,\u001b[0m\u001b[1;36m122\u001b[0m\u001b[1;33m)\u001b[0m\u001b[1;33m,\u001b[0m\u001b[1;33m(\u001b[0m\u001b[1;34m'Ashwin'\u001b[0m\u001b[1;33m,\u001b[0m\u001b[1;36m90\u001b[0m\u001b[1;33m)\u001b[0m\u001b[1;33m]\u001b[0m\u001b[1;33m)\u001b[0m\u001b[1;33m\u001b[0m\u001b[1;33m\u001b[0m\u001b[0m\n\u001b[0m",
      "\u001b[1;32m<ipython-input-32-c454243e8e0f>\u001b[0m in \u001b[0;36mmaxaverage\u001b[1;34m(l)\u001b[0m\n\u001b[0;32m     10\u001b[0m             \u001b[0mc\u001b[0m \u001b[1;33m=\u001b[0m \u001b[1;36m1\u001b[0m\u001b[1;33m\u001b[0m\u001b[1;33m\u001b[0m\u001b[0m\n\u001b[0;32m     11\u001b[0m     \u001b[0mres\u001b[0m \u001b[1;33m=\u001b[0m \u001b[1;33m[\u001b[0m\u001b[1;33m]\u001b[0m\u001b[1;33m\u001b[0m\u001b[1;33m\u001b[0m\u001b[0m\n\u001b[1;32m---> 12\u001b[1;33m     \u001b[0mres\u001b[0m\u001b[1;33m.\u001b[0m\u001b[0mappend\u001b[0m\u001b[1;33m(\u001b[0m\u001b[0mkey\u001b[0m\u001b[1;33m(\u001b[0m\u001b[0mp\u001b[0m\u001b[1;33m,\u001b[0m \u001b[0mkey\u001b[0m\u001b[1;33m=\u001b[0m\u001b[0mp\u001b[0m\u001b[1;33m.\u001b[0m\u001b[0mget\u001b[0m\u001b[1;33m)\u001b[0m\u001b[1;33m)\u001b[0m\u001b[1;33m\u001b[0m\u001b[1;33m\u001b[0m\u001b[0m\n\u001b[0m\u001b[0;32m     13\u001b[0m     \u001b[0mprint\u001b[0m\u001b[1;33m(\u001b[0m\u001b[0mres\u001b[0m\u001b[1;33m)\u001b[0m\u001b[1;33m\u001b[0m\u001b[1;33m\u001b[0m\u001b[0m\n\u001b[0;32m     14\u001b[0m \u001b[0mmaxaverage\u001b[0m\u001b[1;33m(\u001b[0m\u001b[1;33m[\u001b[0m\u001b[1;33m(\u001b[0m\u001b[1;34m'Kohli'\u001b[0m\u001b[1;33m,\u001b[0m\u001b[1;36m73\u001b[0m\u001b[1;33m)\u001b[0m\u001b[1;33m,\u001b[0m\u001b[1;33m(\u001b[0m\u001b[1;34m'Ashwin'\u001b[0m\u001b[1;33m,\u001b[0m\u001b[1;36m33\u001b[0m\u001b[1;33m)\u001b[0m\u001b[1;33m,\u001b[0m\u001b[1;33m(\u001b[0m\u001b[1;34m'Kohli'\u001b[0m\u001b[1;33m,\u001b[0m\u001b[1;36m7\u001b[0m\u001b[1;33m)\u001b[0m\u001b[1;33m,\u001b[0m\u001b[1;33m(\u001b[0m\u001b[1;34m'Pujara'\u001b[0m\u001b[1;33m,\u001b[0m\u001b[1;36m122\u001b[0m\u001b[1;33m)\u001b[0m\u001b[1;33m,\u001b[0m\u001b[1;33m(\u001b[0m\u001b[1;34m'Ashwin'\u001b[0m\u001b[1;33m,\u001b[0m\u001b[1;36m90\u001b[0m\u001b[1;33m)\u001b[0m\u001b[1;33m]\u001b[0m\u001b[1;33m)\u001b[0m\u001b[1;33m\u001b[0m\u001b[1;33m\u001b[0m\u001b[0m\n",
      "\u001b[1;31mNameError\u001b[0m: name 'key' is not defined"
     ]
    }
   ],
   "source": [
    "def maxaverage(l):\n",
    "    p = {}\n",
    "    c = 1\n",
    "    for i in l:\n",
    "        if i[0] not in p:\n",
    "            p[i[0]] = i[1]\n",
    "        else:\n",
    "            c = c+1\n",
    "            p[i[0]] = (p[i[0]] + i[1])//c\n",
    "            c = 1\n",
    "    res = []\n",
    "    res.append(key(p, key=p.get))\n",
    "    print(res)\n",
    "maxaverage([('Kohli',73),('Ashwin',33),('Kohli',7),('Pujara',122),('Ashwin',90)])"
   ]
  },
  {
   "cell_type": "code",
   "execution_count": null,
   "metadata": {},
   "outputs": [],
   "source": [
    "s = []\n",
    "while(True):\n",
    "  t = input()\n",
    "  if t==\"\":\n",
    "    break\n",
    "  s.append(t)\n",
    "p = s[0]\n",
    "s = s[1:]\n",
    "r = []\n",
    "for t in s:\n",
    "  if p in t:\n",
    "    r.append(t)\n",
    "print(r[-1])"
   ]
  }
 ],
 "metadata": {
  "kernelspec": {
   "display_name": "Python 3",
   "language": "python",
   "name": "python3"
  },
  "language_info": {
   "codemirror_mode": {
    "name": "ipython",
    "version": 3
   },
   "file_extension": ".py",
   "mimetype": "text/x-python",
   "name": "python",
   "nbconvert_exporter": "python",
   "pygments_lexer": "ipython3",
   "version": "3.9.2"
  }
 },
 "nbformat": 4,
 "nbformat_minor": 4
}
