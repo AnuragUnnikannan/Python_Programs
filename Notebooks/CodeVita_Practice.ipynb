{
 "cells": [
  {
   "cell_type": "markdown",
   "metadata": {},
   "source": [
    "Question 1: To count prime numbers in the range of 3 to N which has sum of consecutive prime numbers equals to the number itself."
   ]
  },
  {
   "cell_type": "code",
   "execution_count": 15,
   "metadata": {},
   "outputs": [
    {
     "name": "stdout",
     "output_type": "stream",
     "text": [
      "Enter a number: 100\n",
      "5\n",
      "17\n",
      "41\n",
      "3\n"
     ]
    }
   ],
   "source": [
    "p = []\n",
    "def prime(a):\n",
    "    z = 0\n",
    "    for i in range(1, a+1):\n",
    "        if a%i==0:\n",
    "            z = z+1\n",
    "    if z==2:\n",
    "        return 1\n",
    "    else:\n",
    "        return 0\n",
    "\n",
    "def appendprime(b):\n",
    "    for i in range(1, b+1):\n",
    "        if prime(i)==1:\n",
    "            p.append(i)\n",
    "\n",
    "def primesumcheck(c):\n",
    "    s = 0\n",
    "    f = 0\n",
    "    i = 0\n",
    "    while(s<c):\n",
    "        s = s+p[i]\n",
    "        i = i+1\n",
    "        if s==c:\n",
    "            f=1\n",
    "            break\n",
    "        elif s>c:\n",
    "            return 0\n",
    "    if f==1:\n",
    "        return 1\n",
    "    else:\n",
    "        return 0\n",
    "\n",
    "n = int(input(\"Enter a number: \"))\n",
    "x = 0\n",
    "appendprime(n);\n",
    "for i in range(3, n+1):\n",
    "    if prime(i)==1:\n",
    "        if primesumcheck(i)==1:\n",
    "            print(i)? l: l\n",
    "            x = x+1\n",
    "print(x)"
   ]
  },
  {
   "cell_type": "markdown",
   "metadata": {},
   "source": [
    "Question 3: To count numbers in the given ranges"
   ]
  },
  {
   "cell_type": "code",
   "execution_count": 41,
   "metadata": {},
   "outputs": [
    {
     "name": "stdout",
     "output_type": "stream",
     "text": [
      "Enter number of samples: 20\n",
      "Enter number of ranges: 3\n",
      "Enter 20 samples: \n",
      "921\n",
      "107\n",
      "270\n",
      "631\n",
      "926\n",
      "543\n",
      "589\n",
      "520\n",
      "595\n",
      "93\n",
      "873\n",
      "424\n",
      "759\n",
      "537\n",
      "458\n",
      "614\n",
      "725\n",
      "842\n",
      "575\n",
      "195\n",
      "\n",
      "1\n",
      "100\n",
      "\n",
      "50\n",
      "600\n",
      "\n",
      "1\n",
      "1000\n",
      "\n",
      "\n",
      "[1, 12, 20]\n"
     ]
    }
   ],
   "source": [
    "s = int(input(\"Enter number of samples: \"))\n",
    "r = int(input(\"Enter number of ranges: \"))\n",
    "A = []\n",
    "print(\"Enter {0} samples: \".format(s))\n",
    "for i in range(0, s):\n",
    "    x = int(input())\n",
    "    A.append(x)\n",
    "A.sort()\n",
    "print()\n",
    "P = []\n",
    "for i in range(r):\n",
    "    Q = []\n",
    "    for j in range(2):\n",
    "        Q.append(int(input()))\n",
    "    print()\n",
    "    P.append(Q)\n",
    "print()\n",
    "nr = []\n",
    "for i in range(r):\n",
    "    b = 0\n",
    "    for j in A:\n",
    "        if j>P[i][0] and j<P[i][1]:\n",
    "            b = b+1\n",
    "    nr.append(b)\n",
    "print(nr)"
   ]
  },
  {
   "cell_type": "markdown",
   "metadata": {},
   "source": [
    "Question 2: Bank Compare"
   ]
  },
  {
   "cell_type": "code",
   "execution_count": 12,
   "metadata": {},
   "outputs": [
    {
     "name": "stdout",
     "output_type": "stream",
     "text": [
      "Enter principal: 10000\n",
      "Enter total tenure: 20\n",
      "Enter number of slabs for Bank A: 3\n",
      "5\n",
      "9.5\n",
      "10\n",
      "9.6\n",
      "5\n",
      "8.5\n",
      "Enter number of slabs for Bank B: 3\n",
      "10\n",
      "6.9\n",
      "5\n",
      "8.5\n",
      "5\n",
      "7.9\n",
      "Bank B\n"
     ]
    }
   ],
   "source": [
    "p = int(input(\"Enter principal: \"))\n",
    "t = int(input(\"Enter total tenure: \"))\n",
    "n1 = int(input(\"Enter number of slabs for Bank A: \"))\n",
    "pn1 = []\n",
    "rn1 = []\n",
    "for i in range(n1):\n",
    "    x = (int(input()))\n",
    "    pn1.append(x)\n",
    "    y = float(input())\n",
    "    rn1.append(y)\n",
    "n2 = int(input(\"Enter number of slabs for Bank B: \"))\n",
    "pn2 = []\n",
    "rn2 = []\n",
    "for i in range(n2):\n",
    "    x = (int(input()))\n",
    "    pn2.append(x)\n",
    "    y = float(input())\n",
    "    rn2.append(y)\n",
    "emA, emB = 0.0, 0.0\n",
    "for i in range(n1):\n",
    "    emA = float(emA + p*rn1[i]/(1-1/(1+rn1[i])**(pn1[i]*12)))\n",
    "for i in range(n2):\n",
    "    emB = float(emB + p*rn2[i]/(1-1/(1+rn2[i])**(pn2[i]*12)))\n",
    "if(emA > emB):\n",
    "    print(\"Bank B\")\n",
    "else:\n",
    "    print(\"Bank A\")\n",
    "    "
   ]
  },
  {
   "cell_type": "markdown",
   "metadata": {},
   "source": [
    "Question 4: K th largest factor of a number"
   ]
  },
  {
   "cell_type": "code",
   "execution_count": 51,
   "metadata": {},
   "outputs": [
    {
     "name": "stdout",
     "output_type": "stream",
     "text": [
      "Enter a number: 30\n",
      "Enter value of k: 9\n",
      "1\n"
     ]
    }
   ],
   "source": [
    "F = []\n",
    "def factor(a):\n",
    "    for i in range(1, a+1):\n",
    "        if a%i==0:\n",
    "            F.append(i)\n",
    "\n",
    "n = int(input(\"Enter a number: \"))\n",
    "k = int(input(\"Enter value of k: \"))\n",
    "factor(n)\n",
    "F.sort()\n",
    "for i in range(len(F)-1, 0, -1):\n",
    "    if i==k:\n",
    "        print(F[i])\n",
    "    elif k > len(F):\n",
    "        print(\"1\")\n",
    "        break"
   ]
  },
  {
   "cell_type": "markdown",
   "metadata": {},
   "source": [
    "Question 5: Determine minimum time to transfer candies to a new box."
   ]
  },
  {
   "cell_type": "code",
   "execution_count": 54,
   "metadata": {},
   "outputs": [
    {
     "name": "stdout",
     "output_type": "stream",
     "text": [
      "Enter number of test cases: 2\n",
      "Enter number of boxes: 4\n",
      "1\n",
      "2\n",
      "3\n",
      "4\n",
      "\n",
      "10\n",
      "\n",
      "Enter number of boxes: 5\n",
      "1\n",
      "2\n",
      "3\n",
      "4\n",
      "5\n",
      "\n",
      "25\n",
      "\n"
     ]
    }
   ],
   "source": [
    "t = int(input(\"Enter number of test cases: \"))\n",
    "M = []\n",
    "s = 0\n",
    "for i in range(0, t):\n",
    "    n = int(input(\"Enter number of boxes: \"))\n",
    "    N = []\n",
    "    for j in range(0, n):\n",
    "        x = int(input())\n",
    "        N.append(x)\n",
    "    M.append(N)\n",
    "    print()\n",
    "    for l in range(0,)\n",
    "        s = s+j\n",
    "    print(s)\n",
    "    s = 0\n",
    "    print()"
   ]
  }
 ],
 "metadata": {
  "kernelspec": {
   "display_name": "Python 3",
   "language": "python",
   "name": "python3"
  },
  "language_info": {
   "codemirror_mode": {
    "name": "ipython",
    "version": 3
   },
   "file_extension": ".py",
   "mimetype": "text/x-python",
   "name": "python",
   "nbconvert_exporter": "python",
   "pygments_lexer": "ipython3",
   "version": "3.9.2"
  }
 },
 "nbformat": 4,
 "nbformat_minor": 4
}
