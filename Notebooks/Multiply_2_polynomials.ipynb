{
 "cells": [
  {
   "cell_type": "code",
   "execution_count": 1,
   "metadata": {},
   "outputs": [
    {
     "name": "stdout",
     "output_type": "stream",
     "text": [
      "First polynomial is \n",
      "5 + 0x^ 1 + 10x^ 2 + 6x^ 3\n",
      "Second polynomial is \n",
      "1 + 2x^ 1 + 4x^ 2\n",
      "Product polynomial is \n",
      "5 + 10x^ 1 + 30x^ 2 + 26x^ 3 + 52x^ 4 + 24x^ 5"
     ]
    }
   ],
   "source": [
    "def multiply(A, B, m, n): \n",
    "    prod = [0] * (m + n - 1)\n",
    "    for i in range(m): \n",
    "        for j in range(n): \n",
    "            prod[i + j] += A[i] * B[j]\n",
    "    return prod\n",
    "\n",
    "def printPoly(poly, n): \n",
    "    for i in range(n): \n",
    "        print(poly[i], end = \"\")\n",
    "        if (i != 0): \n",
    "            print(\"x^\", i, end = \"\") \n",
    "        if (i != n - 1): \n",
    "            print(\" + \", end = \"\")\n",
    "A = [5, 0, 10, 6] \n",
    "B = [1, 2, 4]\n",
    "m = len(A)\n",
    "n = len(B)\n",
    "print(\"First polynomial is \")\n",
    "printPoly(A, m)\n",
    "print(\"\\nSecond polynomial is \")\n",
    "printPoly(B, n)\n",
    "prod = multiply(A, B, m, n)\n",
    "print(\"\\nProduct polynomial is \")\n",
    "printPoly(prod, m+n-1)"
   ]
  }
 ],
 "metadata": {
  "kernelspec": {
   "display_name": "Python 3",
   "language": "python",
   "name": "python3"
  },
  "language_info": {
   "codemirror_mode": {
    "name": "ipython",
    "version": 3
   },
   "file_extension": ".py",
   "mimetype": "text/x-python",
   "name": "python",
   "nbconvert_exporter": "python",
   "pygments_lexer": "ipython3",
   "version": "3.7.6"
  }
 },
 "nbformat": 4,
 "nbformat_minor": 4
}
