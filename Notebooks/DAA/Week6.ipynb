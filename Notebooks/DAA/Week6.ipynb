{
 "cells": [
  {
   "cell_type": "markdown",
   "id": "large-repair",
   "metadata": {},
   "source": [
    "## Huffman Coding"
   ]
  },
  {
   "cell_type": "code",
   "execution_count": 1,
   "id": "declared-anniversary",
   "metadata": {},
   "outputs": [
    {
     "name": "stdin",
     "output_type": "stream",
     "text": [
      " 6\n",
      " a b c d e f\n",
      " 40 30 20 5 3 2\n"
     ]
    },
    {
     "name": "stdout",
     "output_type": "stream",
     "text": [
      "a = 0\n",
      "b = 10\n",
      "c = 111\n",
      "d = 1100\n",
      "e = 11011\n",
      "f = 11010\n"
     ]
    }
   ],
   "source": [
    "class node:\n",
    "    def __init__(self, freq, symbol, left=None, right=None):\n",
    "        self.freq = freq\n",
    "        self.symbol = symbol\n",
    "        self.left = left\n",
    "        self.right = right\n",
    "        self.huff = ''\n",
    "def printNodes(node, val=''):\n",
    "    newVal = val + str(node.huff)\n",
    "    if(node.left):\n",
    "        printNodes(node.left, newVal)\n",
    "    if(node.right):\n",
    "        printNodes(node.right, newVal)\n",
    "    if(not node.left and not node.right):\n",
    "        mama.append([node.symbol,int(newVal)])\n",
    "mama = []\n",
    "z = int(input()) \n",
    "chars = []\n",
    "chars = input().split()\n",
    "freq = list(map(int, input().split()))\n",
    "nodes = []\n",
    "for x in range(len(chars)):\n",
    "    nodes.append(node(freq[x], chars[x]))\n",
    "while len(nodes) > 1:\n",
    "    nodes = sorted(nodes, key=lambda x: x.freq)\n",
    "    left = nodes[0]\n",
    "    right = nodes[1]\n",
    "    left.huff = 0\n",
    "    right.huff = 1\n",
    "    newNode = node(left.freq+right.freq, left.symbol+right.symbol, left, right)\n",
    "    nodes.remove(left)\n",
    "    nodes.remove(right)\n",
    "    nodes.append(newNode)\n",
    "printNodes(nodes[0])\n",
    "\n",
    "for i in range (len(chars)):\n",
    "    for j in range (0,z):\n",
    "        if (chars[i]==mama[j][0]):\n",
    "            print (\"{} = {}\".format(chars[i], mama[j][1]))\n",
    "            break"
   ]
  },
  {
   "cell_type": "markdown",
   "id": "arbitrary-pride",
   "metadata": {},
   "source": [
    "## Prim's Algorithm"
   ]
  },
  {
   "cell_type": "code",
   "execution_count": 12,
   "id": "atomic-saying",
   "metadata": {},
   "outputs": [
    {
     "name": "stdin",
     "output_type": "stream",
     "text": [
      " 4 5\n",
      " 1 2 7\n",
      " 1 4 6\n",
      " 4 2 9\n",
      " 4 3 8\n",
      " 2 3 6\n"
     ]
    },
    {
     "name": "stdout",
     "output_type": "stream",
     "text": [
      "19\n"
     ]
    }
   ],
   "source": [
    "n, m = [int(x) for x in input().split()]\n",
    "INF = 9999999\n",
    "g = []\n",
    "for i in range(n):\n",
    "    mat = []\n",
    "    for j in range(n):\n",
    "        mat.append(0)\n",
    "    g.append(mat)\n",
    "for i in range(m):\n",
    "    a, b, w = [int(x) for x in input().split()]\n",
    "    g[a-1][b-1] = w\n",
    "selected = [0]*n\n",
    "edge = 0\n",
    "selected[0] = True\n",
    "cost = 0\n",
    "while(edge < n-1):\n",
    "    minimum = INF\n",
    "    x = 0\n",
    "    y = 0\n",
    "    for i in range(n):\n",
    "        if selected[i]:\n",
    "            for j in range(n):\n",
    "                if not selected[j] and g[i][j]:\n",
    "                    if minimum > g[i][j]:\n",
    "                        minimum = g[i][j]\n",
    "                        x = i\n",
    "                        y = j\n",
    "    cost+=g[x][y]\n",
    "    selected[y] = True\n",
    "    edge+=1\n",
    "print(cost)"
   ]
  },
  {
   "cell_type": "code",
   "execution_count": 4,
   "id": "heated-juvenile",
   "metadata": {},
   "outputs": [
    {
     "name": "stdin",
     "output_type": "stream",
     "text": [
      " 5\n",
      " 0\n",
      " -1\n",
      " 4\n",
      " 0\n",
      " 0\n",
      " 0\n",
      " 0\n",
      " 3\n",
      " 2\n",
      " 2\n",
      " 0\n",
      " 0\n",
      " 0\n",
      " 0\n",
      " 0\n",
      " 0\n",
      " 1\n",
      " 5\n",
      " 0\n",
      " 0\n",
      " 0\n",
      " 0\n",
      " 0\n",
      " -3\n",
      " 0\n"
     ]
    },
    {
     "name": "stdout",
     "output_type": "stream",
     "text": [
      "[-9, -9, -9, -12, -9]\n"
     ]
    }
   ],
   "source": [
    "class Graph:\n",
    "\n",
    "    def __init__(self, vertices):\n",
    "        self.V = vertices # No. of vertices\n",
    "        self.graph = []\n",
    "\n",
    "    def addEdge(self, u, v, w):\n",
    "        self.graph.append([u, v, w])\n",
    "        \n",
    "    def printArr(self, dist):\n",
    "        for i in range(self.V):\n",
    "            print(dist[i],end=\" \")\n",
    "  \n",
    "    def BellmanFord(self, src):\n",
    "\n",
    "        dist = [float(\"Inf\")] * self.V\n",
    "        dist[src] = 0\n",
    "\n",
    "        for _ in range(self.V - 1):\n",
    "            for u, v, w in self.graph:\n",
    "                if dist[u] != float(\"Inf\") and dist[u] + w < dist[v]:\n",
    "                        dist[v] = dist[u] + w\n",
    "\n",
    "   \n",
    "\n",
    "        for u, v, w in self.graph:\n",
    "                if dist[u] != float(\"Inf\") and dist[u] + w < dist[v]:\n",
    "                        print(dist)\n",
    "                        return\n",
    "                       \n",
    "        self.printArr(dist)\n",
    "\n",
    "n = int(input())\n",
    "g = Graph(n)\n",
    "for i in range(n):\n",
    "    for j in range(n):\n",
    "        w = int(input())\n",
    "        g.addEdge(i, j, w)\n",
    "\n",
    "g.BellmanFord(0)"
   ]
  },
  {
   "cell_type": "code",
   "execution_count": null,
   "id": "political-newark",
   "metadata": {},
   "outputs": [],
   "source": []
  }
 ],
 "metadata": {
  "kernelspec": {
   "display_name": "Python 3",
   "language": "python",
   "name": "python3"
  },
  "language_info": {
   "codemirror_mode": {
    "name": "ipython",
    "version": 3
   },
   "file_extension": ".py",
   "mimetype": "text/x-python",
   "name": "python",
   "nbconvert_exporter": "python",
   "pygments_lexer": "ipython3",
   "version": "3.9.2"
  }
 },
 "nbformat": 4,
 "nbformat_minor": 5
}
