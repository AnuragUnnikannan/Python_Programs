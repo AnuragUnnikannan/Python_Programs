{
 "cells": [
  {
   "cell_type": "markdown",
   "metadata": {},
   "source": [
    "## Optimal Merge Pattern using Greedy Method"
   ]
  },
  {
   "cell_type": "code",
   "execution_count": 1,
   "metadata": {},
   "outputs": [
    {
     "name": "stdin",
     "output_type": "stream",
     "text": [
      " 5, 3, 2, 7, 9, 13\n"
     ]
    },
    {
     "name": "stdout",
     "output_type": "stream",
     "text": [
      "93\n"
     ]
    }
   ],
   "source": [
    "li = [int(x) for x in input().split(',')]\n",
    "li.sort()\n",
    "temp = 0\n",
    "count = 0\n",
    "while(len(li)>1):\n",
    "    temp = li[0]+li[1]\n",
    "    li.pop(0)\n",
    "    li.pop(0)\n",
    "    li.insert(0, temp)\n",
    "    count = count+temp\n",
    "    li.sort()\n",
    "print(count)"
   ]
  },
  {
   "cell_type": "markdown",
   "metadata": {},
   "source": [
    "## 0-1 Knapsack"
   ]
  },
  {
   "cell_type": "code",
   "execution_count": 14,
   "metadata": {},
   "outputs": [
    {
     "name": "stdin",
     "output_type": "stream",
     "text": [
      " 3\n",
      " 50\n",
      " 10 20 30\n",
      " 60 100 120\n"
     ]
    },
    {
     "name": "stdout",
     "output_type": "stream",
     "text": [
      "220\n"
     ]
    }
   ],
   "source": [
    "n = int(input())\n",
    "w = int(input())\n",
    "weight = [int(x) for x in input().split()]\n",
    "value = [int(x) for x in input().split()]\n",
    "k = [[0 for x in range(w+1)] for x in range(n+1)]\n",
    "for i in range(n+1):\n",
    "    for j in range(w+1):\n",
    "        if i==0 or j==0:\n",
    "            k[i][j] = 0\n",
    "        elif weight[i-1]<=j:\n",
    "            k[i][j] = max(value[i-1]+k[i-1][j-weight[i-1]], k[i-1][j])\n",
    "        else:\n",
    "            k[i][j] = k[i-1][j]\n",
    "print(k[n][w])"
   ]
  },
  {
   "cell_type": "markdown",
   "metadata": {},
   "source": [
    "## Activity Selection"
   ]
  },
  {
   "cell_type": "code",
   "execution_count": 3,
   "metadata": {},
   "outputs": [
    {
     "name": "stdin",
     "output_type": "stream",
     "text": [
      " 6\n",
      " 1 3 0 5 8 5\n",
      " 2 4 6 7 9 9\n"
     ]
    },
    {
     "name": "stdout",
     "output_type": "stream",
     "text": [
      "4\n"
     ]
    }
   ],
   "source": [
    "n = int(input())\n",
    "li = [[int(x) for x in input().split()] for x in range(2)]\n",
    "for i in range(n-1):\n",
    "    if li[1][i] > li[1][i+1]:\n",
    "        temp = li[1][i]\n",
    "        temp1 = li[0][i]\n",
    "        li[1][i] = li[1][i+1]\n",
    "        li[0][i] = li[0][i+1]\n",
    "        li[1][i+1] = temp\n",
    "        li[0][i+1] = temp1\n",
    "j = 0\n",
    "selected = []\n",
    "selected.append(li[0][0])\n",
    "for i in range(1, n):\n",
    "    if li[0][i] >= li[1][j]:\n",
    "        selected.append(li[0][i])\n",
    "        j = i\n",
    "print(len(selected))"
   ]
  },
  {
   "cell_type": "markdown",
   "metadata": {},
   "source": [
    "## Fractional Knapsack"
   ]
  },
  {
   "cell_type": "code",
   "execution_count": 15,
   "metadata": {},
   "outputs": [
    {
     "name": "stdin",
     "output_type": "stream",
     "text": [
      " 3\n",
      " 50\n",
      " 10 20 30\n",
      " 60 100 120\n"
     ]
    },
    {
     "name": "stdout",
     "output_type": "stream",
     "text": [
      "240.0\n"
     ]
    }
   ],
   "source": [
    "n = int(input())\n",
    "w = int(input())\n",
    "cost = [[int(x) for x in input().split()] for x in range(2)]\n",
    "for i in range(n-1):\n",
    "    if cost[1][i]/cost[0][i] < cost[1][i+1]/cost[0][i+1]:\n",
    "        temp = cost[1][i]\n",
    "        temp1 = cost[0][i]\n",
    "        cost[1][i] = cost[1][i+1]\n",
    "        cost[0][i] = cost[0][i+1]\n",
    "        cost[1][i+1] = temp\n",
    "        cost[0][i+1] = temp1\n",
    "\n",
    "profit = 0\n",
    "count = 0\n",
    "i = 0\n",
    "while(count < w):\n",
    "    if (w-count) < cost[0][i]:\n",
    "        t = w-count\n",
    "        count = count + t\n",
    "        profit = profit + (cost[1][i]/cost[0][i] * t)\n",
    "        break\n",
    "    else:\n",
    "        count = count + cost[0][i]\n",
    "        profit = profit + cost[1][i]\n",
    "    i = i+1\n",
    "print(profit)"
   ]
  }
 ],
 "metadata": {
  "kernelspec": {
   "display_name": "Python 3",
   "language": "python",
   "name": "python3"
  },
  "language_info": {
   "codemirror_mode": {
    "name": "ipython",
    "version": 3
   },
   "file_extension": ".py",
   "mimetype": "text/x-python",
   "name": "python",
   "nbconvert_exporter": "python",
   "pygments_lexer": "ipython3",
   "version": "3.8.6"
  }
 },
 "nbformat": 4,
 "nbformat_minor": 4
}
