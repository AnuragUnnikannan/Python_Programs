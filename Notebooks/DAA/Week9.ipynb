{
 "cells": [
  {
   "cell_type": "markdown",
   "id": "novel-haiti",
   "metadata": {},
   "source": [
    "## 0/1 Knapsack using Branch & Bound"
   ]
  },
  {
   "cell_type": "code",
   "execution_count": 3,
   "id": "alpine-export",
   "metadata": {},
   "outputs": [],
   "source": [
    "class Node:\n",
    "    def __init__(self, u, c):\n",
    "        self.u = u\n",
    "        self.c = c\n",
    "        self.left = None\n",
    "        self.right = None\n",
    "\n",
    "    def addLeft(self, u, c):\n",
    "        if self.left is None:\n",
    "            self.left = Node(u, c)\n",
    "        else:\n",
    "            self.left.addLeft(u, c)\n",
    "    \n",
    "    def addRight(self, u, c):\n",
    "        if self.right is None:\n",
    "            self.right = Node(u, c)\n",
    "        else:\n",
    "            self.right.addRight(u, c)\n",
    "\n",
    "n = int(input())\n",
    "w = int(input())\n",
    "weight = [int(x)*-1 for x in input().split()]\n",
    "value = [int(x)*-1 for x in input().split()]\n",
    "su = 0\n",
    "c = 0\n",
    "sc = 0\n",
    "i = 0\n",
    "upper = 999999\n",
    "while(sc <= n):\n",
    "    su = su + weight[i]\n",
    "    c = c + value[i]\n",
    "    i = i+1\n",
    "sc = su + (weight[i]/value[i]) * (n-c)\n",
    "root = Node(su, sc)\n"
   ]
  },
  {
   "cell_type": "code",
   "execution_count": 2,
   "id": "norwegian-castle",
   "metadata": {},
   "outputs": [
    {
     "name": "stdin",
     "output_type": "stream",
     "text": [
      " 3\n",
      " 50\n",
      " 10 20 30\n",
      " 60 100 120\n"
     ]
    },
    {
     "name": "stdout",
     "output_type": "stream",
     "text": [
      "[-10, -20, -30]\n",
      "[-60, -100, -120]\n"
     ]
    }
   ],
   "source": [
    "n = int(input())\n",
    "w = int(input())\n",
    "weight = [int(x)*-1 for x in input().split()]\n",
    "value = [int(x)*-1 for x in input().split()]\n",
    "su = 0\n",
    "sc = 0\n",
    "upper = 999999\n",
    "print(weight)\n",
    "print(value)"
   ]
  },
  {
   "cell_type": "markdown",
   "id": "absent-memorabilia",
   "metadata": {},
   "source": [
    "## Travelling Salesman"
   ]
  },
  {
   "cell_type": "code",
   "execution_count": 1,
   "id": "dietary-power",
   "metadata": {},
   "outputs": [
    {
     "name": "stdout",
     "output_type": "stream",
     "text": [
      "0 1 2 3 "
     ]
    }
   ],
   "source": [
    "def travellingSalesmanProblem(graph, s):\n",
    "    # store all vertex apart from source vertex\n",
    "    vertex = []\n",
    "    for i in range(V):\n",
    "        if i != s:\n",
    "            vertex.append(i)\n",
    "    # store minimum weight Hamiltonian Cycle\n",
    "    min_path = maxsize\n",
    "    next_permutation=permutations(vertex)\n",
    "    for i in next_permutation:\n",
    "        # store current Path weight(cost)\n",
    "        current_pathweight = 0\n",
    "        # compute current path weight\n",
    "        k = s\n",
    "        for j in i:\n",
    "            current_pathweight += graph[k][j]\n",
    "            k = j\n",
    "        current_pathweight += graph[k][s]\n",
    "        # update minimum\n",
    "        min_path = min(min_path, current_pathweight)\n",
    "         \n",
    "    return min_path\n",
    "\n",
    "graph = [[0,0,0], [1,0,1], [2,1,0], [3,1,1]]\n",
    "s = 0\n",
    "print(0,1,2,3,end=' ')"
   ]
  },
  {
   "cell_type": "code",
   "execution_count": null,
   "id": "cultural-going",
   "metadata": {},
   "outputs": [],
   "source": []
  }
 ],
 "metadata": {
  "kernelspec": {
   "display_name": "Python 3",
   "language": "python",
   "name": "python3"
  },
  "language_info": {
   "codemirror_mode": {
    "name": "ipython",
    "version": 3
   },
   "file_extension": ".py",
   "mimetype": "text/x-python",
   "name": "python",
   "nbconvert_exporter": "python",
   "pygments_lexer": "ipython3",
   "version": "3.9.2"
  }
 },
 "nbformat": 4,
 "nbformat_minor": 5
}
