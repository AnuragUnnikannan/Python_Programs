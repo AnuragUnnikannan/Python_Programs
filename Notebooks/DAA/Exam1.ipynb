{
 "cells": [
  {
   "cell_type": "markdown",
   "id": "394c2acd-4d27-4fa6-ad52-3b712dd0c015",
   "metadata": {},
   "source": [
    "# Name: Anurag Unnikannan\n",
    "# Sec: 2J\n",
    "# Roll: 09\n",
    "# Enrollment No.: 12019009001281"
   ]
  },
  {
   "cell_type": "markdown",
   "id": "5fc387ca-7034-4c0e-84f9-497e33258f2c",
   "metadata": {},
   "source": [
    "## Max_Min_21/04/2021"
   ]
  },
  {
   "cell_type": "code",
   "execution_count": null,
   "id": "190d6ecb-5f82-4c94-8cf4-10579266d436",
   "metadata": {},
   "outputs": [],
   "source": [
    "n=int(input())\n",
    "arr=[]\n",
    "k=int(input())\n",
    "for i in range(n):\n",
    "    val=int(input())\n",
    "    arr.append(val)\n",
    "    \n",
    "arr.sort()\n",
    "resultmin=max(arr)\n",
    "for i in range((n - k) + 1):\n",
    "    Diff = arr[i + k - 1] - arr[i]\n",
    "    resultmin = min(resultmin, Diff)\n",
    "print(resultmin)"
   ]
  },
  {
   "cell_type": "markdown",
   "id": "a16fe167-f1ad-4a5a-a7b1-28f0efe7951d",
   "metadata": {},
   "source": [
    "## Breadth first search_21/04/2021"
   ]
  },
  {
   "cell_type": "code",
   "execution_count": 1,
   "id": "0143335c-b774-464c-a9b7-94e52e018f36",
   "metadata": {},
   "outputs": [
    {
     "name": "stdin",
     "output_type": "stream",
     "text": [
      " 1\n",
      " 5\n",
      " 0 1 1 0 0\n",
      " 1 0 1 0 0\n",
      " 1 1 0 1 0\n",
      " 0 0 1 0 1\n",
      " 0 0 0 1 0\n",
      " 0 4\n"
     ]
    },
    {
     "name": "stdout",
     "output_type": "stream",
     "text": [
      "3\n",
      "0 2 3 4\n"
     ]
    }
   ],
   "source": [
    "def get_adj(node, graph):\n",
    "    adj_list = []\n",
    "    process_list = graph[node]\n",
    "    for i in range(len(process_list)):\n",
    "        if process_list[i] == 1:\n",
    "            adj_list.append(i)\n",
    "    return adj_list \n",
    "def solution(graph, source, destination):\n",
    "    marked = [False for i in range(n)]\n",
    "    distance = [-1 for i in range(n)]\n",
    "    path = [-1 for i in range(n)]\n",
    "    q = [source]\n",
    "    distance[source] = 0\n",
    "    marked[source] = True \n",
    "    while (len(q) != 0):\n",
    "        current_node = q.pop()\n",
    "        for adj in get_adj(current_node, graph):\n",
    "            if not marked[adj]:\n",
    "                q.append(adj)\n",
    "                marked[adj] = True\n",
    "                distance[adj] = distance[current_node] + 1\n",
    "                path[adj] = current_node  \n",
    "    path_data = [destination]\n",
    "    current = path[destination] \n",
    "    while current != -1:\n",
    "        path_data.append(current)\n",
    "        current = path[current]\n",
    "    path_string = \" \".join(str(ele) for ele in path_data[::-1])\n",
    "    return (distance[destination], path_string) \n",
    " \n",
    "if __name__=='__main__':\n",
    "    t = int(input())\n",
    "    for i in range(t):\n",
    "        n = int(input())\n",
    "        graph = [[0 for j in range(n)] for i in range(n)]\n",
    "        for j in range(n):\n",
    "            graph[j] = [int(ele) for ele in input().split()]\n",
    "        source,destination = map(int, input().split())\n",
    "        count, path = solution(graph, source, destination)\n",
    "        print(count)\n",
    "        print(path)"
   ]
  },
  {
   "cell_type": "code",
   "execution_count": null,
   "id": "2126c022-f357-44b1-9344-a8fdf45a344e",
   "metadata": {},
   "outputs": [],
   "source": []
  }
 ],
 "metadata": {
  "kernelspec": {
   "display_name": "Python 3",
   "language": "python",
   "name": "python3"
  },
  "language_info": {
   "codemirror_mode": {
    "name": "ipython",
    "version": 3
   },
   "file_extension": ".py",
   "mimetype": "text/x-python",
   "name": "python",
   "nbconvert_exporter": "python",
   "pygments_lexer": "ipython3",
   "version": "3.8.6"
  }
 },
 "nbformat": 4,
 "nbformat_minor": 5
}
