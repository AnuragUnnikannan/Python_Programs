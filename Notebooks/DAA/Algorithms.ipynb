{
 "cells": [
  {
   "cell_type": "markdown",
   "id": "bb5cf79c-ecc8-445b-881c-ca2f4f008fbf",
   "metadata": {},
   "source": [
    "## Linear Search O(n)"
   ]
  },
  {
   "cell_type": "code",
   "execution_count": 4,
   "id": "5938e908-d973-4c66-8041-deaadf06436e",
   "metadata": {},
   "outputs": [
    {
     "name": "stdin",
     "output_type": "stream",
     "text": [
      " 2 4 1 9 17 35 20\n",
      "Enter number to search: 4\n"
     ]
    },
    {
     "name": "stdout",
     "output_type": "stream",
     "text": [
      "Element found at position 2\n"
     ]
    }
   ],
   "source": [
    "arr = [int(x) for x in input().split()]\n",
    "key = int(input(\"Enter number to search:\"))\n",
    "f = 0\n",
    "for i in arr:\n",
    "    if i==key:\n",
    "        print(\"Element found at position\", arr.index(i)+1)\n",
    "        f = 1\n",
    "        break\n",
    "if f==0:\n",
    "    print(\"Element not found\")"
   ]
  },
  {
   "cell_type": "markdown",
   "id": "21a03f60-6187-4ed2-8b66-1e041343cdca",
   "metadata": {},
   "source": [
    "## Binary Search  O(log n)"
   ]
  },
  {
   "cell_type": "code",
   "execution_count": 14,
   "id": "ea7ad324-f0e4-45f0-bac0-860c6859c4e0",
   "metadata": {},
   "outputs": [
    {
     "name": "stdin",
     "output_type": "stream",
     "text": [
      " 2 7 17 4 35 12\n",
      "Enter a number to search: 35\n"
     ]
    },
    {
     "name": "stdout",
     "output_type": "stream",
     "text": [
      "Element found at psoition 5\n"
     ]
    }
   ],
   "source": [
    "arr = [int(x) for x in input().split()]\n",
    "key = int(input(\"Enter a number to search:\"))\n",
    "low = 0\n",
    "high = len(arr)-1\n",
    "f = 0\n",
    "while low<=high:\n",
    "    mid = (low+high)//2\n",
    "    if key < arr[mid]:\n",
    "        high = mid-1\n",
    "    elif key > arr[mid]:\n",
    "        low = mid+1\n",
    "    elif key == arr[mid]:\n",
    "        print(\"Element found at psoition\", mid+1)\n",
    "        f = 1\n",
    "        break\n",
    "if f==0:\n",
    "    print(\"Element not found\")"
   ]
  },
  {
   "cell_type": "markdown",
   "id": "fe6f119b-3bdd-4058-8639-5fe566b28ee6",
   "metadata": {},
   "source": [
    "## Insertion Sort  O(n^2)"
   ]
  },
  {
   "cell_type": "code",
   "execution_count": 2,
   "id": "4c336ebb-5b24-48f4-ab3c-b5bfa12bd7ca",
   "metadata": {},
   "outputs": [
    {
     "name": "stdin",
     "output_type": "stream",
     "text": [
      " 2 7 17 4 35 12\n"
     ]
    },
    {
     "name": "stdout",
     "output_type": "stream",
     "text": [
      "Sorted array:  [2, 4, 7, 12, 17, 35]\n"
     ]
    }
   ],
   "source": [
    "arr = [int(x) for x in input().split()]\n",
    "for i in range(1, len(arr)):\n",
    "    temp = arr[i]\n",
    "    for j in range(i, 0, -1):\n",
    "        if temp < arr[j-1]:\n",
    "            arr[j] = arr[j-1]\n",
    "        else:\n",
    "            break\n",
    "    arr[j] = temp\n",
    "print(\"Sorted array: \", arr)"
   ]
  },
  {
   "cell_type": "markdown",
   "id": "221bbfba-36bb-4736-83a9-1e22eae1af67",
   "metadata": {},
   "source": [
    "## Bubble Sort  O(n^2)"
   ]
  },
  {
   "cell_type": "code",
   "execution_count": 1,
   "id": "4a2fb211-c0a7-4392-9e48-90b60263f942",
   "metadata": {},
   "outputs": [
    {
     "name": "stdin",
     "output_type": "stream",
     "text": [
      " 2 7 17 4 35 12\n"
     ]
    },
    {
     "name": "stdout",
     "output_type": "stream",
     "text": [
      "Sorted Array:  [2, 4, 7, 12, 17, 35]\n"
     ]
    }
   ],
   "source": [
    "arr = [int(x) for x in input().split()]\n",
    "for i in range(len(arr)):\n",
    "    for j in range(i+1, len(arr)):\n",
    "        if arr[i] > arr[j]:\n",
    "            temp = arr[i]\n",
    "            arr[i] = arr[j]\n",
    "            arr[j] = temp\n",
    "print(\"Sorted Array: \",arr)"
   ]
  },
  {
   "cell_type": "markdown",
   "id": "d9f99d9d-93c9-4d9f-8f81-a2a6464d2add",
   "metadata": {},
   "source": [
    "## Selection Sort  O(n^2)"
   ]
  },
  {
   "cell_type": "code",
   "execution_count": 1,
   "id": "76da2c47-8b9a-4c26-af8f-0621152919b7",
   "metadata": {},
   "outputs": [
    {
     "name": "stdin",
     "output_type": "stream",
     "text": [
      " 2 7 17 4 35 12\n"
     ]
    },
    {
     "name": "stdout",
     "output_type": "stream",
     "text": [
      "Sorted Array:  [2, 4, 7, 12, 17, 35]\n"
     ]
    }
   ],
   "source": [
    "arr = [int(x) for x in input().split()]\n",
    "for i in range(len(arr)-1):\n",
    "    min = i\n",
    "    for j in range(i+1, len(arr)):\n",
    "        if arr[j] < arr[min]:\n",
    "            min = j\n",
    "    temp = arr[i]\n",
    "    arr[i] = arr[min]\n",
    "    arr[min] = temp\n",
    "    \n",
    "print(\"Sorted Array: \",arr)"
   ]
  },
  {
   "cell_type": "markdown",
   "id": "2f885260-6dd0-4364-ad77-94dccaefb31e",
   "metadata": {},
   "source": [
    "## Quick Sort  O(n.log n)"
   ]
  },
  {
   "cell_type": "code",
   "execution_count": 7,
   "id": "d26d84e8-6343-4ea1-949c-050203be452d",
   "metadata": {},
   "outputs": [
    {
     "name": "stdin",
     "output_type": "stream",
     "text": [
      " 2 7 17 4 35 12\n"
     ]
    },
    {
     "name": "stdout",
     "output_type": "stream",
     "text": [
      "Sorted Array: [2, 4, 7, 12, 17, 35]\n"
     ]
    }
   ],
   "source": [
    "def partition(arr, low, high):\n",
    "    pivot_index = low      #taking first element as pivot element\n",
    "    pivot = arr[pivot_index]\n",
    "    while low < high:\n",
    "        while arr[low] <= pivot:      #if left pointer is less than pivot, shift to right\n",
    "            low+=1\n",
    "        while arr[high] > pivot:       #if right pointer is more than pivot, shift to left\n",
    "            high-=1\n",
    "        if low < high:      #swap left and right if left has not crossed right\n",
    "            arr[low], arr[high] = arr[high], arr[low]\n",
    "    arr[high], arr[pivot_index] = arr[pivot_index], arr[high]      #swap right and pivot if left has crossed right\n",
    "    return high\n",
    "\n",
    "def quicksort(arr, low, high):\n",
    "    if low < high:\n",
    "        j = partition(arr, low, high)\n",
    "        quicksort(arr, low, j-1)\n",
    "        quicksort(arr, j+1, high)\n",
    "    \n",
    "arr = [int(x) for x in input().split()]\n",
    "n = len(arr)\n",
    "quicksort(arr, 0, n-1)\n",
    "print(\"Sorted Array:\",arr)"
   ]
  },
  {
   "cell_type": "markdown",
   "id": "c7077706-7108-488f-b44b-7cc3d5286e9e",
   "metadata": {},
   "source": [
    "## Merge Sort O(n.log n)"
   ]
  },
  {
   "cell_type": "code",
   "execution_count": 2,
   "id": "e06d5446-39c0-4b7d-a74a-3640d311f9de",
   "metadata": {},
   "outputs": [
    {
     "name": "stdin",
     "output_type": "stream",
     "text": [
      " 2 7 17 4 35 12\n"
     ]
    },
    {
     "name": "stdout",
     "output_type": "stream",
     "text": [
      "Sorted Array: [2, 4, 7, 12, 17, 35]\n"
     ]
    }
   ],
   "source": [
    "def merge(arr, low, mid, high):\n",
    "    i = low\n",
    "    j = mid+1\n",
    "    k = 0\n",
    "    index = low\n",
    "    temp = [0]*(high+1)      #intializing a temporary array with zeros\n",
    "    while i<=mid and j<=high:\n",
    "        if arr[i] < arr[j]:\n",
    "            temp[index] = arr[i]      #sorting left subarray\n",
    "            i+=1\n",
    "        else:\n",
    "            temp[index] = arr[j]      #sorting right subarray\n",
    "            j+=1\n",
    "        index+=1\n",
    "    if i > mid:\n",
    "        while j<=high:\n",
    "            temp[index] = arr[j]      #copying remaining elements of right subarray\n",
    "            j+=1\n",
    "            index+=1\n",
    "    else:\n",
    "        while i<=mid:\n",
    "            temp[index] = arr[i]      #copying remaining elements of left subarray\n",
    "            i+=1\n",
    "            index+=1\n",
    "    k = low\n",
    "    while k < index:\n",
    "        arr[k] = temp[k]      #copying elements to original array\n",
    "        k+=1\n",
    "    \n",
    "def mergesort(arr, low, high):\n",
    "    if low < high:\n",
    "        mid = (low+high)//2\n",
    "        mergesort(arr, low, mid)\n",
    "        mergesort(arr, mid+1, high)\n",
    "        merge(arr, low, mid, high)\n",
    "\n",
    "arr = [int(x) for x in input().split()]\n",
    "mergesort(arr, 0, len(arr)-1)\n",
    "print(\"Sorted Array:\",arr)"
   ]
  },
  {
   "cell_type": "markdown",
   "id": "642c6dcd-3817-4646-a8ca-a3722548abc6",
   "metadata": {},
   "source": [
    "## Heap Sort O(n.log n)"
   ]
  },
  {
   "cell_type": "code",
   "execution_count": 10,
   "id": "f7bf40d2-aa44-4a31-80b9-232a2d5b776d",
   "metadata": {},
   "outputs": [
    {
     "name": "stdin",
     "output_type": "stream",
     "text": [
      " 2 7 17 4 35 12\n"
     ]
    },
    {
     "name": "stdout",
     "output_type": "stream",
     "text": [
      "Sorted Array\n",
      "2\n",
      "4\n",
      "7\n",
      "12\n",
      "17\n",
      "35\n"
     ]
    }
   ],
   "source": [
    "def heapsort(arr):\n",
    "    n = len(arr)\n",
    "    #creating max heap\n",
    "    for i in range(n//2-1, -1, -1):\n",
    "        heapify(arr, n, i)\n",
    "\n",
    "    #extracting topmost/root element from heap\n",
    "    for i in range(n-1, 0, -1):\n",
    "        temp = arr[0]\n",
    "        arr[0] = arr[i]\n",
    "        arr[i] = temp\n",
    "\n",
    "        #rearranging the max heap\n",
    "        heapify(arr, i, 0)\n",
    "\n",
    "def heapify(arr, n, i):\n",
    "\n",
    "    #taking root element as largest\n",
    "    largest = i\n",
    "    l = 2 * i + 1  #left child\n",
    "    r = 2 * i + 2  #right child\n",
    "    #checking whether left child is greater than parent or not\n",
    "    if(l < n and arr[l] > arr[largest]):\n",
    "        largest = l\n",
    "    #checking whether right child is greater than parent or not\n",
    "    if(r < n and arr[r] > arr[largest]):\n",
    "        largest = r\n",
    "\n",
    "    #if any changes occur, swap the places\n",
    "    if largest!=i:\n",
    "        swap = arr[i]\n",
    "        arr[i] = arr[largest]\n",
    "        arr[largest] = swap\n",
    "\n",
    "        #rearranging max heap\n",
    "        heapify(arr, n, largest)\n",
    "        \n",
    "arr = [int(x) for x in input().split()]\n",
    "n = len(arr)\n",
    "heapsort(arr)\n",
    "print(\"Sorted Array\")\n",
    "for i in range(n):\n",
    "    print(arr[i])"
   ]
  },
  {
   "cell_type": "markdown",
   "id": "df886c79-0bf5-4ca8-b249-05a4cf8b04fa",
   "metadata": {},
   "source": [
    "# Knapsack Problem (Greedy Approach)  O(n.log n)"
   ]
  },
  {
   "cell_type": "code",
   "execution_count": 8,
   "id": "e863195e-074d-486a-aaaf-d102ff75fabc",
   "metadata": {},
   "outputs": [
    {
     "name": "stdin",
     "output_type": "stream",
     "text": [
      " 60 100 120\n",
      " 10 20 30\n",
      "Enter capacity of the bag:  50\n"
     ]
    },
    {
     "name": "stdout",
     "output_type": "stream",
     "text": [
      "240.0\n"
     ]
    }
   ],
   "source": [
    "def merge(p, w, pw, low, mid, high):\n",
    "    i = low\n",
    "    j = mid+1\n",
    "    k = 0\n",
    "    index = low\n",
    "    temp1 = [0]*(high+1)      #intializing a temporary array with zeros\n",
    "    temp2 = [0]*(high+1)\n",
    "    temp3 = [0]*(high+1)\n",
    "    while i<=mid and j<=high:\n",
    "        if pw[i] > pw[j]:\n",
    "            temp1[index] = pw[i]      #sorting left subarray\n",
    "            temp2[index] = p[i]\n",
    "            temp3[index] = w[i]\n",
    "            i+=1\n",
    "        else:\n",
    "            temp1[index] = pw[j]      #sorting right subarray\n",
    "            temp2[index] = p[j]\n",
    "            temp3[index] = w[j]\n",
    "            j+=1\n",
    "        index+=1\n",
    "    if i > mid:\n",
    "        while j<=high:\n",
    "            temp1[index] = pw[j]      #copying remaining elements of right subarray\n",
    "            temp2[index] = p[j]\n",
    "            temp3[index] = w[j]\n",
    "            j+=1\n",
    "            index+=1\n",
    "    else:\n",
    "        while i<=mid:\n",
    "            temp1[index] = pw[i]      #copying remaining elements of left subarray\n",
    "            temp2[index] = p[i]\n",
    "            temp3[index] = w[i]\n",
    "            i+=1\n",
    "            index+=1\n",
    "    k = low\n",
    "    while k < index:\n",
    "        pw[k] = temp1[k]      #copying elements to original array\n",
    "        p[k] = temp2[k]\n",
    "        w[k] = temp3[k]\n",
    "        k+=1\n",
    "    \n",
    "def mergesort(p, w, pw, low, high):\n",
    "    if low < high:\n",
    "        mid = (low+high)//2\n",
    "        mergesort(p, w, pw, low, mid)\n",
    "        mergesort(p, w, pw, mid+1, high)\n",
    "        merge(p, w, pw, low, mid, high)\n",
    "        \n",
    "profit = [int(x) for x in input().split()]\n",
    "weight = [int(x) for x in input().split()]\n",
    "pw = []\n",
    "for i in range(len(profit)):\n",
    "    pw.append(profit[i]/weight[i])\n",
    "mergesort(profit, weight, pw, 0, len(profit)-1)\n",
    "capacity = int(input(\"Enter capacity of the bag: \"))\n",
    "count = 0\n",
    "cost = 0\n",
    "i = 0\n",
    "while count <= capacity:\n",
    "    if weight[i] < (capacity - count):\n",
    "        count = count + weight[i]\n",
    "        cost = cost + profit[i]\n",
    "        i = i+1\n",
    "    else:\n",
    "        break\n",
    "if count <= capacity:\n",
    "    cost = cost + profit[i] * ((capacity-count)/weight[i])\n",
    "    \n",
    "print(cost)"
   ]
  },
  {
   "cell_type": "code",
   "execution_count": null,
   "id": "b3d0fd37-2dd9-42e0-b994-03172c0d0da8",
   "metadata": {},
   "outputs": [],
   "source": []
  },
  {
   "cell_type": "code",
   "execution_count": 4,
   "id": "3b4d309c-281e-4c5d-a99b-8df1b0c5dbc5",
   "metadata": {},
   "outputs": [
    {
     "ename": "IndexError",
     "evalue": "list index out of range",
     "output_type": "error",
     "traceback": [
      "\u001b[1;31m---------------------------------------------------------------------------\u001b[0m",
      "\u001b[1;31mIndexError\u001b[0m                                Traceback (most recent call last)",
      "\u001b[1;32m<ipython-input-4-2b595ccaec43>\u001b[0m in \u001b[0;36m<module>\u001b[1;34m\u001b[0m\n\u001b[0;32m     24\u001b[0m \u001b[0mgraph\u001b[0m \u001b[1;33m=\u001b[0m \u001b[1;33m[\u001b[0m\u001b[1;33m[\u001b[0m\u001b[1;36m0\u001b[0m\u001b[1;33m,\u001b[0m \u001b[1;36m0\u001b[0m\u001b[1;33m,\u001b[0m \u001b[1;36m0\u001b[0m\u001b[1;33m]\u001b[0m\u001b[1;33m,\u001b[0m \u001b[1;33m[\u001b[0m\u001b[1;36m1\u001b[0m\u001b[1;33m,\u001b[0m \u001b[1;36m0\u001b[0m\u001b[1;33m,\u001b[0m \u001b[1;36m1\u001b[0m\u001b[1;33m]\u001b[0m\u001b[1;33m,\u001b[0m \u001b[1;33m[\u001b[0m\u001b[1;36m2\u001b[0m\u001b[1;33m,\u001b[0m \u001b[1;36m1\u001b[0m\u001b[1;33m,\u001b[0m \u001b[1;36m0\u001b[0m\u001b[1;33m]\u001b[0m\u001b[1;33m,\u001b[0m \u001b[1;33m[\u001b[0m\u001b[1;36m3\u001b[0m\u001b[1;33m,\u001b[0m \u001b[1;36m1\u001b[0m\u001b[1;33m,\u001b[0m \u001b[1;36m1\u001b[0m\u001b[1;33m]\u001b[0m\u001b[1;33m]\u001b[0m\u001b[1;33m\u001b[0m\u001b[1;33m\u001b[0m\u001b[0m\n\u001b[0;32m     25\u001b[0m \u001b[0ms\u001b[0m \u001b[1;33m=\u001b[0m \u001b[1;36m0\u001b[0m\u001b[1;33m\u001b[0m\u001b[1;33m\u001b[0m\u001b[0m\n\u001b[1;32m---> 26\u001b[1;33m \u001b[0mtsp\u001b[0m\u001b[1;33m(\u001b[0m\u001b[0mgraph\u001b[0m\u001b[1;33m,\u001b[0m\u001b[0ms\u001b[0m\u001b[1;33m)\u001b[0m\u001b[1;33m\u001b[0m\u001b[1;33m\u001b[0m\u001b[0m\n\u001b[0m",
      "\u001b[1;32m<ipython-input-4-2b595ccaec43>\u001b[0m in \u001b[0;36mtsp\u001b[1;34m(graph, s)\u001b[0m\n\u001b[0;32m     15\u001b[0m         \u001b[0mk\u001b[0m\u001b[1;33m=\u001b[0m\u001b[0ms\u001b[0m\u001b[1;33m\u001b[0m\u001b[1;33m\u001b[0m\u001b[0m\n\u001b[0;32m     16\u001b[0m         \u001b[1;32mfor\u001b[0m \u001b[0mj\u001b[0m \u001b[1;32min\u001b[0m \u001b[0mi\u001b[0m\u001b[1;33m:\u001b[0m\u001b[1;33m\u001b[0m\u001b[1;33m\u001b[0m\u001b[0m\n\u001b[1;32m---> 17\u001b[1;33m             \u001b[0mcurrent\u001b[0m\u001b[1;33m+=\u001b[0m\u001b[0mgraph\u001b[0m\u001b[1;33m[\u001b[0m\u001b[0mk\u001b[0m\u001b[1;33m]\u001b[0m\u001b[1;33m[\u001b[0m\u001b[0mj\u001b[0m\u001b[1;33m]\u001b[0m\u001b[1;33m\u001b[0m\u001b[1;33m\u001b[0m\u001b[0m\n\u001b[0m\u001b[0;32m     18\u001b[0m             \u001b[0mk\u001b[0m\u001b[1;33m=\u001b[0m\u001b[0mj\u001b[0m\u001b[1;33m\u001b[0m\u001b[1;33m\u001b[0m\u001b[0m\n\u001b[0;32m     19\u001b[0m \u001b[1;33m\u001b[0m\u001b[0m\n",
      "\u001b[1;31mIndexError\u001b[0m: list index out of range"
     ]
    }
   ],
   "source": [
    "from sys import maxsize\n",
    "from itertools import permutations\n",
    "\n",
    "def tsp(graph,s):\n",
    "    v=len(graph)\n",
    "    vertices=[]\n",
    "    for x in range(v):\n",
    "        if x!=s:\n",
    "            vertices.append(x)\n",
    "    minpath=maxsize\n",
    "    perm=permutations(vertices)\n",
    "    \n",
    "    for i in perm:\n",
    "        current=0\n",
    "        k=s\n",
    "        for j in i:\n",
    "            current+=graph[k][j]\n",
    "            k=j\n",
    "            \n",
    "        current+=graph[k][s]\n",
    "        minpath=min(minpath,current)\n",
    "    return minpath\n",
    "        \n",
    "graph = [[0, 0, 0], [1, 0, 1], [2, 1, 0], [3, 1, 1]]\n",
    "s = 0\n",
    "tsp(graph,s)"
   ]
  },
  {
   "cell_type": "code",
   "execution_count": null,
   "id": "349652a2-943f-4016-8d4f-84343c10c8ba",
   "metadata": {},
   "outputs": [],
   "source": []
  },
  {
   "cell_type": "code",
   "execution_count": null,
   "id": "a4964def-6f6a-4e94-b2e7-df8dbcd63b53",
   "metadata": {},
   "outputs": [],
   "source": []
  }
 ],
 "metadata": {
  "kernelspec": {
   "display_name": "Python 3",
   "language": "python",
   "name": "python3"
  },
  "language_info": {
   "codemirror_mode": {
    "name": "ipython",
    "version": 3
   },
   "file_extension": ".py",
   "mimetype": "text/x-python",
   "name": "python",
   "nbconvert_exporter": "python",
   "pygments_lexer": "ipython3",
   "version": "3.8.6"
  }
 },
 "nbformat": 4,
 "nbformat_minor": 5
}
