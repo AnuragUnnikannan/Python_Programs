{
 "cells": [
  {
   "cell_type": "code",
   "execution_count": 2,
   "id": "8ccc7bcd-9f8f-4b97-b62c-212f6a88c4e8",
   "metadata": {},
   "outputs": [],
   "source": [
    "age = 30"
   ]
  },
  {
   "cell_type": "code",
   "execution_count": 3,
   "id": "e7db5503-9000-454b-a274-3158ef5040ce",
   "metadata": {},
   "outputs": [
    {
     "name": "stdout",
     "output_type": "stream",
     "text": [
      "<class 'int'>\n"
     ]
    }
   ],
   "source": [
    "print(type(age))"
   ]
  },
  {
   "cell_type": "code",
   "execution_count": 4,
   "id": "d76ac77b-02f4-483f-8b2b-18586cd427b1",
   "metadata": {},
   "outputs": [
    {
     "data": {
      "text/plain": [
       "int"
      ]
     },
     "execution_count": 4,
     "metadata": {},
     "output_type": "execute_result"
    }
   ],
   "source": [
    "type(age)"
   ]
  },
  {
   "cell_type": "code",
   "execution_count": 5,
   "id": "84530937-d822-4128-b9d5-ff261061262d",
   "metadata": {},
   "outputs": [],
   "source": [
    "name, age, n = \"John\", 20, 100"
   ]
  },
  {
   "cell_type": "code",
   "execution_count": 6,
   "id": "1e11e2b4-47a4-48ef-9abf-ae286bd9fe15",
   "metadata": {},
   "outputs": [
    {
     "data": {
      "text/plain": [
       "'John'"
      ]
     },
     "execution_count": 6,
     "metadata": {},
     "output_type": "execute_result"
    }
   ],
   "source": [
    "name"
   ]
  },
  {
   "cell_type": "code",
   "execution_count": 7,
   "id": "055bdb75-91ca-4865-b804-051ee4026e76",
   "metadata": {},
   "outputs": [
    {
     "data": {
      "text/plain": [
       "20"
      ]
     },
     "execution_count": 7,
     "metadata": {},
     "output_type": "execute_result"
    }
   ],
   "source": [
    "age"
   ]
  },
  {
   "cell_type": "code",
   "execution_count": 8,
   "id": "bd3674ad-d55c-4be7-baec-3de7a1d556c4",
   "metadata": {},
   "outputs": [
    {
     "data": {
      "text/plain": [
       "100"
      ]
     },
     "execution_count": 8,
     "metadata": {},
     "output_type": "execute_result"
    }
   ],
   "source": [
    "n"
   ]
  },
  {
   "cell_type": "markdown",
   "id": "fc063245-e1ec-484e-a4be-d40b4043f9bf",
   "metadata": {},
   "source": [
    "## Variable Naming Rules & Conventions"
   ]
  },
  {
   "cell_type": "code",
   "execution_count": 9,
   "id": "8441b28e-a249-4147-bf49-63d22b3828a4",
   "metadata": {},
   "outputs": [],
   "source": [
    "temp = 110\n",
    "Temp = 10\n",
    "_temp = 10"
   ]
  },
  {
   "cell_type": "code",
   "execution_count": 10,
   "id": "cf3e1767-2020-463e-9dca-e62e72e4d997",
   "metadata": {},
   "outputs": [
    {
     "ename": "SyntaxError",
     "evalue": "invalid syntax (<ipython-input-10-5942b1f63efd>, line 1)",
     "output_type": "error",
     "traceback": [
      "\u001b[1;36m  File \u001b[1;32m\"<ipython-input-10-5942b1f63efd>\"\u001b[1;36m, line \u001b[1;32m1\u001b[0m\n\u001b[1;33m    1temp = 11\u001b[0m\n\u001b[1;37m     ^\u001b[0m\n\u001b[1;31mSyntaxError\u001b[0m\u001b[1;31m:\u001b[0m invalid syntax\n"
     ]
    }
   ],
   "source": [
    "1temp = 11"
   ]
  },
  {
   "cell_type": "code",
   "execution_count": 11,
   "id": "8945f213-6b92-47fa-a099-62221ea9e2eb",
   "metadata": {},
   "outputs": [],
   "source": [
    "_637_ABC = 100"
   ]
  },
  {
   "cell_type": "code",
   "execution_count": 12,
   "id": "c85861d0-b67a-4a93-808d-2405aecdf7ae",
   "metadata": {},
   "outputs": [
    {
     "ename": "SyntaxError",
     "evalue": "invalid syntax (<ipython-input-12-95ce2ad20bb9>, line 1)",
     "output_type": "error",
     "traceback": [
      "\u001b[1;36m  File \u001b[1;32m\"<ipython-input-12-95ce2ad20bb9>\"\u001b[1;36m, line \u001b[1;32m1\u001b[0m\n\u001b[1;33m    temp& = 10\u001b[0m\n\u001b[1;37m          ^\u001b[0m\n\u001b[1;31mSyntaxError\u001b[0m\u001b[1;31m:\u001b[0m invalid syntax\n"
     ]
    }
   ],
   "source": [
    "temp& = 10"
   ]
  },
  {
   "cell_type": "code",
   "execution_count": 14,
   "id": "c27f610f-b908-41f8-90f0-ef7ed8853710",
   "metadata": {},
   "outputs": [
    {
     "name": "stdout",
     "output_type": "stream",
     "text": [
      "1 2 3\n"
     ]
    }
   ],
   "source": [
    "age = 1\n",
    "Age = 2\n",
    "AGE = 3\n",
    "print(age, Age, AGE)"
   ]
  },
  {
   "cell_type": "code",
   "execution_count": 15,
   "id": "e7ff37cf-7b9a-4615-8a5f-81781623cbf9",
   "metadata": {},
   "outputs": [],
   "source": [
    "#variables are usually written in lower case in python\n",
    "first_name = \"John\"\n",
    "#camel case is generally not used in python\n",
    "firstName = \"John\""
   ]
  },
  {
   "cell_type": "code",
   "execution_count": 18,
   "id": "9ff9fc17-4241-4027-9aef-e1419dd28ed4",
   "metadata": {},
   "outputs": [],
   "source": [
    "#constants are written in UPPER_CASE (converntion)\n",
    "PI_VALUE = 3.14"
   ]
  },
  {
   "cell_type": "markdown",
   "id": "343bf85d-2808-42d6-88dd-45b6cdb49791",
   "metadata": {},
   "source": [
    "## Printing"
   ]
  },
  {
   "cell_type": "code",
   "execution_count": 19,
   "id": "583aa679-bda5-4335-b428-6434cb4b8717",
   "metadata": {},
   "outputs": [
    {
     "name": "stdout",
     "output_type": "stream",
     "text": [
      "1\n"
     ]
    }
   ],
   "source": [
    "print(age)"
   ]
  },
  {
   "cell_type": "code",
   "execution_count": 20,
   "id": "df511a0c-79ae-4f3d-a6fe-5b27bd973ae5",
   "metadata": {},
   "outputs": [
    {
     "name": "stdout",
     "output_type": "stream",
     "text": [
      "Hello\n",
      "World\n"
     ]
    }
   ],
   "source": [
    "print(\"Hello\")\n",
    "print(\"World\")"
   ]
  },
  {
   "cell_type": "code",
   "execution_count": 21,
   "id": "d1b777ca-2fe4-422c-b62f-7d027adf154c",
   "metadata": {},
   "outputs": [
    {
     "name": "stdout",
     "output_type": "stream",
     "text": [
      "HelloWorld\n"
     ]
    }
   ],
   "source": [
    "print(\"Hello\", end='')\n",
    "print(\"World\")"
   ]
  },
  {
   "cell_type": "code",
   "execution_count": 22,
   "id": "9fbb167d-2ad7-4a3a-9130-ee602a624944",
   "metadata": {},
   "outputs": [
    {
     "name": "stdout",
     "output_type": "stream",
     "text": [
      "Hello\tWorld\n"
     ]
    }
   ],
   "source": [
    "print(\"Hello\", end=\"\\t\")\n",
    "print(\"World\")"
   ]
  },
  {
   "cell_type": "code",
   "execution_count": 23,
   "id": "6c59f5ab-d9f4-4c49-bef4-ac754890f0c9",
   "metadata": {},
   "outputs": [
    {
     "name": "stdout",
     "output_type": "stream",
     "text": [
      "ABCDEFGHIJKL\n"
     ]
    }
   ],
   "source": [
    "print(\"ABCD\", end=\"EFGH\")\n",
    "print(\"IJKL\")"
   ]
  },
  {
   "cell_type": "code",
   "execution_count": 24,
   "id": "386e2e6f-351c-4d61-a770-cf3047d5533a",
   "metadata": {},
   "outputs": [
    {
     "name": "stdout",
     "output_type": "stream",
     "text": [
      "Hello 30 True\n"
     ]
    }
   ],
   "source": [
    "var1 = \"Hello\"\n",
    "var2 = 30\n",
    "var3 = True\n",
    "print(var1, var2, var3)"
   ]
  },
  {
   "cell_type": "markdown",
   "id": "f885cf92-0883-4348-8e8d-fa32aa61583f",
   "metadata": {},
   "source": [
    "## Comments"
   ]
  },
  {
   "cell_type": "code",
   "execution_count": 25,
   "id": "431e8b55-84df-47d0-add9-6801a40ee8e9",
   "metadata": {},
   "outputs": [],
   "source": [
    "#This is a comment\n",
    "var = 100 #Comments can be inline"
   ]
  },
  {
   "cell_type": "code",
   "execution_count": 26,
   "id": "d1fdbcf2-cfa6-4753-aacd-ebfe1105d341",
   "metadata": {},
   "outputs": [
    {
     "data": {
      "text/plain": [
       "'\\nThis is a\\nmultiline comment\\n'"
      ]
     },
     "execution_count": 26,
     "metadata": {},
     "output_type": "execute_result"
    }
   ],
   "source": [
    "\"\"\"\n",
    "This is a\n",
    "multiline comment\n",
    "\"\"\""
   ]
  },
  {
   "cell_type": "code",
   "execution_count": 27,
   "id": "6f6b2f82-e361-481a-85e2-c0d7ebaa909d",
   "metadata": {},
   "outputs": [
    {
     "data": {
      "text/plain": [
       "'\\nAlso a\\nmultiline comment\\n'"
      ]
     },
     "execution_count": 27,
     "metadata": {},
     "output_type": "execute_result"
    }
   ],
   "source": [
    "'''\n",
    "Also a\n",
    "multiline comment\n",
    "'''"
   ]
  },
  {
   "cell_type": "markdown",
   "id": "be9da27e-05f1-4041-b5d0-237af9e6e7dd",
   "metadata": {},
   "source": [
    "## Numbers Data Type\n",
    "<ul>\n",
    "    <li>Integer</li>\n",
    "    <li>Floating Point</li>\n",
    "    <li>Complex</li>\n",
    "    <li>Binary, Octal, Hexadecimal</li>\n",
    "</ul>"
   ]
  },
  {
   "cell_type": "markdown",
   "id": "17a365dd-3f21-4d51-bdde-3364b8bd7c5c",
   "metadata": {},
   "source": [
    "### Integers"
   ]
  },
  {
   "cell_type": "code",
   "execution_count": 28,
   "id": "044a598e-20e8-4455-9896-56fdaa9ac9fd",
   "metadata": {},
   "outputs": [
    {
     "name": "stdout",
     "output_type": "stream",
     "text": [
      "10\n"
     ]
    },
    {
     "data": {
      "text/plain": [
       "int"
      ]
     },
     "execution_count": 28,
     "metadata": {},
     "output_type": "execute_result"
    }
   ],
   "source": [
    "var = 10\n",
    "print(var)\n",
    "type(var)"
   ]
  },
  {
   "cell_type": "code",
   "execution_count": 29,
   "id": "ba8ecf5e-c649-4ff1-ab6a-36f61e94253d",
   "metadata": {},
   "outputs": [
    {
     "name": "stdout",
     "output_type": "stream",
     "text": [
      "2871823721312903\n"
     ]
    },
    {
     "data": {
      "text/plain": [
       "int"
      ]
     },
     "execution_count": 29,
     "metadata": {},
     "output_type": "execute_result"
    }
   ],
   "source": [
    "var = 2871823721312903\n",
    "print(var)\n",
    "type(var)"
   ]
  },
  {
   "cell_type": "markdown",
   "id": "ea122549-7050-43b3-b4bc-ab914dfced3d",
   "metadata": {},
   "source": [
    "### Floating Point"
   ]
  },
  {
   "cell_type": "code",
   "execution_count": 30,
   "id": "d8e44c78-b6de-4dc8-a889-428d77b0a670",
   "metadata": {},
   "outputs": [
    {
     "name": "stdout",
     "output_type": "stream",
     "text": [
      "3.14\n"
     ]
    },
    {
     "data": {
      "text/plain": [
       "float"
      ]
     },
     "execution_count": 30,
     "metadata": {},
     "output_type": "execute_result"
    }
   ],
   "source": [
    "pi = 3.14\n",
    "print(pi)\n",
    "type(pi)"
   ]
  },
  {
   "cell_type": "code",
   "execution_count": 31,
   "id": "ef674b0c-fd1d-4db1-b1e8-eac0bea43b66",
   "metadata": {},
   "outputs": [
    {
     "name": "stdout",
     "output_type": "stream",
     "text": [
      "2631723.232178368\n"
     ]
    },
    {
     "data": {
      "text/plain": [
       "float"
      ]
     },
     "execution_count": 31,
     "metadata": {},
     "output_type": "execute_result"
    }
   ],
   "source": [
    "var = 2631723.232178368123789128\n",
    "print(var)\n",
    "type(var)"
   ]
  },
  {
   "cell_type": "markdown",
   "id": "b405930f-61f7-430b-9631-bf431b82d47e",
   "metadata": {},
   "source": [
    "### E notation"
   ]
  },
  {
   "cell_type": "code",
   "execution_count": 32,
   "id": "8ea6120f-4235-4d3a-bda5-38a192568684",
   "metadata": {},
   "outputs": [
    {
     "name": "stdout",
     "output_type": "stream",
     "text": [
      "3.21321e+200\n"
     ]
    },
    {
     "data": {
      "text/plain": [
       "float"
      ]
     },
     "execution_count": 32,
     "metadata": {},
     "output_type": "execute_result"
    }
   ],
   "source": [
    "var = 3.21321e200 # E can also be used\n",
    "print(var)\n",
    "type(var)"
   ]
  },
  {
   "cell_type": "markdown",
   "id": "2a28704c-962f-4e9d-a05e-0f9cb6a8faae",
   "metadata": {},
   "source": [
    "### Complex"
   ]
  },
  {
   "cell_type": "code",
   "execution_count": 34,
   "id": "6a4a60ce-cfdf-4e19-b7f4-57082e0b7b29",
   "metadata": {},
   "outputs": [
    {
     "name": "stdout",
     "output_type": "stream",
     "text": [
      "(3+7j)\n"
     ]
    },
    {
     "data": {
      "text/plain": [
       "complex"
      ]
     },
     "execution_count": 34,
     "metadata": {},
     "output_type": "execute_result"
    }
   ],
   "source": [
    "var = 3+7j\n",
    "print(var)\n",
    "type(var)"
   ]
  },
  {
   "cell_type": "code",
   "execution_count": 35,
   "id": "71973014-696a-4a13-a482-23ff236876f6",
   "metadata": {},
   "outputs": [
    {
     "name": "stdout",
     "output_type": "stream",
     "text": [
      "(7-10j)\n"
     ]
    },
    {
     "data": {
      "text/plain": [
       "complex"
      ]
     },
     "execution_count": 35,
     "metadata": {},
     "output_type": "execute_result"
    }
   ],
   "source": [
    "var = 7-10j\n",
    "print(var)\n",
    "type(var)"
   ]
  },
  {
   "cell_type": "markdown",
   "id": "edbdd0fb-29e3-4c73-b42f-c4e0edb662a1",
   "metadata": {},
   "source": [
    "We can use <code>complex()</code> function to create a complex number."
   ]
  },
  {
   "cell_type": "code",
   "execution_count": 36,
   "id": "66728929-3007-4460-a2c0-c56846be2779",
   "metadata": {},
   "outputs": [
    {
     "data": {
      "text/plain": [
       "(10+0j)"
      ]
     },
     "execution_count": 36,
     "metadata": {},
     "output_type": "execute_result"
    }
   ],
   "source": [
    "complex(10)"
   ]
  },
  {
   "cell_type": "code",
   "execution_count": 37,
   "id": "77fb4662-9333-48b3-8133-a180142790f8",
   "metadata": {},
   "outputs": [
    {
     "data": {
      "text/plain": [
       "(10-5j)"
      ]
     },
     "execution_count": 37,
     "metadata": {},
     "output_type": "execute_result"
    }
   ],
   "source": [
    "complex(10, -5)"
   ]
  },
  {
   "cell_type": "markdown",
   "id": "bd9240b2-739f-41de-8f41-45d3c3869976",
   "metadata": {},
   "source": [
    "We can use <code>complex_number.real</code> and <code>complex_number.imag</code> to extract the real and imaginary part of a complex number."
   ]
  },
  {
   "cell_type": "code",
   "execution_count": 38,
   "id": "173c2caa-ab2e-4e1f-bbeb-8a776dfcdeb8",
   "metadata": {},
   "outputs": [
    {
     "name": "stdout",
     "output_type": "stream",
     "text": [
      "Real part:  3.0\n",
      "Imaginary part:  7.0\n"
     ]
    }
   ],
   "source": [
    "var = 3 + 7j\n",
    "print(\"Real part: \", var.real)\n",
    "print(\"Imaginary part: \", var.imag)"
   ]
  },
  {
   "cell_type": "markdown",
   "id": "d8ab8f6c-79e6-43d9-98e0-071768ac8b8e",
   "metadata": {},
   "source": [
    "<b>NOTE:</b> Comparisons like <, >, <= and >= cannot be used on a complex number"
   ]
  },
  {
   "cell_type": "markdown",
   "id": "e6736ac3-0d64-4bff-bcd3-da3dad29d938",
   "metadata": {},
   "source": [
    "### Decimal, Binary, Octal, Hexadecimal Numbers"
   ]
  },
  {
   "cell_type": "code",
   "execution_count": 39,
   "id": "b3dfceb4-628a-4adb-90d7-df90836f2ec9",
   "metadata": {},
   "outputs": [],
   "source": [
    "#decimal number\n",
    "decimal = 21"
   ]
  },
  {
   "cell_type": "code",
   "execution_count": 46,
   "id": "fae42b1a-c241-431b-90ce-31246b1050b9",
   "metadata": {},
   "outputs": [
    {
     "name": "stdout",
     "output_type": "stream",
     "text": [
      "0b10101\n"
     ]
    }
   ],
   "source": [
    "#Binary Number\n",
    "binary = 0b10101\n",
    "print(bin(21))  #Print binary representation of 21 in string format"
   ]
  },
  {
   "cell_type": "code",
   "execution_count": 48,
   "id": "54541dd2-d749-4265-ab81-262d787203d7",
   "metadata": {},
   "outputs": [
    {
     "name": "stdout",
     "output_type": "stream",
     "text": [
      "0o25\n"
     ]
    }
   ],
   "source": [
    "#Octal Number\n",
    "octal = 0o25\n",
    "print(oct(21))  #Print octal representation of 21 in string format"
   ]
  },
  {
   "cell_type": "code",
   "execution_count": 47,
   "id": "a19b35bf-af2b-45a9-bf13-45e030c39857",
   "metadata": {},
   "outputs": [
    {
     "name": "stdout",
     "output_type": "stream",
     "text": [
      "0x15\n"
     ]
    }
   ],
   "source": [
    "#Hexadecimal Number\n",
    "octal = 0x15\n",
    "print(hex(21))  #Print hex representation of 21 in string format"
   ]
  },
  {
   "cell_type": "markdown",
   "id": "5ced49e2-0224-44aa-9de7-3c7712342b07",
   "metadata": {},
   "source": [
    "## Bitwise Operators"
   ]
  },
  {
   "cell_type": "markdown",
   "id": "1d698deb-b51a-43fc-8dfa-825d563e1c71",
   "metadata": {},
   "source": [
    "Used to compare binary numbers"
   ]
  },
  {
   "cell_type": "markdown",
   "id": "225b6b7d-b267-40d3-9e4f-4ac51383ce1d",
   "metadata": {},
   "source": [
    "<b>Bitwise AND (&):</b> Set bit to 1 if both bits are 1"
   ]
  },
  {
   "cell_type": "code",
   "execution_count": 52,
   "id": "225ab6bf-5e82-4e17-9649-01f5f87e4492",
   "metadata": {},
   "outputs": [
    {
     "data": {
      "text/plain": [
       "5"
      ]
     },
     "execution_count": 52,
     "metadata": {},
     "output_type": "execute_result"
    }
   ],
   "source": [
    "0b10101 & 0b00111 #21 & 7"
   ]
  },
  {
   "cell_type": "code",
   "execution_count": 53,
   "id": "dce461ec-3045-4e80-862c-72dab68936ef",
   "metadata": {},
   "outputs": [
    {
     "data": {
      "text/plain": [
       "5"
      ]
     },
     "execution_count": 53,
     "metadata": {},
     "output_type": "execute_result"
    }
   ],
   "source": [
    "21 & 7"
   ]
  },
  {
   "cell_type": "markdown",
   "id": "5e41c966-d049-46f8-92ec-fc6e70c8080b",
   "metadata": {},
   "source": [
    "<b>Bitwise OR (|):</b> Set bit to 1 if either of two bits is 1"
   ]
  },
  {
   "cell_type": "code",
   "execution_count": 55,
   "id": "fe806d14-6df0-4f1a-87bb-2b3edd37c70e",
   "metadata": {},
   "outputs": [
    {
     "data": {
      "text/plain": [
       "23"
      ]
     },
     "execution_count": 55,
     "metadata": {},
     "output_type": "execute_result"
    }
   ],
   "source": [
    "0b10101 | 0b00111  #21 | 7"
   ]
  },
  {
   "cell_type": "code",
   "execution_count": 56,
   "id": "ad89bcbe-7c8e-4fa6-8d17-6fd30690aa5f",
   "metadata": {},
   "outputs": [
    {
     "data": {
      "text/plain": [
       "23"
      ]
     },
     "execution_count": 56,
     "metadata": {},
     "output_type": "execute_result"
    }
   ],
   "source": [
    "21 | 7"
   ]
  },
  {
   "cell_type": "markdown",
   "id": "37b37c61-54b0-4fe6-b7d8-040eb4f84283",
   "metadata": {},
   "source": [
    "<b>Bitwise XOR (^):</b> Set bit to 1 if only one of two bits is 1"
   ]
  },
  {
   "cell_type": "code",
   "execution_count": 57,
   "id": "f855171d-77f4-471b-851f-fdc1230c461d",
   "metadata": {},
   "outputs": [
    {
     "data": {
      "text/plain": [
       "18"
      ]
     },
     "execution_count": 57,
     "metadata": {},
     "output_type": "execute_result"
    }
   ],
   "source": [
    "0b10101 ^ 0b00111  #21 ^ 7"
   ]
  },
  {
   "cell_type": "code",
   "execution_count": 58,
   "id": "1b97a6f7-bc17-4d2b-abe3-d67e56eed156",
   "metadata": {},
   "outputs": [
    {
     "data": {
      "text/plain": [
       "18"
      ]
     },
     "execution_count": 58,
     "metadata": {},
     "output_type": "execute_result"
    }
   ],
   "source": [
    "21 ^ 7"
   ]
  },
  {
   "cell_type": "markdown",
   "id": "d2c7043f-a315-4d80-9bb0-7249d7ee2e83",
   "metadata": {},
   "source": [
    "<b>Bitwise NOT (~):</b> Inverse bits"
   ]
  },
  {
   "cell_type": "code",
   "execution_count": 60,
   "id": "6a669309-fe1e-4fcf-b3de-ec49f4a6be47",
   "metadata": {},
   "outputs": [
    {
     "data": {
      "text/plain": [
       "-22"
      ]
     },
     "execution_count": 60,
     "metadata": {},
     "output_type": "execute_result"
    }
   ],
   "source": [
    "~0b10101  #21"
   ]
  },
  {
   "cell_type": "code",
   "execution_count": 61,
   "id": "40fd785d-91db-455b-8dad-daa8cd6a3a78",
   "metadata": {},
   "outputs": [
    {
     "data": {
      "text/plain": [
       "-22"
      ]
     },
     "execution_count": 61,
     "metadata": {},
     "output_type": "execute_result"
    }
   ],
   "source": [
    "~21"
   ]
  },
  {
   "cell_type": "markdown",
   "id": "95ab7583-d0c0-4617-849d-6974de4d37b2",
   "metadata": {},
   "source": [
    "<b>Left Shift (<<):</b> Shift the bits left by pushing zeros in from the right"
   ]
  },
  {
   "cell_type": "code",
   "execution_count": 62,
   "id": "79e0037d-42bb-4def-9c57-a9b33f558e7e",
   "metadata": {},
   "outputs": [
    {
     "data": {
      "text/plain": [
       "84"
      ]
     },
     "execution_count": 62,
     "metadata": {},
     "output_type": "execute_result"
    }
   ],
   "source": [
    "0b10101 << 2"
   ]
  },
  {
   "cell_type": "code",
   "execution_count": 63,
   "id": "a7f3ad85-b5dc-44fe-8493-9b310d612ff6",
   "metadata": {},
   "outputs": [
    {
     "data": {
      "text/plain": [
       "'0b1010100'"
      ]
     },
     "execution_count": 63,
     "metadata": {},
     "output_type": "execute_result"
    }
   ],
   "source": [
    "bin(0b10101 << 2)"
   ]
  },
  {
   "cell_type": "code",
   "execution_count": 64,
   "id": "df56d461-54eb-4cfe-aace-9df748901106",
   "metadata": {},
   "outputs": [
    {
     "data": {
      "text/plain": [
       "84"
      ]
     },
     "execution_count": 64,
     "metadata": {},
     "output_type": "execute_result"
    }
   ],
   "source": [
    "21 << 2"
   ]
  },
  {
   "cell_type": "markdown",
   "id": "3b0a15f5-1c6b-4292-9789-2c0747b72092",
   "metadata": {},
   "source": [
    "<b>Signed Right Shift (>>):</b> Shift right by pushing copies of the leftmost bit in from the left"
   ]
  },
  {
   "cell_type": "code",
   "execution_count": 65,
   "id": "9342c977-7dbf-40aa-876f-9f783279fa7d",
   "metadata": {},
   "outputs": [
    {
     "data": {
      "text/plain": [
       "5"
      ]
     },
     "execution_count": 65,
     "metadata": {},
     "output_type": "execute_result"
    }
   ],
   "source": [
    "0b10101 >> 2"
   ]
  },
  {
   "cell_type": "code",
   "execution_count": 66,
   "id": "5b60f292-838e-4e3a-b34b-c7b0e12e07dd",
   "metadata": {},
   "outputs": [
    {
     "data": {
      "text/plain": [
       "'0b101'"
      ]
     },
     "execution_count": 66,
     "metadata": {},
     "output_type": "execute_result"
    }
   ],
   "source": [
    "bin(0b10101 >> 2)"
   ]
  },
  {
   "cell_type": "code",
   "execution_count": 67,
   "id": "d7c5787f-5700-4df3-99e1-2fd6ec8bfb07",
   "metadata": {},
   "outputs": [
    {
     "data": {
      "text/plain": [
       "5"
      ]
     },
     "execution_count": 67,
     "metadata": {},
     "output_type": "execute_result"
    }
   ],
   "source": [
    "21 >> 2"
   ]
  },
  {
   "cell_type": "code",
   "execution_count": null,
   "id": "3569bd40-5e85-458a-8b41-fa57fa41cb27",
   "metadata": {},
   "outputs": [],
   "source": []
  }
 ],
 "metadata": {
  "kernelspec": {
   "display_name": "Python 3",
   "language": "python",
   "name": "python3"
  },
  "language_info": {
   "codemirror_mode": {
    "name": "ipython",
    "version": 3
   },
   "file_extension": ".py",
   "mimetype": "text/x-python",
   "name": "python",
   "nbconvert_exporter": "python",
   "pygments_lexer": "ipython3",
   "version": "3.8.6"
  }
 },
 "nbformat": 4,
 "nbformat_minor": 5
}
