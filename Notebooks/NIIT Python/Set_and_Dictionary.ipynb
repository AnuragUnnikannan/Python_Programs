{
 "cells": [
  {
   "cell_type": "markdown",
   "id": "173907c8-7dd7-49ca-9a2f-eaa726eaac5f",
   "metadata": {},
   "source": [
    "<center><h1>Set & Dictionary</h1></center>"
   ]
  },
  {
   "cell_type": "markdown",
   "id": "6522d884-a5ca-409c-b681-8a8942c65ff8",
   "metadata": {},
   "source": [
    "## Set"
   ]
  },
  {
   "cell_type": "markdown",
   "id": "f8dc62c3-130b-46ad-9202-ef5801d25bbe",
   "metadata": {},
   "source": [
    "### Create"
   ]
  },
  {
   "cell_type": "code",
   "execution_count": 5,
   "id": "e52ac8a1-7cbd-4693-a917-a4aa3f0c0744",
   "metadata": {},
   "outputs": [
    {
     "data": {
      "text/plain": [
       "{10, 20, 30}"
      ]
     },
     "execution_count": 5,
     "metadata": {},
     "output_type": "execute_result"
    }
   ],
   "source": [
    "set_a = {10, 20, 30}\n",
    "set_a"
   ]
  },
  {
   "cell_type": "markdown",
   "id": "f53c2a62-8498-4fc5-bdd6-703268b634bf",
   "metadata": {},
   "source": [
    "### Length"
   ]
  },
  {
   "cell_type": "code",
   "execution_count": 6,
   "id": "cb24e60f-1ea8-4881-8e45-166d4291411a",
   "metadata": {},
   "outputs": [
    {
     "data": {
      "text/plain": [
       "3"
      ]
     },
     "execution_count": 6,
     "metadata": {},
     "output_type": "execute_result"
    }
   ],
   "source": [
    "len(set_a)"
   ]
  },
  {
   "cell_type": "markdown",
   "id": "a48a96a0-edad-4223-8ba4-1c621baa8204",
   "metadata": {},
   "source": [
    "### Unordered"
   ]
  },
  {
   "cell_type": "markdown",
   "id": "26e9bdc7-a74b-464a-bae5-125100bf5f05",
   "metadata": {},
   "source": [
    "Each time a set is printed, the order keeps on changing"
   ]
  },
  {
   "cell_type": "code",
   "execution_count": 7,
   "id": "406af7b0-3818-4efb-9ea1-57af45ca1e83",
   "metadata": {},
   "outputs": [
    {
     "name": "stdout",
     "output_type": "stream",
     "text": [
      "{40, 10, 20, 30}\n"
     ]
    }
   ],
   "source": [
    "print({10, 20}.union({30, 40}))"
   ]
  },
  {
   "cell_type": "markdown",
   "id": "10a76fb5-dccb-4db5-8e32-db1b6f05d282",
   "metadata": {},
   "source": [
    "### Unindexed"
   ]
  },
  {
   "cell_type": "markdown",
   "id": "821c46fb-4273-4e07-9788-71b43e4057e8",
   "metadata": {},
   "source": [
    "Elements do not have any index"
   ]
  },
  {
   "cell_type": "code",
   "execution_count": 8,
   "id": "619602ad-0427-4d22-b46d-fac50e54f2bd",
   "metadata": {},
   "outputs": [
    {
     "ename": "TypeError",
     "evalue": "'set' object is not subscriptable",
     "output_type": "error",
     "traceback": [
      "\u001b[1;31m---------------------------------------------------------------------------\u001b[0m",
      "\u001b[1;31mTypeError\u001b[0m                                 Traceback (most recent call last)",
      "\u001b[1;32m<ipython-input-8-3a3e0dde29a5>\u001b[0m in \u001b[0;36m<module>\u001b[1;34m\u001b[0m\n\u001b[1;32m----> 1\u001b[1;33m \u001b[0mset_a\u001b[0m\u001b[1;33m[\u001b[0m\u001b[1;36m1\u001b[0m\u001b[1;33m]\u001b[0m\u001b[1;33m\u001b[0m\u001b[1;33m\u001b[0m\u001b[0m\n\u001b[0m",
      "\u001b[1;31mTypeError\u001b[0m: 'set' object is not subscriptable"
     ]
    }
   ],
   "source": [
    "set_a[1]"
   ]
  },
  {
   "cell_type": "markdown",
   "id": "0446dcf4-d11a-473b-b62f-1ba541eea376",
   "metadata": {},
   "source": [
    "### Unique"
   ]
  },
  {
   "cell_type": "markdown",
   "id": "bc0584fd-1938-472a-b5b9-72e17ef58c02",
   "metadata": {},
   "source": [
    "All elements of a set should be unique. Duplicate elements are never displayed."
   ]
  },
  {
   "cell_type": "code",
   "execution_count": 9,
   "id": "5de739ae-0ee9-4e04-b797-8f846904fa85",
   "metadata": {},
   "outputs": [
    {
     "data": {
      "text/plain": [
       "{10, 20, 30, 40, 50}"
      ]
     },
     "execution_count": 9,
     "metadata": {},
     "output_type": "execute_result"
    }
   ],
   "source": [
    "set_a = {10, 20, 10, 30, 40, 50}\n",
    "set_a"
   ]
  },
  {
   "cell_type": "markdown",
   "id": "16641265-6a34-4c42-af2d-a77f6bedad21",
   "metadata": {},
   "source": [
    "### Add elements"
   ]
  },
  {
   "cell_type": "code",
   "execution_count": 10,
   "id": "4dac4053-4e1d-4798-85b4-9799b6de7d0d",
   "metadata": {},
   "outputs": [
    {
     "name": "stdout",
     "output_type": "stream",
     "text": [
      "{10, 20, 30}\n"
     ]
    }
   ],
   "source": [
    "set_a = {10, 20, 30}\n",
    "print(set_a)"
   ]
  },
  {
   "cell_type": "code",
   "execution_count": 11,
   "id": "6dc51069-9aa8-4b80-b2a6-e852bd8a5247",
   "metadata": {},
   "outputs": [
    {
     "name": "stdout",
     "output_type": "stream",
     "text": [
      "{40, 10, 20, 30}\n"
     ]
    }
   ],
   "source": [
    "set_a.add(40)\n",
    "print(set_a)\n",
    "#Only single elements can be added"
   ]
  },
  {
   "cell_type": "markdown",
   "id": "0c7b3ec8-f686-4724-9efa-fccfc60cba2d",
   "metadata": {},
   "source": [
    "For adding multiple elements use <code>upadate()</code>"
   ]
  },
  {
   "cell_type": "code",
   "execution_count": 12,
   "id": "71e24608-729f-4ebe-9950-8f7a31ccbb62",
   "metadata": {},
   "outputs": [
    {
     "data": {
      "text/plain": [
       "{10, 20, 30, 40, 80, 90}"
      ]
     },
     "execution_count": 12,
     "metadata": {},
     "output_type": "execute_result"
    }
   ],
   "source": [
    "set_a.update({80, 90})\n",
    "set_a"
   ]
  },
  {
   "cell_type": "markdown",
   "id": "b6e98ebe-f113-4ba7-923e-cd006a8d7442",
   "metadata": {},
   "source": [
    "### Remove Elements"
   ]
  },
  {
   "cell_type": "code",
   "execution_count": 13,
   "id": "78d8b50d-f337-437a-8104-fa767b91b22c",
   "metadata": {},
   "outputs": [],
   "source": [
    "set_a.remove(30) #removes single element. Will show error if element not present"
   ]
  },
  {
   "cell_type": "code",
   "execution_count": 14,
   "id": "7ac28ac9-85d7-4880-9fad-1002ec28ccb9",
   "metadata": {},
   "outputs": [
    {
     "name": "stdout",
     "output_type": "stream",
     "text": [
      "{80, 20, 90, 40, 10}\n"
     ]
    }
   ],
   "source": [
    "print(set_a)"
   ]
  },
  {
   "cell_type": "code",
   "execution_count": 15,
   "id": "b22bb7f3-7473-49fc-868b-a205e549ec40",
   "metadata": {},
   "outputs": [],
   "source": [
    "set_a.discard(7)  #removes single element. Will not show error if element not present"
   ]
  },
  {
   "cell_type": "code",
   "execution_count": 16,
   "id": "511529bf-9a64-4142-a8ab-94b21f4e9eed",
   "metadata": {},
   "outputs": [
    {
     "name": "stdout",
     "output_type": "stream",
     "text": [
      "{80, 20, 90, 40, 10}\n"
     ]
    }
   ],
   "source": [
    "print(set_a)"
   ]
  },
  {
   "cell_type": "markdown",
   "id": "6cf8a3ba-a374-4a72-9fb8-9bfe9a5d93a8",
   "metadata": {},
   "source": [
    "<code>pop()</code> -> Removes random element (Since set has no order)"
   ]
  },
  {
   "cell_type": "code",
   "execution_count": 17,
   "id": "7847c848-6cd5-479e-81e2-c281462b35a7",
   "metadata": {},
   "outputs": [
    {
     "name": "stdout",
     "output_type": "stream",
     "text": [
      "{20, 90, 40, 10}\n"
     ]
    }
   ],
   "source": [
    "set_a.pop()\n",
    "print(set_a)"
   ]
  },
  {
   "cell_type": "markdown",
   "id": "462c1e81-0d1b-4614-a7b2-85105447f90f",
   "metadata": {},
   "source": [
    "<code>clear()</code> -> Clears all element"
   ]
  },
  {
   "cell_type": "code",
   "execution_count": 18,
   "id": "7e97252f-d144-4278-bd0b-fab23002b2cb",
   "metadata": {},
   "outputs": [],
   "source": [
    "set_a.clear()"
   ]
  },
  {
   "cell_type": "code",
   "execution_count": 19,
   "id": "05cb3086-f0ad-4d68-9d15-cf34b2792174",
   "metadata": {},
   "outputs": [
    {
     "data": {
      "text/plain": [
       "set()"
      ]
     },
     "execution_count": 19,
     "metadata": {},
     "output_type": "execute_result"
    }
   ],
   "source": [
    "set_a"
   ]
  },
  {
   "cell_type": "markdown",
   "id": "d5481ad2-3e70-4eab-b229-db45f06153c8",
   "metadata": {},
   "source": [
    "### Union"
   ]
  },
  {
   "cell_type": "code",
   "execution_count": 20,
   "id": "623251ec-24d5-48e5-8120-2ac505521b4f",
   "metadata": {},
   "outputs": [
    {
     "data": {
      "text/plain": [
       "{10, 20, 30, 40, 50}"
      ]
     },
     "execution_count": 20,
     "metadata": {},
     "output_type": "execute_result"
    }
   ],
   "source": [
    "{10, 20, 30}.union({30, 40, 50})"
   ]
  },
  {
   "cell_type": "markdown",
   "id": "0a9d231c-79f0-4c68-bf65-c464e1dfaff0",
   "metadata": {},
   "source": [
    "<code>update()</code> does not change original set"
   ]
  },
  {
   "cell_type": "markdown",
   "id": "5edaef52-bdbf-4272-bb3a-21c2d8dcd086",
   "metadata": {},
   "source": [
    "### Intersection"
   ]
  },
  {
   "cell_type": "code",
   "execution_count": 21,
   "id": "1274ad7f-5f42-47c7-b758-d2c8a697725e",
   "metadata": {},
   "outputs": [
    {
     "data": {
      "text/plain": [
       "{30, 40}"
      ]
     },
     "execution_count": 21,
     "metadata": {},
     "output_type": "execute_result"
    }
   ],
   "source": [
    "{10, 20, 30, 40}.intersection({30, 40, 50})"
   ]
  },
  {
   "cell_type": "markdown",
   "id": "bd4fa0e2-ffcf-46ad-9050-d9e88f55c852",
   "metadata": {},
   "source": [
    "### Difference"
   ]
  },
  {
   "cell_type": "code",
   "execution_count": 22,
   "id": "eae46f3e-653b-4ccd-8e16-7d522b097055",
   "metadata": {},
   "outputs": [
    {
     "data": {
      "text/plain": [
       "{10, 20}"
      ]
     },
     "execution_count": 22,
     "metadata": {},
     "output_type": "execute_result"
    }
   ],
   "source": [
    "{10, 20, 30, 40}.difference({30, 40, 50, 60})"
   ]
  },
  {
   "cell_type": "markdown",
   "id": "8bbb9106-5664-4495-9998-01ab576c5fd6",
   "metadata": {},
   "source": [
    "### Symmetric Difference"
   ]
  },
  {
   "cell_type": "markdown",
   "id": "e9be3f51-63fe-4bd3-ad54-52810cfc406c",
   "metadata": {},
   "source": [
    "Returns elements of A that B does not have AND elements of B that A does not have"
   ]
  },
  {
   "cell_type": "code",
   "execution_count": 23,
   "id": "31047c2d-afc4-49f8-91e9-831361e710b3",
   "metadata": {},
   "outputs": [
    {
     "data": {
      "text/plain": [
       "{10, 20, 50, 60}"
      ]
     },
     "execution_count": 23,
     "metadata": {},
     "output_type": "execute_result"
    }
   ],
   "source": [
    "{10, 20, 30, 40}.symmetric_difference({30, 40, 50, 60})"
   ]
  },
  {
   "cell_type": "markdown",
   "id": "217a3ef8-ed9e-4f32-8a23-51e57daa348f",
   "metadata": {},
   "source": [
    "### Subset & Superset"
   ]
  },
  {
   "cell_type": "code",
   "execution_count": 24,
   "id": "f513d246-b18e-46ca-8650-a1817496ed35",
   "metadata": {},
   "outputs": [
    {
     "data": {
      "text/plain": [
       "True"
      ]
     },
     "execution_count": 24,
     "metadata": {},
     "output_type": "execute_result"
    }
   ],
   "source": [
    "{30, 40}.issubset({10, 20, 30, 40})"
   ]
  },
  {
   "cell_type": "code",
   "execution_count": 25,
   "id": "b2d4ec7e-719d-49be-90a9-4287218a48e9",
   "metadata": {},
   "outputs": [
    {
     "data": {
      "text/plain": [
       "True"
      ]
     },
     "execution_count": 25,
     "metadata": {},
     "output_type": "execute_result"
    }
   ],
   "source": [
    "{10, 20, 30, 40}.issuperset({30, 40})"
   ]
  },
  {
   "cell_type": "markdown",
   "id": "cd4de3bd-3225-45a0-95fd-b38e5fb5ccdb",
   "metadata": {},
   "source": [
    "### Disjoint"
   ]
  },
  {
   "cell_type": "markdown",
   "id": "eb6269fd-480a-4b97-815c-7b91d10231c8",
   "metadata": {},
   "source": [
    "To check whether A and B does not contain any common elements"
   ]
  },
  {
   "cell_type": "code",
   "execution_count": 26,
   "id": "aa016949-12ae-4245-8530-6a8ef8c910c2",
   "metadata": {},
   "outputs": [
    {
     "data": {
      "text/plain": [
       "True"
      ]
     },
     "execution_count": 26,
     "metadata": {},
     "output_type": "execute_result"
    }
   ],
   "source": [
    "{10, 20}.isdisjoint({30, 40})"
   ]
  },
  {
   "cell_type": "markdown",
   "id": "5653a656-56e6-4d31-9d5d-aee14c3e9a28",
   "metadata": {},
   "source": [
    "### Searching in set"
   ]
  },
  {
   "cell_type": "code",
   "execution_count": 27,
   "id": "942bfd1f-a063-4414-8481-8e264d1fe3f6",
   "metadata": {},
   "outputs": [
    {
     "data": {
      "text/plain": [
       "True"
      ]
     },
     "execution_count": 27,
     "metadata": {},
     "output_type": "execute_result"
    }
   ],
   "source": [
    "20 in {10, 20, 30}"
   ]
  },
  {
   "cell_type": "code",
   "execution_count": 28,
   "id": "959cfaaa-fe21-4524-ad21-32e51e9383e3",
   "metadata": {},
   "outputs": [
    {
     "data": {
      "text/plain": [
       "True"
      ]
     },
     "execution_count": 28,
     "metadata": {},
     "output_type": "execute_result"
    }
   ],
   "source": [
    "20 not in {10, 30, 40}"
   ]
  },
  {
   "cell_type": "markdown",
   "id": "87d8cbfc-df1e-48f9-bb7f-286dd637776e",
   "metadata": {},
   "source": [
    "## Dictionary"
   ]
  },
  {
   "cell_type": "markdown",
   "id": "3df8a9ee-58e2-43d6-b5cb-613fa2cfcc43",
   "metadata": {},
   "source": [
    "### Create"
   ]
  },
  {
   "cell_type": "code",
   "execution_count": 29,
   "id": "73ca790a-288c-42ac-8871-5e1546f80ced",
   "metadata": {},
   "outputs": [
    {
     "name": "stdout",
     "output_type": "stream",
     "text": [
      "{'John': 80, 'Arthur': 75, 'Jake': 85}\n"
     ]
    },
    {
     "data": {
      "text/plain": [
       "dict"
      ]
     },
     "execution_count": 29,
     "metadata": {},
     "output_type": "execute_result"
    }
   ],
   "source": [
    "marks = {\"John\": 80, \"Arthur\": 75, \"Jake\": 85}\n",
    "\n",
    "#can also be written as follows\n",
    "marks = {\n",
    "    \"John\": 80,\n",
    "    \"Arthur\": 75,\n",
    "    \"Jake\": 85\n",
    "}\n",
    "print(marks)\n",
    "type(marks)"
   ]
  },
  {
   "cell_type": "code",
   "execution_count": 30,
   "id": "3d412ab6-cff6-4ad2-8328-d8de21f98e80",
   "metadata": {},
   "outputs": [
    {
     "name": "stdout",
     "output_type": "stream",
     "text": [
      "{'John': 90, 'Arthur': 75, 'Jake': 85}\n"
     ]
    }
   ],
   "source": [
    "marks = {\n",
    "    \"John\": 80,\n",
    "    \"Arthur\": 75,\n",
    "    \"Jake\": 85,\n",
    "    \"John\": 90\n",
    "}\n",
    "#value of John gets overwritten\n",
    "print(marks)"
   ]
  },
  {
   "cell_type": "markdown",
   "id": "eb307eb6-9ef6-4f2c-b005-fdc24adcc505",
   "metadata": {},
   "source": [
    "### Length"
   ]
  },
  {
   "cell_type": "code",
   "execution_count": 31,
   "id": "e487c671-25fb-46df-9ae0-7caf5aa54010",
   "metadata": {},
   "outputs": [
    {
     "data": {
      "text/plain": [
       "3"
      ]
     },
     "execution_count": 31,
     "metadata": {},
     "output_type": "execute_result"
    }
   ],
   "source": [
    "len(marks)"
   ]
  },
  {
   "cell_type": "markdown",
   "id": "93e357bc-9bc9-4e34-bf76-a9036bbb12b4",
   "metadata": {},
   "source": [
    "### Access values using keys"
   ]
  },
  {
   "cell_type": "code",
   "execution_count": 32,
   "id": "b03e370f-7827-4493-9e9b-273e1ee2d0ee",
   "metadata": {},
   "outputs": [
    {
     "data": {
      "text/plain": [
       "90"
      ]
     },
     "execution_count": 32,
     "metadata": {},
     "output_type": "execute_result"
    }
   ],
   "source": [
    "marks[\"John\"]"
   ]
  },
  {
   "cell_type": "code",
   "execution_count": 33,
   "id": "5cf5e326-86f3-415a-8940-3947a2760a64",
   "metadata": {},
   "outputs": [
    {
     "ename": "KeyError",
     "evalue": "'ABCD'",
     "output_type": "error",
     "traceback": [
      "\u001b[1;31m---------------------------------------------------------------------------\u001b[0m",
      "\u001b[1;31mKeyError\u001b[0m                                  Traceback (most recent call last)",
      "\u001b[1;32m<ipython-input-33-644dca98a8bf>\u001b[0m in \u001b[0;36m<module>\u001b[1;34m\u001b[0m\n\u001b[1;32m----> 1\u001b[1;33m \u001b[0mmarks\u001b[0m\u001b[1;33m[\u001b[0m\u001b[1;34m\"ABCD\"\u001b[0m\u001b[1;33m]\u001b[0m\u001b[1;33m\u001b[0m\u001b[1;33m\u001b[0m\u001b[0m\n\u001b[0m",
      "\u001b[1;31mKeyError\u001b[0m: 'ABCD'"
     ]
    }
   ],
   "source": [
    "marks[\"ABCD\"]"
   ]
  },
  {
   "cell_type": "code",
   "execution_count": null,
   "id": "574fd46c-f285-4075-bd82-d5d45bdf9e58",
   "metadata": {},
   "outputs": [],
   "source": [
    "#alternative\n",
    "marks.get(\"John\")"
   ]
  },
  {
   "cell_type": "markdown",
   "id": "6025739c-707e-418c-a037-346487827e95",
   "metadata": {},
   "source": [
    "### Add new <code>key:value</code> pair"
   ]
  },
  {
   "cell_type": "code",
   "execution_count": null,
   "id": "042632d7-63f2-44ec-a8db-9183545af538",
   "metadata": {},
   "outputs": [],
   "source": [
    "marks[\"Dave\"] = 75\n",
    "print(marks)"
   ]
  },
  {
   "cell_type": "markdown",
   "id": "d5a069c0-0806-41ed-abb7-3e6451527d24",
   "metadata": {},
   "source": [
    "### List of all keys"
   ]
  },
  {
   "cell_type": "code",
   "execution_count": null,
   "id": "367f3b33-2f7e-41ce-a551-49bd41a85e90",
   "metadata": {},
   "outputs": [],
   "source": [
    "marks.keys()"
   ]
  },
  {
   "cell_type": "code",
   "execution_count": null,
   "id": "e7dd8794-f649-46b0-baf9-0f28cca04887",
   "metadata": {},
   "outputs": [],
   "source": [
    "marks.items()"
   ]
  },
  {
   "cell_type": "code",
   "execution_count": null,
   "id": "637d3f5d-72fb-4a1a-995e-fa4c655f3862",
   "metadata": {},
   "outputs": [],
   "source": [
    "\"John\" in marks"
   ]
  },
  {
   "cell_type": "markdown",
   "id": "a596950e-af71-4883-bea1-a68873d07fa7",
   "metadata": {},
   "source": [
    "### Update dictionary with another dictionary"
   ]
  },
  {
   "cell_type": "code",
   "execution_count": null,
   "id": "5cf0257e-eed5-4cd2-b81a-0dd6fb8110ca",
   "metadata": {},
   "outputs": [],
   "source": [
    "marks"
   ]
  },
  {
   "cell_type": "code",
   "execution_count": null,
   "id": "c9097960-f424-4558-a260-4300321aa6f8",
   "metadata": {},
   "outputs": [],
   "source": [
    "marks.update({\"John\": 90, \"Dave\": 95, \"Henry\": 68})\n",
    "print(marks)"
   ]
  },
  {
   "cell_type": "code",
   "execution_count": null,
   "id": "0cac954f-3b74-4a2e-bc56-543728d75f30",
   "metadata": {},
   "outputs": [],
   "source": [
    "marks.popitem()"
   ]
  },
  {
   "cell_type": "markdown",
   "id": "2b0bc5d8-a4f1-4dc0-9051-ea00d05c7586",
   "metadata": {},
   "source": [
    "### Copy"
   ]
  },
  {
   "cell_type": "code",
   "execution_count": null,
   "id": "a798e128-046f-4b83-abb8-6ea93cdd8be1",
   "metadata": {},
   "outputs": [],
   "source": [
    "dict_a = {'A': 10, 'B': 20, 'C':30}\n",
    "dict_b = dict_a\n",
    "dict_a[\"D\"] = 50\n",
    "print(dict_a)\n",
    "print(dict_b)"
   ]
  },
  {
   "cell_type": "code",
   "execution_count": null,
   "id": "9442c8e0-25ee-4657-93b7-2e37e5e9aaad",
   "metadata": {},
   "outputs": [],
   "source": [
    "dict_a = dict_a = {'A': 10, 'B': 20, 'C':30}\n",
    "dict_b = dict_a.copy()\n",
    "dict_a[\"D\"] = 50\n",
    "print(dict_a)\n",
    "print(dict_b)"
   ]
  },
  {
   "cell_type": "code",
   "execution_count": null,
   "id": "b8f2f58b-0e93-4783-bd2e-953b13b5f228",
   "metadata": {},
   "outputs": [],
   "source": [
    "not(\"\" and \"Hello\")"
   ]
  },
  {
   "cell_type": "markdown",
   "id": "e64a718f-0071-4f96-a31a-3e4cc12f1446",
   "metadata": {},
   "source": [
    "### Nested Dictionary"
   ]
  },
  {
   "cell_type": "code",
   "execution_count": 34,
   "id": "033b4fce-cc1d-443d-9fdf-23f23a4489a1",
   "metadata": {},
   "outputs": [],
   "source": [
    "section = {\n",
    "    101: {'name': 'Michael', 'marks': 95},\n",
    "    102: {'name': 'John', 'marks': 90},\n",
    "    103: {'name': 'Henry', 'marks':85}\n",
    "}"
   ]
  },
  {
   "cell_type": "code",
   "execution_count": 35,
   "id": "ffd0ce28-f721-408d-9784-69e4f2c9fd6e",
   "metadata": {},
   "outputs": [
    {
     "data": {
      "text/plain": [
       "{'name': 'Michael', 'marks': 95}"
      ]
     },
     "execution_count": 35,
     "metadata": {},
     "output_type": "execute_result"
    }
   ],
   "source": [
    "section[101]"
   ]
  },
  {
   "cell_type": "code",
   "execution_count": 37,
   "id": "a9cdc5e2-ca1b-4cdb-adbf-edbe72b19068",
   "metadata": {},
   "outputs": [
    {
     "data": {
      "text/plain": [
       "'h'"
      ]
     },
     "execution_count": 37,
     "metadata": {},
     "output_type": "execute_result"
    }
   ],
   "source": [
    "section[101][\"name\"][3]"
   ]
  },
  {
   "cell_type": "code",
   "execution_count": 38,
   "id": "913e65bb-3662-4845-b252-1a96ffb4006f",
   "metadata": {},
   "outputs": [],
   "source": [
    "section[101][\"grade\"] = 'A+'"
   ]
  },
  {
   "cell_type": "code",
   "execution_count": 39,
   "id": "29635163-465b-4bc6-a816-49facf5d82ae",
   "metadata": {},
   "outputs": [],
   "source": [
    "college = {\n",
    "    'CSE': {\n",
    "        1: {'A': section, \"B\": {}},\n",
    "        2: {}\n",
    "    },\n",
    "    'ECE': {}\n",
    "}"
   ]
  },
  {
   "cell_type": "code",
   "execution_count": 41,
   "id": "b39c49f4-163d-4f61-ada2-be74b04b491c",
   "metadata": {},
   "outputs": [
    {
     "ename": "TypeError",
     "evalue": "'int' object is not subscriptable",
     "output_type": "error",
     "traceback": [
      "\u001b[1;31m---------------------------------------------------------------------------\u001b[0m",
      "\u001b[1;31mTypeError\u001b[0m                                 Traceback (most recent call last)",
      "\u001b[1;32m<ipython-input-41-0e0b7d1704c7>\u001b[0m in \u001b[0;36m<module>\u001b[1;34m\u001b[0m\n\u001b[1;32m----> 1\u001b[1;33m \u001b[0mcollege\u001b[0m\u001b[1;33m[\u001b[0m\u001b[1;34m'CSE'\u001b[0m\u001b[1;33m]\u001b[0m\u001b[1;33m[\u001b[0m\u001b[1;36m1\u001b[0m\u001b[1;33m]\u001b[0m\u001b[1;33m[\u001b[0m\u001b[1;34m'A'\u001b[0m\u001b[1;33m]\u001b[0m\u001b[1;33m[\u001b[0m\u001b[1;36m102\u001b[0m\u001b[1;33m]\u001b[0m\u001b[1;33m[\u001b[0m\u001b[1;34m'marks'\u001b[0m\u001b[1;33m]\u001b[0m\u001b[1;33m[\u001b[0m\u001b[1;36m1\u001b[0m\u001b[1;33m]\u001b[0m\u001b[1;33m\u001b[0m\u001b[1;33m\u001b[0m\u001b[0m\n\u001b[0m",
      "\u001b[1;31mTypeError\u001b[0m: 'int' object is not subscriptable"
     ]
    }
   ],
   "source": [
    "college['CSE'][1]['A'][102]['marks'][1]"
   ]
  },
  {
   "cell_type": "code",
   "execution_count": null,
   "id": "3b8ef058-aca7-44f9-8580-1ea2c0edaa75",
   "metadata": {},
   "outputs": [],
   "source": []
  }
 ],
 "metadata": {
  "kernelspec": {
   "display_name": "Python 3",
   "language": "python",
   "name": "python3"
  },
  "language_info": {
   "codemirror_mode": {
    "name": "ipython",
    "version": 3
   },
   "file_extension": ".py",
   "mimetype": "text/x-python",
   "name": "python",
   "nbconvert_exporter": "python",
   "pygments_lexer": "ipython3",
   "version": "3.8.6"
  }
 },
 "nbformat": 4,
 "nbformat_minor": 5
}
