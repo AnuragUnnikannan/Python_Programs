{
 "cells": [
  {
   "cell_type": "markdown",
   "id": "98b71200-b3ce-4188-9d71-49b1b1c2b3c6",
   "metadata": {},
   "source": [
    "# Functions"
   ]
  },
  {
   "cell_type": "code",
   "execution_count": 1,
   "id": "4fd5fc66-7986-4bb2-a966-0b5ea2ab678f",
   "metadata": {},
   "outputs": [],
   "source": [
    "def display_name():\n",
    "    print(\"John\")"
   ]
  },
  {
   "cell_type": "code",
   "execution_count": 2,
   "id": "693aaba9-2f32-42d7-adac-3f9796dab47f",
   "metadata": {},
   "outputs": [
    {
     "name": "stdout",
     "output_type": "stream",
     "text": [
      "John\n"
     ]
    }
   ],
   "source": [
    "display_name()"
   ]
  },
  {
   "cell_type": "code",
   "execution_count": 3,
   "id": "4b2c87ce-2df3-4eb6-829c-a4a7a4eb3ba3",
   "metadata": {},
   "outputs": [
    {
     "ename": "NameError",
     "evalue": "name 'display_age' is not defined",
     "output_type": "error",
     "traceback": [
      "\u001b[1;31m---------------------------------------------------------------------------\u001b[0m",
      "\u001b[1;31mNameError\u001b[0m                                 Traceback (most recent call last)",
      "\u001b[1;32m<ipython-input-3-36052f973845>\u001b[0m in \u001b[0;36m<module>\u001b[1;34m\u001b[0m\n\u001b[1;32m----> 1\u001b[1;33m \u001b[0mdisplay_age\u001b[0m\u001b[1;33m(\u001b[0m\u001b[1;33m)\u001b[0m\u001b[1;33m\u001b[0m\u001b[1;33m\u001b[0m\u001b[0m\n\u001b[0m",
      "\u001b[1;31mNameError\u001b[0m: name 'display_age' is not defined"
     ]
    }
   ],
   "source": [
    "display_age()"
   ]
  },
  {
   "cell_type": "code",
   "execution_count": 4,
   "id": "de6305bd-4054-4646-84fd-0bc41a47fba8",
   "metadata": {},
   "outputs": [],
   "source": [
    "def display_age():\n",
    "    print(30)"
   ]
  },
  {
   "cell_type": "code",
   "execution_count": 5,
   "id": "67ec1d3d-7feb-487c-b11e-375c9e928a0e",
   "metadata": {},
   "outputs": [
    {
     "name": "stdout",
     "output_type": "stream",
     "text": [
      "30\n"
     ]
    }
   ],
   "source": [
    "display_age()"
   ]
  },
  {
   "cell_type": "code",
   "execution_count": 11,
   "id": "a90ac06b-418b-4185-8c82-f7da46928bfe",
   "metadata": {},
   "outputs": [],
   "source": [
    "def display_names(names):\n",
    "    for name in names:\n",
    "        print(name)"
   ]
  },
  {
   "cell_type": "code",
   "execution_count": 12,
   "id": "3b298670-88e1-4e64-90a7-895db1357f0b",
   "metadata": {},
   "outputs": [
    {
     "ename": "TypeError",
     "evalue": "display_names() takes 1 positional argument but 3 were given",
     "output_type": "error",
     "traceback": [
      "\u001b[1;31m---------------------------------------------------------------------------\u001b[0m",
      "\u001b[1;31mTypeError\u001b[0m                                 Traceback (most recent call last)",
      "\u001b[1;32m<ipython-input-12-ee6dae76af02>\u001b[0m in \u001b[0;36m<module>\u001b[1;34m\u001b[0m\n\u001b[1;32m----> 1\u001b[1;33m \u001b[0mdisplay_names\u001b[0m\u001b[1;33m(\u001b[0m\u001b[1;34m\"Michael\"\u001b[0m\u001b[1;33m,\u001b[0m \u001b[1;34m\"John\"\u001b[0m\u001b[1;33m,\u001b[0m \u001b[1;34m\"Jack\"\u001b[0m\u001b[1;33m)\u001b[0m\u001b[1;33m\u001b[0m\u001b[1;33m\u001b[0m\u001b[0m\n\u001b[0m",
      "\u001b[1;31mTypeError\u001b[0m: display_names() takes 1 positional argument but 3 were given"
     ]
    }
   ],
   "source": [
    "display_names(\"Michael\", \"John\", \"Jack\")"
   ]
  },
  {
   "cell_type": "code",
   "execution_count": 13,
   "id": "7b3d7d80-e3bb-40e7-bf2a-4ee539b004da",
   "metadata": {},
   "outputs": [],
   "source": [
    "#For multiple arguments use *\n",
    "def display_names(*names):\n",
    "    for name in names:\n",
    "        print(name)"
   ]
  },
  {
   "cell_type": "code",
   "execution_count": 14,
   "id": "fd98b3f1-6e07-489f-8436-8bc2355340de",
   "metadata": {},
   "outputs": [
    {
     "name": "stdout",
     "output_type": "stream",
     "text": [
      "Michael\n",
      "John\n",
      "Jack\n"
     ]
    }
   ],
   "source": [
    "display_names(\"Michael\", \"John\", \"Jack\")"
   ]
  },
  {
   "cell_type": "markdown",
   "id": "a5523be4-a71f-4ffb-8c4b-f65ff8e04302",
   "metadata": {},
   "source": [
    "## Default Values for parameters"
   ]
  },
  {
   "cell_type": "code",
   "execution_count": 17,
   "id": "c031d83b-b309-4305-ac66-513473d07250",
   "metadata": {},
   "outputs": [],
   "source": [
    "def display_name_age(name=\"Michael\", age=30):\n",
    "    print(f\"{name} is {age} years old\")"
   ]
  },
  {
   "cell_type": "code",
   "execution_count": 18,
   "id": "da08a1f9-1470-4de0-a670-46164e27cb6a",
   "metadata": {},
   "outputs": [
    {
     "name": "stdout",
     "output_type": "stream",
     "text": [
      "John is 50 years old\n"
     ]
    }
   ],
   "source": [
    "display_name_age(\"John\", 50)"
   ]
  },
  {
   "cell_type": "code",
   "execution_count": 19,
   "id": "7245c07e-7362-49f3-8626-ff6c6b91e752",
   "metadata": {},
   "outputs": [
    {
     "name": "stdout",
     "output_type": "stream",
     "text": [
      "John is 30 years old\n"
     ]
    }
   ],
   "source": [
    "display_name_age(\"John\")"
   ]
  },
  {
   "cell_type": "code",
   "execution_count": 20,
   "id": "2a7e227c-6a87-42da-8a49-d44ebf8b921d",
   "metadata": {},
   "outputs": [
    {
     "name": "stdout",
     "output_type": "stream",
     "text": [
      "Michael is 40 years old\n"
     ]
    }
   ],
   "source": [
    "display_name_age(age=40)"
   ]
  },
  {
   "cell_type": "code",
   "execution_count": 21,
   "id": "31b6880d-8605-408c-977b-abf708c2a31e",
   "metadata": {},
   "outputs": [
    {
     "name": "stdout",
     "output_type": "stream",
     "text": [
      "40 is 30 years old\n"
     ]
    }
   ],
   "source": [
    "display_name_age(40)"
   ]
  },
  {
   "cell_type": "code",
   "execution_count": 22,
   "id": "8719886d-d466-4de5-8e09-ffb49b9c0c8a",
   "metadata": {},
   "outputs": [
    {
     "name": "stdout",
     "output_type": "stream",
     "text": [
      "Michael is 30 years old\n"
     ]
    }
   ],
   "source": [
    "display_name_age()"
   ]
  },
  {
   "cell_type": "markdown",
   "id": "928cebf2-f9e9-4e9b-92e3-85b6cdfffef7",
   "metadata": {},
   "source": [
    "## Return"
   ]
  },
  {
   "cell_type": "code",
   "execution_count": 24,
   "id": "28e55582-ec15-4fda-b532-b6806a25f4d8",
   "metadata": {},
   "outputs": [
    {
     "name": "stdout",
     "output_type": "stream",
     "text": [
      "Michael is 30 years old\n",
      "Returned Data: None\n"
     ]
    }
   ],
   "source": [
    "print(f\"Returned Data: {display_name_age()}\")"
   ]
  },
  {
   "cell_type": "markdown",
   "id": "0ce1e150-40bc-4281-8795-3702cd5ccdb1",
   "metadata": {},
   "source": [
    "## Global"
   ]
  },
  {
   "cell_type": "code",
   "execution_count": 25,
   "id": "75d15f09-eab2-4e99-82fa-6684e9fdb3f8",
   "metadata": {},
   "outputs": [
    {
     "name": "stdout",
     "output_type": "stream",
     "text": [
      "Inside 140713564244544: 30\n",
      "Outside 140713564244544: 30\n"
     ]
    }
   ],
   "source": [
    "i = 10\n",
    "def func():\n",
    "    global i\n",
    "    i += 20\n",
    "    print(f\"Inside {id(i)}: {i}\")\n",
    "func()\n",
    "print(f\"Outside {id(i)}: {i}\")"
   ]
  },
  {
   "cell_type": "code",
   "execution_count": 26,
   "id": "27592a92-0147-4634-95de-3b38dc9aa8cd",
   "metadata": {},
   "outputs": [],
   "source": [
    "def factorial(n):\n",
    "    f = 1\n",
    "    for i in range(2, n+1):\n",
    "        f*=i\n",
    "    return f"
   ]
  },
  {
   "cell_type": "code",
   "execution_count": 27,
   "id": "5259eed2-d8ae-4f6a-87c5-db1c906e2510",
   "metadata": {},
   "outputs": [
    {
     "data": {
      "text/plain": [
       "120"
      ]
     },
     "execution_count": 27,
     "metadata": {},
     "output_type": "execute_result"
    }
   ],
   "source": [
    "factorial(5)"
   ]
  },
  {
   "cell_type": "code",
   "execution_count": 1,
   "id": "2e75c096-852b-4597-97a7-9ed91bc2acb2",
   "metadata": {},
   "outputs": [],
   "source": [
    "def factorial(n):\n",
    "    if n==0:\n",
    "        return 1\n",
    "    else:\n",
    "        return n*factorial(n-1)"
   ]
  },
  {
   "cell_type": "code",
   "execution_count": 2,
   "id": "d2561981-37c5-49f7-8594-3c757ced15c8",
   "metadata": {},
   "outputs": [
    {
     "data": {
      "text/plain": [
       "120"
      ]
     },
     "execution_count": 2,
     "metadata": {},
     "output_type": "execute_result"
    }
   ],
   "source": [
    "factorial(5)"
   ]
  },
  {
   "cell_type": "markdown",
   "id": "3f09d678-ab6b-45c2-9e94-5c9c81ca01a5",
   "metadata": {},
   "source": [
    "## Lambda"
   ]
  },
  {
   "cell_type": "code",
   "execution_count": 1,
   "id": "d3553ec8-7aad-4b8c-9a3b-b865e53fdb3a",
   "metadata": {},
   "outputs": [
    {
     "name": "stdout",
     "output_type": "stream",
     "text": [
      "20.0\n"
     ]
    }
   ],
   "source": [
    "def average(ar):\n",
    "    return sum(ar)/len(ar)\n",
    "print(average([10, 20, 30])"
   ]
  },
  {
   "cell_type": "code",
   "execution_count": 2,
   "id": "d5e6860f-6f3b-45e4-99bc-f782cd4750ad",
   "metadata": {},
   "outputs": [],
   "source": [
    "#Syntax: Lambda parameter(s): expression"
   ]
  },
  {
   "cell_type": "code",
   "execution_count": 3,
   "id": "c9059a23-7d39-4ffe-9531-2b1b53879366",
   "metadata": {},
   "outputs": [],
   "source": [
    "average2 = lambda ar: sum(ar)/len(ar)"
   ]
  },
  {
   "cell_type": "code",
   "execution_count": 4,
   "id": "b0aa51e9-8a74-4a19-9594-f9f0ad6d7469",
   "metadata": {},
   "outputs": [
    {
     "name": "stdout",
     "output_type": "stream",
     "text": [
      "20.0\n"
     ]
    }
   ],
   "source": [
    "print(average2([10, 20, 30]))"
   ]
  },
  {
   "cell_type": "code",
   "execution_count": 5,
   "id": "e2f061cb-f0f4-4356-9a66-62780ac438a0",
   "metadata": {},
   "outputs": [
    {
     "data": {
      "text/plain": [
       "[100, 400, 900]"
      ]
     },
     "execution_count": 5,
     "metadata": {},
     "output_type": "execute_result"
    }
   ],
   "source": [
    "square = lambda x:x**2\n",
    "list(map(square, [10, 20, 30]))"
   ]
  },
  {
   "cell_type": "code",
   "execution_count": 6,
   "id": "af4120a4-4792-49b9-b994-02ab54924c71",
   "metadata": {},
   "outputs": [
    {
     "data": {
      "text/plain": [
       "[100, 400, 900]"
      ]
     },
     "execution_count": 6,
     "metadata": {},
     "output_type": "execute_result"
    }
   ],
   "source": [
    "#alternative\n",
    "list(map(lambda x:x**2, [10, 20, 30]))\n",
    "#if we do not need the function in future, then this method is preferred because it won't use up memory"
   ]
  },
  {
   "cell_type": "code",
   "execution_count": 7,
   "id": "2a6a2457-1dbc-42ab-a3d2-b397221161af",
   "metadata": {},
   "outputs": [
    {
     "name": "stdout",
     "output_type": "stream",
     "text": [
      "True\n"
     ]
    }
   ],
   "source": [
    "even = lambda x: x % 2 == 0\n",
    "print(even(10))"
   ]
  },
  {
   "cell_type": "code",
   "execution_count": 8,
   "id": "d3610336-3390-4876-b7de-1df03b13296e",
   "metadata": {},
   "outputs": [],
   "source": [
    "#Our own map function\n",
    "def my_map(func, ar):\n",
    "    ar2 = []\n",
    "    for i in ar:\n",
    "        ar2.append(func(i))\n",
    "    return ar2"
   ]
  },
  {
   "cell_type": "code",
   "execution_count": 9,
   "id": "e6a41714-5b93-44e9-abe1-ae2f649e22da",
   "metadata": {},
   "outputs": [
    {
     "data": {
      "text/plain": [
       "[100, 400, 900]"
      ]
     },
     "execution_count": 9,
     "metadata": {},
     "output_type": "execute_result"
    }
   ],
   "source": [
    "my_map(lambda x: x ** 2, [10, 20, 30])"
   ]
  },
  {
   "cell_type": "code",
   "execution_count": 12,
   "id": "a47fc373-ec99-4af9-934a-29ae8ed2d307",
   "metadata": {},
   "outputs": [],
   "source": [
    "#Convert the above function to list comprehension\n",
    "def my_map(func, ar):\n",
    "    return [func(i) for i in ar]"
   ]
  },
  {
   "cell_type": "code",
   "execution_count": 13,
   "id": "ca82f15c-89f7-4be0-a283-c2bab9daf2c5",
   "metadata": {},
   "outputs": [
    {
     "data": {
      "text/plain": [
       "[100, 400, 900]"
      ]
     },
     "execution_count": 13,
     "metadata": {},
     "output_type": "execute_result"
    }
   ],
   "source": [
    "my_map(lambda x: x ** 2, [10, 20, 30])"
   ]
  },
  {
   "cell_type": "code",
   "execution_count": null,
   "id": "d661726c-1eb5-42da-860a-825b983320db",
   "metadata": {},
   "outputs": [],
   "source": []
  },
  {
   "cell_type": "code",
   "execution_count": 23,
   "id": "f105b7e4-c196-41f4-ace4-9749cfbf2fb1",
   "metadata": {},
   "outputs": [
    {
     "data": {
      "text/plain": [
       "[3628800,\n",
       " 2432902008176640000,\n",
       " 265252859812191058636308480000000,\n",
       " 'Hello',\n",
       " False,\n",
       " 'ABCD',\n",
       " 93326215443944152681699238856266700490715968264381621468592963895217599993229915608941463976156518286253697920827223758251185210916864000000000000000000000000]"
      ]
     },
     "execution_count": 23,
     "metadata": {},
     "output_type": "execute_result"
    }
   ],
   "source": [
    "import math\n",
    "def func2(x):\n",
    "    if isinstance(x, str):\n",
    "        return x\n",
    "    elif isinstance(x, bool):\n",
    "        return not x\n",
    "    elif isinstance(x, int):\n",
    "        #boolean is a subtype of integer\n",
    "        #so, isinstance of a boolean will also work with int\n",
    "        #this case needs to be above int\n",
    "        return math.factorial(x)\n",
    "\n",
    "my_map(func2, [10, 20, 30, \"Hello\", True, \"ABCD\", 100])"
   ]
  },
  {
   "cell_type": "code",
   "execution_count": null,
   "id": "e9fb62dd-44ea-4b01-a570-f254c77bb5b1",
   "metadata": {},
   "outputs": [],
   "source": []
  }
 ],
 "metadata": {
  "kernelspec": {
   "display_name": "Python 3",
   "language": "python",
   "name": "python3"
  },
  "language_info": {
   "codemirror_mode": {
    "name": "ipython",
    "version": 3
   },
   "file_extension": ".py",
   "mimetype": "text/x-python",
   "name": "python",
   "nbconvert_exporter": "python",
   "pygments_lexer": "ipython3",
   "version": "3.8.6"
  }
 },
 "nbformat": 4,
 "nbformat_minor": 5
}
