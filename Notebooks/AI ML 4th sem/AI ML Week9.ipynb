{
 "cells": [
  {
   "cell_type": "code",
   "execution_count": 12,
   "id": "ready-atmosphere",
   "metadata": {},
   "outputs": [],
   "source": [
    "import tensorflow as tf"
   ]
  },
  {
   "cell_type": "code",
   "execution_count": 13,
   "id": "complex-coupon",
   "metadata": {},
   "outputs": [],
   "source": [
    "import keras"
   ]
  },
  {
   "cell_type": "code",
   "execution_count": 14,
   "id": "reliable-budapest",
   "metadata": {},
   "outputs": [],
   "source": [
    "import numpy as np"
   ]
  },
  {
   "cell_type": "code",
   "execution_count": 15,
   "id": "830fd027-b9ef-4411-b81c-3437586afb5b",
   "metadata": {},
   "outputs": [
    {
     "data": {
      "text/plain": [
       "'1.19.3'"
      ]
     },
     "execution_count": 15,
     "metadata": {},
     "output_type": "execute_result"
    }
   ],
   "source": [
    "np.__version__"
   ]
  },
  {
   "cell_type": "code",
   "execution_count": 16,
   "id": "a5966369-f024-4ca8-a43a-ac24b4fe86ff",
   "metadata": {},
   "outputs": [
    {
     "data": {
      "text/plain": [
       "'2.4.1'"
      ]
     },
     "execution_count": 16,
     "metadata": {},
     "output_type": "execute_result"
    }
   ],
   "source": [
    "tf.__version__"
   ]
  },
  {
   "cell_type": "code",
   "execution_count": 17,
   "id": "e424fe7a-e243-4458-95d0-34d9d95000c8",
   "metadata": {},
   "outputs": [],
   "source": [
    "from sklearn.datasets import load_digits"
   ]
  },
  {
   "cell_type": "code",
   "execution_count": 19,
   "id": "fc6569d9-e0c6-48f6-ae36-d7bda34b2f3b",
   "metadata": {},
   "outputs": [],
   "source": [
    "import matplotlib.pyplot as plt"
   ]
  },
  {
   "cell_type": "code",
   "execution_count": 62,
   "id": "16c2a93e-8c8c-4df0-935a-61783bdff742",
   "metadata": {},
   "outputs": [],
   "source": [
    "digits = load_digits()"
   ]
  },
  {
   "cell_type": "code",
   "execution_count": 63,
   "id": "9f9b6bc3-0d56-4b67-88d5-2561598ac53d",
   "metadata": {},
   "outputs": [
    {
     "data": {
      "text/plain": [
       "array([[ 0.,  0.,  5., ...,  0.,  0.,  0.],\n",
       "       [ 0.,  0.,  0., ..., 10.,  0.,  0.],\n",
       "       [ 0.,  0.,  0., ..., 16.,  9.,  0.],\n",
       "       ...,\n",
       "       [ 0.,  0.,  1., ...,  6.,  0.,  0.],\n",
       "       [ 0.,  0.,  2., ..., 12.,  0.,  0.],\n",
       "       [ 0.,  0., 10., ..., 12.,  1.,  0.]])"
      ]
     },
     "execution_count": 63,
     "metadata": {},
     "output_type": "execute_result"
    }
   ],
   "source": [
    "digits.data"
   ]
  },
  {
   "cell_type": "code",
   "execution_count": 64,
   "id": "4d091e39-7d5f-4c15-8db3-77f94d35fdc3",
   "metadata": {},
   "outputs": [
    {
     "data": {
      "text/plain": [
       "(1797, 64)"
      ]
     },
     "execution_count": 64,
     "metadata": {},
     "output_type": "execute_result"
    }
   ],
   "source": [
    "digits.data.shape"
   ]
  },
  {
   "cell_type": "code",
   "execution_count": 65,
   "id": "2572430f-dcb6-4960-a90b-892897d1ffeb",
   "metadata": {},
   "outputs": [
    {
     "data": {
      "text/plain": [
       "array([0, 1, 2, ..., 8, 9, 8])"
      ]
     },
     "execution_count": 65,
     "metadata": {},
     "output_type": "execute_result"
    }
   ],
   "source": [
    "digits.target"
   ]
  },
  {
   "cell_type": "code",
   "execution_count": 66,
   "id": "18c7e9aa-0b67-4261-b8e4-1e62b4e69ce5",
   "metadata": {},
   "outputs": [
    {
     "data": {
      "text/plain": [
       "(1797,)"
      ]
     },
     "execution_count": 66,
     "metadata": {},
     "output_type": "execute_result"
    }
   ],
   "source": [
    "digits.target.shape"
   ]
  },
  {
   "cell_type": "code",
   "execution_count": 67,
   "id": "ae9c2158-85b9-4c76-bdf5-4366c992f67d",
   "metadata": {},
   "outputs": [],
   "source": [
    "image = digits.data[0]"
   ]
  },
  {
   "cell_type": "code",
   "execution_count": 68,
   "id": "abe3bed3-1e4a-4dab-b535-beea27a99de6",
   "metadata": {},
   "outputs": [
    {
     "name": "stdout",
     "output_type": "stream",
     "text": [
      "[ 0.  0.  5. 13.  9.  1.  0.  0.  0.  0. 13. 15. 10. 15.  5.  0.  0.  3.\n",
      " 15.  2.  0. 11.  8.  0.  0.  4. 12.  0.  0.  8.  8.  0.  0.  5.  8.  0.\n",
      "  0.  9.  8.  0.  0.  4. 11.  0.  1. 12.  7.  0.  0.  2. 14.  5. 10. 12.\n",
      "  0.  0.  0.  0.  6. 13. 10.  0.  0.  0.]\n"
     ]
    }
   ],
   "source": [
    "print(image)"
   ]
  },
  {
   "cell_type": "code",
   "execution_count": 69,
   "id": "c828e810-aabf-4dae-a4ee-42b7b4e3f7c8",
   "metadata": {},
   "outputs": [],
   "source": [
    "image = digits.data[55]"
   ]
  },
  {
   "cell_type": "code",
   "execution_count": 70,
   "id": "f58741ea-e3af-4fe3-bceb-25a095be8e1a",
   "metadata": {},
   "outputs": [
    {
     "name": "stdout",
     "output_type": "stream",
     "text": [
      "[ 0.  0.  2. 14. 15.  5.  0.  0.  0.  0. 10. 16. 16. 15.  1.  0.  0.  3.\n",
      " 16. 10. 10. 16.  4.  0.  0.  5. 16.  0.  0. 14.  6.  0.  0.  5. 16.  6.\n",
      "  0. 12.  7.  0.  0.  1. 15. 13.  4. 13.  6.  0.  0.  0. 11. 16. 16. 15.\n",
      "  0.  0.  0.  0.  2. 11. 13.  4.  0.  0.]\n"
     ]
    }
   ],
   "source": [
    "print(image)"
   ]
  },
  {
   "cell_type": "code",
   "execution_count": 71,
   "id": "7c6e9016-5c6f-4c59-8391-c374e7d358a7",
   "metadata": {},
   "outputs": [
    {
     "data": {
      "text/plain": [
       "(64,)"
      ]
     },
     "execution_count": 71,
     "metadata": {},
     "output_type": "execute_result"
    }
   ],
   "source": [
    "image.shape"
   ]
  },
  {
   "cell_type": "code",
   "execution_count": 72,
   "id": "a287e7fb-8968-453b-ab79-2312a26dc4ed",
   "metadata": {},
   "outputs": [
    {
     "data": {
      "text/plain": [
       "array([[ 0.,  0.,  2., 14., 15.,  5.,  0.,  0.],\n",
       "       [ 0.,  0., 10., 16., 16., 15.,  1.,  0.],\n",
       "       [ 0.,  3., 16., 10., 10., 16.,  4.,  0.],\n",
       "       [ 0.,  5., 16.,  0.,  0., 14.,  6.,  0.],\n",
       "       [ 0.,  5., 16.,  6.,  0., 12.,  7.,  0.],\n",
       "       [ 0.,  1., 15., 13.,  4., 13.,  6.,  0.],\n",
       "       [ 0.,  0., 11., 16., 16., 15.,  0.,  0.],\n",
       "       [ 0.,  0.,  2., 11., 13.,  4.,  0.,  0.]])"
      ]
     },
     "execution_count": 72,
     "metadata": {},
     "output_type": "execute_result"
    }
   ],
   "source": [
    "np.reshape(image, (8, 8))"
   ]
  },
  {
   "cell_type": "code",
   "execution_count": 73,
   "id": "8efcc8aa-e38f-4090-8dbf-bc98a9b65eb4",
   "metadata": {},
   "outputs": [
    {
     "data": {
      "text/plain": [
       "<matplotlib.image.AxesImage at 0x2d75274bfd0>"
      ]
     },
     "execution_count": 73,
     "metadata": {},
     "output_type": "execute_result"
    },
    {
     "data": {
      "image/png": "[encoded data removed]",
      "text/plain": [
       "<Figure size 432x288 with 1 Axes>"
      ]
     },
     "metadata": {
      "needs_background": "light"
     },
     "output_type": "display_data"
    }
   ],
   "source": [
    "plt.imshow(np.reshape(image, (8, 8)))"
   ]
  },
  {
   "cell_type": "code",
   "execution_count": 74,
   "id": "f8239676-a3b9-4b33-82a2-3f497adf0597",
   "metadata": {},
   "outputs": [
    {
     "data": {
      "text/plain": [
       "0"
      ]
     },
     "execution_count": 74,
     "metadata": {},
     "output_type": "execute_result"
    }
   ],
   "source": [
    "digits.target[55]"
   ]
  },
  {
   "cell_type": "code",
   "execution_count": 75,
   "id": "27f2683b-b94f-4216-8353-5e721fc7a3c6",
   "metadata": {},
   "outputs": [],
   "source": [
    "from sklearn.model_selection import train_test_split"
   ]
  },
  {
   "cell_type": "code",
   "execution_count": 76,
   "id": "11a20ced-686a-49c5-82db-0b452b0d5395",
   "metadata": {},
   "outputs": [],
   "source": [
    "x_train, x_test, y_train, y_test = train_test_split(digits.data, digits.target, test_size=0.2)"
   ]
  },
  {
   "cell_type": "code",
   "execution_count": 77,
   "id": "fbbec55d-9898-4535-9543-3f43e028a932",
   "metadata": {},
   "outputs": [
    {
     "data": {
      "text/plain": [
       "(1437, 64)"
      ]
     },
     "execution_count": 77,
     "metadata": {},
     "output_type": "execute_result"
    }
   ],
   "source": [
    "x_train.shape"
   ]
  },
  {
   "cell_type": "code",
   "execution_count": 78,
   "id": "2caf3a73-2905-4d32-9790-ff3ec40d34bd",
   "metadata": {},
   "outputs": [
    {
     "data": {
      "text/plain": [
       "(360, 64)"
      ]
     },
     "execution_count": 78,
     "metadata": {},
     "output_type": "execute_result"
    }
   ],
   "source": [
    "x_test.shape"
   ]
  },
  {
   "cell_type": "code",
   "execution_count": 79,
   "id": "6ea7dc5b-1477-44d2-9e6f-05efdb438380",
   "metadata": {},
   "outputs": [],
   "source": [
    "x_train = x_train.reshape(1437, 8, 8, 1)"
   ]
  },
  {
   "cell_type": "code",
   "execution_count": 80,
   "id": "3b085f05-64ec-4ba6-bc56-a3b0405f79af",
   "metadata": {},
   "outputs": [],
   "source": [
    "x_test = x_test.reshape(360, 8, 8, 1)"
   ]
  },
  {
   "cell_type": "code",
   "execution_count": 81,
   "id": "3b393194-e57a-46a7-aa51-9eed881ebb22",
   "metadata": {},
   "outputs": [
    {
     "data": {
      "text/plain": [
       "(1437,)"
      ]
     },
     "execution_count": 81,
     "metadata": {},
     "output_type": "execute_result"
    }
   ],
   "source": [
    "y_train.shape"
   ]
  },
  {
   "cell_type": "code",
   "execution_count": 82,
   "id": "ffab195a-828b-49ea-96f0-a6797ce02c2a",
   "metadata": {},
   "outputs": [
    {
     "data": {
      "text/plain": [
       "array([1, 6, 0, ..., 9, 0, 8])"
      ]
     },
     "execution_count": 82,
     "metadata": {},
     "output_type": "execute_result"
    }
   ],
   "source": [
    "y_train"
   ]
  },
  {
   "cell_type": "code",
   "execution_count": 83,
   "id": "ffb2da12-c43e-4e28-9cbc-9eafbaced89e",
   "metadata": {},
   "outputs": [],
   "source": [
    "from keras.utils import to_categorical"
   ]
  },
  {
   "cell_type": "code",
   "execution_count": 84,
   "id": "8f48f04e-9e9d-4e77-8c75-5d5a7636ab9f",
   "metadata": {},
   "outputs": [],
   "source": [
    "y_train = to_categorical(y_train)"
   ]
  },
  {
   "cell_type": "code",
   "execution_count": 85,
   "id": "f8d6c028-3605-4039-b106-a446a4e2094f",
   "metadata": {},
   "outputs": [],
   "source": [
    "y_test = to_categorical(y_test)"
   ]
  },
  {
   "cell_type": "code",
   "execution_count": 86,
   "id": "b5f72241-0b8e-4faa-ad60-117abf0b0ee5",
   "metadata": {},
   "outputs": [
    {
     "data": {
      "text/plain": [
       "(1437, 10)"
      ]
     },
     "execution_count": 86,
     "metadata": {},
     "output_type": "execute_result"
    }
   ],
   "source": [
    "y_train.shape"
   ]
  },
  {
   "cell_type": "code",
   "execution_count": 87,
   "id": "bd1051c1-0baa-4f67-9790-7ca6bf0c5800",
   "metadata": {},
   "outputs": [
    {
     "data": {
      "text/plain": [
       "array([[0., 1., 0., ..., 0., 0., 0.],\n",
       "       [0., 0., 0., ..., 0., 0., 0.],\n",
       "       [1., 0., 0., ..., 0., 0., 0.],\n",
       "       ...,\n",
       "       [0., 0., 0., ..., 0., 0., 1.],\n",
       "       [1., 0., 0., ..., 0., 0., 0.],\n",
       "       [0., 0., 0., ..., 0., 1., 0.]], dtype=float32)"
      ]
     },
     "execution_count": 87,
     "metadata": {},
     "output_type": "execute_result"
    }
   ],
   "source": [
    "y_train"
   ]
  },
  {
   "cell_type": "code",
   "execution_count": 88,
   "id": "313bdf26-7e05-47af-a367-d10aa7a73fe0",
   "metadata": {},
   "outputs": [],
   "source": [
    "from keras.models import Sequential"
   ]
  },
  {
   "cell_type": "code",
   "execution_count": 89,
   "id": "13919ceb-9ea4-4e8a-8638-6abc94190e44",
   "metadata": {},
   "outputs": [],
   "source": [
    "from keras.layers import Dense, Conv2D, Flatten, MaxPooling2D"
   ]
  },
  {
   "cell_type": "code",
   "execution_count": 90,
   "id": "21ae92fa-1617-4ea9-8263-b96b97a06498",
   "metadata": {},
   "outputs": [],
   "source": [
    "model = Sequential()"
   ]
  },
  {
   "cell_type": "code",
   "execution_count": 91,
   "id": "0b13d1cc-0ee1-4442-a849-d088db6785f8",
   "metadata": {},
   "outputs": [],
   "source": [
    "model = Sequential([Conv2D(6, 3, input_shape=(8, 8, 1)), MaxPooling2D(pool_size=2), Flatten(), Dense(10, activation='softmax')])"
   ]
  },
  {
   "cell_type": "code",
   "execution_count": 92,
   "id": "a10a7b38-89bf-45b9-8690-f4b28292f988",
   "metadata": {},
   "outputs": [],
   "source": [
    "model.compile(optimizer='adam', loss='categorical_crossentropy', metrics=['accuracy'])"
   ]
  },
  {
   "cell_type": "code",
   "execution_count": 93,
   "id": "740b6967-dac9-4f45-9e63-ea5c820bbb9c",
   "metadata": {},
   "outputs": [
    {
     "name": "stdout",
     "output_type": "stream",
     "text": [
      "Epoch 1/10\n",
      "45/45 [==============================] - 1s 11ms/step - loss: 9.2560 - accuracy: 0.0800 - val_loss: 3.8335 - val_accuracy: 0.1333\n",
      "Epoch 2/10\n",
      "45/45 [==============================] - 0s 5ms/step - loss: 3.5992 - accuracy: 0.1521 - val_loss: 2.4584 - val_accuracy: 0.2694\n",
      "Epoch 3/10\n",
      "45/45 [==============================] - 0s 5ms/step - loss: 2.3678 - accuracy: 0.3088 - val_loss: 1.6249 - val_accuracy: 0.4556\n",
      "Epoch 4/10\n",
      "45/45 [==============================] - 0s 5ms/step - loss: 1.6417 - accuracy: 0.4897 - val_loss: 1.1141 - val_accuracy: 0.6333\n",
      "Epoch 5/10\n",
      "45/45 [==============================] - 0s 5ms/step - loss: 1.1776 - accuracy: 0.6297 - val_loss: 0.8268 - val_accuracy: 0.7333\n",
      "Epoch 6/10\n",
      "45/45 [==============================] - 0s 5ms/step - loss: 0.8314 - accuracy: 0.7530 - val_loss: 0.6636 - val_accuracy: 0.8028\n",
      "Epoch 7/10\n",
      "45/45 [==============================] - 0s 6ms/step - loss: 0.6594 - accuracy: 0.8068 - val_loss: 0.5519 - val_accuracy: 0.8389\n",
      "Epoch 8/10\n",
      "45/45 [==============================] - 0s 5ms/step - loss: 0.5648 - accuracy: 0.8280 - val_loss: 0.4687 - val_accuracy: 0.8500\n",
      "Epoch 9/10\n",
      "45/45 [==============================] - 0s 6ms/step - loss: 0.4694 - accuracy: 0.8584 - val_loss: 0.4168 - val_accuracy: 0.8694\n",
      "Epoch 10/10\n",
      "45/45 [==============================] - 0s 6ms/step - loss: 0.4048 - accuracy: 0.8847 - val_loss: 0.3728 - val_accuracy: 0.8722\n"
     ]
    },
    {
     "data": {
      "text/plain": [
       "<tensorflow.python.keras.callbacks.History at 0x2d75220e3d0>"
      ]
     },
     "execution_count": 93,
     "metadata": {},
     "output_type": "execute_result"
    }
   ],
   "source": [
    "model.fit(x_train, y_train, validation_data=(x_test, y_test), epochs=10)"
   ]
  },
  {
   "cell_type": "code",
   "execution_count": 94,
   "id": "475bc498-4157-42ed-ae9f-971ceaa16b8d",
   "metadata": {},
   "outputs": [
    {
     "data": {
      "text/plain": [
       "array([[4.0756572e-02, 9.7748190e-02, 8.9854831e-03, 2.1444334e-04,\n",
       "        1.2078992e-02, 4.5911218e-03, 3.3936533e-01, 9.2609442e-04,\n",
       "        4.9524456e-01, 8.9246772e-05]], dtype=float32)"
      ]
     },
     "execution_count": 94,
     "metadata": {},
     "output_type": "execute_result"
    }
   ],
   "source": [
    "model.predict(x_test[0:1])"
   ]
  },
  {
   "cell_type": "code",
   "execution_count": 95,
   "id": "a71fb5d1-ba2c-4bfc-9392-985666e9a47b",
   "metadata": {},
   "outputs": [
    {
     "data": {
      "text/plain": [
       "array([[0., 0., 0., 0., 0., 0., 1., 0., 0., 0.]], dtype=float32)"
      ]
     },
     "execution_count": 95,
     "metadata": {},
     "output_type": "execute_result"
    }
   ],
   "source": [
    "y_test[0:1]"
   ]
  },
  {
   "cell_type": "code",
   "execution_count": 96,
   "id": "3969f197-9402-4c09-a703-de95266ebbe5",
   "metadata": {},
   "outputs": [
    {
     "data": {
      "text/plain": [
       "<matplotlib.image.AxesImage at 0x2d752808190>"
      ]
     },
     "execution_count": 96,
     "metadata": {},
     "output_type": "execute_result"
    },
    {
     "data": {
      "image/png": "[encoded data removed]",
      "text/plain": [
       "<Figure size 432x288 with 1 Axes>"
      ]
     },
     "metadata": {
      "needs_background": "light"
     },
     "output_type": "display_data"
    }
   ],
   "source": [
    "plt.imshow(np.reshape(x_test[0], (8, 8)))"
   ]
  },
  {
   "cell_type": "code",
   "execution_count": 98,
   "id": "734238f9-1433-4b00-8e2e-cece240db327",
   "metadata": {},
   "outputs": [
    {
     "data": {
      "text/plain": [
       "array([[1.1497880e-03, 1.9565519e-04, 1.3808639e-02, 3.6079206e-02,\n",
       "        1.2713030e-05, 2.1340926e-03, 6.9589849e-05, 8.0186810e-04,\n",
       "        2.5387839e-03, 9.4320971e-01]], dtype=float32)"
      ]
     },
     "execution_count": 98,
     "metadata": {},
     "output_type": "execute_result"
    }
   ],
   "source": [
    "model.predict(x_test[100:101])"
   ]
  },
  {
   "cell_type": "code",
   "execution_count": 99,
   "id": "232720be-f194-48df-a895-7a8be9bb21ea",
   "metadata": {},
   "outputs": [
    {
     "data": {
      "text/plain": [
       "array([0., 0., 0., 0., 0., 0., 0., 0., 0., 1.], dtype=float32)"
      ]
     },
     "execution_count": 99,
     "metadata": {},
     "output_type": "execute_result"
    }
   ],
   "source": [
    "y_test[100]"
   ]
  },
  {
   "cell_type": "code",
   "execution_count": 100,
   "id": "361bd0e6-cf1f-4806-9338-cb94a7cf4988",
   "metadata": {},
   "outputs": [
    {
     "data": {
      "text/plain": [
       "<matplotlib.image.AxesImage at 0x2d753880b20>"
      ]
     },
     "execution_count": 100,
     "metadata": {},
     "output_type": "execute_result"
    },
    {
     "data": {
      "image/png": "[encoded data removed]",
      "text/plain": [
       "<Figure size 432x288 with 1 Axes>"
      ]
     },
     "metadata": {
      "needs_background": "light"
     },
     "output_type": "display_data"
    }
   ],
   "source": [
    "plt.imshow(np.reshape(x_test[100], (8, 8)))"
   ]
  },
  {
   "cell_type": "code",
   "execution_count": 102,
   "id": "d8c19952-f597-4f06-b810-6ba3bbeb4027",
   "metadata": {},
   "outputs": [],
   "source": [
    "from keras.datasets import mnist"
   ]
  },
  {
   "cell_type": "code",
   "execution_count": 103,
   "id": "7a7e1ed3-905e-485e-80e8-7d4c81ce22d7",
   "metadata": {},
   "outputs": [
    {
     "name": "stdout",
     "output_type": "stream",
     "text": [
      "Downloading data from https://storage.googleapis.com/tensorflow/tf-keras-datasets/mnist.npz\n",
      "11493376/11490434 [==============================] - 3s 0us/step\n"
     ]
    }
   ],
   "source": [
    "(x_train, y_train), (x_test, y_test) = mnist.load_data()"
   ]
  },
  {
   "cell_type": "code",
   "execution_count": 104,
   "id": "cb5edb85-4abf-4c06-9a2e-f889691646c0",
   "metadata": {},
   "outputs": [
    {
     "data": {
      "text/plain": [
       "<matplotlib.image.AxesImage at 0x2d75281fe20>"
      ]
     },
     "execution_count": 104,
     "metadata": {},
     "output_type": "execute_result"
    },
    {
     "data": {
      "image/png": "[encoded data removed]",
      "text/plain": [
       "<Figure size 432x288 with 1 Axes>"
      ]
     },
     "metadata": {
      "needs_background": "light"
     },
     "output_type": "display_data"
    }
   ],
   "source": [
    "plt.imshow(x_train[100])"
   ]
  },
  {
   "cell_type": "code",
   "execution_count": null,
   "id": "fb9226fa-e0eb-4fb7-9cb6-a4a95609f67d",
   "metadata": {},
   "outputs": [],
   "source": [
    " "
   ]
  }
 ],
 "metadata": {
  "kernelspec": {
   "display_name": "Python 3",
   "language": "python",
   "name": "python3"
  },
  "language_info": {
   "codemirror_mode": {
    "name": "ipython",
    "version": 3
   },
   "file_extension": ".py",
   "mimetype": "text/x-python",
   "name": "python",
   "nbconvert_exporter": "python",
   "pygments_lexer": "ipython3",
   "version": "3.8.6"
  }
 },
 "nbformat": 4,
 "nbformat_minor": 5
}
