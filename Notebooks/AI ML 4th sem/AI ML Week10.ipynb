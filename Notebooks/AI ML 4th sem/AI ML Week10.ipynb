{
 "cells": [
  {
   "cell_type": "markdown",
   "id": "d5682131-a522-4031-92cb-2dc4e0ff3bc6",
   "metadata": {},
   "source": [
    "# Name: Anurag Unnikannan\n",
    "# Sec: 2J    Roll: 09\n",
    "# Enrollment No.: 12019009001281"
   ]
  },
  {
   "cell_type": "code",
   "execution_count": 1,
   "id": "bfc46f34-9f09-4027-af9e-c503ff18642a",
   "metadata": {},
   "outputs": [],
   "source": [
    "from sklearn.datasets import load_digits"
   ]
  },
  {
   "cell_type": "code",
   "execution_count": 2,
   "id": "d69e3e79-c7f1-47dc-b289-05f1698af87a",
   "metadata": {},
   "outputs": [],
   "source": [
    "digits = load_digits()"
   ]
  },
  {
   "cell_type": "code",
   "execution_count": 3,
   "id": "2950a932-0431-4d50-b069-8e07edb2f678",
   "metadata": {},
   "outputs": [
    {
     "data": {
      "text/plain": [
       "array([[ 0.,  0.,  5., ...,  0.,  0.,  0.],\n",
       "       [ 0.,  0.,  0., ..., 10.,  0.,  0.],\n",
       "       [ 0.,  0.,  0., ..., 16.,  9.,  0.],\n",
       "       ...,\n",
       "       [ 0.,  0.,  1., ...,  6.,  0.,  0.],\n",
       "       [ 0.,  0.,  2., ..., 12.,  0.,  0.],\n",
       "       [ 0.,  0., 10., ..., 12.,  1.,  0.]])"
      ]
     },
     "execution_count": 3,
     "metadata": {},
     "output_type": "execute_result"
    }
   ],
   "source": [
    "digits.data"
   ]
  },
  {
   "cell_type": "code",
   "execution_count": 4,
   "id": "24f52763-689b-4845-8663-e7af3cef7dc9",
   "metadata": {},
   "outputs": [
    {
     "data": {
      "text/plain": [
       "(1797, 64)"
      ]
     },
     "execution_count": 4,
     "metadata": {},
     "output_type": "execute_result"
    }
   ],
   "source": [
    "digits.data.shape"
   ]
  },
  {
   "cell_type": "code",
   "execution_count": 6,
   "id": "c03cb93e-2a9f-4db7-a122-4eea0c043d36",
   "metadata": {},
   "outputs": [
    {
     "data": {
      "text/plain": [
       "array([0, 1, 2, ..., 8, 9, 8])"
      ]
     },
     "execution_count": 6,
     "metadata": {},
     "output_type": "execute_result"
    }
   ],
   "source": [
    "digits.target"
   ]
  },
  {
   "cell_type": "code",
   "execution_count": 7,
   "id": "ea1ce0c7-ecf5-4bfa-ba6a-d74bb33bc53f",
   "metadata": {},
   "outputs": [
    {
     "data": {
      "text/plain": [
       "(1797,)"
      ]
     },
     "execution_count": 7,
     "metadata": {},
     "output_type": "execute_result"
    }
   ],
   "source": [
    "digits.target.shape"
   ]
  },
  {
   "cell_type": "code",
   "execution_count": 61,
   "id": "5788b3dc-20d6-4be8-8e15-6b7c4a111341",
   "metadata": {},
   "outputs": [],
   "source": [
    "import numpy as np"
   ]
  },
  {
   "cell_type": "code",
   "execution_count": 62,
   "id": "02acef9c-8253-4703-bc2a-6d2f73fe813c",
   "metadata": {},
   "outputs": [],
   "source": [
    "import matplotlib.pyplot as plt"
   ]
  },
  {
   "cell_type": "code",
   "execution_count": 12,
   "id": "1990e736-6793-4b93-b75b-aad7192eea11",
   "metadata": {},
   "outputs": [
    {
     "data": {
      "text/plain": [
       "<matplotlib.image.AxesImage at 0x218fc6823d0>"
      ]
     },
     "execution_count": 12,
     "metadata": {},
     "output_type": "execute_result"
    },
    {
     "data": {
      "image/png": "[encoded data removed]",
      "text/plain": [
       "<Figure size 432x288 with 1 Axes>"
      ]
     },
     "metadata": {
      "needs_background": "light"
     },
     "output_type": "display_data"
    }
   ],
   "source": [
    "plt.imshow(np.reshape(digits.data[250], (8, 8)))"
   ]
  },
  {
   "cell_type": "code",
   "execution_count": 13,
   "id": "d8caf15b-f091-4eaa-81e4-a2d969274b6e",
   "metadata": {},
   "outputs": [
    {
     "data": {
      "text/plain": [
       "4"
      ]
     },
     "execution_count": 13,
     "metadata": {},
     "output_type": "execute_result"
    }
   ],
   "source": [
    "digits.target[250]"
   ]
  },
  {
   "cell_type": "code",
   "execution_count": 14,
   "id": "9c640719-ae64-408c-9a4c-97abb9680283",
   "metadata": {},
   "outputs": [],
   "source": [
    "from sklearn.model_selection import train_test_split"
   ]
  },
  {
   "cell_type": "code",
   "execution_count": 16,
   "id": "2ff2d562-7cbc-4a9b-87d1-682959c69868",
   "metadata": {},
   "outputs": [],
   "source": [
    "x_train, x_test, y_train, y_test = train_test_split(digits.data, digits.target, test_size=0.2)"
   ]
  },
  {
   "cell_type": "code",
   "execution_count": 17,
   "id": "f61fec97-b294-41c2-84cf-e0606a88d372",
   "metadata": {},
   "outputs": [
    {
     "name": "stdout",
     "output_type": "stream",
     "text": [
      "(1437, 64)\n"
     ]
    }
   ],
   "source": [
    "print(x_train.shape)"
   ]
  },
  {
   "cell_type": "code",
   "execution_count": 18,
   "id": "6c9fe47a-1462-47bf-8bf2-4f6e0e8cd4b3",
   "metadata": {},
   "outputs": [
    {
     "name": "stdout",
     "output_type": "stream",
     "text": [
      "(360, 64)\n"
     ]
    }
   ],
   "source": [
    "print(x_test.shape)"
   ]
  },
  {
   "cell_type": "code",
   "execution_count": 19,
   "id": "61f64ba7-586b-4cca-b874-3fc7a113205a",
   "metadata": {},
   "outputs": [
    {
     "name": "stdout",
     "output_type": "stream",
     "text": [
      "[5 5 8 ... 0 8 9]\n"
     ]
    }
   ],
   "source": [
    "print(y_train)"
   ]
  },
  {
   "cell_type": "code",
   "execution_count": 21,
   "id": "8ab77556-de71-4ce7-88c9-2a3222aa2865",
   "metadata": {},
   "outputs": [
    {
     "name": "stdout",
     "output_type": "stream",
     "text": [
      "(1437,)\n"
     ]
    }
   ],
   "source": [
    "print(y_train.shape)"
   ]
  },
  {
   "cell_type": "code",
   "execution_count": 22,
   "id": "83feb451-4afb-489d-9106-00a487e23cf7",
   "metadata": {},
   "outputs": [],
   "source": [
    "indexList = np.arange(len(x_train))"
   ]
  },
  {
   "cell_type": "code",
   "execution_count": 23,
   "id": "fec68d7c-126c-403f-a3a4-ef2d4615fd8a",
   "metadata": {},
   "outputs": [
    {
     "name": "stdout",
     "output_type": "stream",
     "text": [
      "[   0    1    2 ... 1434 1435 1436]\n"
     ]
    }
   ],
   "source": [
    "print(indexList)"
   ]
  },
  {
   "cell_type": "code",
   "execution_count": 24,
   "id": "97887044-f2cb-470c-95bc-7b0658133fe1",
   "metadata": {},
   "outputs": [],
   "source": [
    "x_labeled = x_train[indexList[:300]]"
   ]
  },
  {
   "cell_type": "code",
   "execution_count": 25,
   "id": "d27c5aa5-03bb-4cac-adaa-e200a3248f3e",
   "metadata": {},
   "outputs": [],
   "source": [
    "y_labeled = y_train[indexList[:300]]"
   ]
  },
  {
   "cell_type": "code",
   "execution_count": 26,
   "id": "1ea0f360-0577-48f0-96d8-bf6704be489a",
   "metadata": {},
   "outputs": [
    {
     "name": "stdout",
     "output_type": "stream",
     "text": [
      "(300, 64)\n"
     ]
    }
   ],
   "source": [
    "print(x_labeled.shape)"
   ]
  },
  {
   "cell_type": "code",
   "execution_count": 27,
   "id": "00f75284-9740-4ad1-9c13-09eafbb6fba1",
   "metadata": {},
   "outputs": [
    {
     "name": "stdout",
     "output_type": "stream",
     "text": [
      "(300,)\n"
     ]
    }
   ],
   "source": [
    "print(y_labeled.shape)"
   ]
  },
  {
   "cell_type": "code",
   "execution_count": 28,
   "id": "67221c50-80a5-45b1-a68c-c3c04c098fdc",
   "metadata": {},
   "outputs": [
    {
     "name": "stdout",
     "output_type": "stream",
     "text": [
      "[5 5 8 4 3 5 1 7 0 1 5 4 7 0 9 0 4 6 2 2 1 1 9 9 8 4 6 7 4 7 4 6 1 9 8 5 3\n",
      " 7 6 7 3 6 6 9 7 8 9 1 3 4 5 2 1 5 1 3 0 0 1 7 5 9 7 1 2 0 9 6 0 4 5 4 5 0\n",
      " 6 7 8 7 2 8 7 8 9 1 7 8 5 9 2 8 8 9 5 1 9 2 6 2 2 6 5 0 3 1 8 4 5 2 1 8 0\n",
      " 1 5 3 0 1 9 1 6 8 7 3 1 1 0 2 3 0 9 2 5 9 7 8 3 1 8 6 0 1 5 5 8 5 2 6 2 7\n",
      " 3 9 6 2 0 9 2 0 8 4 2 2 6 5 3 7 3 8 8 0 7 2 5 7 7 1 3 8 8 4 6 8 9 0 7 6 7\n",
      " 7 5 4 3 6 4 4 3 9 5 7 2 5 7 8 3 7 1 0 5 9 1 4 8 5 5 7 9 5 9 0 7 5 6 8 8 6\n",
      " 9 8 8 5 5 4 4 8 2 6 4 0 4 1 4 1 7 2 3 7 3 8 9 2 5 2 0 3 9 1 2 7 3 7 9 2 1\n",
      " 6 0 3 6 0 5 6 0 9 4 2 1 9 0 9 7 2 5 9 6 3 4 9 0 3 8 1 2 5 5 6 9 1 1 7 4 1\n",
      " 2 3 7 3]\n"
     ]
    }
   ],
   "source": [
    "print(y_labeled)"
   ]
  },
  {
   "cell_type": "code",
   "execution_count": 30,
   "id": "6b6ef2a3-8b01-4d20-a280-121f9b8359fe",
   "metadata": {},
   "outputs": [],
   "source": [
    "nonLabeledIndices = indexList[300:]"
   ]
  },
  {
   "cell_type": "code",
   "execution_count": 32,
   "id": "eedc3c90-9a7e-4ad1-84e2-8dddaf4ba5c0",
   "metadata": {},
   "outputs": [
    {
     "name": "stdout",
     "output_type": "stream",
     "text": [
      "[ 300  301  302 ... 1434 1435 1436]\n"
     ]
    }
   ],
   "source": [
    "print(nonLabeledIndices)"
   ]
  },
  {
   "cell_type": "code",
   "execution_count": 33,
   "id": "2d3cca27-ffce-4c38-9fd5-6587a14d1b09",
   "metadata": {},
   "outputs": [],
   "source": [
    "y_train_nonlabel = np.copy(y_train)"
   ]
  },
  {
   "cell_type": "code",
   "execution_count": 34,
   "id": "3d0dd1de-c2e0-4022-8a7c-7726170b6334",
   "metadata": {},
   "outputs": [],
   "source": [
    "y_train_nonlabel[nonLabeledIndices] = -1"
   ]
  },
  {
   "cell_type": "code",
   "execution_count": 35,
   "id": "4bd5c374-ade6-4de2-a26b-632eaa653808",
   "metadata": {},
   "outputs": [
    {
     "name": "stdout",
     "output_type": "stream",
     "text": [
      "[ 5  5  8 ... -1 -1 -1]\n"
     ]
    }
   ],
   "source": [
    "print(y_train_nonlabel)"
   ]
  },
  {
   "cell_type": "code",
   "execution_count": 38,
   "id": "d5bb171c-e6c7-4752-a0ea-f9905e63f4d1",
   "metadata": {},
   "outputs": [
    {
     "name": "stdout",
     "output_type": "stream",
     "text": [
      "-1\n"
     ]
    }
   ],
   "source": [
    "print(y_train_nonlabel[300])"
   ]
  },
  {
   "cell_type": "code",
   "execution_count": 39,
   "id": "a4620a2a-4e10-4be9-a0e6-ff153f56843c",
   "metadata": {},
   "outputs": [
    {
     "name": "stdout",
     "output_type": "stream",
     "text": [
      "[5 5 8 4 3 5 1 7 0 1 5 4 7 0 9 0 4 6 2 2 1 1 9 9 8 4 6 7 4 7 4 6 1 9 8 5 3\n",
      " 7 6 7 3 6 6 9 7 8 9 1 3 4 5 2 1 5 1 3 0 0 1 7 5 9 7 1 2 0 9 6 0 4 5 4 5 0\n",
      " 6 7 8 7 2 8 7 8 9 1 7 8 5 9 2 8 8 9 5 1 9 2 6 2 2 6 5 0 3 1 8 4 5 2 1 8 0\n",
      " 1 5 3 0 1 9 1 6 8 7 3 1 1 0 2 3 0 9 2 5 9 7 8 3 1 8 6 0 1 5 5 8 5 2 6 2 7\n",
      " 3 9 6 2 0 9 2 0 8 4 2 2 6 5 3 7 3 8 8 0 7 2 5 7 7 1 3 8 8 4 6 8 9 0 7 6 7\n",
      " 7 5 4 3 6 4 4 3 9 5 7 2 5 7 8 3 7 1 0 5 9 1 4 8 5 5 7 9 5 9 0 7 5 6 8 8 6\n",
      " 9 8 8 5 5 4 4 8 2 6 4 0 4 1 4 1 7 2 3 7 3 8 9 2 5 2 0 3 9 1 2 7 3 7 9 2 1\n",
      " 6 0 3 6 0 5 6 0 9 4 2 1 9 0 9 7 2 5 9 6 3 4 9 0 3 8 1 2 5 5 6 9 1 1 7 4 1\n",
      " 2 3 7]\n"
     ]
    }
   ],
   "source": [
    "print(y_train_nonlabel[:299])"
   ]
  },
  {
   "cell_type": "code",
   "execution_count": 41,
   "id": "719094bb-2613-462e-a10b-a391322f3cfb",
   "metadata": {},
   "outputs": [
    {
     "name": "stdout",
     "output_type": "stream",
     "text": [
      "[-1 -1 -1 ... -1 -1 -1]\n"
     ]
    }
   ],
   "source": [
    "print(y_train_nonlabel[300:])"
   ]
  },
  {
   "cell_type": "code",
   "execution_count": 42,
   "id": "9b5760e2-b45d-47ed-bbb8-cb7fd0dae5b6",
   "metadata": {},
   "outputs": [],
   "source": [
    "from sklearn.semi_supervised import LabelPropagation"
   ]
  },
  {
   "cell_type": "code",
   "execution_count": 55,
   "id": "cbfd7533-1ce5-4ed7-8dd2-a6e1b86256ed",
   "metadata": {},
   "outputs": [],
   "source": [
    "lpm = LabelPropagation(gamma=.30)"
   ]
  },
  {
   "cell_type": "code",
   "execution_count": 56,
   "id": "852141c7-ddc6-44ba-8459-0991cb864f38",
   "metadata": {},
   "outputs": [
    {
     "data": {
      "text/plain": [
       "LabelPropagation(gamma=0.3)"
      ]
     },
     "execution_count": 56,
     "metadata": {},
     "output_type": "execute_result"
    }
   ],
   "source": [
    "lpm.fit(x_train, y_train_nonlabel)"
   ]
  },
  {
   "cell_type": "code",
   "execution_count": 57,
   "id": "58bd420b-b4d8-47be-a080-4cb29f6f4d97",
   "metadata": {},
   "outputs": [
    {
     "data": {
      "text/plain": [
       "0.9472222222222222"
      ]
     },
     "execution_count": 57,
     "metadata": {},
     "output_type": "execute_result"
    }
   ],
   "source": [
    "lpm.score(x_test, y_test)"
   ]
  },
  {
   "cell_type": "code",
   "execution_count": 58,
   "id": "2c346506-7a56-4610-a2f2-41aad23da3b5",
   "metadata": {},
   "outputs": [],
   "source": [
    "from sklearn.metrics import confusion_matrix"
   ]
  },
  {
   "cell_type": "code",
   "execution_count": 64,
   "id": "a2302eed-cd24-4f4b-83c3-6b144b484bd9",
   "metadata": {},
   "outputs": [],
   "source": [
    "y_labeled = lpm.transduction_[nonLabeledIndices]"
   ]
  },
  {
   "cell_type": "code",
   "execution_count": 65,
   "id": "5c99f98d-8d42-4e0f-ae76-285687391224",
   "metadata": {},
   "outputs": [],
   "source": [
    "confMatrix = confusion_matrix(y_train[nonLabeledIndices], y_labeled, labels=lpm.classes_)"
   ]
  },
  {
   "cell_type": "code",
   "execution_count": 66,
   "id": "5258c1ae-a938-43cf-88cb-6ddb32c1e987",
   "metadata": {},
   "outputs": [
    {
     "name": "stdout",
     "output_type": "stream",
     "text": [
      "[[117   0   0   0   0   0   0   0   0   0]\n",
      " [  0 109   1   0   0   1   0   0   1   0]\n",
      " [  0   0 115   0   0   0   0   0   0   0]\n",
      " [  0   0   0 106   0   0   0   2   0   7]\n",
      " [  0   3   0   0 110   0   0   1   0   0]\n",
      " [  0   0   0   0   0 107   1   0   0   5]\n",
      " [  0   0   0   0   0   0 123   0   1   0]\n",
      " [  0   0   0   0   0   0   0 106   0   0]\n",
      " [  0   5   0   0   0   1   0   0  96   3]\n",
      " [  0   7   0   2   3   0   0   2   2 100]]\n"
     ]
    }
   ],
   "source": [
    "print(confMatrix)"
   ]
  },
  {
   "cell_type": "code",
   "execution_count": 68,
   "id": "880da494-9520-45b0-a7b5-9fde49639b6b",
   "metadata": {},
   "outputs": [],
   "source": [
    "from sklearn.semi_supervised import LabelSpreading"
   ]
  },
  {
   "cell_type": "code",
   "execution_count": 76,
   "id": "ab29fde1-f1d5-4387-9111-39e94599267d",
   "metadata": {},
   "outputs": [],
   "source": [
    "lps = LabelSpreading(gamma=0.3)"
   ]
  },
  {
   "cell_type": "code",
   "execution_count": 77,
   "id": "86a7ae6a-c081-41a2-951b-8977f15c11f8",
   "metadata": {},
   "outputs": [
    {
     "data": {
      "text/plain": [
       "LabelSpreading(gamma=0.3)"
      ]
     },
     "execution_count": 77,
     "metadata": {},
     "output_type": "execute_result"
    }
   ],
   "source": [
    "lps.fit(x_train, y_train_nonlabel)"
   ]
  },
  {
   "cell_type": "code",
   "execution_count": 78,
   "id": "f839b2f1-44c2-4a73-993e-d6952dbae7eb",
   "metadata": {},
   "outputs": [
    {
     "data": {
      "text/plain": [
       "0.95"
      ]
     },
     "execution_count": 78,
     "metadata": {},
     "output_type": "execute_result"
    }
   ],
   "source": [
    "lps.score(x_test, y_test)"
   ]
  },
  {
   "cell_type": "code",
   "execution_count": 79,
   "id": "d2ad9d79-7556-48b1-bab0-0144b3a556d7",
   "metadata": {},
   "outputs": [],
   "source": [
    "y_labeled = lps.transduction_[nonLabeledIndices]"
   ]
  },
  {
   "cell_type": "code",
   "execution_count": 80,
   "id": "aae58869-1162-4322-8b79-be3674f46a91",
   "metadata": {},
   "outputs": [],
   "source": [
    "confMatrix = confusion_matrix(y_train[nonLabeledIndices], y_labeled, labels=lps.classes_)"
   ]
  },
  {
   "cell_type": "code",
   "execution_count": 81,
   "id": "ed35a73b-081f-4b5d-b04e-503331a07d43",
   "metadata": {},
   "outputs": [
    {
     "name": "stdout",
     "output_type": "stream",
     "text": [
      "[[117   0   0   0   0   0   0   0   0   0]\n",
      " [  0 110   0   0   0   1   0   0   1   0]\n",
      " [  0   0 115   0   0   0   0   0   0   0]\n",
      " [  0   0   0 112   0   0   0   0   0   3]\n",
      " [  0   1   0   0 112   0   0   0   1   0]\n",
      " [  0   0   0   0   0 111   0   0   0   2]\n",
      " [  0   1   0   0   0   0 122   0   1   0]\n",
      " [  0   0   0   0   0   0   0 106   0   0]\n",
      " [  0   4   0   0   0   0   0   0 101   0]\n",
      " [  0  11   0   1   0   0   0   0   3 101]]\n"
     ]
    }
   ],
   "source": [
    "print(confMatrix)"
   ]
  },
  {
   "cell_type": "code",
   "execution_count": null,
   "id": "7ec4f93b-798d-4c91-a7a3-a4ca013c9b39",
   "metadata": {},
   "outputs": [],
   "source": []
  }
 ],
 "metadata": {
  "kernelspec": {
   "display_name": "Python 3",
   "language": "python",
   "name": "python3"
  },
  "language_info": {
   "codemirror_mode": {
    "name": "ipython",
    "version": 3
   },
   "file_extension": ".py",
   "mimetype": "text/x-python",
   "name": "python",
   "nbconvert_exporter": "python",
   "pygments_lexer": "ipython3",
   "version": "3.8.6"
  }
 },
 "nbformat": 4,
 "nbformat_minor": 5
}
