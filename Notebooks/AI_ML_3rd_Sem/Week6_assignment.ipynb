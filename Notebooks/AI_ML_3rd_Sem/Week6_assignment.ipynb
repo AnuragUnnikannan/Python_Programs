{
 "cells": [
  {
   "cell_type": "markdown",
   "metadata": {},
   "source": [
    "Question 1: Write a program to import a dataset from current directory"
   ]
  },
  {
   "cell_type": "code",
   "execution_count": 6,
   "metadata": {},
   "outputs": [
    {
     "name": "stdout",
     "output_type": "stream",
     "text": [
      "                 Team                        category  \\\n",
      "0     Manchester City                Champions League   \n",
      "1           Liverpool                Champions League   \n",
      "2             Chelsea  Champions League Qualification   \n",
      "3           Tottenham  Champions League Qualification   \n",
      "4             Arsenal                   Europa League   \n",
      "5   Manchester United                   Europa League   \n",
      "6       Wolverhampton     Europa League Qualification   \n",
      "7             Everton            No UEFA Competitions   \n",
      "8           Leicester            No UEFA Competitions   \n",
      "9            West Ham            No UEFA Competitions   \n",
      "10            Watford            No UEFA Competitions   \n",
      "11     Crystal Palace            No UEFA Competitions   \n",
      "12          Newcastle            No UEFA Competitions   \n",
      "13        Bournemouth            No UEFA Competitions   \n",
      "14            Burnley            No UEFA Competitions   \n",
      "15        Southampton            No UEFA Competitions   \n",
      "16           Brighton            No UEFA Competitions   \n",
      "17            Cardiff                       Relegated   \n",
      "18             Fulham                       Relegated   \n",
      "19       Huddersfield                       Relegated   \n",
      "\n",
      "    general_league_position  finance _live_games_televised  \\\n",
      "0                         1                             26   \n",
      "1                         2                             29   \n",
      "2                         3                             25   \n",
      "3                         4                             26   \n",
      "4                         5                             25   \n",
      "5                         6                             27   \n",
      "6                         7                             15   \n",
      "7                         8                             18   \n",
      "8                         9                             15   \n",
      "9                        10                             16   \n",
      "10                       11                             10   \n",
      "11                       12                             12   \n",
      "12                       13                             19   \n",
      "13                       14                             10   \n",
      "14                       15                             11   \n",
      "15                       16                             10   \n",
      "16                       17                             13   \n",
      "17                       18                             12   \n",
      "18                       19                             13   \n",
      "19                       20                             10   \n",
      "\n",
      "    general_matches_played  general_won  general_draw  general_lost  \\\n",
      "0                       38           32             2             4   \n",
      "1                       38           30             7             1   \n",
      "2                       38           21             9             8   \n",
      "3                       38           23             2            13   \n",
      "4                       38           21             7            10   \n",
      "5                       38           19             9            10   \n",
      "6                       38           16             9            13   \n",
      "7                       38           15             9            14   \n",
      "8                       38           15             7            16   \n",
      "9                       38           15             7            16   \n",
      "10                      38           14             8            16   \n",
      "11                      38           14             7            17   \n",
      "12                      38           12             9            17   \n",
      "13                      38           13             6            19   \n",
      "14                      38           11             7            20   \n",
      "15                      38            9            12            17   \n",
      "16                      38            9             9            20   \n",
      "17                      38           10             4            24   \n",
      "18                      38            7             5            26   \n",
      "19                      38            3             7            28   \n",
      "\n",
      "    attack_scored  defence_goals_conceeded  ...  Unnamed: 29  Unnamed: 30  \\\n",
      "0              95                       23  ...          NaN          NaN   \n",
      "1              89                       22  ...          NaN          NaN   \n",
      "2              63                       39  ...          NaN          NaN   \n",
      "3              67                       39  ...          NaN          NaN   \n",
      "4              73                       51  ...          NaN          NaN   \n",
      "5              65                       54  ...          NaN          NaN   \n",
      "6              47                       46  ...          NaN          NaN   \n",
      "7              54                       46  ...          NaN          NaN   \n",
      "8              51                       48  ...          NaN          NaN   \n",
      "9              52                       55  ...          NaN          NaN   \n",
      "10             52                       59  ...          NaN          NaN   \n",
      "11             51                       53  ...          NaN          NaN   \n",
      "12             42                       48  ...          NaN          NaN   \n",
      "13             56                       70  ...          NaN          NaN   \n",
      "14             45                       68  ...          NaN          NaN   \n",
      "15             45                       65  ...          NaN          NaN   \n",
      "16             35                       60  ...          NaN          NaN   \n",
      "17             34                       69  ...          NaN          NaN   \n",
      "18             34                       81  ...          NaN          NaN   \n",
      "19             22                       76  ...          NaN          NaN   \n",
      "\n",
      "    Unnamed: 31  Unnamed: 32  Unnamed: 33  Unnamed: 34  Unnamed: 35  \\\n",
      "0           NaN          NaN          NaN          NaN          NaN   \n",
      "1           NaN          NaN          NaN          NaN          NaN   \n",
      "2           NaN          NaN          NaN          NaN          NaN   \n",
      "3           NaN          NaN          NaN          NaN          NaN   \n",
      "4           NaN          NaN          NaN          NaN          NaN   \n",
      "5           NaN          NaN          NaN          NaN          NaN   \n",
      "6           NaN          NaN          NaN          NaN          NaN   \n",
      "7           NaN          NaN          NaN          NaN          NaN   \n",
      "8           NaN          NaN          NaN          NaN          NaN   \n",
      "9           NaN          NaN          NaN          NaN          NaN   \n",
      "10          NaN          NaN          NaN          NaN          NaN   \n",
      "11          NaN          NaN          NaN          NaN          NaN   \n",
      "12          NaN          NaN          NaN          NaN          NaN   \n",
      "13          NaN          NaN          NaN          NaN          NaN   \n",
      "14          NaN          NaN          NaN          NaN          NaN   \n",
      "15          NaN          NaN          NaN          NaN          NaN   \n",
      "16          NaN          NaN          NaN          NaN          NaN   \n",
      "17          NaN          NaN          NaN          NaN          NaN   \n",
      "18          NaN          NaN          NaN          NaN          NaN   \n",
      "19          NaN          NaN          NaN          NaN          NaN   \n",
      "\n",
      "    Unnamed: 36  Unnamed: 37  Unnamed: 38  \n",
      "0           NaN          NaN          NaN  \n",
      "1           NaN          NaN          NaN  \n",
      "2           NaN          NaN          NaN  \n",
      "3           NaN          NaN          NaN  \n",
      "4           NaN          NaN          NaN  \n",
      "5           NaN          NaN          NaN  \n",
      "6           NaN          NaN          NaN  \n",
      "7           NaN          NaN          NaN  \n",
      "8           NaN          NaN          NaN  \n",
      "9           NaN          NaN          NaN  \n",
      "10          NaN          NaN          NaN  \n",
      "11          NaN          NaN          NaN  \n",
      "12          NaN          NaN          NaN  \n",
      "13          NaN          NaN          NaN  \n",
      "14          NaN          NaN          NaN  \n",
      "15          NaN          NaN          NaN  \n",
      "16          NaN          NaN          NaN  \n",
      "17          NaN          NaN          NaN  \n",
      "18          NaN          NaN          NaN  \n",
      "19          NaN          NaN          NaN  \n",
      "\n",
      "[20 rows x 39 columns]\n"
     ]
    }
   ],
   "source": [
    "import pandas as pd\n",
    "df = pd.read_csv(r\"E:\\epl_2018- 2019.csv\")\n",
    "print(df)"
   ]
  },
  {
   "cell_type": "markdown",
   "metadata": {},
   "source": [
    "Question 2: Write a program to import a dataset and print the column name and size of the imported dataset. "
   ]
  },
  {
   "cell_type": "code",
   "execution_count": 12,
   "metadata": {},
   "outputs": [
    {
     "name": "stdout",
     "output_type": "stream",
     "text": [
      "Column names:  ['Team', 'category', 'general_league_position', 'finance _live_games_televised', 'general_matches_played', 'general_won', 'general_draw', 'general_lost', 'attack_scored', 'defence_goals_conceeded', 'general_goal_difference', 'general_points', 'general_squad_size', 'general_squad_average_age', 'general_squad_foreigners', 'attack_pass_accuracy', 'Unnamed: 16', 'Unnamed: 17', 'Unnamed: 18', 'Unnamed: 19', 'Unnamed: 20', 'Unnamed: 21', 'Unnamed: 22', 'Unnamed: 23', 'Unnamed: 24', 'Unnamed: 25', 'Unnamed: 26', 'Unnamed: 27', 'Unnamed: 28', 'Unnamed: 29', 'Unnamed: 30', 'Unnamed: 31', 'Unnamed: 32', 'Unnamed: 33', 'Unnamed: 34', 'Unnamed: 35', 'Unnamed: 36', 'Unnamed: 37', 'Unnamed: 38']\n",
      "Size of Data Frame:  780\n"
     ]
    }
   ],
   "source": [
    "import pandas as pd\n",
    "df = pd.read_csv(r\"E:\\epl_2018- 2019.csv\")\n",
    "print(\"Column names: \",list(df.columns))\n",
    "print(\"Size of Data Frame: \",df.size)"
   ]
  },
  {
   "cell_type": "markdown",
   "metadata": {},
   "source": [
    "Question 3: Write a program to import a dataset find the number of missing values of each column."
   ]
  },
  {
   "cell_type": "code",
   "execution_count": 13,
   "metadata": {},
   "outputs": [
    {
     "data": {
      "text/plain": [
       "Team                              0\n",
       "category                          0\n",
       "general_league_position           0\n",
       "finance _live_games_televised     0\n",
       "general_matches_played            0\n",
       "general_won                       0\n",
       "general_draw                      0\n",
       "general_lost                      0\n",
       "attack_scored                     0\n",
       "defence_goals_conceeded           0\n",
       "general_goal_difference           0\n",
       "general_points                    0\n",
       "general_squad_size                0\n",
       "general_squad_average_age         0\n",
       "general_squad_foreigners          0\n",
       "attack_pass_accuracy              0\n",
       "Unnamed: 16                      20\n",
       "Unnamed: 17                      20\n",
       "Unnamed: 18                      20\n",
       "Unnamed: 19                      20\n",
       "Unnamed: 20                      20\n",
       "Unnamed: 21                      20\n",
       "Unnamed: 22                      20\n",
       "Unnamed: 23                      20\n",
       "Unnamed: 24                      20\n",
       "Unnamed: 25                      20\n",
       "Unnamed: 26                      20\n",
       "Unnamed: 27                      20\n",
       "Unnamed: 28                      20\n",
       "Unnamed: 29                      20\n",
       "Unnamed: 30                      20\n",
       "Unnamed: 31                      20\n",
       "Unnamed: 32                      20\n",
       "Unnamed: 33                      20\n",
       "Unnamed: 34                      20\n",
       "Unnamed: 35                      20\n",
       "Unnamed: 36                      20\n",
       "Unnamed: 37                      20\n",
       "Unnamed: 38                      20\n",
       "dtype: int64"
      ]
     },
     "execution_count": 13,
     "metadata": {},
     "output_type": "execute_result"
    }
   ],
   "source": [
    "import pandas as pd\n",
    "df = pd.read_csv(\"E:\\epl_2018- 2019.csv\")\n",
    "df.isnull().sum()"
   ]
  },
  {
   "cell_type": "markdown",
   "metadata": {},
   "source": [
    "Question 4: Write a program to import a dataset and find the average of the column having integer/decimal datatype."
   ]
  },
  {
   "cell_type": "code",
   "execution_count": 17,
   "metadata": {},
   "outputs": [
    {
     "name": "stdout",
     "output_type": "stream",
     "text": [
      "general_league_position          10.50\n",
      "finance _live_games_televised    17.10\n",
      "general_matches_played           38.00\n",
      "general_won                      15.45\n",
      "general_draw                      7.10\n",
      "general_lost                     15.45\n",
      "attack_scored                    53.60\n",
      "defence_goals_conceeded          53.60\n",
      "general_goal_difference           0.00\n",
      "general_points                   53.45\n",
      "general_squad_size               25.25\n",
      "general_squad_average_age        27.49\n",
      "general_squad_foreigners         17.45\n",
      "attack_pass_accuracy             78.31\n",
      "Unnamed: 16                        NaN\n",
      "Unnamed: 17                        NaN\n",
      "Unnamed: 18                        NaN\n",
      "Unnamed: 19                        NaN\n",
      "Unnamed: 20                        NaN\n",
      "Unnamed: 21                        NaN\n",
      "Unnamed: 22                        NaN\n",
      "Unnamed: 23                        NaN\n",
      "Unnamed: 24                        NaN\n",
      "Unnamed: 25                        NaN\n",
      "Unnamed: 26                        NaN\n",
      "Unnamed: 27                        NaN\n",
      "Unnamed: 28                        NaN\n",
      "Unnamed: 29                        NaN\n",
      "Unnamed: 30                        NaN\n",
      "Unnamed: 31                        NaN\n",
      "Unnamed: 32                        NaN\n",
      "Unnamed: 33                        NaN\n",
      "Unnamed: 34                        NaN\n",
      "Unnamed: 35                        NaN\n",
      "Unnamed: 36                        NaN\n",
      "Unnamed: 37                        NaN\n",
      "Unnamed: 38                        NaN\n",
      "dtype: float64\n"
     ]
    }
   ],
   "source": [
    "import pandas as pd\n",
    "df = pd.read_csv(r\"E:\\epl_2018- 2019.csv\")\n",
    "average = df.mean(axis=0)\n",
    "print(average)"
   ]
  }
 ],
 "metadata": {
  "kernelspec": {
   "display_name": "Python 3",
   "language": "python",
   "name": "python3"
  },
  "language_info": {
   "codemirror_mode": {
    "name": "ipython",
    "version": 3
   },
   "file_extension": ".py",
   "mimetype": "text/x-python",
   "name": "python",
   "nbconvert_exporter": "python",
   "pygments_lexer": "ipython3",
   "version": "3.7.6"
  }
 },
 "nbformat": 4,
 "nbformat_minor": 4
}
