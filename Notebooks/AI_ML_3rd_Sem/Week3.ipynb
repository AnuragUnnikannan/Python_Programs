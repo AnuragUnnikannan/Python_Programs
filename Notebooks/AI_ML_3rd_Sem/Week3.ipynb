{
 "cells": [
  {
   "cell_type": "code",
   "execution_count": 1,
   "metadata": {},
   "outputs": [
    {
     "name": "stdout",
     "output_type": "stream",
     "text": [
      "UEM\n"
     ]
    }
   ],
   "source": [
    "s = \"UEM\"\n",
    "print(s)"
   ]
  },
  {
   "cell_type": "code",
   "execution_count": 2,
   "metadata": {},
   "outputs": [
    {
     "name": "stdout",
     "output_type": "stream",
     "text": [
      "3\n"
     ]
    }
   ],
   "source": [
    "print(len(s))"
   ]
  },
  {
   "cell_type": "code",
   "execution_count": 3,
   "metadata": {},
   "outputs": [
    {
     "name": "stdout",
     "output_type": "stream",
     "text": [
      "4\n"
     ]
    }
   ],
   "source": [
    "s = \"this is test, this is string\"\n",
    "print(s.count(\"is\"))"
   ]
  },
  {
   "cell_type": "code",
   "execution_count": 4,
   "metadata": {},
   "outputs": [
    {
     "name": "stdout",
     "output_type": "stream",
     "text": [
      "2+3=5\n"
     ]
    }
   ],
   "source": [
    "a = 2\n",
    "b = 3\n",
    "c = a+b\n",
    "print(\"{0}+{1}={2}\".format(a, b, c))"
   ]
  },
  {
   "cell_type": "code",
   "execution_count": 5,
   "metadata": {},
   "outputs": [
    {
     "name": "stdout",
     "output_type": "stream",
     "text": [
      "Hello World\n"
     ]
    }
   ],
   "source": [
    "s = 'hello world'\n",
    "print(s.title())"
   ]
  },
  {
   "cell_type": "code",
   "execution_count": 6,
   "metadata": {},
   "outputs": [
    {
     "name": "stdout",
     "output_type": "stream",
     "text": [
      "HELLO\n"
     ]
    }
   ],
   "source": [
    "s = \"hello\"\n",
    "print(s.upper())"
   ]
  },
  {
   "cell_type": "code",
   "execution_count": 7,
   "metadata": {},
   "outputs": [
    {
     "name": "stdout",
     "output_type": "stream",
     "text": [
      "Hello\tWorld\n"
     ]
    }
   ],
   "source": [
    "print(\"Hello\\tWorld\")"
   ]
  },
  {
   "cell_type": "markdown",
   "metadata": {},
   "source": [
    "Search string 'x' in string 's'"
   ]
  },
  {
   "cell_type": "code",
   "execution_count": 12,
   "metadata": {},
   "outputs": [
    {
     "name": "stdout",
     "output_type": "stream",
     "text": [
      "Insert String: this is test\n",
      "Enter String to search: test\n",
      "'test' is substring of 'this is test'\n"
     ]
    }
   ],
   "source": [
    "s = input(\"Insert String: \")\n",
    "x = input(\"Enter String to search: \")\n",
    "if s.find(x) != -1:\n",
    "    print(\"'{0}' is substring of '{1}'\".format(x,s))\n",
    "else:\n",
    "    print(\"'{0}' is not a substring of '{1}'\".format(x, s))"
   ]
  },
  {
   "cell_type": "markdown",
   "metadata": {},
   "source": [
    "To remove spaces from ends"
   ]
  },
  {
   "cell_type": "code",
   "execution_count": 13,
   "metadata": {},
   "outputs": [
    {
     "name": "stdout",
     "output_type": "stream",
     "text": [
      "    hello world\n",
      "hello world\n"
     ]
    }
   ],
   "source": [
    "x = input()\n",
    "print(x.strip())"
   ]
  },
  {
   "cell_type": "code",
   "execution_count": 15,
   "metadata": {},
   "outputs": [
    {
     "name": "stdout",
     "output_type": "stream",
     "text": [
      "this is test. this is string\n",
      "['this is test', ' this is string']\n"
     ]
    }
   ],
   "source": [
    "x = input()\n",
    "print(x.split(sep = '.'))\n",
    "#sep value is \" \" (space) by default"
   ]
  },
  {
   "cell_type": "code",
   "execution_count": 4,
   "metadata": {},
   "outputs": [
    {
     "name": "stdout",
     "output_type": "stream",
     "text": [
      "[3, 4]\n",
      "[3, 4, 7]\n",
      "[3]\n",
      "[3, 'fish', 7, 2]\n",
      "0\n"
     ]
    }
   ],
   "source": [
    "z = [3, 4, 7, 2]\n",
    "print(z[0:2])\n",
    "print(z[:3])\n",
    "print(z[:1])\n",
    "z[1] = \"fish\"\n",
    "print(z)\n",
    "print(z.index(3))"
   ]
  },
  {
   "cell_type": "code",
   "execution_count": 8,
   "metadata": {},
   "outputs": [
    {
     "name": "stdout",
     "output_type": "stream",
     "text": [
      "3\n",
      "[2, 3, 4, 7]\n",
      "[7, 4, 3, 2]\n",
      "[7, 3, 4, 2, 3]\n",
      "Element: 10\n",
      "[7, 3, 4, 2, 3, 10]\n",
      "[7, 3, 4, 3, 10]\n"
     ]
    }
   ],
   "source": [
    "random_list = [4, 1, 5, 4, 10, 4]\n",
    "print(random_list.count(4))\n",
    "z = [3, 7, 4, 2]\n",
    "z.sort()\n",
    "print(z)\n",
    "z.sort(reverse = True)\n",
    "print(z)\n",
    "z = [7, 3, 4, 2]\n",
    "z.append(3)\n",
    "print(z)\n",
    "x = int(input(\"Element: \"))\n",
    "z.append(x)\n",
    "print(z)\n",
    "z.remove(2)\n",
    "print(z)"
   ]
  },
  {
   "cell_type": "code",
   "execution_count": 14,
   "metadata": {},
   "outputs": [
    {
     "name": "stdout",
     "output_type": "stream",
     "text": [
      "[6, 8, 10, 12]\n"
     ]
    }
   ],
   "source": [
    "a = [1, 2, 3, 4]\n",
    "b = [5, 6, 7, 8]\n",
    "c = []\n",
    "for i in range(0, len(a)):\n",
    "    c.append(a[i]+b[i])\n",
    "print(c)"
   ]
  }
 ],
 "metadata": {
  "kernelspec": {
   "display_name": "Python 3",
   "language": "python",
   "name": "python3"
  },
  "language_info": {
   "codemirror_mode": {
    "name": "ipython",
    "version": 3
   },
   "file_extension": ".py",
   "mimetype": "text/x-python",
   "name": "python",
   "nbconvert_exporter": "python",
   "pygments_lexer": "ipython3",
   "version": "3.7.6"
  }
 },
 "nbformat": 4,
 "nbformat_minor": 4
}
