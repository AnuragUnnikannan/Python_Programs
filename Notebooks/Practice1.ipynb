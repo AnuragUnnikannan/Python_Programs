{
 "cells": [
  {
   "cell_type": "markdown",
   "metadata": {},
   "source": [
    "String Palindrome"
   ]
  },
  {
   "cell_type": "code",
   "execution_count": 2,
   "metadata": {},
   "outputs": [
    {
     "name": "stdin",
     "output_type": "stream",
     "text": [
      "Enter a string:  radar\n"
     ]
    },
    {
     "name": "stdout",
     "output_type": "stream",
     "text": [
      "Palindrome\n"
     ]
    }
   ],
   "source": [
    "s = input(\"Enter a string: \")\n",
    "r = s[::-1]\n",
    "if r==s:\n",
    "    print(\"Palindrome\")\n",
    "else:\n",
    "    print(\"Not Palindrome\")"
   ]
  },
  {
   "cell_type": "markdown",
   "metadata": {},
   "source": [
    "Printing Initials of a name"
   ]
  },
  {
   "cell_type": "code",
   "execution_count": 6,
   "metadata": {},
   "outputs": [
    {
     "name": "stdout",
     "output_type": "stream",
     "text": [
      "Enter name: James Bond\n",
      "JB"
     ]
    }
   ],
   "source": [
    "s = input(\"Enter name: \")\n",
    "l = s.split()\n",
    "for i in range(len(l)):\n",
    "    a = l[i]\n",
    "    print(a[0], end = \"\")"
   ]
  },
  {
   "cell_type": "markdown",
   "metadata": {},
   "source": [
    "Print words that start with vowel"
   ]
  },
  {
   "cell_type": "code",
   "execution_count": 7,
   "metadata": {},
   "outputs": [
    {
     "name": "stdout",
     "output_type": "stream",
     "text": [
      "Enter 10 words separated by space: apple bat cat dog elephant frog goat hen ice jar\n",
      "apple\n",
      "elephant\n",
      "ice\n"
     ]
    }
   ],
   "source": [
    "s = input(\"Enter 10 words separated by space: \")\n",
    "l = s.split()\n",
    "for i in range(len(l)):\n",
    "    a = l[i]\n",
    "    if a[0]=='a' or a[0]=='e' or a[0]=='i' or a[0]=='o' or a[0]=='u':\n",
    "        print(l[i])"
   ]
  },
  {
   "cell_type": "markdown",
   "metadata": {},
   "source": [
    "Remove duplicate elements in array"
   ]
  },
  {
   "cell_type": "code",
   "execution_count": 16,
   "metadata": {},
   "outputs": [
    {
     "name": "stdout",
     "output_type": "stream",
     "text": [
      "Enter number of elements: 5\n",
      "Enter 5 numbers: \n",
      "2\n",
      "8\n",
      "5\n",
      "2\n",
      "7\n",
      "[2, 8, 5, 7]\n"
     ]
    }
   ],
   "source": [
    "n = int(input(\"Enter number of elements: \"))\n",
    "print(\"Enter {0} numbers: \".format(n))\n",
    "l = []\n",
    "f = []\n",
    "for i in range(0, n):\n",
    "    a = int(input())\n",
    "    l.append(a)\n",
    "for x in l:\n",
    "    if x not in f:\n",
    "        f.append(x)\n",
    "print(f)"
   ]
  },
  {
   "cell_type": "markdown",
   "metadata": {},
   "source": [
    "Print common elements"
   ]
  },
  {
   "cell_type": "code",
   "execution_count": 4,
   "metadata": {},
   "outputs": [
    {
     "name": "stdout",
     "output_type": "stream",
     "text": [
      "Enter number of elements: 5\n",
      "Enter 5 elements for list A: \n",
      "2\n",
      "8\n",
      "5\n",
      "7\n",
      "2\n",
      "Enter 5 elements for list B: \n",
      "1\n",
      "2\n",
      "3\n",
      "4\n",
      "5\n",
      "Common elements: \n",
      "[2, 5]\n"
     ]
    }
   ],
   "source": [
    "n = int(input(\"Enter number of elements: \"))\n",
    "a = []\n",
    "b = []\n",
    "c = []\n",
    "print(\"Enter {0} elements for list A: \".format(n))\n",
    "for i in range(0, n):\n",
    "    x = int(input())\n",
    "    a.append(x)\n",
    "print(\"Enter {0} elements for list B: \".format(n))\n",
    "for i in range(0, n):\n",
    "    y = int(input())\n",
    "    b.append(y)\n",
    "print(\"Common elements: \")\n",
    "for i in range(n):\n",
    "    for j in range(n):\n",
    "        if a[i]==b[j]:\n",
    "            x = a[i]\n",
    "            for k in a:\n",
    "                if x not in c:\n",
    "                    c.append(x)\n",
    "print(c)"
   ]
  },
  {
   "cell_type": "code",
   "execution_count": 11,
   "metadata": {},
   "outputs": [
    {
     "name": "stdout",
     "output_type": "stream",
     "text": [
      "Enter text:The theory\n",
      "Enter a word:the\n",
      "Frequency of the is 2\n"
     ]
    }
   ],
   "source": [
    "s = input(\"Enter text:\")\n",
    "s = s.lower()\n",
    "li = s.split()\n",
    "w = input(\"Enter a word:\")\n",
    "t = \"\"\n",
    "t = t.join(li)\n",
    "c = 0\n",
    "i = 0\n",
    "while(i<len(t)):\n",
    "    if t[i:i+3]==w:\n",
    "        c = c+1\n",
    "    i = i+1\n",
    "print(\"Frequency of\", w, \"is\", c)"
   ]
  },
  {
   "cell_type": "code",
   "execution_count": 12,
   "metadata": {},
   "outputs": [
    {
     "name": "stdout",
     "output_type": "stream",
     "text": [
      "2 4 6 8 16\n",
      "2\n"
     ]
    }
   ],
   "source": [
    "def gcd(x, y):\n",
    "    while(y):\n",
    "        x, y = y, x%y\n",
    "    return x\n",
    "\n",
    "li = [int(x) for x in input().split()]\n",
    "res = gcd(li[0], li[1])\n",
    "for i in range(2, len(li)):\n",
    "    res = gcd(res, li[i])\n",
    "print(res)"
   ]
  },
  {
   "cell_type": "code",
   "execution_count": 15,
   "metadata": {},
   "outputs": [
    {
     "name": "stdout",
     "output_type": "stream",
     "text": [
      "33165\n"
     ]
    }
   ],
   "source": [
    "s = 0\n",
    "for i in range(1, 1001):\n",
    "    if i%3==0 and i%5==0:\n",
    "        s = s+i\n",
    "print(s)"
   ]
  },
  {
   "cell_type": "code",
   "execution_count": 32,
   "metadata": {},
   "outputs": [
    {
     "name": "stdout",
     "output_type": "stream",
     "text": [
      "4\n",
      "4700\n",
      "3\n"
     ]
    }
   ],
   "source": [
    "def checkupper(s):\n",
    "    c = 0\n",
    "    for i in s:\n",
    "        if(i.isupper()==True):\n",
    "            c = c+1\n",
    "    return c\n",
    "\n",
    "def checklower(s):\n",
    "    c = 0\n",
    "    for i in s:\n",
    "        if(i.islower()==True):\n",
    "            c = c+1\n",
    "    return c\n",
    "\n",
    "def checkdigit(s):\n",
    "    c = 0\n",
    "    for i in s:\n",
    "        if i.isdigit()==True:\n",
    "            c = c+1\n",
    "    return c\n",
    "\n",
    "def checkspl(s):\n",
    "    c = 0\n",
    "    for i in s:\n",
    "        if i=='!' or i=='@' or i=='#' or i=='$' or i=='%' or i=='^' or i=='&' or i=='*' or i=='(' or i==')' or i=='-' or i=='+':\n",
    "            c = c+1\n",
    "    return c\n",
    "\n",
    "l = int(input())\n",
    "s = input()\n",
    "c = 0\n",
    "if checkupper(s)==0:\n",
    "    c = c+1\n",
    "if checklower(s)==0:\n",
    "    c = c+1\n",
    "if checkdigit(s)==0:\n",
    "    c = c+1\n",
    "if checkspl(s)==0:\n",
    "    c = c+1\n",
    "if(l<6):\n",
    "    c = 6-l+1\n",
    "print(c)"
   ]
  },
  {
   "cell_type": "code",
   "execution_count": 24,
   "metadata": {},
   "outputs": [
    {
     "name": "stdout",
     "output_type": "stream",
     "text": [
      "3\n"
     ]
    }
   ],
   "source": [
    "s = \"goxg\"\n",
    "c = 0\n",
    "if checkupper(s)==0:\n",
    "    c = c+1\n",
    "if checklower(s)==0:\n",
    "    c = c+1\n",
    "if checkdigit(s)==0:\n",
    "    c = c+1\n",
    "if checkspl(s)==0:\n",
    "    c = c+1\n",
    "print(c)"
   ]
  },
  {
   "cell_type": "code",
   "execution_count": 84,
   "metadata": {},
   "outputs": [
    {
     "name": "stdout",
     "output_type": "stream",
     "text": [
      "1\n",
      "9\n",
      "5\n"
     ]
    }
   ],
   "source": [
    "def checkupper(s):\n",
    "    c = 0\n",
    "    for i in s:\n",
    "        if(i.isupper()==True):\n",
    "            c = c+1\n",
    "    return c\n",
    "\n",
    "def checklower(s):\n",
    "    c = 0\n",
    "    for i in s:\n",
    "        if(i.islower()==True):\n",
    "            c = c+1\n",
    "    return c\n",
    "\n",
    "def checkdigit(s):\n",
    "    c = 0\n",
    "    for i in s:\n",
    "        if i.isdigit()==True:\n",
    "            c = c+1\n",
    "    return c\n",
    "\n",
    "def checkspl(s):\n",
    "    c = 0\n",
    "    for i in s:\n",
    "        if i=='!' or i=='@' or i=='#' or i=='$' or i=='%' or i=='^' or i=='&' or i=='*' or i=='(' or i==')' or i=='-' or i=='+':\n",
    "            c = c+1\n",
    "    return c\n",
    "\n",
    "l = int(input())\n",
    "s = input()\n",
    "c = 0\n",
    "if checkupper(s)==0:\n",
    "    c = c+1\n",
    "if checklower(s)==0:\n",
    "    c = c+1\n",
    "if checkdigit(s)==0:\n",
    "    c = c+1\n",
    "if checkspl(s)==0:\n",
    "    c = c+1\n",
    "c = c+max(0, 6-l-c)\n",
    "print(c)"
   ]
  },
  {
   "cell_type": "code",
   "execution_count": 87,
   "metadata": {},
   "outputs": [
    {
     "name": "stdout",
     "output_type": "stream",
     "text": [
      "aaabccddd\n"
     ]
    },
    {
     "ename": "IndexError",
     "evalue": "string index out of range",
     "output_type": "error",
     "traceback": [
      "\u001b[1;31m---------------------------------------------------------------------------\u001b[0m",
      "\u001b[1;31mIndexError\u001b[0m                                Traceback (most recent call last)",
      "\u001b[1;32m<ipython-input-87-9f4770a74a66>\u001b[0m in \u001b[0;36m<module>\u001b[1;34m\u001b[0m\n\u001b[0;32m      3\u001b[0m \u001b[0mn\u001b[0m \u001b[1;33m=\u001b[0m \u001b[1;34m\"\"\u001b[0m\u001b[1;33m\u001b[0m\u001b[1;33m\u001b[0m\u001b[0m\n\u001b[0;32m      4\u001b[0m \u001b[1;32mfor\u001b[0m \u001b[0mi\u001b[0m \u001b[1;32min\u001b[0m \u001b[0mrange\u001b[0m\u001b[1;33m(\u001b[0m\u001b[1;36m1\u001b[0m\u001b[1;33m,\u001b[0m \u001b[0ml\u001b[0m\u001b[1;33m)\u001b[0m\u001b[1;33m:\u001b[0m\u001b[1;33m\u001b[0m\u001b[1;33m\u001b[0m\u001b[0m\n\u001b[1;32m----> 5\u001b[1;33m     \u001b[1;32mif\u001b[0m \u001b[0ms\u001b[0m\u001b[1;33m[\u001b[0m\u001b[0mi\u001b[0m\u001b[1;33m]\u001b[0m\u001b[1;33m==\u001b[0m\u001b[0ms\u001b[0m\u001b[1;33m[\u001b[0m\u001b[0mi\u001b[0m\u001b[1;33m-\u001b[0m\u001b[1;36m1\u001b[0m\u001b[1;33m]\u001b[0m\u001b[1;33m:\u001b[0m\u001b[1;33m\u001b[0m\u001b[1;33m\u001b[0m\u001b[0m\n\u001b[0m\u001b[0;32m      6\u001b[0m         \u001b[0ms\u001b[0m \u001b[1;33m=\u001b[0m \u001b[0ms\u001b[0m\u001b[1;33m[\u001b[0m\u001b[1;36m0\u001b[0m\u001b[1;33m:\u001b[0m\u001b[0mi\u001b[0m\u001b[1;33m-\u001b[0m\u001b[1;36m1\u001b[0m\u001b[1;33m]\u001b[0m \u001b[1;33m+\u001b[0m \u001b[0ms\u001b[0m\u001b[1;33m[\u001b[0m\u001b[0mi\u001b[0m\u001b[1;33m+\u001b[0m\u001b[1;36m1\u001b[0m\u001b[1;33m:\u001b[0m\u001b[1;33m]\u001b[0m\u001b[1;33m\u001b[0m\u001b[1;33m\u001b[0m\u001b[0m\n\u001b[0;32m      7\u001b[0m         \u001b[0mi\u001b[0m \u001b[1;33m=\u001b[0m \u001b[1;36m0\u001b[0m\u001b[1;33m\u001b[0m\u001b[1;33m\u001b[0m\u001b[0m\n",
      "\u001b[1;31mIndexError\u001b[0m: string index out of range"
     ]
    }
   ],
   "source": [
    "s = input()\n",
    "l = len(s)\n",
    "n = \"\"\n",
    "for i in range(1, l):\n",
    "    if s[i]==s[i-1]:\n",
    "        s = s[0:i-1] + s[i+1:]\n",
    "        i = 0\n",
    "if len(s)==0:\n",
    "    print(\"Empty String\")\n",
    "else:\n",
    "    print(s)"
   ]
  },
  {
   "cell_type": "code",
   "execution_count": 17,
   "metadata": {},
   "outputs": [
    {
     "name": "stdout",
     "output_type": "stream",
     "text": [
      "The quick brown fox jumps over the lazy dog\n",
      "pangram\n"
     ]
    }
   ],
   "source": [
    "s = input()\n",
    "s = s.lower()\n",
    "li = set([char for char in s])\n",
    "t = \"abcdefghijklmnopqrstuvwxyz\"\n",
    "li2 = [char for char in t]\n",
    "f = 0\n",
    "for i in li2:\n",
    "    if i in li:\n",
    "        f = 1\n",
    "    else:\n",
    "        f = 0\n",
    "        break\n",
    "if f==1:\n",
    "    print(\"pangram\")\n",
    "else:\n",
    "    print(\"not pangram\")"
   ]
  },
  {
   "cell_type": "code",
   "execution_count": 23,
   "metadata": {},
   "outputs": [
    {
     "name": "stdout",
     "output_type": "stream",
     "text": [
      "6\n",
      "3\n",
      "-1\n",
      "-1\n",
      "-1\n",
      "5\n",
      "1\n",
      "81\n"
     ]
    }
   ],
   "source": [
    "def maxSubArraySum(arr):\n",
    "    largest = arr[0]\n",
    "    current = arr[0]\n",
    "    for i in range(len(arr)):\n",
    "        current = max(arr[i], current+arr[i])\n",
    "        largest = max(largest, current)\n",
    "    return largest\n",
    "\n",
    "n = int(input())\n",
    "li = []\n",
    "for i in range(n):\n",
    "    x = int(input())\n",
    "    li.append(x)\n",
    "print(maxSubArraySum(li)**2)"
   ]
  },
  {
   "cell_type": "code",
   "execution_count": 58,
   "metadata": {},
   "outputs": [
    {
     "name": "stdout",
     "output_type": "stream",
     "text": [
      "4\n",
      "1\n",
      "1\n",
      "1\n",
      "1\n",
      "3\n",
      "0\n"
     ]
    }
   ],
   "source": [
    "n = int(input())\n",
    "skillLevel = []\n",
    "for i in range(n):\n",
    "    x = int(input())\n",
    "    skillLevel.append(x)\n",
    "minDiff = int(input())\n",
    "z = []\n",
    "for i in skillLevel:\n",
    "    if i not in z:\n",
    "        z.append(i)\n",
    "c = 0\n",
    "t = []\n",
    "for i in range(0, len(z)):\n",
    "    for j in range(i+1, len(z)):\n",
    "        if i==j:\n",
    "            continue\n",
    "        elif z[i]-z[j] >= minDiff:\n",
    "            if any(z[i] in x for x in t) or any(z[j] in x for x in t):\n",
    "                continue\n",
    "            else:\n",
    "                t.append([z[i], z[j]])\n",
    "c = len(t)\n",
    "print(c)"
   ]
  },
  {
   "cell_type": "code",
   "execution_count": 6,
   "metadata": {},
   "outputs": [
    {
     "name": "stdout",
     "output_type": "stream",
     "text": [
      "6\n",
      "1 2 3 4 5 -9\n",
      "True\n"
     ]
    }
   ],
   "source": [
    "# Enter your code here. Read input from STDIN. Print output to STDOUT\n",
    "def palindrome(x):\n",
    "    r = 0\n",
    "    n1 = x\n",
    "    while(x!=0):\n",
    "        d = x%10\n",
    "        r = r*10+d\n",
    "        x = x//10\n",
    "    if r==n1:\n",
    "        return True\n",
    "    else:\n",
    "        return False\n",
    "\n",
    "n = int(input())\n",
    "li = [int(x) for x in input().split()]\n",
    "f = 0\n",
    "for i in li:\n",
    "    if i >=0:\n",
    "        if palindrome(i)==True:\n",
    "            f = 1\n",
    "            break;\n",
    "        else:\n",
    "            f = 0\n",
    "            continue;\n",
    "    else:\n",
    "        f = 0\n",
    "if f==1:\n",
    "    print(\"True\")\n",
    "else:\n",
    "    print(\"False\")  "
   ]
  },
  {
   "cell_type": "code",
   "execution_count": 3,
   "metadata": {},
   "outputs": [
    {
     "name": "stdout",
     "output_type": "stream",
     "text": [
      "True\n"
     ]
    }
   ],
   "source": [
    "def palindrome(x):\n",
    "    r = 0\n",
    "    n1 = x\n",
    "    while(x!=0):\n",
    "        d = x%10\n",
    "        r = r*10+d\n",
    "        x = x//10\n",
    "    if r==n1:\n",
    "        return True\n",
    "    else:\n",
    "        return False\n",
    "print(palindrome(5))"
   ]
  },
  {
   "cell_type": "code",
   "execution_count": 9,
   "metadata": {},
   "outputs": [
    {
     "name": "stdout",
     "output_type": "stream",
     "text": [
      "5\n",
      "12 9 61 5 14\n"
     ]
    },
    {
     "ename": "TypeError",
     "evalue": "'bool' object is not iterable",
     "output_type": "error",
     "traceback": [
      "\u001b[1;31m---------------------------------------------------------------------------\u001b[0m",
      "\u001b[1;31mTypeError\u001b[0m                                 Traceback (most recent call last)",
      "\u001b[1;32m<ipython-input-9-5ebaedca9004>\u001b[0m in \u001b[0;36m<module>\u001b[1;34m\u001b[0m\n\u001b[0;32m     15\u001b[0m \u001b[0mz\u001b[0m \u001b[1;33m=\u001b[0m \u001b[1;33m[\u001b[0m\u001b[1;33m]\u001b[0m\u001b[1;33m\u001b[0m\u001b[1;33m\u001b[0m\u001b[0m\n\u001b[0;32m     16\u001b[0m \u001b[1;32mfor\u001b[0m \u001b[0mi\u001b[0m \u001b[1;32min\u001b[0m \u001b[0mli\u001b[0m\u001b[1;33m:\u001b[0m\u001b[1;33m\u001b[0m\u001b[1;33m\u001b[0m\u001b[0m\n\u001b[1;32m---> 17\u001b[1;33m     \u001b[0my\u001b[0m\u001b[1;33m.\u001b[0m\u001b[0mappend\u001b[0m\u001b[1;33m(\u001b[0m\u001b[0mall\u001b[0m\u001b[1;33m(\u001b[0m\u001b[0mi\u001b[0m\u001b[1;33m>=\u001b[0m\u001b[1;36m0\u001b[0m\u001b[1;33m)\u001b[0m\u001b[1;33m)\u001b[0m\u001b[1;33m\u001b[0m\u001b[1;33m\u001b[0m\u001b[0m\n\u001b[0m\u001b[0;32m     18\u001b[0m     \u001b[0mz\u001b[0m\u001b[1;33m.\u001b[0m\u001b[0mappend\u001b[0m\u001b[1;33m(\u001b[0m\u001b[0many\u001b[0m\u001b[1;33m(\u001b[0m\u001b[0mpalindrome\u001b[0m\u001b[1;33m(\u001b[0m\u001b[0mi\u001b[0m\u001b[1;33m)\u001b[0m\u001b[1;33m)\u001b[0m\u001b[1;33m)\u001b[0m\u001b[1;33m\u001b[0m\u001b[1;33m\u001b[0m\u001b[0m\n\u001b[0;32m     19\u001b[0m \u001b[1;32mif\u001b[0m \u001b[0my\u001b[0m\u001b[1;33m==\u001b[0m\u001b[0mz\u001b[0m\u001b[1;33m:\u001b[0m\u001b[1;33m\u001b[0m\u001b[1;33m\u001b[0m\u001b[0m\n",
      "\u001b[1;31mTypeError\u001b[0m: 'bool' object is not iterable"
     ]
    }
   ],
   "source": [
    "def palindrome(x):\n",
    "    r = 0\n",
    "    n1 = x\n",
    "    while(x!=0):\n",
    "        d = x%10\n",
    "        r = r*10+d\n",
    "        x = x//10\n",
    "    if r==n1:\n",
    "        return True\n",
    "    else:\n",
    "        return False\n",
    "n = int(input())\n",
    "li = [int(x) for x in input().split()]\n",
    "y = False\n",
    "z = False\n",
    "for i in li:\n",
    "    y = all(i>=0)\n",
    "    z = any(palindrome(i))\n",
    "if y==z:\n",
    "    print(\"True\")\n",
    "else:\n",
    "    print(\"False\")"
   ]
  },
  {
   "cell_type": "code",
   "execution_count": 11,
   "metadata": {},
   "outputs": [
    {
     "name": "stdout",
     "output_type": "stream",
     "text": [
      "115\n"
     ]
    }
   ],
   "source": [
    "n = \"s\"\n",
    "print(ord(n))"
   ]
  },
  {
   "cell_type": "code",
   "execution_count": 45,
   "metadata": {},
   "outputs": [
    {
     "name": "stdout",
     "output_type": "stream",
     "text": [
      "[19, 19, 19, 19, 19]\n",
      "103\n"
     ]
    }
   ],
   "source": [
    "from time import time\n",
    "\n",
    "\n",
    "class tsrando():\n",
    "    def mytime(self):\n",
    "        return time() - float(str(time()).split('.')[0])\n",
    "\n",
    "    def randoranger(self, start, stop):\n",
    "        return int(self.mytime() * (stop - start) + start)\n",
    "\n",
    "    def randolist(self, start, stop, lenth):\n",
    "        randlist = []\n",
    "        for i in range(lenth):\n",
    "            randlist.append(self.randoranger(start, stop))\n",
    "\n",
    "        return randlist\n",
    "\n",
    "\n",
    "# ######### Build ends here ##########\n",
    "\n",
    "\n",
    "# to get a list of random integers try tsrand().randolist(start, stop, lenght of list)\n",
    "# use\n",
    "print(tsrando().randolist(10, 25, 5))\n",
    "\n",
    "# to get a random integer try tsrand().randoranger(start, stop)\n",
    "# use\n",
    "print(tsrando().randoranger(100, 105))\n",
    "\n",
    "# by Tirtharaj Sinha"
   ]
  },
  {
   "cell_type": "code",
   "execution_count": 6,
   "metadata": {},
   "outputs": [
    {
     "name": "stdout",
     "output_type": "stream",
     "text": [
      "azerdii\n",
      "5\n",
      "erdii\n"
     ]
    }
   ],
   "source": [
    "def vowel(x):\n",
    "    c = 0\n",
    "    for i in x:\n",
    "        if i=='a' or i=='e' or i=='i' or i=='o' or i=='u':\n",
    "            c = c+1\n",
    "    return c\n",
    "            \n",
    "def findSubstring(s, k):\n",
    "    # Write your code here\n",
    "    m = 0\n",
    "    v = 0\n",
    "    t = \"\"\n",
    "    l = len(s)\n",
    "    for i in range(l):\n",
    "        v = vowel(s[i:i+k])\n",
    "        if v>m:\n",
    "            m = v\n",
    "            t = s[i:i+k]\n",
    "    if t!='':\n",
    "        return t\n",
    "    else:\n",
    "        return \"Not found!\"\n",
    "    \n",
    "s = input()\n",
    "k = int(input())\n",
    "print(findSubstring(s, k))"
   ]
  },
  {
   "cell_type": "markdown",
   "metadata": {},
   "source": [
    "## Matching Brackets in Expression"
   ]
  },
  {
   "cell_type": "code",
   "execution_count": 5,
   "metadata": {},
   "outputs": [
    {
     "name": "stdin",
     "output_type": "stream",
     "text": [
      " (this is first(second)bracket)\n"
     ]
    },
    {
     "name": "stdout",
     "output_type": "stream",
     "text": [
      "Brackets matched\n"
     ]
    }
   ],
   "source": [
    "s = input()\n",
    "c = 0\n",
    "for i in s:\n",
    "    if i=='(':\n",
    "        c+=1\n",
    "    if:\n",
    "        c-=1\n",
    "if c==0:\n",
    "    print('Brackets matched')\n",
    "else:\n",
    "    print('Brackets not matched')"
   ]
  },
  {
   "cell_type": "code",
   "execution_count": 3,
   "metadata": {},
   "outputs": [
    {
     "name": "stdin",
     "output_type": "stream",
     "text": [
      "Enter a number: 5\n"
     ]
    },
    {
     "name": "stdout",
     "output_type": "stream",
     "text": [
      "15\n"
     ]
    }
   ],
   "source": [
    "def nat_sum(n):\n",
    "    if n==1:\n",
    "        return 1\n",
    "    else:\n",
    "        return n + nat_sum(n-1)\n",
    "n = int(input('Enter a number:'))\n",
    "s = nat_sum(n)\n",
    "print(s)"
   ]
  },
  {
   "cell_type": "code",
   "execution_count": 1,
   "metadata": {},
   "outputs": [
    {
     "ename": "NameError",
     "evalue": "name 'python' is not defined",
     "output_type": "error",
     "traceback": [
      "\u001b[1;31m---------------------------------------------------------------------------\u001b[0m",
      "\u001b[1;31mNameError\u001b[0m                                 Traceback (most recent call last)",
      "\u001b[1;32m<ipython-input-1-32886514c262>\u001b[0m in \u001b[0;36m<module>\u001b[1;34m\u001b[0m\n\u001b[1;32m----> 1\u001b[1;33m \u001b[0mpython\u001b[0m\u001b[1;33m\u001b[0m\u001b[1;33m\u001b[0m\u001b[0m\n\u001b[0m",
      "\u001b[1;31mNameError\u001b[0m: name 'python' is not defined"
     ]
    }
   ],
   "source": [
    "python"
   ]
  },
  {
   "cell_type": "code",
   "execution_count": 2,
   "metadata": {},
   "outputs": [
    {
     "data": {
      "text/plain": [
       "5"
      ]
     },
     "execution_count": 2,
     "metadata": {},
     "output_type": "execute_result"
    }
   ],
   "source": [
    "2+3"
   ]
  },
  {
   "cell_type": "code",
   "execution_count": 1,
   "metadata": {},
   "outputs": [
    {
     "name": "stdout",
     "output_type": "stream",
     "text": [
      "68347.75\n"
     ]
    }
   ],
   "source": [
    "def calculate_bill(gems_list, price_list,reqd_gems, reqd_quantity):\n",
    "    price_dict = {gems_list[i]:price_list[i] for i in range(len(gems_list))}\n",
    "    reqd_dict = {reqd_gems[i]:reqd_quantity[i] for i in range(len(reqd_gems))}\n",
    "\n",
    "    try:\n",
    "        bill = sum(price_dict[gem] * reqd_dict[gem] for gem in reqd_dict)\n",
    "    except :\n",
    "        return  -1\n",
    "    if bill > 30000:\n",
    "        bill = 0.95*bill\n",
    "    return  bill\n",
    "\n",
    "gems_list = [\"Emerald\",\"Ivory\",\"Jasper\",\"Ruby\",\"Garnet\"]\n",
    "price_list=[1760,2119,1599,3920,3999]\n",
    "reqd_gems=[\"Ivory\",\"Emerald\",\"Garnet\"]\n",
    "reqd_quantity=[3,10,12]\n",
    "\n",
    "bill = calculate_bill(gems_list,price_list,reqd_gems,reqd_quantity)\n",
    "print(bill)"
   ]
  },
  {
   "cell_type": "code",
   "execution_count": 9,
   "metadata": {},
   "outputs": [
    {
     "name": "stdin",
     "output_type": "stream",
     "text": [
      "Enter the number of Heads: 5\n",
      "Enter the number of Legs: 10\n"
     ]
    },
    {
     "name": "stdout",
     "output_type": "stream",
     "text": [
      "5 0\n"
     ]
    }
   ],
   "source": [
    "def solve(heads, legs):\n",
    "    error_msg = \"No solution\"\n",
    "    chicken_count = 0\n",
    "    rabbit_count = 0\n",
    "    ans = False\n",
    "    for i in range(heads + 1):\n",
    "        j = heads - i\n",
    "        if (2 * i) + (4 * j) == legs:\n",
    "            chicken_count = i\n",
    "            rabbit_count = j\n",
    "            ans = True\n",
    "            break\n",
    "    if (ans == True):\n",
    "        print(chicken_count, rabbit_count)\n",
    "    else:\n",
    "        print(error_msg)\n",
    "\n",
    "head=int(input(\"Enter the number of Heads:\"))\n",
    "legs=int(input(\"Enter the number of Legs:\"))\n",
    "solve(head, legs)"
   ]
  },
  {
   "cell_type": "code",
   "execution_count": 22,
   "metadata": {},
   "outputs": [
    {
     "name": "stdout",
     "output_type": "stream",
     "text": [
      "2A\n"
     ]
    }
   ],
   "source": [
    "def encode(message):\n",
    "        list1=[]\n",
    "        for i in range (0,len(message)):\n",
    "            count = 1\n",
    "            while(i < len(message)-1 and message[i]==message[i+1]):\n",
    "                count+=1\n",
    "                i+=1\n",
    "                list1=str(count)+message[i]\n",
    "                return list1\n",
    "\n",
    "encoded_message=encode(\"AABCCA\")\n",
    "print(encoded_message)"
   ]
  },
  {
   "cell_type": "code",
   "execution_count": 23,
   "metadata": {},
   "outputs": [
    {
     "name": "stdout",
     "output_type": "stream",
     "text": [
      "Seperate list of strings and numbers are:\n",
      "['Mobile', 'Laptop', 'Camera', 'Speakers', 'Television', 'Laptop Case', 'Camera Lens']\n",
      "[100, 310.28, 27.0, 1000]\n",
      "\n",
      "String in Assending order:\n",
      "['Camera', 'Camera Lens', 'Laptop', 'Laptop Case', 'Mobile', 'Speakers', 'Television']\n",
      "\n",
      "String in Desending order:\n",
      "['Television', 'Speakers', 'Mobile', 'Laptop Case', 'Laptop', 'Camera Lens', 'Camera']\n",
      "\n",
      "Number list from lowest to highest:\n",
      "[27.0, 100, 310.28, 1000]\n",
      "\n",
      "Number list from highest to lowest:\n",
      "[1000, 310.28, 100, 27.0]\n"
     ]
    }
   ],
   "source": [
    "gadgets = [\"Mobile\", \"Laptop\", 100, \"Camera\", 310.28, \"Speakers\", 27.00, \"Television\", 1000, \"Laptop Case\",\n",
    "           \"Camera Lens\"]\n",
    "\n",
    "str_items = []\n",
    "num_items = []\n",
    "\n",
    "for item in gadgets:\n",
    "    if isinstance(item,str):\n",
    "        str_items.append(item)\n",
    "    elif isinstance(item,int) or isinstance(item,float):\n",
    "        num_items.append(item)\n",
    "print(\"Seperate list of strings and numbers are:\")\n",
    "print(str_items)\n",
    "print(num_items)\n",
    "print(\"\\nString in Assending order:\")\n",
    "str_items.sort(key=str.lower)\n",
    "print(str_items)\n",
    "print(\"\\nString in Desending order:\")\n",
    "str_items.sort(key=str.lower, reverse=True)\n",
    "print(str_items)\n",
    "print(\"\\nNumber list from lowest to highest:\")\n",
    "num_items.sort()\n",
    "print(num_items)\n",
    "print(\"\\nNumber list from highest to lowest:\")\n",
    "num_items.sort(reverse=True)\n",
    "print(num_items)"
   ]
  },
  {
   "cell_type": "code",
   "execution_count": null,
   "metadata": {},
   "outputs": [],
   "source": [
    "s = input()\n",
    "f = [None]*len(s)\n",
    "for i in range(len(s)):\n",
    "    f[i] = 1\n",
    "    for j in range(i+1, len(s)):\n",
    "        if s[i]==s[j]:\n",
    "            f[i]+=1\n",
    "        s = s[:j] + '0' + s[j+1:]"
   ]
  },
  {
   "cell_type": "code",
   "execution_count": 30,
   "metadata": {},
   "outputs": [
    {
     "name": "stdin",
     "output_type": "stream",
     "text": [
      " APPLE\n"
     ]
    },
    {
     "name": "stdout",
     "output_type": "stream",
     "text": [
      "1\n",
      "1\n",
      "1\n",
      "2\n"
     ]
    }
   ],
   "source": [
    "s = input()\n",
    "a = ['A', 'B', 'C', 'D', 'E', 'F', 'G', 'H', 'I', 'J', 'K', 'L', 'M', 'N', 'O', 'P', 'Q', 'R', 'S', 'T', 'U', 'V', 'W', 'X', 'Y', 'Z']\n",
    "f = []\n",
    "for i in range(26):\n",
    "    if a[i] not in s:\n",
    "        f.append(s.count)"
   ]
  },
  {
   "cell_type": "code",
   "execution_count": 32,
   "metadata": {},
   "outputs": [
    {
     "name": "stdout",
     "output_type": "stream",
     "text": [
      "3A4B5C\n",
      "2A1B2C1A\n"
     ]
    }
   ],
   "source": [
    "def encode(message):\n",
    "    pairs = []\n",
    "    for char in message:\n",
    "        if len(pairs) > 0:\n",
    "            if pairs[-1][0] == char:\n",
    "                pairs[-1] = (char, pairs[-1][1] + 1)\n",
    "            else:\n",
    "                pairs.append((char, 1))\n",
    "        else:\n",
    "            pairs.append((char, 1))\n",
    "    strings = []\n",
    "    for letter, count in pairs:\n",
    "        strings.append(f\"{count}{letter.upper()}\")\n",
    "    return \"\".join(strings)\n",
    "\n",
    "\n",
    "print(encode(\"AAABBBBCCCCC\"))\n",
    "print(encode(\"AABCCA\"))"
   ]
  },
  {
   "cell_type": "code",
   "execution_count": 36,
   "metadata": {},
   "outputs": [
    {
     "name": "stdout",
     "output_type": "stream",
     "text": [
      "{'a': 2, 'b': 2, 'c': 2}\n",
      "{'m': 1, 'a': 1, 't': 1, 'h': 1, ' ': 3, 'i': 1, 's': 1, 'f': 1, 'u': 1, 'n': 1, '!': 1, '2': 2, '+': 1, '=': 1, '4': 1}\n",
      "{'t': 2, 'h': 1, 'i': 2, 's': 3, ' ': 3, 'a': 1, 'e': 3, 'n': 2, 'c': 1, '.': 1}\n"
     ]
    }
   ],
   "source": [
    "def count_letters(text):\n",
    "    result = {}\n",
    "    # Go through each letter in the text\n",
    "    for letter in text:\n",
    "    # Check if the letter needs to be counted or not\n",
    "        if letter not in result:\n",
    "            result[letter.lower()] = 1\n",
    "    # Add or increment the value in the dictionary\n",
    "        else:\n",
    "            result[letter.lower()] += 1\n",
    "    return result\n",
    "\n",
    "print(count_letters(\"AaBbCc\"))\n",
    "    # Should be {'a': 2, 'b': 2, 'c': 2}\n",
    "\n",
    "print(count_letters(\"Math is fun! 2+2=4\"))\n",
    "    # Should be {'m': 1, 'a': 1, 't': 1, 'h': 1, 'i': 1, 's': 1, 'f': 1, 'u': 1, 'n': 1}\n",
    "\n",
    "print(count_letters(\"This is a sentence.\"))\n",
    "    # Should be {'t': 2, 'h': 1, 'i': 2, 's': 3, 'a': 1, 'e': 3, 'n': 2, 'c': 1}\n"
   ]
  },
  {
   "cell_type": "code",
   "execution_count": 38,
   "metadata": {},
   "outputs": [
    {
     "name": "stdout",
     "output_type": "stream",
     "text": [
      "Count of all characters in Ambarish is :\n",
      " {'A': 1, 'm': 1, 'b': 1, 'a': 1, 'r': 1, 'i': 1, 's': 1, 'h': 1}\n"
     ]
    }
   ],
   "source": [
    "test_str = \"Ambarish\"\n",
    "  \n",
    "all_freq = {}\n",
    "  \n",
    "for i in test_str:\n",
    "    if i in all_freq:\n",
    "        all_freq[i] += 1\n",
    "    else:\n",
    "        all_freq[i] = 1\n",
    "  \n",
    "print (\"Count of all characters in Ambarish is :\\n \"\n",
    "                                        +  str(all_freq))"
   ]
  },
  {
   "cell_type": "markdown",
   "metadata": {},
   "source": [
    "## Calculate Bill"
   ]
  },
  {
   "cell_type": "code",
   "execution_count": 48,
   "metadata": {},
   "outputs": [
    {
     "name": "stdout",
     "output_type": "stream",
     "text": [
      "68347.75\n"
     ]
    }
   ],
   "source": [
    "# All these values are given\n",
    "gems_list = ['Emerald', 'Ivory', 'Jasper', 'Ruby', 'Garnet']\n",
    "price_list = [1760, 2119, 1599, 3920, 3999]\n",
    "reqd_gems = ['Ivory', 'Emerald', 'Garnet']\n",
    "reqd_quantity = [3, 10, 12]\n",
    "\n",
    "menu = {}\n",
    "# Assigning the price of gems to the corresponding gems\n",
    "for i in range(len(gems_list)):\n",
    "    c = gems_list[i]\n",
    "    menu[c] = price_list[i]\n",
    "\n",
    "price = 0.0  # to store total price\n",
    "for i in range(len(reqd_gems)):\n",
    "    c = reqd_gems[i]\n",
    "    if c in menu.keys():  #checking whether that gem is in menu or not\n",
    "        price = price + menu[c]*reqd_quantity[i]\n",
    "\n",
    "# If price more than 30000 then 5% discount or 95% of the price\n",
    "if price > 30000:\n",
    "    price = float(0.95*price)\n",
    "print(price)"
   ]
  },
  {
   "cell_type": "markdown",
   "metadata": {},
   "source": [
    "## Puzzle"
   ]
  },
  {
   "cell_type": "code",
   "execution_count": 59,
   "metadata": {},
   "outputs": [
    {
     "name": "stdin",
     "output_type": "stream",
     "text": [
      "Enter number of heads:  150\n",
      "Enter number of feet:  400\n"
     ]
    },
    {
     "name": "stdout",
     "output_type": "stream",
     "text": [
      "Chickens:  100\n",
      "Rabbits:  50\n"
     ]
    }
   ],
   "source": [
    "heads = int(input(\"Enter number of heads: \"))\n",
    "feet = int(input(\"Enter number of feet: \"))\n",
    "rabbit = 0\n",
    "chicken = 0\n",
    "f = 0\n",
    "for i in range(heads+1):\n",
    "    j = heads - i\n",
    "    if 2*i + 4*j == feet:\n",
    "        chicken = i\n",
    "        rabbit = j\n",
    "        f = 1\n",
    "        break\n",
    "\n",
    "if f==1:\n",
    "    print('Chickens: ',chicken)\n",
    "    print('Rabbits: ',rabbit)\n",
    "else:\n",
    "    print('No solution')"
   ]
  },
  {
   "cell_type": "markdown",
   "metadata": {},
   "source": [
    "## Length Encoding"
   ]
  },
  {
   "cell_type": "code",
   "execution_count": 107,
   "metadata": {},
   "outputs": [
    {
     "name": "stdin",
     "output_type": "stream",
     "text": [
      " aaabbbbccccc\n"
     ]
    },
    {
     "name": "stdout",
     "output_type": "stream",
     "text": [
      "3a4b5c\n"
     ]
    }
   ],
   "source": [
    "string = input()\n",
    "freq = 1\n",
    "en_string = []\n",
    "for i in range(len(string)-1):\n",
    "    if string[i]==string[i+1]:\n",
    "        freq+=1\n",
    "    else:\n",
    "        en_string.append(str(freq))  #inserting frequency of the letter to the list\n",
    "        en_string.append(string[i])  #inserting the letter to the list\n",
    "        freq = 1  #resetting the frequency to 1\n",
    "        \n",
    "#inserting last frequency and letter in the string to the list\n",
    "en_string.append(str(freq))\n",
    "en_string.append(string[-1])\n",
    "print(''.join(en_string))  #joining the list to string"
   ]
  },
  {
   "cell_type": "markdown",
   "metadata": {},
   "source": [
    "## Letter Frequency"
   ]
  },
  {
   "cell_type": "code",
   "execution_count": 88,
   "metadata": {},
   "outputs": [
    {
     "name": "stdin",
     "output_type": "stream",
     "text": [
      "Enter string:  this is python\n"
     ]
    },
    {
     "name": "stdout",
     "output_type": "stream",
     "text": [
      "{'t': 2, 'h': 2, 'i': 2, 's': 2, 'p': 1, 'y': 1, 'o': 1, 'n': 1}\n"
     ]
    }
   ],
   "source": [
    "s = input(\"Enter string: \")\n",
    "d = {}\n",
    "# removing all spaces\n",
    "s = s.replace(' ', '')\n",
    "for i in s:\n",
    "    if i not in d:\n",
    "        d[i] = 1\n",
    "    else:\n",
    "        d[i]+=1\n",
    "print(d)"
   ]
  },
  {
   "cell_type": "markdown",
   "metadata": {},
   "source": [
    "## Gadgets"
   ]
  },
  {
   "cell_type": "code",
   "execution_count": 92,
   "metadata": {},
   "outputs": [
    {
     "name": "stdout",
     "output_type": "stream",
     "text": [
      "String List:  ['Mobile', 'Laptop', 'Camera', 'Speakers', 'Television', 'Laptop Case', 'Camera Lens']\n",
      "\n",
      "Number List:  [100, 310.28, 27.0, 1000]\n",
      "\n",
      "Ascending String List:  ['Camera', 'Camera Lens', 'Laptop', 'Laptop Case', 'Mobile', 'Speakers', 'Television']\n",
      "\n",
      "Descending String List:  ['Television', 'Speakers', 'Mobile', 'Laptop Case', 'Laptop', 'Camera Lens', 'Camera']\n",
      "\n",
      "Ascending Number List:  [27.0, 100, 310.28, 1000]\n",
      "\n",
      "Descending Number List:  [1000, 310.28, 100, 27.0]\n"
     ]
    }
   ],
   "source": [
    "gadgets = ['Mobile', 'Laptop', 100, 'Camera', 310.28, 'Speakers', 27.00, 'Television', 1000, 'Laptop Case', 'Camera Lens']\n",
    "str_li = []\n",
    "num_li = []\n",
    "for i in gadgets:\n",
    "    if isinstance(i, str):  #checking whether the element is a string or not\n",
    "        str_li.append(i)\n",
    "    else:\n",
    "        num_li.append(i)\n",
    "print(\"String List: \",str_li)\n",
    "print(\"\\nNumber List: \",num_li)\n",
    "print(\"\\nAscending String List: \",sorted(str_li))\n",
    "print(\"\\nDescending String List: \",sorted(str_li, reverse=True))\n",
    "print(\"\\nAscending Number List: \",sorted(num_li))\n",
    "print(\"\\nDescending Number List: \",sorted(num_li, reverse=True))"
   ]
  },
  {
   "cell_type": "code",
   "execution_count": 1,
   "metadata": {},
   "outputs": [
    {
     "name": "stdin",
     "output_type": "stream",
     "text": [
      "Enter a number:  6\n"
     ]
    },
    {
     "name": "stdout",
     "output_type": "stream",
     "text": [
      "6 x 0 = 0\n",
      "6 x 1 = 6\n",
      "6 x 2 = 12\n",
      "6 x 3 = 18\n",
      "6 x 4 = 24\n",
      "6 x 5 = 30\n",
      "6 x 6 = 36\n",
      "6 x 7 = 42\n",
      "6 x 8 = 48\n",
      "6 x 9 = 54\n",
      "6 x 10 = 60\n",
      "6 x 11 = 66\n",
      "6 x 12 = 72\n"
     ]
    }
   ],
   "source": [
    "#Multiplication Table using loop\n",
    "def mult(a):\n",
    "    for i in range(13):\n",
    "        print(a, \"x\", i, \"=\", (a*i))\n",
    "        \n",
    "a = int(input(\"Enter a number: \"))\n",
    "mult(a)"
   ]
  },
  {
   "cell_type": "code",
   "execution_count": 3,
   "metadata": {},
   "outputs": [
    {
     "name": "stdin",
     "output_type": "stream",
     "text": [
      "Enter a number:  6\n"
     ]
    },
    {
     "name": "stdout",
     "output_type": "stream",
     "text": [
      "6 x 0 = 0\n",
      "6 x 1 = 6\n",
      "6 x 2 = 12\n",
      "6 x 3 = 18\n",
      "6 x 4 = 24\n",
      "6 x 5 = 30\n",
      "6 x 6 = 36\n",
      "6 x 7 = 42\n",
      "6 x 8 = 48\n",
      "6 x 9 = 54\n",
      "6 x 10 = 60\n",
      "6 x 11 = 66\n",
      "6 x 12 = 72\n"
     ]
    }
   ],
   "source": [
    "#Multiplication table using recursion\n",
    "def mult(a, i):\n",
    "    if i>12:\n",
    "        return\n",
    "    else:\n",
    "        print(a, \"x\", i, \"=\", (a*i))\n",
    "        return mult(a, i+1)\n",
    "    \n",
    "a = int(input(\"Enter a number: \"))\n",
    "mult(a, 0)"
   ]
  },
  {
   "cell_type": "code",
   "execution_count": 1,
   "metadata": {},
   "outputs": [
    {
     "name": "stdout",
     "output_type": "stream",
     "text": [
      "Hello WorldspaceThis is python\n"
     ]
    }
   ],
   "source": [
    "print('Hello World', end='space')\n",
    "print('This is python')"
   ]
  },
  {
   "cell_type": "code",
   "execution_count": null,
   "metadata": {},
   "outputs": [],
   "source": [
    "l = int(inpu())\n",
    "arr = [int(x) for x in input().split()]\n",
    "flag = 0\n",
    "i = 0\n",
    "while True:\n",
    "    if i + a[i] < l:\n",
    "        i = i + a[i]\n",
    "    if i + a[i] >= l:\n",
    "        temp = a[i]-i\n",
    "        i = 0\n",
    "        i = i + temp - 1\n",
    "    if i + a[i] < 0:\n",
    "        t"
   ]
  },
  {
   "cell_type": "code",
   "execution_count": 3,
   "metadata": {},
   "outputs": [
    {
     "name": "stdin",
     "output_type": "stream",
     "text": [
      " 5\n",
      " 2 -1 1 2 2\n"
     ]
    },
    {
     "name": "stdout",
     "output_type": "stream",
     "text": [
      "1\n"
     ]
    }
   ],
   "source": [
    "def isCycleRec(v, adj, visited, recur):\n",
    "    visited[v] = True\n",
    "    recur[v] = True\n",
    "    for i in range(len(adj[v])):\n",
    "        if (visited[adj[v][i]] == False):\n",
    "            if (isCycleRec(adj[v][i], adj,\n",
    "                               visited, recur)):\n",
    "                return True\n",
    "        elif (visited[adj[v][i]] == True and\n",
    "                recur[adj[v][i]] == True):\n",
    "            return True\n",
    " \n",
    "    recur[v] = False\n",
    "    return False\n",
    " \n",
    "def isCycle(arr, n):\n",
    "     \n",
    "    adj = [[] for i in range(n)]\n",
    "    for i in range(n):\n",
    "        if (i != (i + arr[i] + n) % n):\n",
    "            adj[i].append((i + arr[i] + n) % n)\n",
    "\n",
    "    visited = [False] * n\n",
    "    recur = [False] * n\n",
    "    for i in range(n):\n",
    "        if (visited[i] == False):\n",
    "            if (isCycleRec(i, adj,\n",
    "                           visited, recur)):\n",
    "                return True\n",
    "    return True\n",
    " \n",
    "# Driver code\n",
    "if __name__ == '__main__':\n",
    " \n",
    "    l = int(input())\n",
    "    arr = [int(x) for x in input().split()]\n",
    "    if (isCycle(arr, l)):\n",
    "        print(1)\n",
    "    else:\n",
    "        print(0)"
   ]
  },
  {
   "cell_type": "code",
   "execution_count": 5,
   "metadata": {},
   "outputs": [
    {
     "name": "stdin",
     "output_type": "stream",
     "text": [
      " 1\n",
      " 10111 10000\n"
     ]
    },
    {
     "name": "stdout",
     "output_type": "stream",
     "text": [
      "00111\n"
     ]
    }
   ],
   "source": [
    "t = int(input())\n",
    "i = 0\n",
    "while i < t:\n",
    "\tx = \"\"\n",
    "\ti = i + 1\n",
    "\ta = input()\n",
    "\ts = a.split()\n",
    "\tstr1 = s[0]\n",
    "\tstr2 = s[1]\n",
    "\tk = 0\n",
    "\tfor j in range(len(str1)):\n",
    "\t\tif str1[j] == str2[k]:\n",
    "\t\t\tx = x + \"0\"\n",
    "\t\t\tk = k+1\n",
    "\t\telse:\n",
    "\t\t\tx = x + \"1\"\n",
    "\t\t\tk = k+1\n",
    "\tprint(x)"
   ]
  },
  {
   "cell_type": "markdown",
   "metadata": {},
   "source": [
    "### Chef is planning a heist in the reserve bank of Chefland. They are planning to hijack the bank for D days and print the money. The initial rate of printing the currency is P dollars per day and they increase the production by Q dollars after every interval of d days. For example, after d days the rate is P+Q dollars per day, and after 2d days the rate is P+2Q dollars per day, and so on. Output the amount of money they will be able to print in the given period.\n",
    "\n",
    "**Input**\n",
    "\n",
    "The first line contains an integer T, the number of test cases. Then the test cases follow.\n",
    "\n",
    "Each test case contains a single line of input, four integers D,d,P,Q.\n",
    "\n",
    "Output\n",
    "\n",
    "\n",
    "For each test case, output in a single line the answer to the problem.\n",
    "\n",
    "\n",
    "**Constraints**\n",
    "\n",
    "\n",
    "1≤T≤105\n",
    "\n",
    "1≤d≤D≤106\n",
    "\n",
    "1≤P,Q≤106\n",
    "\n",
    "**Subtasks**\n",
    "\n",
    "\n",
    "Subtask 1 (15 points): d≤D≤100\n",
    "\n",
    "Subtask 2 (85 points): original constraints\n",
    "\n",
    "\n",
    "**Sample Input**\n",
    "\n",
    "\n",
    "3\n",
    "\n",
    "2 1 1 1\n",
    "\n",
    "3 2 1 1\n",
    "\n",
    "5 2 1 2\n",
    "\n",
    "\n",
    "**Sample Output**\n",
    "\n",
    "\n",
    "3\n",
    "\n",
    "4\n",
    "\n",
    "13"
   ]
  },
  {
   "cell_type": "code",
   "execution_count": 15,
   "metadata": {},
   "outputs": [
    {
     "name": "stdin",
     "output_type": "stream",
     "text": [
      " 3\n",
      " 2 1 1 1\n",
      " 3 2 1 1\n",
      " 5 2 1 2\n"
     ]
    },
    {
     "name": "stdout",
     "output_type": "stream",
     "text": [
      "3\n",
      "4\n",
      "13\n"
     ]
    }
   ],
   "source": [
    "t = int(input())\n",
    "count = 0\n",
    "res = []\n",
    "while count < t:\n",
    "    count += 1\n",
    "    li = list(map(int, input().split()))\n",
    "    D = li[0]\n",
    "    d = li[1]\n",
    "    P = li[2]\n",
    "    Q = li[3]\n",
    "    A = P\n",
    "    for i in range(1, D):\n",
    "        if i%d == 0:\n",
    "            P = P + Q\n",
    "        A = A + P\n",
    "    res.append(A)\n",
    "for i in res:\n",
    "    print(i)"
   ]
  },
  {
   "cell_type": "code",
   "execution_count": 16,
   "metadata": {},
   "outputs": [
    {
     "name": "stdin",
     "output_type": "stream",
     "text": [
      " 3\n",
      " 2 1 1 1\n"
     ]
    },
    {
     "name": "stdout",
     "output_type": "stream",
     "text": [
      "3\n"
     ]
    },
    {
     "name": "stdin",
     "output_type": "stream",
     "text": [
      " 3 2 1 1\n"
     ]
    },
    {
     "name": "stdout",
     "output_type": "stream",
     "text": [
      "4\n"
     ]
    },
    {
     "name": "stdin",
     "output_type": "stream",
     "text": [
      " 5 2 1 2\n"
     ]
    },
    {
     "name": "stdout",
     "output_type": "stream",
     "text": [
      "13\n"
     ]
    }
   ],
   "source": [
    "t = int(input())\n",
    "count = 0\n",
    "while count < t:\n",
    "    count += 1\n",
    "    li = list(map(int, input().split()))\n",
    "    D = li[0]\n",
    "    d = li[1]\n",
    "    P = li[2]\n",
    "    Q = li[3]\n",
    "    A = P\n",
    "    for i in range(1, D):\n",
    "        if i%d == 0:\n",
    "            P = P + Q\n",
    "        A = A + P\n",
    "    print(A)"
   ]
  }
 ],
 "metadata": {
  "kernelspec": {
   "display_name": "Python 3",
   "language": "python",
   "name": "python3"
  },
  "language_info": {
   "codemirror_mode": {
    "name": "ipython",
    "version": 3
   },
   "file_extension": ".py",
   "mimetype": "text/x-python",
   "name": "python",
   "nbconvert_exporter": "python",
   "pygments_lexer": "ipython3",
   "version": "3.8.6"
  }
 },
 "nbformat": 4,
 "nbformat_minor": 4
}
