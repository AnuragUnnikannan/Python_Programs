{
 "cells": [
  {
   "cell_type": "code",
   "execution_count": 13,
   "metadata": {},
   "outputs": [
    {
     "name": "stdout",
     "output_type": "stream",
     "text": [
      "Apple 25\n",
      "Mango 20\n",
      "Orange 15\n",
      "\n",
      "Enter product name:Mango\n",
      "Price: 20\n"
     ]
    }
   ],
   "source": [
    "s = \"empty\"\n",
    "p = {}\n",
    "while(True):\n",
    "    li = []\n",
    "    s = input()\n",
    "    if(s==''):\n",
    "        break\n",
    "    li = s.split()\n",
    "    p[li[0]] = li[1]\n",
    "t = input(\"Enter product name:\")\n",
    "if t in p:\n",
    "    print(\"Price:\",p[t])\n",
    "else:\n",
    "    print(\"Product not available\")"
   ]
  },
  {
   "cell_type": "code",
   "execution_count": 14,
   "metadata": {},
   "outputs": [
    {
     "name": "stdout",
     "output_type": "stream",
     "text": [
      "Enter width:19\n",
      "Enter height:4\n",
      "\n",
      "*******************\n",
      "*                 *\n",
      "*                 *\n",
      "*******************\n"
     ]
    }
   ],
   "source": [
    "w = int(input(\"Enter width:\"))\n",
    "h = int(input(\"Enter height:\"))\n",
    "print()\n",
    "for i in range(1, h+1):\n",
    "    for j in range(1, w+1):\n",
    "        if i==1 or i==h or j==1 or j==w:\n",
    "            print(\"*\", end='')\n",
    "        else:\n",
    "            print(\" \",end='')\n",
    "    print()"
   ]
  }
 ],
 "metadata": {
  "kernelspec": {
   "display_name": "Python 3",
   "language": "python",
   "name": "python3"
  },
  "language_info": {
   "codemirror_mode": {
    "name": "ipython",
    "version": 3
   },
   "file_extension": ".py",
   "mimetype": "text/x-python",
   "name": "python",
   "nbconvert_exporter": "python",
   "pygments_lexer": "ipython3",
   "version": "3.7.6"
  }
 },
 "nbformat": 4,
 "nbformat_minor": 4
}
