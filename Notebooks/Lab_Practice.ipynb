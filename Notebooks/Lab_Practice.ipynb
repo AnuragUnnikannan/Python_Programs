{
 "cells": [
  {
   "cell_type": "markdown",
   "metadata": {},
   "source": [
    "### Create a list of tuples"
   ]
  },
  {
   "cell_type": "code",
   "execution_count": 1,
   "metadata": {},
   "outputs": [
    {
     "name": "stdout",
     "output_type": "stream",
     "text": [
      "1 2 3 4\n",
      "[(1, 1), (2, 8), (3, 27), (4, 64)]\n"
     ]
    }
   ],
   "source": [
    "li = [int(x) for x in input().split()]\n",
    "res = [(i, pow(i, 3)) for i in li]\n",
    "print(res)"
   ]
  },
  {
   "cell_type": "markdown",
   "metadata": {},
   "source": [
    "### Print 5th to 8th element of string"
   ]
  },
  {
   "cell_type": "code",
   "execution_count": 2,
   "metadata": {},
   "outputs": [
    {
     "name": "stdout",
     "output_type": "stream",
     "text": [
      "Enter a string: strawberry\n",
      "berr\n"
     ]
    }
   ],
   "source": [
    "s = input(\"Enter a string: \")\n",
    "print(s[5:9])"
   ]
  },
  {
   "cell_type": "markdown",
   "metadata": {},
   "source": [
    "### Convert string to tuple"
   ]
  },
  {
   "cell_type": "code",
   "execution_count": 3,
   "metadata": {},
   "outputs": [
    {
     "name": "stdout",
     "output_type": "stream",
     "text": [
      "apple\n",
      "('a', 'p', 'p', 'l', 'e')\n"
     ]
    }
   ],
   "source": [
    "s = input()\n",
    "t = tuple(s)\n",
    "print(t)"
   ]
  },
  {
   "cell_type": "markdown",
   "metadata": {},
   "source": [
    "### Concatenate 4 tuples"
   ]
  },
  {
   "cell_type": "code",
   "execution_count": 6,
   "metadata": {},
   "outputs": [
    {
     "name": "stdout",
     "output_type": "stream",
     "text": [
      "(1, 2, 3, 4, 5, 6, 7, 8, 9, 10, 11, 12)\n"
     ]
    }
   ],
   "source": [
    "t1 = (1, 2, 3)\n",
    "t2 = (4, 5, 6)\n",
    "t3 = (7, 8, 9)\n",
    "t4 = (10, 11, 12)\n",
    "s1 = sum((t1, t2), ())\n",
    "s2 = sum((t3, t4), ())\n",
    "s3 = sum((s1, s2), ())\n",
    "print(s3)"
   ]
  },
  {
   "cell_type": "markdown",
   "metadata": {},
   "source": [
    "### Simple Average"
   ]
  },
  {
   "cell_type": "code",
   "execution_count": 3,
   "metadata": {},
   "outputs": [
    {
     "name": "stdout",
     "output_type": "stream",
     "text": [
      "2\n",
      "4\n",
      "-2\n",
      "5\n",
      "-1\n",
      "4\n",
      "stop\n",
      "2.0\n"
     ]
    }
   ],
   "source": [
    "s = 0\n",
    "n = 0\n",
    "while True:\n",
    "    str = input()\n",
    "    if str=='stop':\n",
    "        break\n",
    "    s = s + int(str)\n",
    "    n = n+1\n",
    "if n==0:\n",
    "    print(\"O\")\n",
    "else:\n",
    "    print(s/n)"
   ]
  },
  {
   "cell_type": "markdown",
   "metadata": {},
   "source": [
    "### Rank of Word"
   ]
  },
  {
   "cell_type": "code",
   "execution_count": 9,
   "metadata": {},
   "outputs": [
    {
     "name": "stdout",
     "output_type": "stream",
     "text": [
      "this is testing\n",
      "testing\n"
     ]
    }
   ],
   "source": [
    "str = input()\n",
    "li = str.split()\n",
    "r = \"\"\n",
    "length = 0\n",
    "for i in li:\n",
    "    if len(i) > length:\n",
    "        length = len(i)\n",
    "        r = i\n",
    "print(r)"
   ]
  },
  {
   "cell_type": "markdown",
   "metadata": {},
   "source": [
    "### Letter Histogram"
   ]
  },
  {
   "cell_type": "code",
   "execution_count": 17,
   "metadata": {},
   "outputs": [
    {
     "name": "stdout",
     "output_type": "stream",
     "text": [
      "Enter a sentence: this is a test\n",
      "a | *\n",
      "e | *\n",
      "h | *\n",
      "i | **\n",
      "s | ***\n",
      "t | ***\n"
     ]
    }
   ],
   "source": [
    "str = input(\"Enter a sentence: \")\n",
    "li = []\n",
    "for i in str:\n",
    "    if i not in li and i!=' ':\n",
    "        li.append(i)\n",
    "li.sort()\n",
    "le = []\n",
    "x = 0\n",
    "c = 0\n",
    "for i in li:\n",
    "    for j in str:\n",
    "        if j==i:\n",
    "            x = x+1\n",
    "    le.append(x)\n",
    "    x = 0\n",
    "for i in li:\n",
    "    print(\"{0} | {1}\".format(i, '*'*le[c]))\n",
    "    c = c+1"
   ]
  },
  {
   "cell_type": "markdown",
   "metadata": {},
   "source": [
    "### Total Sales of Sourav"
   ]
  },
  {
   "cell_type": "code",
   "execution_count": 1,
   "metadata": {},
   "outputs": [
    {
     "name": "stdout",
     "output_type": "stream",
     "text": [
      "3\n",
      "Tea\n",
      "Tea 10\n",
      "Biscuit 7\n",
      "Tea 5\n",
      "15.0\n"
     ]
    }
   ],
   "source": [
    "n = int(input())\n",
    "p = input()\n",
    "li = []\n",
    "total = 0.0\n",
    "for i in range(0, n):\n",
    "    s = input()\n",
    "    li = s.split()\n",
    "    if li[0]==p:\n",
    "        total = total + int(li[1])\n",
    "print(total)"
   ]
  },
  {
   "cell_type": "code",
   "execution_count": 1,
   "metadata": {},
   "outputs": [
    {
     "name": "stdout",
     "output_type": "stream",
     "text": [
      "Enter elements for array: \n",
      "10 41 52 41 74 85 41\n",
      "Enter a number: 41\n",
      "Number of occurences of 41 is 3\n"
     ]
    }
   ],
   "source": [
    "print(\"Enter elements for array: \")\n",
    "li = [int(x) for x in input().split()]\n",
    "k = int(input(\"Enter a number: \"))\n",
    "c = 0\n",
    "for i in li:\n",
    "    if k==i:\n",
    "        c = c+1\n",
    "print(\"Number of occurences of\",k,\"is\",c)"
   ]
  },
  {
   "cell_type": "code",
   "execution_count": 3,
   "metadata": {},
   "outputs": [
    {
     "name": "stdout",
     "output_type": "stream",
     "text": [
      "Enter elements for array: \n",
      "10 41 52 41 74 85 41\n",
      "Enter a number to be deleted: 41\n",
      "10\n",
      "52\n",
      "41\n",
      "74\n",
      "85\n",
      "41\n"
     ]
    }
   ],
   "source": [
    "print(\"Enter elements for array: \")\n",
    "li = [int(x) for x in input().split()]\n",
    "k = int(input(\"Enter a number to be deleted: \"))\n",
    "for i in range(len(li)):\n",
    "    if k==li[i]:\n",
    "        li[i] = -1\n",
    "        break\n",
    "for i in li:\n",
    "    if i!=-1:\n",
    "        print(i)"
   ]
  }
 ],
 "metadata": {
  "kernelspec": {
   "display_name": "Python 3",
   "language": "python",
   "name": "python3"
  },
  "language_info": {
   "codemirror_mode": {
    "name": "ipython",
    "version": 3
   },
   "file_extension": ".py",
   "mimetype": "text/x-python",
   "name": "python",
   "nbconvert_exporter": "python",
   "pygments_lexer": "ipython3",
   "version": "3.7.6"
  }
 },
 "nbformat": 4,
 "nbformat_minor": 4
}
