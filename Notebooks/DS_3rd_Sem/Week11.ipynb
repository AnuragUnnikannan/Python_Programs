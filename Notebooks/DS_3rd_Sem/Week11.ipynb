{
 "cells": [
  {
   "cell_type": "markdown",
   "metadata": {},
   "source": [
    "# Question 1"
   ]
  },
  {
   "cell_type": "code",
   "execution_count": 4,
   "metadata": {},
   "outputs": [
    {
     "name": "stdout",
     "output_type": "stream",
     "text": [
      "10 + 2 * 6\n",
      "22\n"
     ]
    }
   ],
   "source": [
    "def precedence(op):\n",
    "    if op=='+' or op=='-':\n",
    "        return 1\n",
    "    if op=='*' or op=='/':\n",
    "        return 2\n",
    "    return 0\n",
    "\n",
    "def applyOp(a, b, op):\n",
    "    if op=='+':\n",
    "        return a+b\n",
    "    if op=='-':\n",
    "        return a-b\n",
    "    if op=='*':\n",
    "        return a*b\n",
    "    if op=='/':\n",
    "        return a//b\n",
    "\n",
    "def evaluate(tokens):\n",
    "    values = []\n",
    "    ops = []\n",
    "    i = 0\n",
    "    while i<len(tokens):\n",
    "        if tokens[i]==' ':\n",
    "            i = i+1\n",
    "            continue\n",
    "        elif tokens[i].isdigit():\n",
    "            val = 0\n",
    "            while i<len(tokens) and tokens[i].isdigit():\n",
    "                val = (val * 10) + int(tokens[i])\n",
    "                i = i + 1\n",
    "            values.append(val)\n",
    "            i = i - 1\n",
    "        elif tokens[i] == ')':\n",
    "            while len(ops)!=0 and ops[-1]!='(':\n",
    "                val2 = values.pop()\n",
    "                val1 = values.pop()\n",
    "                op = ops.pop()\n",
    "                values.append(applyOp(val1, val2, op))\n",
    "            ops.pop()\n",
    "        else:\n",
    "            while len(ops)!=0 and precedence(ops[-1])>=precedence(tokens[i]):\n",
    "                val2 = values.pop()\n",
    "                val1 = values.pop()\n",
    "                op = ops.pop()\n",
    "                values.append(applyOp(val1, val2, op))\n",
    "            ops.append(tokens[i])\n",
    "        i = i + 1\n",
    "    while len(ops)!=0:\n",
    "        val2 = values.pop()\n",
    "        val1 = values.pop()\n",
    "        op = ops.pop()\n",
    "        values.append(applyOp(val1, val2, op))\n",
    "    return values[-1]\n",
    "\n",
    "s = input()\n",
    "print(evaluate(s))"
   ]
  },
  {
   "cell_type": "markdown",
   "metadata": {},
   "source": [
    "# Project Euler 20: Factorial Digit Sum"
   ]
  },
  {
   "cell_type": "code",
   "execution_count": 8,
   "metadata": {},
   "outputs": [
    {
     "name": "stdout",
     "output_type": "stream",
     "text": [
      "2\n",
      "3\n",
      "6\n",
      "6\n",
      "9\n"
     ]
    }
   ],
   "source": [
    "def fact(a):\n",
    "    f = 1\n",
    "    for i in range(1, a+1):\n",
    "        f = f*i\n",
    "    return f\n",
    "\n",
    "n = int(input())\n",
    "for i in range(n):\n",
    "    x = int(input())\n",
    "    f = fact(x)\n",
    "    s = 0\n",
    "    while f>0:\n",
    "        d = f%10\n",
    "        s = s + d\n",
    "        f = f//10\n",
    "    print(s)"
   ]
  },
  {
   "cell_type": "markdown",
   "metadata": {},
   "source": [
    "# Crossword Puzzle"
   ]
  },
  {
   "cell_type": "code",
   "execution_count": 17,
   "metadata": {},
   "outputs": [
    {
     "name": "stdout",
     "output_type": "stream",
     "text": [
      "++++++++++\n",
      "+POLAND+++\n"
     ]
    }
   ],
   "source": [
    "a = ['++++++++++', '+------+++'] \n",
    "b = 'POLAND'\n",
    "for i in range(2):\n",
    "    x = a[i]\n",
    "    for j in range(10):\n",
    "        if x[j:len(b)+1]=='-'*len(b):\n",
    "            a[i] = x.replace(x[j:len(b)+1], b)\n",
    "            break\n",
    "for i in range(2):\n",
    "    for j in range(10):\n",
    "        print(a[i][j], end='')\n",
    "    print()"
   ]
  },
  {
   "cell_type": "code",
   "execution_count": 15,
   "metadata": {},
   "outputs": [
    {
     "name": "stdout",
     "output_type": "stream",
     "text": [
      "++++++++++\n",
      "+------+++\n",
      "+++-++++++\n",
      "+++-++++++\n",
      "+++-----++\n",
      "+++-++-+++\n",
      "++++++-+++\n",
      "++++++-+++\n",
      "++++++-+++\n",
      "++++++++++\n",
      "\n",
      "++++++++++\n",
      "+------+++\n",
      "+++-++++++\n",
      "+++-++++++\n",
      "+++-----++\n",
      "+++-++-+++\n",
      "++++++-+++\n",
      "++++++-+++\n",
      "++++++-+++\n",
      "++++++++++\n"
     ]
    }
   ],
   "source": [
    "st = []\n",
    "for i in range(10):\n",
    "    x = input()\n",
    "    st.append(x)\n",
    "crossword = []\n",
    "for i in st:\n",
    "    crossword.append(list(i))\n",
    "print()\n",
    "a = 'POLAND'\n",
    "for i in range(10):\n",
    "    x = crossword[i]\n",
    "    for j in range(10):\n",
    "        if x[j:len(a)+1]=='-'*len(a):\n",
    "            crossword[i] = x.replace(x[j:len(a)+1], a)\n",
    "            break\n",
    "for i in range(10):\n",
    "    for j in range(10):\n",
    "        print(crossword[i][j], end='')\n",
    "    print()"
   ]
  },
  {
   "cell_type": "code",
   "execution_count": null,
   "metadata": {},
   "outputs": [
    {
     "name": "stdout",
     "output_type": "stream",
     "text": [
      "a\n",
      "z.\n"
     ]
    }
   ],
   "source": [
    "st = []\n",
    "for i in range(10):\n",
    "    x = input()\n",
    "    st.append(x)\n",
    "crossword = []\n",
    "for i in st:\n",
    "    crossword.append(list(i))\n",
    "print()\n",
    "a = \"POLAND\"\n",
    "for i in range(10):\n",
    "    for j in range(10):\n",
    "        if crossword[i][j:len(a)]=='-'*5:\n",
    "            crossword[i][j:len(a)] = a\n",
    "for i in range(10):\n",
    "    for j in range(10):\n",
    "        print(crossword[i][j], end='')\n",
    "    print()"
   ]
  },
  {
   "cell_type": "code",
   "execution_count": 8,
   "metadata": {
    "scrolled": true
   },
   "outputs": [
    {
     "name": "stdout",
     "output_type": "stream",
     "text": [
      "POLAND;LHASA;SPAIN;INDIA\n",
      "POLAND\n",
      "LHASA\n",
      "SPAIN\n",
      "INDIA\n"
     ]
    }
   ],
   "source": [
    "words = [str(x) for x in input().split(';')]\n",
    "letters = []\n",
    "for i in words:\n",
    "    letters.append(list(i))\n",
    "for i in range(len(words)):\n",
    "    for j in range(len(words[i])):\n",
    "        print(letters[i][j], end='')\n",
    "    print()"
   ]
  },
  {
   "cell_type": "code",
   "execution_count": 3,
   "metadata": {},
   "outputs": [
    {
     "name": "stdout",
     "output_type": "stream",
     "text": [
      "a1b2c3d4e5\n",
      "f6g7h8i9j1\n",
      "k11l12m13n\n",
      "14o15p16q1\n",
      "7r18s19t20\n",
      "u21v22w23x\n",
      "24y25z26a1\n",
      "b2c3d4e5f6\n",
      "g7h8i9j10k\n",
      "11l12m13n1\n",
      "a1b2c3d4e5\n",
      "f6g7h8i9j1\n",
      "k11l12m13n\n",
      "14o15p16q1\n",
      "7r18s19t20\n",
      "u21v22w23x\n",
      "24y25z26a1\n",
      "b2c3d4e5f6\n",
      "g7h8i9j10k\n",
      "11l12m13n1\n"
     ]
    }
   ],
   "source": [
    "st = []\n",
    "for i in range(10):\n",
    "    x = input()\n",
    "    st.append(x)\n",
    "crossword = []\n",
    "for i in st:\n",
    "    crossword.append(list(i))\n",
    "words = [str(x) for x in input().split(';')]\n",
    "letters = []\n",
    "for i in words:\n",
    "    letters.append(list(words))\n",
    "c = 0\n",
    "j = 0\n",
    "for i in range(10):\n",
    "    if crossword[i][j:]\n",
    "for i in range(10):\n",
    "    for j in range(10):\n",
    "        print(crossword[i][j], end='')\n",
    "    print()"
   ]
  },
  {
   "cell_type": "code",
   "execution_count": null,
   "metadata": {},
   "outputs": [],
   "source": [
    "a1b2c3d4e5\n",
    "f6g7h8i9j1\n",
    "k11l12m13n\n",
    "14o15p16q1\n",
    "7r18s19t20\n",
    "u21v22w23x\n",
    "24y25z26a1\n",
    "b2c3d4e5f6\n",
    "g7h8i9j10k\n",
    "11l12m13n1"
   ]
  },
  {
   "cell_type": "markdown",
   "metadata": {},
   "source": [
    "# Equal Stacks"
   ]
  },
  {
   "cell_type": "code",
   "execution_count": 4,
   "metadata": {},
   "outputs": [
    {
     "name": "stdout",
     "output_type": "stream",
     "text": [
      "5 4 3\n",
      "3 2 1 1 1\n",
      "4 3 2\n",
      "1 1 4 1\n",
      "5\n"
     ]
    }
   ],
   "source": [
    "def maxSum(stack1, stack2, stack3, n1, n2, n3):\n",
    "    sum1, sum2, sum3 = 0, 0, 0\n",
    "    for i in range(n1):\n",
    "        sum1 += stack1[i]\n",
    "    for i in range(n2):\n",
    "        sum2 += stack2[i]\n",
    "    for i in range(n3):\n",
    "        sum3 += stack3[i]\n",
    "    top1, top2, top3 = 0, 0, 0\n",
    "    ans = 0\n",
    "    while (1):\n",
    "        if (top1 == n1 or top2 == n2 or top3 == n3):\n",
    "            return 0\n",
    "        if (sum1 == sum2 and sum2 == sum3):\n",
    "            return sum1\n",
    "        if (sum1 >= sum2 and sum1 >= sum3):\n",
    "            sum1 -= stack1[top1]\n",
    "            top1=top1+1\n",
    "        elif (sum2 >= sum1 and sum2 >= sum3):\n",
    "            sum2 -= stack2[top2]\n",
    "            top2=top2+1\n",
    "        elif (sum3 >= sum2 and sum3 >= sum1):\n",
    "            sum3 -= stack3[top3]\n",
    "            top3=top3+1\n",
    "            \n",
    "s = input()\n",
    "stack1 = [int(x) for x in input().split()]\n",
    "stack2 = [int(x) for x in input().split()]\n",
    "stack3 = [int(x) for x in input().split()]\n",
    "\n",
    "n1 = len(stack1)\n",
    "n2 = len(stack2)\n",
    "n3 = len(stack3)\n",
    "  \n",
    "print(maxSum(stack1, stack2, stack3, n1, n2, n3))\n",
    " "
   ]
  }
 ],
 "metadata": {
  "kernelspec": {
   "display_name": "Python 3",
   "language": "python",
   "name": "python3"
  },
  "language_info": {
   "codemirror_mode": {
    "name": "ipython",
    "version": 3
   },
   "file_extension": ".py",
   "mimetype": "text/x-python",
   "name": "python",
   "nbconvert_exporter": "python",
   "pygments_lexer": "ipython3",
   "version": "3.7.6"
  }
 },
 "nbformat": 4,
 "nbformat_minor": 4
}
