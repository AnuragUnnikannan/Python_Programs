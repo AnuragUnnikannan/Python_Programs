{
 "cells": [
  {
   "cell_type": "markdown",
   "metadata": {},
   "source": [
    "Question 1: Create a list having the name,age,salary and address of a person. enter name,age,salary and address as input."
   ]
  },
  {
   "cell_type": "code",
   "execution_count": 21,
   "metadata": {},
   "outputs": [
    {
     "name": "stdout",
     "output_type": "stream",
     "text": [
      "alan\n",
      "35\n",
      "50000.50\n",
      "infinite street\n",
      "['alan', 35, 50000.50, 'infinite street']\n"
     ]
    }
   ],
   "source": [
    "name=input()\n",
    "age=int(input())\n",
    "salary=float(input())\n",
    "address=input()\n",
    "list=[name, age, salary, address]\n",
    "print(list)"
   ]
  },
  {
   "cell_type": "markdown",
   "metadata": {},
   "source": [
    "Question 2: Take a string as input. Use negative slicing to print a substring"
   ]
  },
  {
   "cell_type": "code",
   "execution_count": 17,
   "metadata": {},
   "outputs": [
    {
     "name": "stdout",
     "output_type": "stream",
     "text": [
      "alan turing\n",
      "6\n",
      "1\n",
      "'turin'\n"
     ]
    }
   ],
   "source": [
    "s = input()\n",
    "a = int(input())\n",
    "b = int(input())\n",
    "t = s[-a:-b]\n",
    "print(\"'{0}'\".format(t))"
   ]
  },
  {
   "cell_type": "markdown",
   "metadata": {},
   "source": [
    "Question 3: Given a list in python. Delete the element of a given position"
   ]
  },
  {
   "cell_type": "code",
   "execution_count": 15,
   "metadata": {},
   "outputs": [
    {
     "name": "stdout",
     "output_type": "stream",
     "text": [
      "1 2 3 4 5 6 7\n",
      "4\n",
      "1 2 3 4 6 7 "
     ]
    }
   ],
   "source": [
    "li = list(int(x) for x in input().split())\n",
    "i = int(input())\n",
    "li.remove(li[i])\n",
    "for i in li:\n",
    "    print(i, end=' ')"
   ]
  },
  {
   "cell_type": "markdown",
   "metadata": {},
   "source": [
    "Question 4: Given a list of elements. Find the maximum and minimum of the list using library function"
   ]
  },
  {
   "cell_type": "code",
   "execution_count": 14,
   "metadata": {},
   "outputs": [
    {
     "name": "stdout",
     "output_type": "stream",
     "text": [
      "1 2 3\n",
      "3\n",
      "1\n"
     ]
    }
   ],
   "source": [
    "li = list(int(x) for x in input().split())\n",
    "print(\"MAX = \", max(li))\n",
    "print(\"MIN = \", min(li))"
   ]
  },
  {
   "cell_type": "markdown",
   "metadata": {},
   "source": [
    "Question 5: Create a list of tuples."
   ]
  },
  {
   "cell_type": "code",
   "execution_count": 13,
   "metadata": {},
   "outputs": [
    {
     "name": "stdout",
     "output_type": "stream",
     "text": [
      "1 2 3\n",
      "10 20 30\n",
      "4 5 6\n",
      "[(1, 2, 3), (10, 20, 30), (4, 5, 6)]\n"
     ]
    }
   ],
   "source": [
    "t1 = tuple(int(x) for x in input().split())\n",
    "t2 = tuple(int(x) for x in input().split())\n",
    "t3 = tuple(int(x) for x in input().split())\n",
    "li = []\n",
    "li.append(t1)\n",
    "li.append(t2)\n",
    "li.append(t3)\n",
    "print(li)"
   ]
  },
  {
   "cell_type": "markdown",
   "metadata": {},
   "source": [
    "Question 6: Given a string. Convert it into a tuple"
   ]
  },
  {
   "cell_type": "code",
   "execution_count": 12,
   "metadata": {},
   "outputs": [
    {
     "name": "stdout",
     "output_type": "stream",
     "text": [
      "1 2\n",
      "3 4\n",
      "5 6\n",
      "((1, 2), (3, 4), (5, 6))\n"
     ]
    }
   ],
   "source": [
    "li1 = list(int(x) for x in input().split())\n",
    "li2 = list(int(x) for x in input().split())\n",
    "li3 = list(int(x) for x in input().split())\n",
    "li = []\n",
    "li.append(tuple(li1))\n",
    "li.append(tuple(li2))\n",
    "li.append(tuple(li3))\n",
    "print(tuple(li))"
   ]
  },
  {
   "cell_type": "markdown",
   "metadata": {},
   "source": [
    "Question 7: Concatenate 3 given tuples"
   ]
  },
  {
   "cell_type": "code",
   "execution_count": 19,
   "metadata": {},
   "outputs": [
    {
     "name": "stdout",
     "output_type": "stream",
     "text": [
      "good dog\n",
      "('g', 'o', 'o', 'd', ' ', 'd', 'o', 'g')\n"
     ]
    }
   ],
   "source": [
    "s = input()\n",
    "li = []\n",
    "for i in s:\n",
    "    li.append(i)\n",
    "print(tuple(li))"
   ]
  },
  {
   "cell_type": "markdown",
   "metadata": {},
   "source": [
    "Question 8: Given a tuple. Find the sum of its elements"
   ]
  },
  {
   "cell_type": "code",
   "execution_count": 10,
   "metadata": {},
   "outputs": [
    {
     "name": "stdout",
     "output_type": "stream",
     "text": [
      "1 2 3 4 5\n",
      "sum = 15\n"
     ]
    }
   ],
   "source": [
    "tup = tuple(int(x) for x in input().split())\n",
    "print(\"sum = {0}\".format(sum(tup)))"
   ]
  },
  {
   "cell_type": "markdown",
   "metadata": {},
   "source": [
    "Question 9: Given a tuple. Print its element in between a range"
   ]
  },
  {
   "cell_type": "code",
   "execution_count": 9,
   "metadata": {},
   "outputs": [
    {
     "name": "stdout",
     "output_type": "stream",
     "text": [
      "1 2 3 4 5 6\n",
      "3\n",
      "6\n",
      "(4, 5, 6)\n"
     ]
    }
   ],
   "source": [
    "tup=tuple(int(x) for x in input().split())\n",
    "s,e=int(input()),int(input())\n",
    "li=[]\n",
    "for i in range(s,e):\n",
    "    li.append(tup[i])\n",
    "tupf=tuple(li)\n",
    "print(tupf)"
   ]
  }
 ],
 "metadata": {
  "kernelspec": {
   "display_name": "Python 3",
   "language": "python",
   "name": "python3"
  },
  "language_info": {
   "codemirror_mode": {
    "name": "ipython",
    "version": 3
   },
   "file_extension": ".py",
   "mimetype": "text/x-python",
   "name": "python",
   "nbconvert_exporter": "python",
   "pygments_lexer": "ipython3",
   "version": "3.7.6"
  }
 },
 "nbformat": 4,
 "nbformat_minor": 4
}
