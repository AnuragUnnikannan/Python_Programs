{
 "cells": [
  {
   "cell_type": "code",
   "execution_count": 2,
   "metadata": {},
   "outputs": [
    {
     "name": "stdout",
     "output_type": "stream",
     "text": [
      "2 7 3 8 1 10\n",
      "[1, 2, 3, 7, 8, 10]\n"
     ]
    }
   ],
   "source": [
    "def bubble(a):\n",
    "    n = len(a)\n",
    "    t = []\n",
    "    for i in range(0, n):\n",
    "        for j in range(i, n):\n",
    "            if a[i] > a[j]:\n",
    "                t = a[i]\n",
    "                a[i] = a[j]\n",
    "                a[j] = t\n",
    "    return a\n",
    "li = [int(x) for x in input().split()]\n",
    "print(bubble(li))"
   ]
  },
  {
   "cell_type": "code",
   "execution_count": 3,
   "metadata": {},
   "outputs": [
    {
     "name": "stdout",
     "output_type": "stream",
     "text": [
      "Enter a number:5\n",
      "120\n"
     ]
    }
   ],
   "source": [
    "def fact(n):\n",
    "    if n==0:\n",
    "        return 1\n",
    "    else:\n",
    "        return n*fact(n-1)\n",
    "n = int(input(\"Enter a number:\"))\n",
    "print(fact(n))"
   ]
  },
  {
   "cell_type": "code",
   "execution_count": 4,
   "metadata": {},
   "outputs": [
    {
     "name": "stdout",
     "output_type": "stream",
     "text": [
      "Enter number of terms:5\n",
      "3\n"
     ]
    }
   ],
   "source": [
    "def fibo(n):\n",
    "    if n==1:\n",
    "        return 0\n",
    "    if n==2:\n",
    "        return 1\n",
    "    return fibo(n-1) + fibo(n-2)\n",
    "n = int(input(\"Enter number of terms:\"))\n",
    "print(fibo(n))"
   ]
  },
  {
   "cell_type": "markdown",
   "metadata": {},
   "source": [
    "### Merge Sort"
   ]
  },
  {
   "cell_type": "code",
   "execution_count": 7,
   "metadata": {},
   "outputs": [
    {
     "name": "stdout",
     "output_type": "stream",
     "text": [
      "10 7 9 3\n",
      "[3, 7, 9, 10]\n"
     ]
    }
   ],
   "source": [
    "def merge_sort(a):\n",
    "    n = len(a)\n",
    "    if n>1:\n",
    "        mid = n//2\n",
    "        l = a[:mid]\n",
    "        r = a[mid:]\n",
    "        merge_sort(l)\n",
    "        merge_sort(r)\n",
    "        i, j, k = 0, 0, 0\n",
    "        while i < len(l) and j < len(r):\n",
    "            if l[i] < r[j]:\n",
    "                a[k] = l[i]\n",
    "                i+=1\n",
    "            else:\n",
    "                a[k] = r[j]\n",
    "                j+=1\n",
    "            k+=1\n",
    "        while j < len(r):\n",
    "            a[k] = r[j]\n",
    "            j+=1\n",
    "            k+=1\n",
    "        while i < len(l):\n",
    "            a[k] = l[i]\n",
    "            i+=1\n",
    "            k+=1\n",
    "    return a\n",
    "li = [int(x) for x in input().split()]\n",
    "print(merge_sort(li))"
   ]
  },
  {
   "cell_type": "code",
   "execution_count": 14,
   "metadata": {},
   "outputs": [
    {
     "name": "stdout",
     "output_type": "stream",
     "text": [
      "Enter elements:5 10 20 25 30 35 40\n",
      "Enter number to be inserted: 15\n",
      "Enter the position where the number is to be inserted: 3\n",
      "New array:  [5, 10, 15, 20, 25, 30, 35, 40]\n"
     ]
    }
   ],
   "source": [
    "a = [int(x) for x in input(\"Enter elements:\").split()]\n",
    "n = int(input(\"Enter number to be inserted: \"))\n",
    "p = int(input(\"Enter the position where the number is to be inserted: \"))\n",
    "a.insert(p-1, n)\n",
    "print(\"New array: \", a)"
   ]
  },
  {
   "cell_type": "code",
   "execution_count": 17,
   "metadata": {},
   "outputs": [
    {
     "name": "stdout",
     "output_type": "stream",
     "text": [
      "15\n"
     ]
    }
   ],
   "source": [
    "def foo(m):\n",
    "    if m==0:\n",
    "        return 0\n",
    "    else:\n",
    "        return m+foo(m-1)\n",
    "print(foo(5))"
   ]
  }
 ],
 "metadata": {
  "kernelspec": {
   "display_name": "Python 3",
   "language": "python",
   "name": "python3"
  },
  "language_info": {
   "codemirror_mode": {
    "name": "ipython",
    "version": 3
   },
   "file_extension": ".py",
   "mimetype": "text/x-python",
   "name": "python",
   "nbconvert_exporter": "python",
   "pygments_lexer": "ipython3",
   "version": "3.7.6"
  }
 },
 "nbformat": 4,
 "nbformat_minor": 4
}
