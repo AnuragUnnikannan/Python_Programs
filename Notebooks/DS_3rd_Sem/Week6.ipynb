{
 "cells": [
  {
   "cell_type": "markdown",
   "metadata": {},
   "source": [
    "Question 1: Write program to find the prime numbers in a range using function."
   ]
  },
  {
   "cell_type": "code",
   "execution_count": 1,
   "metadata": {},
   "outputs": [
    {
     "name": "stdout",
     "output_type": "stream",
     "text": [
      "10\n",
      "2 3 5 7 "
     ]
    }
   ],
   "source": [
    "def prime(a):\n",
    "    c = 0\n",
    "    for i in range(1, a+1):\n",
    "        if a%i==0:\n",
    "            c = c+1\n",
    "    if c==2:\n",
    "        return 1\n",
    "    else:\n",
    "        return 0\n",
    "    \n",
    "n = int(input())\n",
    "for i in range(1, n+1):\n",
    "    if(prime(i)==1):\n",
    "        print(i, end=' ')"
   ]
  },
  {
   "cell_type": "markdown",
   "metadata": {},
   "source": [
    "Question 2: Take n as input and check which ones are Armstrong number using a function in the range 1 to n."
   ]
  },
  {
   "cell_type": "code",
   "execution_count": 2,
   "metadata": {},
   "outputs": [
    {
     "name": "stdout",
     "output_type": "stream",
     "text": [
      "500\n",
      "1 153 370 371 407 "
     ]
    }
   ],
   "source": [
    "def armstrong(a):\n",
    "    a1 = a\n",
    "    s = 0\n",
    "    while a>0:\n",
    "        d = a%10\n",
    "        s = s+d**3\n",
    "        a = a//10\n",
    "    if(s==a1):\n",
    "        return 1\n",
    "    else:\n",
    "        return 0\n",
    "\n",
    "n = int(input())\n",
    "for i in range(1, n+1):\n",
    "    if armstrong(i)==1:\n",
    "        print(i, end=\" \")"
   ]
  },
  {
   "cell_type": "markdown",
   "metadata": {},
   "source": [
    "Question 3: Write a function to calculate GCD of two numbers and then call the function to get GCD of 4 numbers"
   ]
  },
  {
   "cell_type": "code",
   "execution_count": 3,
   "metadata": {},
   "outputs": [
    {
     "name": "stdout",
     "output_type": "stream",
     "text": [
      "4,16,30,14\n",
      "2\n"
     ]
    }
   ],
   "source": [
    "def gcd(x, y):\n",
    "    while y!=0:\n",
    "        x, y = y, x%y\n",
    "    return x\n",
    "\n",
    "a = input()\n",
    "li = a.split(sep=',')\n",
    "n = []\n",
    "for i in li:\n",
    "    n.append(int(i))\n",
    "g = gcd(n[0], n[1])\n",
    "for i in range(2, len(n)):\n",
    "    g = gcd(g, n[i])\n",
    "print(g)"
   ]
  },
  {
   "cell_type": "markdown",
   "metadata": {},
   "source": [
    "Question 4: Take a paragraph as input and then replace all the “the” word with “THE”"
   ]
  },
  {
   "cell_type": "code",
   "execution_count": 4,
   "metadata": {},
   "outputs": [
    {
     "name": "stdout",
     "output_type": "stream",
     "text": [
      "the scientists were absolutely right about the consequences.\n",
      "THE scientists were absolutely right about THE consequences.\n"
     ]
    }
   ],
   "source": [
    "s = input()\n",
    "print(s.replace(\"the\", \"THE\"))"
   ]
  },
  {
   "cell_type": "markdown",
   "metadata": {},
   "source": [
    "Question 5: Take a paragraph as input and then check whether a specific word is present in the paragraph or not. the word also should be user input."
   ]
  },
  {
   "cell_type": "code",
   "execution_count": 5,
   "metadata": {},
   "outputs": [
    {
     "name": "stdout",
     "output_type": "stream",
     "text": [
      "Planet earth is our home. It is one of the most beautiful planets in out solar system.\n",
      "earth\n",
      "YES\n"
     ]
    }
   ],
   "source": [
    "s = input()\n",
    "t = input()\n",
    "if s.count(t)>0:\n",
    "    print(\"YES\")\n",
    "else:\n",
    "    print(\"NO\")"
   ]
  },
  {
   "cell_type": "markdown",
   "metadata": {},
   "source": [
    "Question 6: Take a paragraph as input and then delete all the white spaces at the beginning and the end of the paragraph"
   ]
  },
  {
   "cell_type": "code",
   "execution_count": 6,
   "metadata": {},
   "outputs": [
    {
     "name": "stdout",
     "output_type": "stream",
     "text": [
      "  You have power within you. Unveil that.   \n",
      "You have power within you. Unveil that.\n"
     ]
    }
   ],
   "source": [
    "s = input()\n",
    "print(s.strip())"
   ]
  },
  {
   "cell_type": "markdown",
   "metadata": {},
   "source": [
    "Question 7: Take a sentence as input. Take two integer numbers as input. Print the substring starting and ending at the positions same as those numbers"
   ]
  },
  {
   "cell_type": "code",
   "execution_count": 7,
   "metadata": {},
   "outputs": [
    {
     "name": "stdout",
     "output_type": "stream",
     "text": [
      "Planet earth is our home.\n",
      "4\n",
      "16\n",
      "et earth is o\n"
     ]
    }
   ],
   "source": [
    "s = input()\n",
    "a = int(input())\n",
    "b = int(input())\n",
    "print(s[a:b+1])"
   ]
  },
  {
   "cell_type": "markdown",
   "metadata": {},
   "source": [
    "Question 8: Given 2 strings, str1, and str2 return a new string made of the first, middle and last char of each of the input strings. characters from the 1st srting will be in lowercase and characters from the 2nd srting will be in uppercase"
   ]
  },
  {
   "cell_type": "code",
   "execution_count": 8,
   "metadata": {},
   "outputs": [
    {
     "name": "stdout",
     "output_type": "stream",
     "text": [
      "earth\n",
      "jupiter\n",
      "eJrIhR\n"
     ]
    }
   ],
   "source": [
    "s = input()\n",
    "t = input().upper()\n",
    "print(s[0]+t[0]+s[len(s)//2]+t[len(t)//2]+s[len(s)-1]+t[len(t)-1])"
   ]
  }
 ],
 "metadata": {
  "kernelspec": {
   "display_name": "Python 3",
   "language": "python",
   "name": "python3"
  },
  "language_info": {
   "codemirror_mode": {
    "name": "ipython",
    "version": 3
   },
   "file_extension": ".py",
   "mimetype": "text/x-python",
   "name": "python",
   "nbconvert_exporter": "python",
   "pygments_lexer": "ipython3",
   "version": "3.7.6"
  }
 },
 "nbformat": 4,
 "nbformat_minor": 4
}
