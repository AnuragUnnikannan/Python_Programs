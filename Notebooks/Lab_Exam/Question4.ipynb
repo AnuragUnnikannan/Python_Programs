{
 "cells": [
  {
   "cell_type": "code",
   "execution_count": 7,
   "id": "917f2d41-7f04-4a09-bd0d-6e1ce1147930",
   "metadata": {},
   "outputs": [],
   "source": [
    "from sklearn.datasets import load_digits\n",
    "import pandas as pd\n",
    "import numpy as np\n",
    "import matplotlib.pyplot as plt"
   ]
  },
  {
   "cell_type": "code",
   "execution_count": 2,
   "id": "d91fce15-da31-46cc-856b-9f4e4ba785eb",
   "metadata": {},
   "outputs": [],
   "source": [
    "digits = load_digits()"
   ]
  },
  {
   "cell_type": "code",
   "execution_count": 9,
   "id": "239611a7-c65a-49af-a38f-25455e6cb3ec",
   "metadata": {},
   "outputs": [
    {
     "data": {
      "text/plain": [
       "array([[ 0.,  0.,  5., ...,  0.,  0.,  0.],\n",
       "       [ 0.,  0.,  0., ..., 10.,  0.,  0.],\n",
       "       [ 0.,  0.,  0., ..., 16.,  9.,  0.],\n",
       "       ...,\n",
       "       [ 0.,  0.,  1., ...,  6.,  0.,  0.],\n",
       "       [ 0.,  0.,  2., ..., 12.,  0.,  0.],\n",
       "       [ 0.,  0., 10., ..., 12.,  1.,  0.]])"
      ]
     },
     "execution_count": 9,
     "metadata": {},
     "output_type": "execute_result"
    }
   ],
   "source": [
    "digits.data"
   ]
  },
  {
   "cell_type": "code",
   "execution_count": 10,
   "id": "8f18f585-873c-4020-9994-851639fec159",
   "metadata": {},
   "outputs": [
    {
     "data": {
      "text/plain": [
       "(1797, 64)"
      ]
     },
     "execution_count": 10,
     "metadata": {},
     "output_type": "execute_result"
    }
   ],
   "source": [
    "digits.data.shape"
   ]
  },
  {
   "cell_type": "code",
   "execution_count": 11,
   "id": "8605ba1a-1721-41c1-92c1-0110735548ac",
   "metadata": {},
   "outputs": [
    {
     "data": {
      "text/plain": [
       "array([0, 1, 2, ..., 8, 9, 8])"
      ]
     },
     "execution_count": 11,
     "metadata": {},
     "output_type": "execute_result"
    }
   ],
   "source": [
    "digits.target"
   ]
  },
  {
   "cell_type": "code",
   "execution_count": 12,
   "id": "f724a4a1-bd37-4552-a553-6b89883a2917",
   "metadata": {},
   "outputs": [
    {
     "data": {
      "text/plain": [
       "(1797,)"
      ]
     },
     "execution_count": 12,
     "metadata": {},
     "output_type": "execute_result"
    }
   ],
   "source": [
    "digits.target.shape"
   ]
  },
  {
   "cell_type": "code",
   "execution_count": 18,
   "id": "64f5befa-0bf1-4566-8914-0b6b83bbcc30",
   "metadata": {},
   "outputs": [
    {
     "data": {
      "text/plain": [
       "<matplotlib.image.AxesImage at 0x1da7971a5e0>"
      ]
     },
     "execution_count": 18,
     "metadata": {},
     "output_type": "execute_result"
    },
    {
     "data": {
      "image/png": "[encoded data removed]",
      "text/plain": [
       "<Figure size 432x288 with 1 Axes>"
      ]
     },
     "metadata": {
      "needs_background": "light"
     },
     "output_type": "display_data"
    }
   ],
   "source": [
    "plt.imshow(np.reshape(digits.data[250], (8, 8)))"
   ]
  },
  {
   "cell_type": "code",
   "execution_count": 14,
   "id": "1fefce2f-7545-449d-bf2e-32ff1ceee9f3",
   "metadata": {},
   "outputs": [
    {
     "data": {
      "text/plain": [
       "4"
      ]
     },
     "execution_count": 14,
     "metadata": {},
     "output_type": "execute_result"
    }
   ],
   "source": [
    "digits.target[250]"
   ]
  },
  {
   "cell_type": "code",
   "execution_count": 19,
   "id": "2c8c67cb-73af-4dc4-803e-6d497f814bef",
   "metadata": {},
   "outputs": [],
   "source": [
    "from sklearn.model_selection import train_test_split"
   ]
  },
  {
   "cell_type": "code",
   "execution_count": 20,
   "id": "dddbaf44-7f02-4b10-b5a0-e8fb4f301421",
   "metadata": {},
   "outputs": [],
   "source": [
    "x_train, x_test, y_train, y_test = train_test_split(digits.data, digits.target, test_size=0.25)"
   ]
  },
  {
   "cell_type": "code",
   "execution_count": 21,
   "id": "acae205e-b671-451d-8b23-d091c82cf9ca",
   "metadata": {},
   "outputs": [
    {
     "name": "stdout",
     "output_type": "stream",
     "text": [
      "(1347, 64)\n"
     ]
    }
   ],
   "source": [
    "print(x_train.shape)"
   ]
  },
  {
   "cell_type": "code",
   "execution_count": 23,
   "id": "c348ebd5-6900-44b8-ad7b-0bf0212ce99d",
   "metadata": {},
   "outputs": [
    {
     "name": "stdout",
     "output_type": "stream",
     "text": [
      "(450, 64)\n"
     ]
    }
   ],
   "source": [
    "print(x_test.shape)"
   ]
  },
  {
   "cell_type": "code",
   "execution_count": 24,
   "id": "433452f5-9c16-4cc2-986a-c17120def201",
   "metadata": {},
   "outputs": [
    {
     "name": "stdout",
     "output_type": "stream",
     "text": [
      "(1347,)\n"
     ]
    }
   ],
   "source": [
    "print(y_train.shape)"
   ]
  },
  {
   "cell_type": "code",
   "execution_count": 25,
   "id": "24a7d2c5-6af6-47e3-83ff-f862edddd804",
   "metadata": {},
   "outputs": [
    {
     "name": "stdout",
     "output_type": "stream",
     "text": [
      "(450,)\n"
     ]
    }
   ],
   "source": [
    "print(y_test.shape)"
   ]
  },
  {
   "cell_type": "code",
   "execution_count": 26,
   "id": "661a246f-78aa-4084-862b-3ec21ccb4c0b",
   "metadata": {},
   "outputs": [],
   "source": [
    "index_list = np.arange(len(x_train))"
   ]
  },
  {
   "cell_type": "code",
   "execution_count": 27,
   "id": "4b4b1b23-63e3-4ab6-b414-dbf26c76144f",
   "metadata": {},
   "outputs": [
    {
     "name": "stdout",
     "output_type": "stream",
     "text": [
      "[   0    1    2 ... 1344 1345 1346]\n"
     ]
    }
   ],
   "source": [
    "print(index_list)"
   ]
  },
  {
   "cell_type": "code",
   "execution_count": 28,
   "id": "e1167f69-c648-4c1f-b936-f7e0627b406c",
   "metadata": {},
   "outputs": [],
   "source": [
    "x_labeled = x_train[index_list[:300]]"
   ]
  },
  {
   "cell_type": "code",
   "execution_count": 30,
   "id": "9fa0e127-4053-4753-b297-06177fe56809",
   "metadata": {},
   "outputs": [],
   "source": [
    "y_labeled = y_train[index_list[:300]]"
   ]
  },
  {
   "cell_type": "code",
   "execution_count": 31,
   "id": "e47202ca-8df5-4c18-b985-abbbf7f13644",
   "metadata": {},
   "outputs": [
    {
     "name": "stdout",
     "output_type": "stream",
     "text": [
      "(300, 64)\n"
     ]
    }
   ],
   "source": [
    "print(x_labeled.shape)"
   ]
  },
  {
   "cell_type": "code",
   "execution_count": 32,
   "id": "5e07b02c-80b4-4991-b220-38e376b7c326",
   "metadata": {},
   "outputs": [
    {
     "name": "stdout",
     "output_type": "stream",
     "text": [
      "(300,)\n"
     ]
    }
   ],
   "source": [
    "print(y_labeled.shape)"
   ]
  },
  {
   "cell_type": "code",
   "execution_count": 33,
   "id": "acee922a-3f22-4b5b-9615-f4a05443a73c",
   "metadata": {},
   "outputs": [
    {
     "name": "stdout",
     "output_type": "stream",
     "text": [
      "[8 5 3 0 3 6 4 9 2 6 5 5 5 3 3 8 2 7 5 5 0 1 6 1 2 3 9 3 4 8 6 4 5 1 1 6 7\n",
      " 2 3 9 8 5 7 1 9 7 0 8 1 3 0 3 9 3 5 9 1 5 4 5 9 7 1 8 5 7 4 4 4 1 5 3 5 6\n",
      " 4 2 6 4 9 5 5 5 7 0 3 6 3 4 9 7 9 1 3 6 6 6 9 9 1 6 3 0 9 4 2 6 8 2 5 2 9\n",
      " 9 5 8 2 6 8 6 8 9 2 9 4 1 8 3 0 0 1 6 5 8 6 0 5 3 8 6 7 6 4 9 3 0 7 2 5 0\n",
      " 6 5 0 6 3 8 1 3 3 4 0 5 3 1 9 8 1 2 0 9 5 2 1 1 3 4 4 7 7 5 6 4 9 5 7 1 4\n",
      " 8 1 0 0 4 2 6 0 9 9 9 9 4 2 8 1 6 3 5 7 2 4 2 1 6 5 9 9 4 1 7 0 1 5 7 8 9\n",
      " 5 3 0 7 3 2 3 5 7 7 4 0 2 8 8 1 0 4 0 2 4 5 3 4 7 1 7 6 2 1 9 8 3 3 5 0 4\n",
      " 4 3 0 9 3 4 8 2 3 7 3 8 1 2 9 3 1 1 5 7 1 8 0 4 2 3 3 9 3 0 9 0 6 4 3 0 0\n",
      " 8 3 0 7]\n"
     ]
    }
   ],
   "source": [
    "print(y_labeled)"
   ]
  },
  {
   "cell_type": "code",
   "execution_count": 35,
   "id": "565d46e5-1f17-4c12-acf0-22e1e2e0291f",
   "metadata": {},
   "outputs": [],
   "source": [
    "nonLabeledIndices = index_list[300:]"
   ]
  },
  {
   "cell_type": "code",
   "execution_count": 36,
   "id": "5a8c2830-308a-4f2d-91f0-d6d47f852111",
   "metadata": {},
   "outputs": [
    {
     "name": "stdout",
     "output_type": "stream",
     "text": [
      "[ 300  301  302 ... 1344 1345 1346]\n"
     ]
    }
   ],
   "source": [
    "print(nonLabeledIndices)"
   ]
  },
  {
   "cell_type": "code",
   "execution_count": 37,
   "id": "f691e68a-469e-49cb-a694-5a8aed39d152",
   "metadata": {},
   "outputs": [],
   "source": [
    "y_train_nonlabel = np.copy(y_train)"
   ]
  },
  {
   "cell_type": "code",
   "execution_count": 38,
   "id": "2b545e8f-5bef-4c81-90e7-617876831e20",
   "metadata": {},
   "outputs": [],
   "source": [
    "y_train_nonlabel[nonLabeledIndices] = -1"
   ]
  },
  {
   "cell_type": "code",
   "execution_count": 39,
   "id": "9efde2dd-e671-48e0-8822-49b8da45ded0",
   "metadata": {},
   "outputs": [
    {
     "name": "stdout",
     "output_type": "stream",
     "text": [
      "[ 8  5  3 ... -1 -1 -1]\n"
     ]
    }
   ],
   "source": [
    "print(y_train_nonlabel)"
   ]
  },
  {
   "cell_type": "code",
   "execution_count": 40,
   "id": "cf7543a1-f2cb-4757-a0d0-b0ff7838c579",
   "metadata": {},
   "outputs": [
    {
     "name": "stdout",
     "output_type": "stream",
     "text": [
      "-1\n"
     ]
    }
   ],
   "source": [
    "print(y_train_nonlabel[300])"
   ]
  },
  {
   "cell_type": "code",
   "execution_count": 41,
   "id": "740f2f44-6f34-4567-bcf0-41c4d137c7d9",
   "metadata": {},
   "outputs": [
    {
     "name": "stdout",
     "output_type": "stream",
     "text": [
      "[8 5 3 0 3 6 4 9 2 6 5 5 5 3 3 8 2 7 5 5 0 1 6 1 2 3 9 3 4 8 6 4 5 1 1 6 7\n",
      " 2 3 9 8 5 7 1 9 7 0 8 1 3 0 3 9 3 5 9 1 5 4 5 9 7 1 8 5 7 4 4 4 1 5 3 5 6\n",
      " 4 2 6 4 9 5 5 5 7 0 3 6 3 4 9 7 9 1 3 6 6 6 9 9 1 6 3 0 9 4 2 6 8 2 5 2 9\n",
      " 9 5 8 2 6 8 6 8 9 2 9 4 1 8 3 0 0 1 6 5 8 6 0 5 3 8 6 7 6 4 9 3 0 7 2 5 0\n",
      " 6 5 0 6 3 8 1 3 3 4 0 5 3 1 9 8 1 2 0 9 5 2 1 1 3 4 4 7 7 5 6 4 9 5 7 1 4\n",
      " 8 1 0 0 4 2 6 0 9 9 9 9 4 2 8 1 6 3 5 7 2 4 2 1 6 5 9 9 4 1 7 0 1 5 7 8 9\n",
      " 5 3 0 7 3 2 3 5 7 7 4 0 2 8 8 1 0 4 0 2 4 5 3 4 7 1 7 6 2 1 9 8 3 3 5 0 4\n",
      " 4 3 0 9 3 4 8 2 3 7 3 8 1 2 9 3 1 1 5 7 1 8 0 4 2 3 3 9 3 0 9 0 6 4 3 0 0\n",
      " 8 3 0]\n"
     ]
    }
   ],
   "source": [
    "print(y_train_nonlabel[:299])"
   ]
  },
  {
   "cell_type": "code",
   "execution_count": 42,
   "id": "7e3f6dbb-b4f2-46b4-b001-02139abd515c",
   "metadata": {},
   "outputs": [
    {
     "name": "stdout",
     "output_type": "stream",
     "text": [
      "[-1 -1 -1 ... -1 -1 -1]\n"
     ]
    }
   ],
   "source": [
    "print(y_train_nonlabel[300:])"
   ]
  },
  {
   "cell_type": "code",
   "execution_count": 43,
   "id": "a7cd5599-5fe7-4ddd-9671-63bf3fd4ce80",
   "metadata": {},
   "outputs": [],
   "source": [
    "from sklearn.semi_supervised import LabelPropagation"
   ]
  },
  {
   "cell_type": "code",
   "execution_count": 44,
   "id": "831e3b0b-168f-4b22-88af-2a318bc9de47",
   "metadata": {},
   "outputs": [],
   "source": [
    "lpm = LabelPropagation(gamma=.30)"
   ]
  },
  {
   "cell_type": "code",
   "execution_count": 45,
   "id": "6e84555b-cb28-431e-9ef2-aa4c7bd1838d",
   "metadata": {},
   "outputs": [
    {
     "data": {
      "text/plain": [
       "LabelPropagation(gamma=0.3)"
      ]
     },
     "execution_count": 45,
     "metadata": {},
     "output_type": "execute_result"
    }
   ],
   "source": [
    "lpm.fit(x_train, y_train_nonlabel)"
   ]
  },
  {
   "cell_type": "code",
   "execution_count": 46,
   "id": "72c4513a-782d-4800-b54e-5ec6a32ade19",
   "metadata": {},
   "outputs": [
    {
     "data": {
      "text/plain": [
       "0.9711111111111111"
      ]
     },
     "execution_count": 46,
     "metadata": {},
     "output_type": "execute_result"
    }
   ],
   "source": [
    "lpm.score(x_test, y_test)"
   ]
  },
  {
   "cell_type": "code",
   "execution_count": 47,
   "id": "6119e67a-cf3e-4c73-859b-4da9789170e3",
   "metadata": {},
   "outputs": [],
   "source": [
    "from sklearn.metrics import confusion_matrix"
   ]
  },
  {
   "cell_type": "code",
   "execution_count": 48,
   "id": "6f0e29c0-3745-4636-844c-acea2ca2e0bd",
   "metadata": {},
   "outputs": [],
   "source": [
    "y_labeled = lpm.transduction_[nonLabeledIndices]"
   ]
  },
  {
   "cell_type": "code",
   "execution_count": 49,
   "id": "207f4882-059d-4dc0-9ec8-29986926b619",
   "metadata": {},
   "outputs": [],
   "source": [
    "confMatrix = confusion_matrix(y_train[nonLabeledIndices], y_labeled, labels=lpm.classes_)"
   ]
  },
  {
   "cell_type": "code",
   "execution_count": 50,
   "id": "b4daa5a7-c78a-467f-b0f7-a44aa1af7627",
   "metadata": {},
   "outputs": [
    {
     "name": "stdout",
     "output_type": "stream",
     "text": [
      "[[ 97   0   0   0   0   0   0   0   0   0]\n",
      " [  0  93   0   0   0   0   0   1   0   1]\n",
      " [  0   0 111   0   0   0   0   0   0   0]\n",
      " [  0   0   0 102   0   1   0   0   1   4]\n",
      " [  0   3   0   0  94   0   0   0   0   0]\n",
      " [  0   0   0   0   0 104   1   0   0   1]\n",
      " [  0   0   0   0   0   0 109   0   1   0]\n",
      " [  0   0   0   0   1   0   0 109   0   0]\n",
      " [  0  14   1   0   0   1   0   1  88   2]\n",
      " [  0   0   0   2   0   1   0   0   3 100]]\n"
     ]
    }
   ],
   "source": [
    "print(confMatrix)"
   ]
  },
  {
   "cell_type": "code",
   "execution_count": null,
   "id": "2571be23-116b-422a-bb29-582f7e193aea",
   "metadata": {},
   "outputs": [],
   "source": []
  },
  {
   "cell_type": "code",
   "execution_count": null,
   "id": "a1c59583-def0-442f-9d83-83e902511228",
   "metadata": {},
   "outputs": [],
   "source": []
  },
  {
   "cell_type": "code",
   "execution_count": null,
   "id": "c118eeb6-ac4e-47cd-8ca2-faee9ceed076",
   "metadata": {},
   "outputs": [],
   "source": []
  },
  {
   "cell_type": "code",
   "execution_count": null,
   "id": "3c0331a1-611a-486f-9d30-f8bf032a097b",
   "metadata": {},
   "outputs": [],
   "source": []
  }
 ],
 "metadata": {
  "kernelspec": {
   "display_name": "Python 3",
   "language": "python",
   "name": "python3"
  },
  "language_info": {
   "codemirror_mode": {
    "name": "ipython",
    "version": 3
   },
   "file_extension": ".py",
   "mimetype": "text/x-python",
   "name": "python",
   "nbconvert_exporter": "python",
   "pygments_lexer": "ipython3",
   "version": "3.8.6"
  }
 },
 "nbformat": 4,
 "nbformat_minor": 5
}
